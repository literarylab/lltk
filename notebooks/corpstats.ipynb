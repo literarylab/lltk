{
 "metadata": {
  "language_info": {
   "codemirror_mode": {
    "name": "ipython",
    "version": 3
   },
   "file_extension": ".py",
   "mimetype": "text/x-python",
   "name": "python",
   "nbconvert_exporter": "python",
   "pygments_lexer": "ipython3",
   "version": "3.7.7-final"
  },
  "orig_nbformat": 2,
  "kernelspec": {
   "name": "python3",
   "display_name": "Python 3",
   "language": "python"
  }
 },
 "nbformat": 4,
 "nbformat_minor": 2,
 "cells": [
  {
   "source": [
    "# "
   ],
   "cell_type": "markdown",
   "metadata": {}
  },
  {
   "source": [
    "# Corpus stats"
   ],
   "cell_type": "markdown",
   "metadata": {}
  },
  {
   "cell_type": "code",
   "execution_count": 1,
   "metadata": {},
   "outputs": [],
   "source": [
    "# !lltk status"
   ]
  },
  {
   "cell_type": "code",
   "execution_count": 2,
   "metadata": {},
   "outputs": [],
   "source": [
    "import lltk\n",
    "df=lltk.status_corpora()"
   ]
  },
  {
   "cell_type": "code",
   "execution_count": 3,
   "metadata": {
    "tags": [
     "outputPrepend"
    ]
   },
   "outputs": [
    {
     "output_type": "stream",
     "name": "stdout",
     "text": [
      "m/s/w29o1urthijbxgn/chicago_freqs.zip?dl=1)             |                                                                              |                                                                       |                                                                      |\n| 10 | DTA                 | [Deutsches Text Archiv](http://www.deutschestextarchiv.de)                                                                                                  | [↓](https://www.dropbox.com/s/294h2suvtu6sing/dta_metadata.zip?dl=1)                 | [↓](https://www.dropbox.com/s/nb1u0e77ng2d5mh/dta_freqs.zip?dl=1)                 | [↓](https://www.dropbox.com/s/8ez1tpa7awfb100/dta_txt.zip?dl=1)              | [↓](https://www.dropbox.com/s/jy0o1cy37wioqqv/dta_xml.zip?dl=1)       | [↓](http://media.dwds.de/dta/download/dta_komplett_2019-06-05.zip)   |\n| 11 | DialNarr            | Dialogue/Narration in Chadwyck-Healey Novels                                                                                                                |                                                                                      |                                                                                   |                                                                              |                                                                       | ☂                                                                    |\n| 12 | ECCO                | [Eighteenth Century Collections Online](https://www.gale.com/intl/primary-sources/eighteenth-century-collections-online)                                    |                                                                                      |                                                                                   |                                                                              |                                                                       | ☂                                                                    |\n| 13 | ECCO_TCP            | [ECCO (Text Creation Partnership)](https://textcreationpartnership.org/tcp-texts/ecco-tcp-eighteenth-century-collections-online/)                           | [↓](https://www.dropbox.com/s/xh991n4sohulczb/ecco_tcp_metadata.zip?dl=1)            | [↓](https://www.dropbox.com/s/sdf5pdyifnrulyk/ecco_tcp_freqs.zip?dl=1)            | [↓](https://www.dropbox.com/s/8sa4f6yqpz6ku3d/ecco_tcp_txt.zip?dl=1)         | [↓](https://www.dropbox.com/s/vtv2iw7ujtivqss/ecco_tcp_xml.zip?dl=1)  | [↓](https://www.dropbox.com/s/aubdaixvc59d8o9/ecco_tcp_raw.zip?dl=1) |\n| 14 | EEBO_TCP            | [Early English Books Online (curated by the Text Creation Partnership)](https://textcreationpartnership.org/tcp-texts/eebo-tcp-early-english-books-online/) | [↓](https://www.dropbox.com/s/th2i7jvuxksb0ma/eebo_tcp_metadata.zip?dl=1)            | [↓](https://www.dropbox.com/s/n2oocs233wh5edo/eebo_tcp_freqs.zip?dl=1)            | [↓](https://www.dropbox.com/s/otgqbs0vdli3gvb/eebo_tcp_txt.zip?dl=1)         | [↓](https://www.dropbox.com/s/1wui9qjhkzy8fnm/eebo_tcp_xml.zip?dl=1)  |                                                                      |\n| 15 | ESTC                | English Short Title Catalogue                                                                                                                               |                                                                                      |                                                                                   |                                                                              |                                                                       | ☂                                                                    |\n| 16 | EnglishDialogues    | [A Corpus of English Dialogues, 1560-1760](https://ota.bodleian.ox.ac.uk/repository/xmlui/handle/20.500.12024/2507)                                         | [↓](https://www.dropbox.com/s/lcudgwmxdpspsc9/dialogues_metadata.zip?dl=1)           | [↓](https://www.dropbox.com/s/tji67pv89e61wd6/dialogues_freqs.zip?dl=1)           |                                                                              | [↓](https://www.dropbox.com/s/u07u3mrrom3i9f5/dialogues_xml.zip?dl=1) |                                                                      |\n| 17 | FanFic              |                                                                                                                                                             |                                                                                      |                                                                                   |                                                                              |                                                                       | ☂                                                                    |\n| 18 | GaleAmericanFiction | [Gale American Fiction, 1774-1920](https://www.gale.com/c/american-fiction-1774-1920)                                                                       | [↓](https://www.dropbox.com/s/9ysabqrrx05832u/gale_amfic_metadata.zip?dl=1)          | [↓](https://www.dropbox.com/s/7tbwfcgbcincdi1/gale_amfic_freqs.zip?dl=1)          |                                                                              |                                                                       |                                                                      |\n| 19 | GildedAge           | U.S. Fiction of the Gilded Age                                                                                                                              | [↓](https://www.dropbox.com/s/fg605k0cnebf70i/gildedage_metadata.zip?dl=1)           | [↓](https://www.dropbox.com/s/i5zjhil743rm907/gildedage_freqs.zip?dl=1)           | [↓](https://www.dropbox.com/s/qnwbx488ftepuno/gildedage_txt.zip?dl=1)        |                                                                       |                                                                      |\n| 20 | Hathi               | Hathi Trust Research Center                                                                                                                                 |                                                                                      |                                                                                   |                                                                              |                                                                       |                                                                      |\n| 21 | HathiBio            | Biographies from Hathi Trust                                                                                                                                | [↓](https://www.dropbox.com/s/wth2i53gg0tq18a/hathi_bio_metadata.zip?dl=1)           | [↓](https://www.dropbox.com/s/3jq8rjtpec4a6g9/hathi_bio_freqs.zip?dl=1)           |                                                                              |                                                                       |                                                                      |\n| 22 | HathiEngLit         | English Literature corpus from Hathi Trust                                                                                                                  | [↓](https://www.dropbox.com/s/gnwuwkpy4jybr5r/hathi_englit_metadata.zip?dl=1)        | [↓](https://www.dropbox.com/s/jm858ej78x7h0vk/hathi_englit_freqs.zip?dl=1)        |                                                                              |                                                                       |                                                                      |\n| 23 | HathiEssays         | Volumes with \"essay(s)\" in title                                                                                                                            | [↓](https://www.dropbox.com/s/9s7vpe7bhqo86ic/hathi_essays_metadata.zip?dl=1)        | [↓](https://www.dropbox.com/s/j1kppdj2h9t20fp/hathi_essays_freqs.zip?dl=1)        |                                                                              |                                                                       |                                                                      |\n| 24 | HathiLetters        | Volumes with \"letter(s)\" in title                                                                                                                           | [↓](https://www.dropbox.com/s/11lajafcunypul2/hathi_letters_metadata.zip?dl=1)       | [↓](https://www.dropbox.com/s/e7b07d5tlkfj9sw/hathi_letters_freqs.zip?dl=1)       |                                                                              |                                                                       |                                                                      |\n| 25 | HathiNovels         | Volumes with \"novel(s)\" in title                                                                                                                            | [↓](https://www.dropbox.com/s/hurtnwujziwusqz/hathi_novels_metadata.zip?dl=1)        | [↓](https://www.dropbox.com/s/yxpur1zvvbp7cwp/hathi_novels_freqs.zip?dl=1)        |                                                                              |                                                                       |                                                                      |\n| 26 | HathiProclamations  | Volumes with \"proclamation(s)\" in title                                                                                                                     | [↓](https://www.dropbox.com/s/enksc8u5bqukc24/hathi_proclamations_metadata.zip?dl=1) | [↓](https://www.dropbox.com/s/0wzzfcd4qeb17ed/hathi_proclamations_freqs.zip?dl=1) |                                                                              |                                                                       |                                                                      |\n| 27 | HathiSermons        | Volumes with \"sermon(s)\" in title                                                                                                                           | [↓](https://www.dropbox.com/s/9s70xbcwrqad88c/hathi_sermons_metadata.zip?dl=1)       | [↓](https://www.dropbox.com/s/gchqmnt1yhhephz/hathi_sermons_freqs.zip?dl=1)       |                                                                              |                                                                       |                                                                      |\n| 28 | HathiStories        | Volumes with \"story/stories\" in title                                                                                                                       | [↓](https://www.dropbox.com/s/sfzs0t1hodb9r9d/hathi_stories_metadata.zip?dl=1)       | [↓](https://www.dropbox.com/s/g004z8lgyxxhwip/hathi_stories_freqs.zip?dl=1)       |                                                                              |                                                                       |                                                                      |\n| 29 | HathiTales          | Volumes with \"tale(s)\" in title                                                                                                                             | [↓](https://www.dropbox.com/s/hig9r9igcxp95sy/hathi_tales_metadata.zip?dl=1)         | [↓](https://www.dropbox.com/s/b31o13d6l5do1kk/hathi_tales_freqs.zip?dl=1)         |                                                                              |                                                                       |                                                                      |\n| 30 | HathiTreatises      | Volumes with \"treatise(s)\" in title                                                                                                                         | [↓](https://www.dropbox.com/s/az903wuhx1b8zu1/hathi_treatises_metadata.zip?dl=1)     | [↓](https://www.dropbox.com/s/hafinhgc8u77vpz/hathi_treatises_freqs.zip?dl=1)     |                                                                              |                                                                       |                                                                      |\n| 31 | InternetArchive     | [19th Century Novels, curated by the U of Illinois and hosted on the Internet Archive](https://archive.org/details/19thcennov?tab=about)                    | [↓](https://www.dropbox.com/s/yymc8t060eik7bt/internet_archive_metadata.zip?dl=1)    |                                                                                   | [↓](https://www.dropbox.com/s/bs1ec7k9kk2jkrt/internet_archive_txt.zip?dl=1) |                                                                       |                                                                      |\n| 32 | LitLab              | Literary Lab Corpus of 18th and 19th Century Novels                                                                                                         | [↓](https://www.dropbox.com/s/ruur7jrckhm8nqz/litlab_metadata.zip?dl=1)              | [↓](https://www.dropbox.com/s/itoj9a8n4vrjot9/litlab_freqs.zip?dl=1)              |                                                                              |                                                                       |                                                                      |\n| 33 | MarkMark            | Mark Algee-Hewitt's and Mark McGurl's 20th Century Corpus                                                                                                   | [↓](https://www.dropbox.com/s/y5r316u8fzorx3g/markmark_metadata.zip?dl=1)            | [↓](https://www.dropbox.com/s/xbjugeqndquph55/markmark_freqs.zip?dl=1)            |                                                                              |                                                                       |                                                                      |\n| 34 | NewYorker           | New Yorker archives, 1925-2017                                                                                                                              |                                                                                      |                                                                                   |                                                                              |                                                                       | ☂                                                                    |\n| 35 | OldBailey           | Old Bailey Online                                                                                                                                           | [↓](https://www.dropbox.com/s/zc6osrvsgp0n1m4/oldbailey_metadata.zip?dl=1)           | [↓](https://www.dropbox.com/s/rwgt7q1f6pl65jh/oldbailey_freqs.zip?dl=1)           | [↓](https://www.dropbox.com/s/yjsjnk4eyprifem/oldbailey_txt.zip?dl=1)        | [↓](https://www.dropbox.com/s/90bsbu7re5tnbtp/oldbailey_xml.zip?dl=1) |                                                                      |\n| 36 | PMLA                |                                                                                                                                                             |                                                                                      |                                                                                   |                                                                              |                                                                       | ☂                                                                    |\n| 37 | RavenGarside        | Raven & Garside's Bibliography of English Novels, 1770-1830                                                                                                 | [↓](https://www.dropbox.com/s/w358lp0tx8rx0gk/ravengarside_metadata.zip?dl=1)        |                                                                                   |                                                                              |                                                                       |                                                                      |\n| 38 | SOTU                | State of the Union Addresses                                                                                                                                |                                                                                      | [↓](https://www.dropbox.com/s/34gz1aifsot65fw/sotu_freqs.zip?dl=1)                | [↓](https://www.dropbox.com/s/w73qio0thhfzdpx/sotu_txt.zip?dl=1)             |                                                                       |                                                                      |\n| 39 | Sellers             | 19th Century Texts compiled by Jordan Sellers                                                                                                               | [↓](https://www.dropbox.com/s/7mos2k5qx8bdc1l/sellers_metadata.zip?dl=1)             | [↓](https://www.dropbox.com/s/k293ip4wrswhl8j/sellers_freqs.zip?dl=1)             | [↓](https://www.dropbox.com/s/j7e5my3s20n3xq4/sellers_txt.zip?dl=1)          |                                                                       |                                                                      |\n| 40 | SemanticCohort      | Corpus for \"Semantic Cohort Method\" (Literary Lab Pamphlet 4, 2012)                                                                                         | [↓](https://www.dropbox.com/s/f6imhtfzgpf7tvz/semantic_cohort_metadata.zip?dl=1)     |                                                                                   |                                                                              |                                                                       |                                                                      |\n| 41 | Spectator           | The Spectator (1711-1714)                                                                                                                                   | [↓](https://www.dropbox.com/s/3cw2lcza68djzj1/spectator_metadata.zip?dl=1)           | [↓](https://www.dropbox.com/s/sil5q31833rz4n0/spectator_freqs.zip?dl=1)           | [↓](https://www.dropbox.com/s/goj6xbom3qnv5u5/spectator_txt.zip?dl=1)        |                                                                       |                                                                      |\n| 42 | TedJDH              | From Ted Underwood & Jordan Sellers, \"Emergence of Literary Diction\", Journal of Digital Humanities (2012)                                                  | [↓](https://www.dropbox.com/s/ibjl7x0eyyz5zm6/tedjdh_metadata.zip?dl=1)              | [↓](https://www.dropbox.com/s/igoxb4y7buctm5o/tedjdh_freqs.zip?dl=1)              | [↓](https://www.dropbox.com/s/8ug3h24h5bggnx7/tedjdh_txt.zip?dl=1)           |                                                                       |                                                                      |\n| 43 | TxtLab              | [A multilingual dataset of 450 novels](https://txtlab.org/2016/01/txtlab450-a-data-set-of-multilingual-novels-for-teaching-and-research)                    | [↓](https://www.dropbox.com/s/eh33qy6bcm7rvcp/txtlab_metadata.zip?dl=1)              | [↓](https://www.dropbox.com/s/56azeswx0omjum2/txtlab_freqs.zip?dl=1)              | [↓](https://www.dropbox.com/s/q4bm4yf76zgumi6/txtlab_txt.zip?dl=1)           |                                                                       | [↓](https://github.com/christofs/txtlab450/archive/master.zip)       |\n"
     ]
    }
   ],
   "source": [
    "print(df.to_markdown())"
   ]
  },
  {
   "cell_type": "code",
   "execution_count": 4,
   "metadata": {},
   "outputs": [
    {
     "output_type": "stream",
     "name": "stdout",
     "text": [
      "coca.py\nhathi_bio.py\nhathi_englit.py\nmanifestos.py\nsotu0.py\ntropic_of_orange.py\n"
     ]
    }
   ],
   "source": [
    "!ls ~/lltk_data/corpora/* | grep \"\\.py\""
   ]
  },
  {
   "cell_type": "code",
   "execution_count": 5,
   "metadata": {},
   "outputs": [
    {
     "output_type": "execute_result",
     "data": {
      "text/plain": [
       "                                                                         author  \\\n",
       "id                                                                                \n",
       "Nineteenth-Century_Fiction/ncf0101.01    Ainsworth, William Harrison, 1805-1882   \n",
       "Early_American_Fiction/alcottlo.01                Alcott, Louisa May, 1832-1888   \n",
       "Early_American_Fiction/alcottlo.03                Alcott, Louisa May, 1832-1888   \n",
       "Early_American_Fiction/alcottlo.02                Alcott, Louisa May, 1832-1888   \n",
       "Early_American_Fiction/alcottlo.04                Alcott, Louisa May, 1832-1888   \n",
       "...                                                                         ...   \n",
       "Nineteenth-Century_Fiction/ncf27001.01             Wood, Henry, Mrs., 1814-1887   \n",
       "Early_American_Fiction/woolsonc.01       Woolson, Constance Fenimore, 1840-1894   \n",
       "Early_English_Prose_Fiction/ee103010.01    Wroth, Mary, Lady, ca. 1586-ca. 1640   \n",
       "Nineteenth-Century_Fiction/ncf27101.01         Yonge, Charlotte Mary, 1823-1901   \n",
       "Nineteenth-Century_Fiction/ncf27101.02         Yonge, Charlotte Mary, 1823-1901   \n",
       "\n",
       "                                                                                     title  \\\n",
       "id                                                                                           \n",
       "Nineteenth-Century_Fiction/ncf0101.01                            Jack Sheppard. A Romance.   \n",
       "Early_American_Fiction/alcottlo.01                               Hospital sketches. (1863)   \n",
       "Early_American_Fiction/alcottlo.03                 On Picket Duty, and Other Tales. (1864)   \n",
       "Early_American_Fiction/alcottlo.02                                           Moods. (1865)   \n",
       "Early_American_Fiction/alcottlo.04                     Work: A Story of Experience. (1873)   \n",
       "...                                                                                    ...   \n",
       "Nineteenth-Century_Fiction/ncf27001.01                      East Lynne. By Mrs. Henry Wood   \n",
       "Early_American_Fiction/woolsonc.01       Castle Nowhere: Lake-Country Sketches (1875): ...   \n",
       "Early_English_Prose_Fiction/ee103010.01       The Countesse of Mountgomeries Urania [1621]   \n",
       "Nineteenth-Century_Fiction/ncf27101.01   The Heir of Redclyffe. By the Author of &lsquo...   \n",
       "Nineteenth-Century_Fiction/ncf27101.02   The Heir of Redclyffe. By the Author of &lsquo...   \n",
       "\n",
       "                                         year    canon_genre canon_name  \\\n",
       "id                                                                        \n",
       "Nineteenth-Century_Fiction/ncf0101.01    1839  Newgate Novel  Ainsworth   \n",
       "Early_American_Fiction/alcottlo.01       1863                             \n",
       "Early_American_Fiction/alcottlo.03       1864                             \n",
       "Early_American_Fiction/alcottlo.02       1865                             \n",
       "Early_American_Fiction/alcottlo.04       1873                             \n",
       "...                                       ...            ...        ...   \n",
       "Nineteenth-Century_Fiction/ncf27001.01   1861      Sensation              \n",
       "Early_American_Fiction/woolsonc.01       1875                             \n",
       "Early_English_Prose_Fiction/ee103010.01  1621              ?              \n",
       "Nineteenth-Century_Fiction/ncf27101.01   1853              ?              \n",
       "Nineteenth-Century_Fiction/ncf27101.02   1853              ?              \n",
       "\n",
       "                                           genre medium    nation  num_words  \\\n",
       "id                                                                             \n",
       "Nineteenth-Century_Fiction/ncf0101.01    Fiction  Prose   British     157431   \n",
       "Early_American_Fiction/alcottlo.01       Fiction  Prose  American     111736   \n",
       "Early_American_Fiction/alcottlo.03       Fiction  Prose  American      85084   \n",
       "Early_American_Fiction/alcottlo.02       Fiction  Prose  American      29877   \n",
       "Early_American_Fiction/alcottlo.04       Fiction  Prose  American      32602   \n",
       "...                                          ...    ...       ...        ...   \n",
       "Nineteenth-Century_Fiction/ncf27001.01   Fiction  Prose   British     256260   \n",
       "Early_American_Fiction/woolsonc.01       Fiction  Prose  American      89935   \n",
       "Early_English_Prose_Fiction/ee103010.01  Fiction  Prose   British     351517   \n",
       "Nineteenth-Century_Fiction/ncf27101.01   Fiction  Prose   British     305491   \n",
       "Nineteenth-Century_Fiction/ncf27101.02   Fiction  Prose   British     239229   \n",
       "\n",
       "                                         ocr_accuracy  \\\n",
       "id                                                      \n",
       "Nineteenth-Century_Fiction/ncf0101.01        0.980385   \n",
       "Early_American_Fiction/alcottlo.01           0.977644   \n",
       "Early_American_Fiction/alcottlo.03           0.987812   \n",
       "Early_American_Fiction/alcottlo.02           0.977675   \n",
       "Early_American_Fiction/alcottlo.04           0.967119   \n",
       "...                                               ...   \n",
       "Nineteenth-Century_Fiction/ncf27001.01       0.989456   \n",
       "Early_American_Fiction/woolsonc.01           0.979174   \n",
       "Early_English_Prose_Fiction/ee103010.01      0.857418   \n",
       "Nineteenth-Century_Fiction/ncf27101.01       0.987054   \n",
       "Nineteenth-Century_Fiction/ncf27101.02       0.985169   \n",
       "\n",
       "                                                           subcorpus  \n",
       "id                                                                    \n",
       "Nineteenth-Century_Fiction/ncf0101.01     Nineteenth-Century_Fiction  \n",
       "Early_American_Fiction/alcottlo.01            Early_American_Fiction  \n",
       "Early_American_Fiction/alcottlo.03            Early_American_Fiction  \n",
       "Early_American_Fiction/alcottlo.02            Early_American_Fiction  \n",
       "Early_American_Fiction/alcottlo.04            Early_American_Fiction  \n",
       "...                                                              ...  \n",
       "Nineteenth-Century_Fiction/ncf27001.01    Nineteenth-Century_Fiction  \n",
       "Early_American_Fiction/woolsonc.01            Early_American_Fiction  \n",
       "Early_English_Prose_Fiction/ee103010.01  Early_English_Prose_Fiction  \n",
       "Nineteenth-Century_Fiction/ncf27101.01    Nineteenth-Century_Fiction  \n",
       "Nineteenth-Century_Fiction/ncf27101.02    Nineteenth-Century_Fiction  \n",
       "\n",
       "[1338 rows x 11 columns]"
      ],
      "text/html": "<div>\n<style scoped>\n    .dataframe tbody tr th:only-of-type {\n        vertical-align: middle;\n    }\n\n    .dataframe tbody tr th {\n        vertical-align: top;\n    }\n\n    .dataframe thead th {\n        text-align: right;\n    }\n</style>\n<table border=\"1\" class=\"dataframe\">\n  <thead>\n    <tr style=\"text-align: right;\">\n      <th></th>\n      <th>author</th>\n      <th>title</th>\n      <th>year</th>\n      <th>canon_genre</th>\n      <th>canon_name</th>\n      <th>genre</th>\n      <th>medium</th>\n      <th>nation</th>\n      <th>num_words</th>\n      <th>ocr_accuracy</th>\n      <th>subcorpus</th>\n    </tr>\n    <tr>\n      <th>id</th>\n      <th></th>\n      <th></th>\n      <th></th>\n      <th></th>\n      <th></th>\n      <th></th>\n      <th></th>\n      <th></th>\n      <th></th>\n      <th></th>\n      <th></th>\n    </tr>\n  </thead>\n  <tbody>\n    <tr>\n      <th>Nineteenth-Century_Fiction/ncf0101.01</th>\n      <td>Ainsworth, William Harrison, 1805-1882</td>\n      <td>Jack Sheppard. A Romance.</td>\n      <td>1839</td>\n      <td>Newgate Novel</td>\n      <td>Ainsworth</td>\n      <td>Fiction</td>\n      <td>Prose</td>\n      <td>British</td>\n      <td>157431</td>\n      <td>0.980385</td>\n      <td>Nineteenth-Century_Fiction</td>\n    </tr>\n    <tr>\n      <th>Early_American_Fiction/alcottlo.01</th>\n      <td>Alcott, Louisa May, 1832-1888</td>\n      <td>Hospital sketches. (1863)</td>\n      <td>1863</td>\n      <td></td>\n      <td></td>\n      <td>Fiction</td>\n      <td>Prose</td>\n      <td>American</td>\n      <td>111736</td>\n      <td>0.977644</td>\n      <td>Early_American_Fiction</td>\n    </tr>\n    <tr>\n      <th>Early_American_Fiction/alcottlo.03</th>\n      <td>Alcott, Louisa May, 1832-1888</td>\n      <td>On Picket Duty, and Other Tales. (1864)</td>\n      <td>1864</td>\n      <td></td>\n      <td></td>\n      <td>Fiction</td>\n      <td>Prose</td>\n      <td>American</td>\n      <td>85084</td>\n      <td>0.987812</td>\n      <td>Early_American_Fiction</td>\n    </tr>\n    <tr>\n      <th>Early_American_Fiction/alcottlo.02</th>\n      <td>Alcott, Louisa May, 1832-1888</td>\n      <td>Moods. (1865)</td>\n      <td>1865</td>\n      <td></td>\n      <td></td>\n      <td>Fiction</td>\n      <td>Prose</td>\n      <td>American</td>\n      <td>29877</td>\n      <td>0.977675</td>\n      <td>Early_American_Fiction</td>\n    </tr>\n    <tr>\n      <th>Early_American_Fiction/alcottlo.04</th>\n      <td>Alcott, Louisa May, 1832-1888</td>\n      <td>Work: A Story of Experience. (1873)</td>\n      <td>1873</td>\n      <td></td>\n      <td></td>\n      <td>Fiction</td>\n      <td>Prose</td>\n      <td>American</td>\n      <td>32602</td>\n      <td>0.967119</td>\n      <td>Early_American_Fiction</td>\n    </tr>\n    <tr>\n      <th>...</th>\n      <td>...</td>\n      <td>...</td>\n      <td>...</td>\n      <td>...</td>\n      <td>...</td>\n      <td>...</td>\n      <td>...</td>\n      <td>...</td>\n      <td>...</td>\n      <td>...</td>\n      <td>...</td>\n    </tr>\n    <tr>\n      <th>Nineteenth-Century_Fiction/ncf27001.01</th>\n      <td>Wood, Henry, Mrs., 1814-1887</td>\n      <td>East Lynne. By Mrs. Henry Wood</td>\n      <td>1861</td>\n      <td>Sensation</td>\n      <td></td>\n      <td>Fiction</td>\n      <td>Prose</td>\n      <td>British</td>\n      <td>256260</td>\n      <td>0.989456</td>\n      <td>Nineteenth-Century_Fiction</td>\n    </tr>\n    <tr>\n      <th>Early_American_Fiction/woolsonc.01</th>\n      <td>Woolson, Constance Fenimore, 1840-1894</td>\n      <td>Castle Nowhere: Lake-Country Sketches (1875): ...</td>\n      <td>1875</td>\n      <td></td>\n      <td></td>\n      <td>Fiction</td>\n      <td>Prose</td>\n      <td>American</td>\n      <td>89935</td>\n      <td>0.979174</td>\n      <td>Early_American_Fiction</td>\n    </tr>\n    <tr>\n      <th>Early_English_Prose_Fiction/ee103010.01</th>\n      <td>Wroth, Mary, Lady, ca. 1586-ca. 1640</td>\n      <td>The Countesse of Mountgomeries Urania [1621]</td>\n      <td>1621</td>\n      <td>?</td>\n      <td></td>\n      <td>Fiction</td>\n      <td>Prose</td>\n      <td>British</td>\n      <td>351517</td>\n      <td>0.857418</td>\n      <td>Early_English_Prose_Fiction</td>\n    </tr>\n    <tr>\n      <th>Nineteenth-Century_Fiction/ncf27101.01</th>\n      <td>Yonge, Charlotte Mary, 1823-1901</td>\n      <td>The Heir of Redclyffe. By the Author of &amp;lsquo...</td>\n      <td>1853</td>\n      <td>?</td>\n      <td></td>\n      <td>Fiction</td>\n      <td>Prose</td>\n      <td>British</td>\n      <td>305491</td>\n      <td>0.987054</td>\n      <td>Nineteenth-Century_Fiction</td>\n    </tr>\n    <tr>\n      <th>Nineteenth-Century_Fiction/ncf27101.02</th>\n      <td>Yonge, Charlotte Mary, 1823-1901</td>\n      <td>The Heir of Redclyffe. By the Author of &amp;lsquo...</td>\n      <td>1853</td>\n      <td>?</td>\n      <td></td>\n      <td>Fiction</td>\n      <td>Prose</td>\n      <td>British</td>\n      <td>239229</td>\n      <td>0.985169</td>\n      <td>Nineteenth-Century_Fiction</td>\n    </tr>\n  </tbody>\n</table>\n<p>1338 rows × 11 columns</p>\n</div>"
     },
     "metadata": {},
     "execution_count": 5
    }
   ],
   "source": [
    "lltk.fix_meta(lltk.load('Chadwyck').meta)"
   ]
  },
  {
   "cell_type": "code",
   "execution_count": null,
   "metadata": {},
   "outputs": [],
   "source": []
  }
 ]
}