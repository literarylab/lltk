{
 "metadata": {
  "language_info": {
   "codemirror_mode": {
    "name": "ipython",
    "version": 3
   },
   "file_extension": ".py",
   "mimetype": "text/x-python",
   "name": "python",
   "nbconvert_exporter": "python",
   "pygments_lexer": "ipython3",
   "version": "3.7.7-final"
  },
  "orig_nbformat": 2,
  "kernelspec": {
   "name": "python37764bitbaseconda5ed38c30243b41668822dceb9f7e86f8",
   "display_name": "Python 3.7.7 64-bit ('base': conda)",
   "language": "python"
  }
 },
 "nbformat": 4,
 "nbformat_minor": 2,
 "cells": [
  {
   "cell_type": "code",
   "execution_count": 1,
   "metadata": {},
   "outputs": [],
   "source": [
    "from lltk.model.charnet import *\n",
    "# bokeh_uses_notebook()"
   ]
  },
  {
   "cell_type": "code",
   "execution_count": 2,
   "metadata": {},
   "outputs": [],
   "source": [
    "URL_ODYSSEY_DYN='https://docs.google.com/spreadsheets/d/e/2PACX-1vS19Gbv7qN-OTpb7yyNTrxLEIoBOVfDnXemxweLwYeU4FLo1zH3efysgQrNH70mkM90_Rv3AJjHD-EC/pub?gid=2343770&single=true&output=csv'\n",
    "URL_AETHIOPICA_DYN='https://docs.google.com/spreadsheets/d/e/2PACX-1vSITB0rsQH9TKUwfBjGdCBlkk7PyDHlyNQtnnqoWwIWyvWfAai2qUbbdnJPwMr66SHo5NC86b8-_X-c/pub?gid=695648537&single=true&output=csv'\n",
    "URL_MOBYDICK = 'https://docs.google.com/spreadsheets/d/e/2PACX-1vT46sYCUH-hJAcKoSqwSYMsJ-zOdBYYk7shl-hPoB55C12J_GHDN6ar03W_zQV6ueEibmHXmR5lPL1m/pub?gid=1995777382&single=true&output=csv'"
   ]
  },
  {
   "cell_type": "code",
   "execution_count": 3,
   "metadata": {},
   "outputs": [
    {
     "output_type": "stream",
     "name": "stderr",
     "text": [
      "Geolocating settings: 100%|██████████| 14/14 [00:01<00:00,  8.11it/s]Penelope Antinous {'weight': 1, 'index': 10, 'i': 10, 't': 1, 'source': 'Penelope', 'target': 'Antinous', 'name': 'Book I', 'setting': 'Ithaca', 'storylevel': '1', 'lat': 42.4396039, 'lon': -76.4968019, 'last_edge': True}\n",
      "Penelope !\n",
      "\n"
     ]
    }
   ],
   "source": [
    "cnet=CharacterNetwork()\n",
    "cnet.parse_dynamic(URL_ODYSSEY_DYN)\n",
    "cnet.df2nx(i_max=10)\n",
    "for a,b,d in cnet.g.edges(data=True):\n",
    "    if d['last_edge']:\n",
    "        print(a,b,d)\n",
    "for n,dat in cnet.g.nodes(data=True):\n",
    "    if cnet.g.nodes[n]['last_node']:\n",
    "       print(n,'!')\n",
    "    # print(n,dat)"
   ]
  },
  {
   "cell_type": "code",
   "execution_count": 4,
   "metadata": {},
   "outputs": [
    {
     "output_type": "execute_result",
     "data": {
      "text/plain": [
       "{'name'}"
      ]
     },
     "metadata": {},
     "execution_count": 4
    }
   ],
   "source": [
    "set(cnet.df_nodes.columns)&set(cnet.df_edges.columns)"
   ]
  },
  {
   "cell_type": "code",
   "execution_count": 5,
   "metadata": {},
   "outputs": [
    {
     "output_type": "execute_result",
     "data": {
      "text/plain": [
       "{'Scheria': [52.09024855, 4.435438387970711],\n",
       " 'Aeaea': [38.28958405, -122.46132401796646],\n",
       " 'Aeolia': [53.299365550000005, -2.241047249999998],\n",
       " 'Ogygia': [34.836659499999996, 24.083214861544448],\n",
       " 'Olympus': [34.9366134, 32.8649502],\n",
       " 'Hades': [50.1765988, 19.746864614118905],\n",
       " 'Eridanus': [-31.4540181, -64.1761992],\n",
       " 'Sparta': [37.08114525, 22.42486178272022],\n",
       " 'Pylos': [-22.89547905, -43.19603118133239],\n",
       " 'Ithaca': [42.4396039, -76.4968019]}"
      ]
     },
     "metadata": {},
     "execution_count": 5
    }
   ],
   "source": [
    "cnet.settings_latlon()"
   ]
  },
  {
   "cell_type": "code",
   "execution_count": 6,
   "metadata": {},
   "outputs": [
    {
     "output_type": "execute_result",
     "data": {
      "text/plain": [
       "1"
      ]
     },
     "metadata": {},
     "execution_count": 6
    }
   ],
   "source": [
    "l=[1,0]\n",
    "l[0]"
   ]
  },
  {
   "cell_type": "code",
   "execution_count": 11,
   "metadata": {},
   "outputs": [
    {
     "output_type": "execute_result",
     "data": {
      "text/plain": [
       "{'last_node': False,\n",
       " 'index': 245,\n",
       " 'id': 'Odysseus',\n",
       " 'name': 'Odysseus',\n",
       " 'degree': 63,\n",
       " 'betweenness_centrality': 0.5361580086580087,\n",
       " 'i': 245,\n",
       " 't': 24,\n",
       " 'source': 'Odysseus',\n",
       " 'target': 'Laertes',\n",
       " 'setting': 'Hades, Ithaca',\n",
       " 'storylevel': '1',\n",
       " 'lat': 42.4396039,\n",
       " 'lon': -76.4968019}"
      ]
     },
     "metadata": {},
     "execution_count": 11
    }
   ],
   "source": [
    "cnet.df2nx()\n",
    "cnet.g.nodes(data=True)['Odysseus']"
   ]
  },
  {
   "cell_type": "code",
   "execution_count": 8,
   "metadata": {},
   "outputs": [
    {
     "output_type": "error",
     "ename": "NameError",
     "evalue": "name 'stop' is not defined",
     "traceback": [
      "\u001b[0;31m---------------------------------------------------------------------------\u001b[0m",
      "\u001b[0;31mNameError\u001b[0m                                 Traceback (most recent call last)",
      "\u001b[0;32m<ipython-input-8-4f76a9dad686>\u001b[0m in \u001b[0;36m<module>\u001b[0;34m\u001b[0m\n\u001b[0;32m----> 1\u001b[0;31m \u001b[0mstop\u001b[0m\u001b[0;34m\u001b[0m\u001b[0;34m\u001b[0m\u001b[0m\n\u001b[0m",
      "\u001b[0;31mNameError\u001b[0m: name 'stop' is not defined"
     ]
    }
   ],
   "source": [
    "stop"
   ]
  },
  {
   "cell_type": "code",
   "execution_count": 20,
   "metadata": {},
   "outputs": [],
   "source": [
    "def make_gif_from_folder(folder,ofn=None,fps=5):\n",
    "    import imageio\n",
    "    from IPython.display import HTML\n",
    "\n",
    "    images = []\n",
    "    # for fn in tqdm(sorted(os.listdir(folder)),desc='Building gif from images'):\n",
    "    for fn in sorted(os.listdir(folder)):#,desc='Building gif from images'):\n",
    "        if fn.endswith('.png'):\n",
    "            with open(os.path.join(folder,fn),'rb') as f:\n",
    "                images.append(imageio.imread(f))\n",
    "\n",
    "    if not ofn:\n",
    "        if folder.endswith(os.path.sep): folder=folder[:-1]\n",
    "        ofn=folder+'.gif'        \n",
    "    imageio.mimsave(ofn, images, duration = 1/fps)\n",
    "    return HTML(f'''<img src=\"{ofn}\" />''')\n",
    "\n",
    "    # # show gif?\n",
    "    # from IPython.core.interactiveshell import InteractiveShell\n",
    "    # InteractiveShell.ast_node_interactivity = \"all\"\n",
    "    # from IPython.display import Image\n",
    "    # from pathlib import Path\n",
    "    # gifPath = Path(ofn_gif)\n",
    "    # if os.path.exists(gifPath):\n",
    "    #     # Display GIF in Jupyter, CoLab, IPython\n",
    "    #     with open(gifPath,'rb') as f:\n",
    "    #         return Image(data=f.read(), format='png')\n"
   ]
  },
  {
   "cell_type": "code",
   "execution_count": 22,
   "metadata": {},
   "outputs": [],
   "source": [
    "# !pip install geopy pyproj"
   ]
  },
  {
   "cell_type": "code",
   "execution_count": 7,
   "metadata": {},
   "outputs": [],
   "source": [
    "from geopy.geocoders import Nominatim\n",
    "geolocator = Nominatim(user_agent='myapplication')\n",
    "location = geolocator.geocode([\"Chemmis\",'Chicago'])\n",
    "location"
   ]
  },
  {
   "cell_type": "code",
   "execution_count": 33,
   "metadata": {},
   "outputs": [
    {
     "output_type": "execute_result",
     "data": {
      "text/plain": [
       "[None]"
      ]
     },
     "metadata": {},
     "execution_count": 33
    }
   ],
   "source": [
    "[geolocator.geocode('werwfwefewfwefgew')]"
   ]
  },
  {
   "cell_type": "code",
   "execution_count": 15,
   "metadata": {},
   "outputs": [],
   "source": [
    "def shownet(url,bad_nodes=[],**y):\n",
    "    cnet = CharacterNetwork()\n",
    "    cnet.parse_dynamic(url)\n",
    "    cnet.df2nx()\n",
    "    cnet.gen_stats()\n",
    "    for bn in bad_nodes: cnet.g.remove_node(bn)\n",
    "    pos=nx.circular_layout(cnet.g)\n",
    "    return draw_bokeh(cnet.g,pos=pos,**y)#,spring_scale=20,iterations=100)"
   ]
  },
  {
   "cell_type": "code",
   "execution_count": 16,
   "metadata": {},
   "outputs": [],
   "source": [
    "def do_shownets(obj,*args,**kwargs):\n",
    "    g,obj_kwds=obj\n",
    "    draw_bokeh(\n",
    "        g,\n",
    "        **obj_kwds,\n",
    "        **kwargs\n",
    "    )\n",
    "\n",
    "def shownets(url,bad_nodes=[],odir='graph_imgs',size_by='degree',fps=5,num_proc=4,layout='force',**y):\n",
    "    import shutil\n",
    "    if os.path.exists(odir): shutil.rmtree(odir)\n",
    "    if not os.path.exists(odir): os.makedirs(odir)\n",
    "\n",
    "    # overall pos\n",
    "    cnet = CharacterNetwork()\n",
    "    cnet.parse_dynamic(url,bad_nodes=set(bad_nodes))\n",
    "    cnet.df2nx(t_min=None,t_max=None)\n",
    "\n",
    "    if layout:\n",
    "        pos=layout_graph(cnet.g,**y)\n",
    "    else:\n",
    "        pos=None\n",
    "\n",
    "    timesteps=sorted(list(set(cnet.df_edges.t)))\n",
    "\n",
    "    size_max_val = cnet.df_nodes[size_by].max() if size_by else None\n",
    "\n",
    "    # for t in tqdm(timesteps,f'Saving graph images to {odir}'):\n",
    "    objs = []\n",
    "\n",
    "\n",
    "    # for i,row in tqdm(cnet.df_edges.iterrows(),total=len(cnet.df_edges),desc=f'Generating graphs over time'):\n",
    "    for i,row in cnet.df_edges.iterrows():#,total=len(cnet.df_edges),desc=f'Generating graphs over time'):\n",
    "        # cnet.df2nx(t_max=t)\n",
    "        \n",
    "        title=f'Interation #{str(i+1).zfill(4)}: {row.source} to {row.target}'\n",
    "        if row.get('name'): title+=f' ({row[\"name\"]})'\n",
    "        if row.get('setting'): title+=f', in {row.setting}'\n",
    "        if row.get('id'): title+=f'[t={row.id}]'\n",
    "\n",
    "        ofn=os.path.join(odir,f'graph.t_{str(i).zfill(4)}.png')\n",
    "        obj_kwds = dict(\n",
    "            save_to=ofn,\n",
    "            title=title\n",
    "        )\n",
    "        objs += [(cnet.df2nx(i_max=i).copy(),obj_kwds)]\n",
    "\n",
    "    pmap(\n",
    "        do_shownets,\n",
    "        objs,\n",
    "        kwargs=dict(\n",
    "            show_plot=False,\n",
    "            pos=pos,\n",
    "            size_by=size_by,\n",
    "            size_max_val=size_max_val,\n",
    "            color_line_by='last_edge',\n",
    "            color_by='last_node',\n",
    "            **y\n",
    "        ),\n",
    "        desc=f'Saving graph images to {odir}',\n",
    "        num_proc=num_proc,\n",
    "        progress=False\n",
    "    )\n",
    "\n",
    "    # make gif?\n",
    "    return make_gif_from_folder(odir,fps=fps)\n",
    "    "
   ]
  },
  {
   "cell_type": "code",
   "execution_count": 17,
   "metadata": {},
   "outputs": [
    {
     "output_type": "execute_result",
     "data": {
      "text/plain": [
       "<IPython.core.display.HTML object>"
      ],
      "text/html": "<img src=\"graphs_Odyssey.gif\" />"
     },
     "metadata": {},
     "execution_count": 17
    }
   ],
   "source": [
    "shownets(\n",
    "    URL_ODYSSEY_DYN,\n",
    "    scalingRatio=0.035,\n",
    "    # min_degree=2,\n",
    "    bad_nodes=['Ithacan assembly','Phaecian assembly','Suitors'],\n",
    "    odir='graphs_Odyssey',\n",
    ")"
   ]
  },
  {
   "cell_type": "code",
   "execution_count": 18,
   "metadata": {},
   "outputs": [
    {
     "output_type": "execute_result",
     "data": {
      "text/plain": [
       "<IPython.core.display.HTML object>"
      ],
      "text/html": "<img src=\"graphs_Aethiopica.gif\" />"
     },
     "metadata": {},
     "execution_count": 18
    }
   ],
   "source": [
    "shownets(\n",
    "    URL_AETHIOPICA_DYN,\n",
    "    scalingRatio=0.05,\n",
    "    odir='graphs_Aethiopica',\n",
    ")"
   ]
  },
  {
   "cell_type": "code",
   "execution_count": 19,
   "metadata": {},
   "outputs": [
    {
     "output_type": "execute_result",
     "data": {
      "text/plain": [
       "<IPython.core.display.HTML object>"
      ],
      "text/html": "<img src=\"graphs_MobyDick.gif\" />"
     },
     "metadata": {},
     "execution_count": 19
    }
   ],
   "source": [
    "shownets(\n",
    "    URL_MOBYDICK,\n",
    "    size_by='degree',\n",
    "    scalingRatio=0.05,\n",
    "    iterations=10000,\n",
    "    bad_nodes=['All','HypotheticalHarpooner','Sailors'],\n",
    "    odir='graphs_MobyDick'\n",
    "    # min_degree=2\n",
    ")"
   ]
  },
  {
   "cell_type": "code",
   "execution_count": null,
   "metadata": {},
   "outputs": [],
   "source": []
  }
 ]
}