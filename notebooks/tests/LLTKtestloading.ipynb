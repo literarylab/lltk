{
 "cells": [
  {
   "cell_type": "code",
   "execution_count": 1,
   "metadata": {},
   "outputs": [
    {
     "name": "stdout",
     "output_type": "stream",
     "text": [
      "\u001b[31mERROR: You must give at least one requirement to uninstall (see \"pip help uninstall\")\u001b[0m\n"
     ]
    }
   ],
   "source": [
    "# did this already in terminal\n",
    "!pip uninstall lltk"
   ]
  },
  {
   "cell_type": "code",
   "execution_count": 2,
   "metadata": {},
   "outputs": [
    {
     "ename": "ModuleNotFoundError",
     "evalue": "No module named 'lltk'",
     "output_type": "error",
     "traceback": [
      "\u001b[0;31m---------------------------------------------------------------------------\u001b[0m",
      "\u001b[0;31mModuleNotFoundError\u001b[0m                       Traceback (most recent call last)",
      "\u001b[0;32m<ipython-input-2-1fbf6195f3b8>\u001b[0m in \u001b[0;36m<module>\u001b[0;34m\u001b[0m\n\u001b[0;32m----> 1\u001b[0;31m \u001b[0;32mimport\u001b[0m \u001b[0mlltk\u001b[0m\u001b[0;34m\u001b[0m\u001b[0;34m\u001b[0m\u001b[0m\n\u001b[0m",
      "\u001b[0;31mModuleNotFoundError\u001b[0m: No module named 'lltk'"
     ]
    }
   ],
   "source": [
    "import lltk"
   ]
  },
  {
   "cell_type": "code",
   "execution_count": 3,
   "metadata": {},
   "outputs": [
    {
     "name": "stdout",
     "output_type": "stream",
     "text": [
      "Collecting lltk-dh\n",
      "\u001b[?25l  Downloading https://files.pythonhosted.org/packages/ec/93/7460db33908d3607ee15b0b3a33d5eaa9a8502560dea39d4f61c53d13a61/lltk-dh-0.5.12.tar.gz (45.5MB)\n",
      "\u001b[K     |████████████████████████████████| 45.5MB 461kB/s  eta 0:00:01\n",
      "\u001b[?25hRequirement already satisfied: numpy in /Users/tobywarner/opt/anaconda3/lib/python3.7/site-packages (from lltk-dh) (1.20.3)\n",
      "Requirement already satisfied: wget in /Users/tobywarner/opt/anaconda3/lib/python3.7/site-packages (from lltk-dh) (3.2)\n",
      "Requirement already satisfied: bounter in /Users/tobywarner/opt/anaconda3/lib/python3.7/site-packages (from lltk-dh) (1.1.1)\n",
      "Requirement already satisfied: internetarchive in /Users/tobywarner/opt/anaconda3/lib/python3.7/site-packages (from lltk-dh) (1.9.9)\n",
      "Requirement already satisfied: bs4 in /Users/tobywarner/opt/anaconda3/lib/python3.7/site-packages (from lltk-dh) (0.0.1)\n",
      "Requirement already satisfied: lxml in /Users/tobywarner/opt/anaconda3/lib/python3.7/site-packages (from lltk-dh) (4.4.1)\n",
      "Requirement already satisfied: xopen in /Users/tobywarner/opt/anaconda3/lib/python3.7/site-packages (from lltk-dh) (1.1.0)\n",
      "Requirement already satisfied: nbimporter in /Users/tobywarner/opt/anaconda3/lib/python3.7/site-packages (from lltk-dh) (0.3.4)\n",
      "Requirement already satisfied: nbformat in /Users/tobywarner/opt/anaconda3/lib/python3.7/site-packages (from lltk-dh) (4.4.0)\n",
      "Requirement already satisfied: pandas in /Users/tobywarner/opt/anaconda3/lib/python3.7/site-packages (from lltk-dh) (1.2.4)\n",
      "Requirement already satisfied: ujson in /Users/tobywarner/opt/anaconda3/lib/python3.7/site-packages (from lltk-dh) (1.35)\n",
      "Requirement already satisfied: xlrd in /Users/tobywarner/opt/anaconda3/lib/python3.7/site-packages (from lltk-dh) (1.2.0)\n",
      "Requirement already satisfied: xlwt in /Users/tobywarner/opt/anaconda3/lib/python3.7/site-packages (from lltk-dh) (1.3.0)\n",
      "Requirement already satisfied: htrc-feature-reader in /Users/tobywarner/opt/anaconda3/lib/python3.7/site-packages (from lltk-dh) (2.0.7)\n",
      "Requirement already satisfied: geopy in /Users/tobywarner/opt/anaconda3/lib/python3.7/site-packages (from lltk-dh) (2.1.0)\n",
      "Requirement already satisfied: moviepy in /Users/tobywarner/opt/anaconda3/lib/python3.7/site-packages (from lltk-dh) (1.0.3)\n",
      "Requirement already satisfied: statsmodels in /Users/tobywarner/opt/anaconda3/lib/python3.7/site-packages (from lltk-dh) (0.10.1)\n",
      "Requirement already satisfied: plotnine in /Users/tobywarner/opt/anaconda3/lib/python3.7/site-packages (from lltk-dh) (0.7.1)\n",
      "Requirement already satisfied: networkx in /Users/tobywarner/opt/anaconda3/lib/python3.7/site-packages (from lltk-dh) (2.3)\n",
      "Requirement already satisfied: yapmap in /Users/tobywarner/opt/anaconda3/lib/python3.7/site-packages (from lltk-dh) (0.0.6)\n",
      "Requirement already satisfied: loguru in /Users/tobywarner/opt/anaconda3/lib/python3.7/site-packages (from lltk-dh) (0.5.3)\n",
      "Requirement already satisfied: sacremoses in /Users/tobywarner/opt/anaconda3/lib/python3.7/site-packages (from lltk-dh) (0.0.45)\n",
      "Requirement already satisfied: sklearn in /Users/tobywarner/opt/anaconda3/lib/python3.7/site-packages (from lltk-dh) (0.0)\n",
      "Requirement already satisfied: nltk in /Users/tobywarner/opt/anaconda3/lib/python3.7/site-packages (from lltk-dh) (3.4.5)\n",
      "Requirement already satisfied: docopt<0.7.0,>=0.6.0 in /Users/tobywarner/opt/anaconda3/lib/python3.7/site-packages (from internetarchive->lltk-dh) (0.6.2)\n",
      "Requirement already satisfied: six<2.0.0,>=1.13.0 in /Users/tobywarner/opt/anaconda3/lib/python3.7/site-packages (from internetarchive->lltk-dh) (1.15.0)\n",
      "Requirement already satisfied: backports.csv<1.07 in /Users/tobywarner/opt/anaconda3/lib/python3.7/site-packages (from internetarchive->lltk-dh) (1.0.7)\n",
      "Requirement already satisfied: requests<3.0.0,>=2.9.1 in /Users/tobywarner/opt/anaconda3/lib/python3.7/site-packages (from internetarchive->lltk-dh) (2.22.0)\n",
      "Requirement already satisfied: schema>=0.4.0 in /Users/tobywarner/opt/anaconda3/lib/python3.7/site-packages (from internetarchive->lltk-dh) (0.7.4)\n",
      "Requirement already satisfied: jsonpatch>=0.4 in /Users/tobywarner/opt/anaconda3/lib/python3.7/site-packages (from internetarchive->lltk-dh) (1.32)\n",
      "Requirement already satisfied: tqdm>=4.0.0 in /Users/tobywarner/opt/anaconda3/lib/python3.7/site-packages (from internetarchive->lltk-dh) (4.48.2)\n",
      "Requirement already satisfied: beautifulsoup4 in /Users/tobywarner/opt/anaconda3/lib/python3.7/site-packages (from bs4->lltk-dh) (4.8.0)\n",
      "Requirement already satisfied: jupyter-core in /Users/tobywarner/opt/anaconda3/lib/python3.7/site-packages (from nbformat->lltk-dh) (4.5.0)\n",
      "Requirement already satisfied: ipython-genutils in /Users/tobywarner/opt/anaconda3/lib/python3.7/site-packages (from nbformat->lltk-dh) (0.2.0)\n",
      "Requirement already satisfied: traitlets>=4.1 in /Users/tobywarner/opt/anaconda3/lib/python3.7/site-packages (from nbformat->lltk-dh) (4.3.3)\n",
      "Requirement already satisfied: jsonschema!=2.5.0,>=2.4 in /Users/tobywarner/opt/anaconda3/lib/python3.7/site-packages (from nbformat->lltk-dh) (3.0.2)\n",
      "Requirement already satisfied: pytz>=2017.3 in /Users/tobywarner/opt/anaconda3/lib/python3.7/site-packages (from pandas->lltk-dh) (2019.3)\n",
      "Requirement already satisfied: python-dateutil>=2.7.3 in /Users/tobywarner/opt/anaconda3/lib/python3.7/site-packages (from pandas->lltk-dh) (2.8.0)\n",
      "Requirement already satisfied: python-rapidjson in /Users/tobywarner/opt/anaconda3/lib/python3.7/site-packages (from htrc-feature-reader->lltk-dh) (1.0)\n",
      "Requirement already satisfied: pymarc in /Users/tobywarner/opt/anaconda3/lib/python3.7/site-packages (from htrc-feature-reader->lltk-dh) (4.0.0)\n",
      "Requirement already satisfied: geographiclib<2,>=1.49 in /Users/tobywarner/opt/anaconda3/lib/python3.7/site-packages (from geopy->lltk-dh) (1.50)\n",
      "Requirement already satisfied: imageio-ffmpeg>=0.2.0; python_version >= \"3.4\" in /Users/tobywarner/opt/anaconda3/lib/python3.7/site-packages (from moviepy->lltk-dh) (0.4.3)\n",
      "Requirement already satisfied: decorator<5.0,>=4.0.2 in /Users/tobywarner/opt/anaconda3/lib/python3.7/site-packages (from moviepy->lltk-dh) (4.4.0)\n",
      "Requirement already satisfied: imageio<3.0,>=2.5; python_version >= \"3.4\" in /Users/tobywarner/opt/anaconda3/lib/python3.7/site-packages (from moviepy->lltk-dh) (2.6.0)\n",
      "Requirement already satisfied: proglog<=1.0.0 in /Users/tobywarner/opt/anaconda3/lib/python3.7/site-packages (from moviepy->lltk-dh) (0.1.9)\n",
      "Requirement already satisfied: scipy>=0.18 in /Users/tobywarner/opt/anaconda3/lib/python3.7/site-packages (from statsmodels->lltk-dh) (1.3.1)\n",
      "Requirement already satisfied: patsy>=0.4.0 in /Users/tobywarner/opt/anaconda3/lib/python3.7/site-packages (from statsmodels->lltk-dh) (0.5.1)\n",
      "Requirement already satisfied: matplotlib>=3.1.1 in /Users/tobywarner/opt/anaconda3/lib/python3.7/site-packages (from plotnine->lltk-dh) (3.1.1)\n",
      "Requirement already satisfied: descartes>=1.1.0 in /Users/tobywarner/opt/anaconda3/lib/python3.7/site-packages (from plotnine->lltk-dh) (1.1.0)\n",
      "Requirement already satisfied: mizani>=0.7.1 in /Users/tobywarner/opt/anaconda3/lib/python3.7/site-packages (from plotnine->lltk-dh) (0.7.2)\n",
      "Requirement already satisfied: click in /Users/tobywarner/opt/anaconda3/lib/python3.7/site-packages (from sacremoses->lltk-dh) (7.0)\n",
      "Requirement already satisfied: joblib in /Users/tobywarner/opt/anaconda3/lib/python3.7/site-packages (from sacremoses->lltk-dh) (0.13.2)\n",
      "Requirement already satisfied: regex in /Users/tobywarner/opt/anaconda3/lib/python3.7/site-packages (from sacremoses->lltk-dh) (2021.4.4)\n",
      "Requirement already satisfied: scikit-learn in /Users/tobywarner/opt/anaconda3/lib/python3.7/site-packages (from sklearn->lltk-dh) (0.21.3)\n",
      "Requirement already satisfied: chardet<3.1.0,>=3.0.2 in /Users/tobywarner/opt/anaconda3/lib/python3.7/site-packages (from requests<3.0.0,>=2.9.1->internetarchive->lltk-dh) (3.0.4)\n",
      "Requirement already satisfied: urllib3!=1.25.0,!=1.25.1,<1.26,>=1.21.1 in /Users/tobywarner/opt/anaconda3/lib/python3.7/site-packages (from requests<3.0.0,>=2.9.1->internetarchive->lltk-dh) (1.24.2)\n",
      "Requirement already satisfied: idna<2.9,>=2.5 in /Users/tobywarner/opt/anaconda3/lib/python3.7/site-packages (from requests<3.0.0,>=2.9.1->internetarchive->lltk-dh) (2.8)\n",
      "Requirement already satisfied: certifi>=2017.4.17 in /Users/tobywarner/opt/anaconda3/lib/python3.7/site-packages (from requests<3.0.0,>=2.9.1->internetarchive->lltk-dh) (2019.9.11)\n",
      "Requirement already satisfied: contextlib2>=0.5.5 in /Users/tobywarner/opt/anaconda3/lib/python3.7/site-packages (from schema>=0.4.0->internetarchive->lltk-dh) (0.6.0)\n",
      "Requirement already satisfied: jsonpointer>=1.9 in /Users/tobywarner/opt/anaconda3/lib/python3.7/site-packages (from jsonpatch>=0.4->internetarchive->lltk-dh) (2.1)\n",
      "Requirement already satisfied: soupsieve>=1.2 in /Users/tobywarner/opt/anaconda3/lib/python3.7/site-packages (from beautifulsoup4->bs4->lltk-dh) (1.9.3)\n",
      "Requirement already satisfied: setuptools in /Users/tobywarner/opt/anaconda3/lib/python3.7/site-packages (from jsonschema!=2.5.0,>=2.4->nbformat->lltk-dh) (41.4.0)\n",
      "Requirement already satisfied: attrs>=17.4.0 in /Users/tobywarner/opt/anaconda3/lib/python3.7/site-packages (from jsonschema!=2.5.0,>=2.4->nbformat->lltk-dh) (19.2.0)\n",
      "Requirement already satisfied: pyrsistent>=0.14.0 in /Users/tobywarner/opt/anaconda3/lib/python3.7/site-packages (from jsonschema!=2.5.0,>=2.4->nbformat->lltk-dh) (0.15.4)\n",
      "Requirement already satisfied: pillow in /Users/tobywarner/opt/anaconda3/lib/python3.7/site-packages (from imageio<3.0,>=2.5; python_version >= \"3.4\"->moviepy->lltk-dh) (6.2.0)\n",
      "Requirement already satisfied: cycler>=0.10 in /Users/tobywarner/opt/anaconda3/lib/python3.7/site-packages (from matplotlib>=3.1.1->plotnine->lltk-dh) (0.10.0)\n",
      "Requirement already satisfied: kiwisolver>=1.0.1 in /Users/tobywarner/opt/anaconda3/lib/python3.7/site-packages (from matplotlib>=3.1.1->plotnine->lltk-dh) (1.1.0)\n",
      "Requirement already satisfied: pyparsing!=2.0.4,!=2.1.2,!=2.1.6,>=2.0.1 in /Users/tobywarner/opt/anaconda3/lib/python3.7/site-packages (from matplotlib>=3.1.1->plotnine->lltk-dh) (2.4.2)\n",
      "Requirement already satisfied: palettable in /Users/tobywarner/opt/anaconda3/lib/python3.7/site-packages (from mizani>=0.7.1->plotnine->lltk-dh) (3.3.0)\n",
      "Building wheels for collected packages: lltk-dh\n",
      "  Building wheel for lltk-dh (setup.py) ... \u001b[?25ldone\n",
      "\u001b[?25h  Created wheel for lltk-dh: filename=lltk_dh-0.5.12-cp37-none-any.whl size=210324 sha256=8438eefc64622af09d09e0e8583e2c3f9572b9d499ea6ecda5ad9bf23423e858\n",
      "  Stored in directory: /Users/tobywarner/Library/Caches/pip/wheels/49/74/40/22ad45736dcff8e5b6d7aad887a6c6aa9ec76554b23aebf1bd\n",
      "Successfully built lltk-dh\n",
      "Installing collected packages: lltk-dh\n",
      "Successfully installed lltk-dh-0.5.12\n"
     ]
    }
   ],
   "source": [
    "!pip install lltk-dh"
   ]
  },
  {
   "cell_type": "code",
   "execution_count": 4,
   "metadata": {},
   "outputs": [
    {
     "name": "stderr",
     "output_type": "stream",
     "text": [
      "/Users/tobywarner/opt/anaconda3/lib/python3.7/site-packages/sklearn/linear_model/least_angle.py:30: DeprecationWarning: `np.float` is a deprecated alias for the builtin `float`. To silence this warning, use `float` by itself. Doing this will not modify any behavior and is safe. If you specifically wanted the numpy scalar type, use `np.float64` here.\n",
      "Deprecated in NumPy 1.20; for more details and guidance: https://numpy.org/devdocs/release/1.20.0-notes.html#deprecations\n",
      "/Users/tobywarner/opt/anaconda3/lib/python3.7/site-packages/sklearn/linear_model/least_angle.py:167: DeprecationWarning: `np.float` is a deprecated alias for the builtin `float`. To silence this warning, use `float` by itself. Doing this will not modify any behavior and is safe. If you specifically wanted the numpy scalar type, use `np.float64` here.\n",
      "Deprecated in NumPy 1.20; for more details and guidance: https://numpy.org/devdocs/release/1.20.0-notes.html#deprecations\n",
      "/Users/tobywarner/opt/anaconda3/lib/python3.7/site-packages/sklearn/linear_model/least_angle.py:284: DeprecationWarning: `np.float` is a deprecated alias for the builtin `float`. To silence this warning, use `float` by itself. Doing this will not modify any behavior and is safe. If you specifically wanted the numpy scalar type, use `np.float64` here.\n",
      "Deprecated in NumPy 1.20; for more details and guidance: https://numpy.org/devdocs/release/1.20.0-notes.html#deprecations\n",
      "/Users/tobywarner/opt/anaconda3/lib/python3.7/site-packages/sklearn/linear_model/least_angle.py:862: DeprecationWarning: `np.float` is a deprecated alias for the builtin `float`. To silence this warning, use `float` by itself. Doing this will not modify any behavior and is safe. If you specifically wanted the numpy scalar type, use `np.float64` here.\n",
      "Deprecated in NumPy 1.20; for more details and guidance: https://numpy.org/devdocs/release/1.20.0-notes.html#deprecations\n",
      "/Users/tobywarner/opt/anaconda3/lib/python3.7/site-packages/sklearn/linear_model/least_angle.py:1101: DeprecationWarning: `np.float` is a deprecated alias for the builtin `float`. To silence this warning, use `float` by itself. Doing this will not modify any behavior and is safe. If you specifically wanted the numpy scalar type, use `np.float64` here.\n",
      "Deprecated in NumPy 1.20; for more details and guidance: https://numpy.org/devdocs/release/1.20.0-notes.html#deprecations\n",
      "/Users/tobywarner/opt/anaconda3/lib/python3.7/site-packages/sklearn/linear_model/least_angle.py:1127: DeprecationWarning: `np.float` is a deprecated alias for the builtin `float`. To silence this warning, use `float` by itself. Doing this will not modify any behavior and is safe. If you specifically wanted the numpy scalar type, use `np.float64` here.\n",
      "Deprecated in NumPy 1.20; for more details and guidance: https://numpy.org/devdocs/release/1.20.0-notes.html#deprecations\n",
      "/Users/tobywarner/opt/anaconda3/lib/python3.7/site-packages/sklearn/linear_model/least_angle.py:1362: DeprecationWarning: `np.float` is a deprecated alias for the builtin `float`. To silence this warning, use `float` by itself. Doing this will not modify any behavior and is safe. If you specifically wanted the numpy scalar type, use `np.float64` here.\n",
      "Deprecated in NumPy 1.20; for more details and guidance: https://numpy.org/devdocs/release/1.20.0-notes.html#deprecations\n",
      "/Users/tobywarner/opt/anaconda3/lib/python3.7/site-packages/sklearn/linear_model/least_angle.py:1602: DeprecationWarning: `np.float` is a deprecated alias for the builtin `float`. To silence this warning, use `float` by itself. Doing this will not modify any behavior and is safe. If you specifically wanted the numpy scalar type, use `np.float64` here.\n",
      "Deprecated in NumPy 1.20; for more details and guidance: https://numpy.org/devdocs/release/1.20.0-notes.html#deprecations\n",
      "/Users/tobywarner/opt/anaconda3/lib/python3.7/site-packages/sklearn/linear_model/least_angle.py:1738: DeprecationWarning: `np.float` is a deprecated alias for the builtin `float`. To silence this warning, use `float` by itself. Doing this will not modify any behavior and is safe. If you specifically wanted the numpy scalar type, use `np.float64` here.\n",
      "Deprecated in NumPy 1.20; for more details and guidance: https://numpy.org/devdocs/release/1.20.0-notes.html#deprecations\n",
      "/Users/tobywarner/opt/anaconda3/lib/python3.7/site-packages/sklearn/decomposition/online_lda.py:29: DeprecationWarning: `np.float` is a deprecated alias for the builtin `float`. To silence this warning, use `float` by itself. Doing this will not modify any behavior and is safe. If you specifically wanted the numpy scalar type, use `np.float64` here.\n",
      "Deprecated in NumPy 1.20; for more details and guidance: https://numpy.org/devdocs/release/1.20.0-notes.html#deprecations\n"
     ]
    }
   ],
   "source": [
    "import lltk"
   ]
  },
  {
   "cell_type": "code",
   "execution_count": 5,
   "metadata": {},
   "outputs": [
    {
     "data": {
      "text/markdown": [
       "| name                | desc                                                                                                                                                                      | license                                                                     | metadata                                                                              | freqs                                                                              | txt                                                                           | xml                                                                    | raw                                                                    |\n",
       "|:--------------------|:--------------------------------------------------------------------------------------------------------------------------------------------------------------------------|:----------------------------------------------------------------------------|:--------------------------------------------------------------------------------------|:-----------------------------------------------------------------------------------|:------------------------------------------------------------------------------|:-----------------------------------------------------------------------|:-----------------------------------------------------------------------|\n",
       "| ARTFL               | [American and French Research on the Treasury of the French Language](https://artfl-project.uchicago.edu)                                                                 | Academic                                                                    | ☂️                                                                                     | ☂️                                                                                  |                                                                               |                                                                        |                                                                        |\n",
       "| BPO                 | [British Periodicals Online](https://proquest.libguides.com/britishperiodicals)                                                                                           | Commercial                                                                  | ☂️                                                                                     |                                                                                    |                                                                               |                                                                        | ☂️                                                                      |\n",
       "| CLMET               | [Corpus of Late Modern English Texts](https://perswww.kuleuven.be/~u0044428/clmet3_0.htm)                                                                                 | [Academic](https://ota.bodleian.ox.ac.uk/repository/xmlui/page/licence-ota) | [🌞](https://www.dropbox.com/s/m1jxj45al7b17cv/clmet_metadata.zip?dl=1)               | [🌞](https://www.dropbox.com/s/lnvwnbzskvqsu9p/clmet_freqs.zip?dl=1)               | ☂️                                                                             | ☂️                                                                      |                                                                        |\n",
       "| COHA                | [Corpus of Historical American English](https://www.english-corpora.org/coha/)                                                                                            | Commercial                                                                  | ☂️                                                                                     | ☂️                                                                                  | ☂️                                                                             |                                                                        | ☂️                                                                      |\n",
       "| CanonFiction        | Long history of fiction (Chadwyck, MarkMark, misc.)                                                                                                                       | Mixed                                                                       | [🌞](https://www.dropbox.com/s/1bmvz17pcjpqnab/canon_fiction_metadata.zip?dl=1)       | [🌞](https://www.dropbox.com/s/i5byh4cxmo5x3pr/canon_fiction_freqs.zip?dl=1)       | ☂️                                                                             |                                                                        |                                                                        |\n",
       "| Chadwyck            | [Chadwyck-Healey Fiction Collections](http://collections.chadwyck.co.uk/marketing/list_of_all.jsp)                                                                        | Mixed                                                                       | [🌞](https://www.dropbox.com/s/byqbi8sik255469/chadwyck_metadata.zip?dl=1)            | [🌞](https://www.dropbox.com/s/syluxyz1mcx5495/chadwyck_freqs.zip?dl=1)            | ☂️                                                                             | ☂️                                                                      | ☂️                                                                      |\n",
       "| ChadwyckDrama       | [Chadwyck-Healey Drama Collections](http://collections.chadwyck.co.uk/marketing/list_of_all.jsp)                                                                          | Mixed                                                                       | ☂️                                                                                     | ☂️                                                                                  | ☂️                                                                             | ☂️                                                                      | ☂️                                                                      |\n",
       "| ChadwyckPoetry      | [Chadwyck-Healey Poetry Collections](http://collections.chadwyck.co.uk/marketing/list_of_all.jsp)                                                                         | Mixed                                                                       | ☂️                                                                                     | ☂️                                                                                  | ☂️                                                                             | ☂️                                                                      | ☂️                                                                      |\n",
       "| Chicago             | [U of Chicago Corpus of C20 Novels](https://textual-optics-lab.uchicago.edu/us_novel_corpus)                                                                              | Academic                                                                    | ✓                                                                                     | ✓                                                                                  | ☂️                                                                             |                                                                        |                                                                        |\n",
       "| DTA                 | [Deutsches Text Archiv](http://www.deutschestextarchiv.de)                                                                                                                | [Free](https://creativecommons.org/licenses/by-sa/4.0/)                     | [🌞](https://www.dropbox.com/s/294h2suvtu6sing/dta_metadata.zip?dl=1)                 | [🌞](https://www.dropbox.com/s/nb1u0e77ng2d5mh/dta_freqs.zip?dl=1)                 | [🌞](https://www.dropbox.com/s/8ez1tpa7awfb100/dta_txt.zip?dl=1)              | [🌞](https://www.dropbox.com/s/jy0o1cy37wioqqv/dta_xml.zip?dl=1)       | [🌞](http://media.dwds.de/dta/download/dta_komplett_2019-06-05.zip)    |\n",
       "| DialNarr            | [Dialogue and Narration separated in Chadwyck-Healey Novels](https://doi.org/10.1093/llc/fqx031)                                                                          | Academic                                                                    | [🌞](https://www.dropbox.com/s/jw53k1mba6eumna/dialnarr_metadata.zip?dl=1)            | [🌞](https://www.dropbox.com/s/rgduzqatl4j0x5s/dialnarr_freqs.zip?dl=1)            | ☂️                                                                             |                                                                        |                                                                        |\n",
       "| ECCO                | [Eighteenth Century Collections Online](https://www.gale.com/intl/primary-sources/eighteenth-century-collections-online)                                                  | Commercial                                                                  | ☂️                                                                                     | ☂️                                                                                  | ☂️                                                                             | ☂️                                                                      | ☂️                                                                      |\n",
       "| ECCO_TCP            | [ECCO (Text Creation Partnership)](https://textcreationpartnership.org/tcp-texts/ecco-tcp-eighteenth-century-collections-online/)                                         | Free                                                                        | [🌞](https://www.dropbox.com/s/xh991n4sohulczb/ecco_tcp_metadata.zip?dl=1)            | [🌞](https://www.dropbox.com/s/sdf5pdyifnrulyk/ecco_tcp_freqs.zip?dl=1)            | [🌞](https://www.dropbox.com/s/8sa4f6yqpz6ku3d/ecco_tcp_txt.zip?dl=1)         | [🌞](https://www.dropbox.com/s/vtv2iw7ujtivqss/ecco_tcp_xml.zip?dl=1)  | [🌞](https://www.dropbox.com/s/aubdaixvc59d8o9/ecco_tcp_raw.zip?dl=1)  |\n",
       "| EEBO_TCP            | [Early English Books Online (curated by the Text Creation Partnership)](https://textcreationpartnership.org/tcp-texts/eebo-tcp-early-english-books-online/)               | Free                                                                        | [🌞](https://www.dropbox.com/s/th2i7jvuxksb0ma/eebo_tcp_metadata.zip?dl=1)            | [🌞](https://www.dropbox.com/s/n2oocs233wh5edo/eebo_tcp_freqs.zip?dl=1)            | [🌞](https://www.dropbox.com/s/otgqbs0vdli3gvb/eebo_tcp_txt.zip?dl=1)         | [🌞](https://www.dropbox.com/s/1wui9qjhkzy8fnm/eebo_tcp_xml.zip?dl=1)  |                                                                        |\n",
       "| ESTC                | [English Short Title Catalogue](http://estc.ucr.edu/)                                                                                                                     | Academic                                                                    | ☂️                                                                                     |                                                                                    |                                                                               |                                                                        |                                                                        |\n",
       "| EnglishDialogues    | [A Corpus of English Dialogues, 1560-1760](https://ota.bodleian.ox.ac.uk/repository/xmlui/handle/20.500.12024/2507)                                                       | [Academic](https://ota.bodleian.ox.ac.uk/repository/xmlui/page/licence-ota) | [🌞](https://www.dropbox.com/s/lcudgwmxdpspsc9/dialogues_metadata.zip?dl=1)           | [🌞](https://www.dropbox.com/s/tji67pv89e61wd6/dialogues_freqs.zip?dl=1)           |                                                                               | [🌞](https://www.dropbox.com/s/u07u3mrrom3i9f5/dialogues_xml.zip?dl=1) |                                                                        |\n",
       "| EvansTCP            | [Early American Fiction](https://textcreationpartnership.org/tcp-texts/evans-tcp-evans-early-american-imprints/)                                                          | Free                                                                        | [🌞](https://www.dropbox.com/s/jr1j9i7wbz5uh0f/evans_tcp_metadata.zip?dl=1)           | [🌞](https://www.dropbox.com/s/4r426a5f6jk3tq8/evans_tcp_freqs.zip?dl=1)           | [🌞](https://www.dropbox.com/s/ezen3zxyt9hzxxp/evans_tcp_txt.zip?dl=1)        | [🌞](https://www.dropbox.com/s/yg7hjf536klg04c/evans_tcp_xml.zip?dl=1) | [🌞](https://www.dropbox.com/s/05qtu8r2xejqpkh/evans_tcp_raw.zip?dl=1) |\n",
       "| GaleAmericanFiction | [Gale American Fiction, 1774-1920](https://www.gale.com/c/american-fiction-1774-1920)                                                                                     | Academic                                                                    | [🌞](https://www.dropbox.com/s/9ysabqrrx05832u/gale_amfic_metadata.zip?dl=1)          | [🌞](https://www.dropbox.com/s/7tbwfcgbcincdi1/gale_amfic_freqs.zip?dl=1)          | ☂️                                                                             |                                                                        | ☂️                                                                      |\n",
       "| GildedAge           | [U.S. Fiction of the Gilded Age](https://doi.org/10.1093/llc/fqv066)                                                                                                      | Academic                                                                    | [🌞](https://www.dropbox.com/s/fg605k0cnebf70i/gildedage_metadata.zip?dl=1)           | [🌞](https://www.dropbox.com/s/i5zjhil743rm907/gildedage_freqs.zip?dl=1)           |                                                                               |                                                                        |                                                                        |\n",
       "| Hathi               | [Hathi Trust Research Center](https://www.hathitrust.org/)                                                                                                                | Academic                                                                    | ✓                                                                                     |                                                                                    |                                                                               |                                                                        |                                                                        |\n",
       "| HathiAlmanacs       | [Hathi Trust volumes with \"almanac(k/ch)\" in title](https://catalog.hathitrust.org/Search/Home)                                                                           | Academic                                                                    | [🌞](https://www.dropbox.com/s/el2hc45tauwzskc/hathi_almanacs_metadata.zip?dl=1)      | [🌞](https://www.dropbox.com/s/xihowiox9lu7cc9/hathi_almanacs_freqs.zip?dl=1)      |                                                                               |                                                                        |                                                                        |\n",
       "| HathiBio            | [Biographies from Hathi Trust](https://www.ideals.illinois.edu/handle/2142/99554)                                                                                         | Academic                                                                    | [🌞](https://www.dropbox.com/s/wth2i53gg0tq18a/hathi_bio_metadata.zip?dl=1)           | [🌞](https://www.dropbox.com/s/3jq8rjtpec4a6g9/hathi_bio_freqs.zip?dl=1)           |                                                                               |                                                                        |                                                                        |\n",
       "| HathiEngLit         | [Fiction, drama, verse word frequencies from Hathi Trust](https://wiki.htrc.illinois.edu/display/COM/Word+Frequencies+in+English-Language+Literature)                     | Academic                                                                    | [🌞](https://www.dropbox.com/s/gnwuwkpy4jybr5r/hathi_englit_metadata.zip?dl=1)        | [🌞](https://www.dropbox.com/s/jm858ej78x7h0vk/hathi_englit_freqs.zip?dl=1)        |                                                                               |                                                                        |                                                                        |\n",
       "| HathiEssays         | [Hathi Trust volumes with \"essay(s)\" in title](https://catalog.hathitrust.org/Search/Home)                                                                                | Academic                                                                    | [🌞](https://www.dropbox.com/s/9s7vpe7bhqo86ic/hathi_essays_metadata.zip?dl=1)        | [🌞](https://www.dropbox.com/s/j1kppdj2h9t20fp/hathi_essays_freqs.zip?dl=1)        |                                                                               |                                                                        |                                                                        |\n",
       "| HathiLetters        | [Hathi Trust volumes with \"letter(s)\" in title](https://catalog.hathitrust.org/Search/Home)                                                                               | Academic                                                                    | [🌞](https://www.dropbox.com/s/11lajafcunypul2/hathi_letters_metadata.zip?dl=1)       | [🌞](https://www.dropbox.com/s/e7b07d5tlkfj9sw/hathi_letters_freqs.zip?dl=1)       |                                                                               |                                                                        |                                                                        |\n",
       "| HathiNovels         | [Hathi Trust volumes with \"novel(s)\" in title](https://catalog.hathitrust.org/Search/Home)                                                                                | Academic                                                                    | [🌞](https://www.dropbox.com/s/hurtnwujziwusqz/hathi_novels_metadata.zip?dl=1)        | [🌞](https://www.dropbox.com/s/yxpur1zvvbp7cwp/hathi_novels_freqs.zip?dl=1)        |                                                                               |                                                                        |                                                                        |\n",
       "| HathiProclamations  | [Hathi Trust volumes with \"proclamation(s)\" in title](https://catalog.hathitrust.org/Search/Home)                                                                         | Academic                                                                    | [🌞](https://www.dropbox.com/s/enksc8u5bqukc24/hathi_proclamations_metadata.zip?dl=1) | [🌞](https://www.dropbox.com/s/0wzzfcd4qeb17ed/hathi_proclamations_freqs.zip?dl=1) |                                                                               |                                                                        |                                                                        |\n",
       "| HathiRomances       | [Hathi Trust volumes with \"romance(s)\" in title](https://catalog.hathitrust.org/Search/Home)                                                                              | Academic                                                                    |                                                                                       |                                                                                    |                                                                               |                                                                        |                                                                        |\n",
       "| HathiSermons        | [Hathi Trust volumes with \"sermon(s)\" in title](https://catalog.hathitrust.org/Search/Home)                                                                               | Academic                                                                    | [🌞](https://www.dropbox.com/s/9s70xbcwrqad88c/hathi_sermons_metadata.zip?dl=1)       | [🌞](https://www.dropbox.com/s/gchqmnt1yhhephz/hathi_sermons_freqs.zip?dl=1)       |                                                                               |                                                                        |                                                                        |\n",
       "| HathiStories        | [Hathi Trust volumes with \"story/stories\" in title](https://catalog.hathitrust.org/Search/Home)                                                                           | Academic                                                                    | [🌞](https://www.dropbox.com/s/sfzs0t1hodb9r9d/hathi_stories_metadata.zip?dl=1)       | [🌞](https://www.dropbox.com/s/g004z8lgyxxhwip/hathi_stories_freqs.zip?dl=1)       |                                                                               |                                                                        |                                                                        |\n",
       "| HathiTales          | [Hathi Trust volumes with \"tale(s)\" in title](https://catalog.hathitrust.org/Search/Home)                                                                                 | Academic                                                                    | [🌞](https://www.dropbox.com/s/hig9r9igcxp95sy/hathi_tales_metadata.zip?dl=1)         | [🌞](https://www.dropbox.com/s/b31o13d6l5do1kk/hathi_tales_freqs.zip?dl=1)         |                                                                               |                                                                        |                                                                        |\n",
       "| HathiTreatises      | [Hathi Trust volumes with \"treatise(s)\" in title](https://catalog.hathitrust.org/Search/Home)                                                                             | Academic                                                                    | [🌞](https://www.dropbox.com/s/az903wuhx1b8zu1/hathi_treatises_metadata.zip?dl=1)     | [🌞](https://www.dropbox.com/s/hafinhgc8u77vpz/hathi_treatises_freqs.zip?dl=1)     |                                                                               |                                                                        |                                                                        |\n",
       "| InternetArchive     | [19th Century Novels, curated by the U of Illinois and hosted on the Internet Archive](https://archive.org/details/19thcennov?tab=about)                                  | Free                                                                        | [🌞](https://www.dropbox.com/s/yymc8t060eik7bt/internet_archive_metadata.zip?dl=1)    | [🌞](https://www.dropbox.com/s/eofh9npy5x7qn5o/internet_archive_freqs.zip?dl=1)    | [🌞](https://www.dropbox.com/s/bs1ec7k9kk2jkrt/internet_archive_txt.zip?dl=1) |                                                                        |                                                                        |\n",
       "| LitLab              | [Literary Lab Corpus of 18th and 19th Century Novels](https://litlab.stanford.edu/LiteraryLabPamphlet11.pdf)                                                              | Academic                                                                    | [🌞](https://www.dropbox.com/s/ruur7jrckhm8nqz/litlab_metadata.zip?dl=1)              | [🌞](https://www.dropbox.com/s/itoj9a8n4vrjot9/litlab_freqs.zip?dl=1)              | ☂️                                                                             |                                                                        |                                                                        |\n",
       "| MarkMark            | [Mark Algee-Hewitt's and Mark McGurl's 20th Century Corpus](https://litlab.stanford.edu/LiteraryLabPamphlet8.pdf)                                                         | Academic                                                                    | ✓                                                                                     | ✓                                                                                  | ☂️                                                                             |                                                                        |                                                                        |\n",
       "| OldBailey           | [Old Bailey Online](https://www.oldbaileyonline.org/)                                                                                                                     | [Free](https://creativecommons.org/licenses/by-nc/4.0/)                     | [🌞](https://www.dropbox.com/s/zc6osrvsgp0n1m4/oldbailey_metadata.zip?dl=1)           | [🌞](https://www.dropbox.com/s/rwgt7q1f6pl65jh/oldbailey_freqs.zip?dl=1)           | [🌞](https://www.dropbox.com/s/yjsjnk4eyprifem/oldbailey_txt.zip?dl=1)        | [🌞](https://www.dropbox.com/s/90bsbu7re5tnbtp/oldbailey_xml.zip?dl=1) |                                                                        |\n",
       "| RavenGarside        | [Raven & Garside's Bibliography of English Novels, 1770-1830](https://catalog.hathitrust.org/Record/004098100)                                                            | Academic                                                                    | ☂️                                                                                     |                                                                                    |                                                                               |                                                                        |                                                                        |\n",
       "| SOTU                | [State of the Union Addresses](https://www.kaggle.com/rtatman/state-of-the-union-corpus-1989-2017)                                                                        | Free                                                                        | [🌞](https://www.dropbox.com/s/6gyueael6smbxyg/sotu_metadata.zip?dl=1)                | [🌞](https://www.dropbox.com/s/34gz1aifsot65fw/sotu_freqs.zip?dl=1)                | [🌞](https://www.dropbox.com/s/w73qio0thhfzdpx/sotu_txt.zip?dl=1)             |                                                                        |                                                                        |\n",
       "| Sellers             | [19th Century Texts compiled by Jordan Sellers](http://journalofdigitalhumanities.org/1-2/the-emergence-of-literary-diction-by-ted-underwood-and-jordan-sellers/)         | Free                                                                        | [🌞](https://www.dropbox.com/s/7mos2k5qx8bdc1l/sellers_metadata.zip?dl=1)             | [🌞](https://www.dropbox.com/s/k293ip4wrswhl8j/sellers_freqs.zip?dl=1)             | [🌞](https://www.dropbox.com/s/j7e5my3s20n3xq4/sellers_txt.zip?dl=1)          |                                                                        |                                                                        |\n",
       "| SemanticCohort      | [Corpus used in \"Semantic Cohort Method\" (2012)](https://litlab.stanford.edu/LiteraryLabPamphlet8.pdf)                                                                    | Free                                                                        | [🌞](https://www.dropbox.com/s/f6imhtfzgpf7tvz/semantic_cohort_metadata.zip?dl=1)     |                                                                                    |                                                                               |                                                                        |                                                                        |\n",
       "| Spectator           | [The Spectator (1711-1714)](http://www.gutenberg.org/ebooks/12030)                                                                                                        | Free                                                                        | [🌞](https://www.dropbox.com/s/3cw2lcza68djzj1/spectator_metadata.zip?dl=1)           | [🌞](https://www.dropbox.com/s/sil5q31833rz4n0/spectator_freqs.zip?dl=1)           | [🌞](https://www.dropbox.com/s/goj6xbom3qnv5u5/spectator_txt.zip?dl=1)        |                                                                        |                                                                        |\n",
       "| TedJDH              | [Corpus used in \"Emergence of Literary Diction\" (2012)](http://journalofdigitalhumanities.org/1-2/the-emergence-of-literary-diction-by-ted-underwood-and-jordan-sellers/) | Free                                                                        | [🌞](https://www.dropbox.com/s/ibjl7x0eyyz5zm6/tedjdh_metadata.zip?dl=1)              | [🌞](https://www.dropbox.com/s/igoxb4y7buctm5o/tedjdh_freqs.zip?dl=1)              | [🌞](https://www.dropbox.com/s/8ug3h24h5bggnx7/tedjdh_txt.zip?dl=1)           |                                                                        |                                                                        |\n",
       "| TxtLab              | [A multilingual dataset of 450 novels](https://txtlab.org/2016/01/txtlab450-a-data-set-of-multilingual-novels-for-teaching-and-research)                                  | Free                                                                        | ✓                                                                                     | ✓                                                                                  | ✓                                                                             |                                                                        | [🌞](https://github.com/christofs/txtlab450/archive/master.zip)        |"
      ],
      "text/plain": [
       "<IPython.core.display.Markdown object>"
      ]
     },
     "metadata": {},
     "output_type": "display_data"
    }
   ],
   "source": [
    "lltk.show()"
   ]
  },
  {
   "cell_type": "code",
   "execution_count": 6,
   "metadata": {},
   "outputs": [],
   "source": [
    "corpus = lltk.load('TxtLab')"
   ]
  },
  {
   "cell_type": "code",
   "execution_count": 7,
   "metadata": {},
   "outputs": [
    {
     "data": {
      "text/html": [
       "<div>\n",
       "<style scoped>\n",
       "    .dataframe tbody tr th:only-of-type {\n",
       "        vertical-align: middle;\n",
       "    }\n",
       "\n",
       "    .dataframe tbody tr th {\n",
       "        vertical-align: top;\n",
       "    }\n",
       "\n",
       "    .dataframe thead th {\n",
       "        text-align: right;\n",
       "    }\n",
       "</style>\n",
       "<table border=\"1\" class=\"dataframe\">\n",
       "  <thead>\n",
       "    <tr style=\"text-align: right;\">\n",
       "      <th></th>\n",
       "    </tr>\n",
       "  </thead>\n",
       "  <tbody>\n",
       "  </tbody>\n",
       "</table>\n",
       "</div>"
      ],
      "text/plain": [
       "Empty DataFrame\n",
       "Columns: []\n",
       "Index: []"
      ]
     },
     "execution_count": 7,
     "metadata": {},
     "output_type": "execute_result"
    }
   ],
   "source": [
    "corpus.meta"
   ]
  },
  {
   "cell_type": "code",
   "execution_count": 8,
   "metadata": {},
   "outputs": [],
   "source": [
    "corpus2 = lltk.load('Chicago')"
   ]
  },
  {
   "cell_type": "code",
   "execution_count": 9,
   "metadata": {},
   "outputs": [
    {
     "data": {
      "text/html": [
       "<div>\n",
       "<style scoped>\n",
       "    .dataframe tbody tr th:only-of-type {\n",
       "        vertical-align: middle;\n",
       "    }\n",
       "\n",
       "    .dataframe tbody tr th {\n",
       "        vertical-align: top;\n",
       "    }\n",
       "\n",
       "    .dataframe thead th {\n",
       "        text-align: right;\n",
       "    }\n",
       "</style>\n",
       "<table border=\"1\" class=\"dataframe\">\n",
       "  <thead>\n",
       "    <tr style=\"text-align: right;\">\n",
       "      <th></th>\n",
       "    </tr>\n",
       "  </thead>\n",
       "  <tbody>\n",
       "  </tbody>\n",
       "</table>\n",
       "</div>"
      ],
      "text/plain": [
       "Empty DataFrame\n",
       "Columns: []\n",
       "Index: []"
      ]
     },
     "execution_count": 9,
     "metadata": {},
     "output_type": "execute_result"
    }
   ],
   "source": [
    "corpus2.meta"
   ]
  },
  {
   "cell_type": "code",
   "execution_count": 10,
   "metadata": {},
   "outputs": [
    {
     "ename": "AttributeError",
     "evalue": "'DataFrame' object has no attribute 'id'",
     "output_type": "error",
     "traceback": [
      "\u001b[0;31m---------------------------------------------------------------------------\u001b[0m",
      "\u001b[0;31mAttributeError\u001b[0m                            Traceback (most recent call last)",
      "\u001b[0;32m<ipython-input-10-5883a4b1415f>\u001b[0m in \u001b[0;36m<module>\u001b[0;34m\u001b[0m\n\u001b[0;32m----> 1\u001b[0;31m \u001b[0mcorpus\u001b[0m\u001b[0;34m.\u001b[0m\u001b[0mmfw_df\u001b[0m\u001b[0;34m(\u001b[0m\u001b[0;34m)\u001b[0m\u001b[0;34m\u001b[0m\u001b[0;34m\u001b[0m\u001b[0m\n\u001b[0m",
      "\u001b[0;32m~/opt/anaconda3/lib/python3.7/site-packages/lltk/corpus/corpus.py\u001b[0m in \u001b[0;36mmfw_df\u001b[0;34m(self, n, words, texts, yearbin, by_ntext, n_by_period, keep_periods, n_agg, min_count, col_group, excl_stopwords, excl_top, valtype, min_periods, by_fpm, only_pos, force, keep_pos, **attrs)\u001b[0m\n\u001b[1;32m    641\u001b[0m             \u001b[0mforce\u001b[0m\u001b[0;34m=\u001b[0m\u001b[0;32mFalse\u001b[0m\u001b[0;34m,\u001b[0m\u001b[0;34m\u001b[0m\u001b[0;34m\u001b[0m\u001b[0m\n\u001b[1;32m    642\u001b[0m             \u001b[0mtry_create_freqs\u001b[0m\u001b[0;34m=\u001b[0m\u001b[0;32mTrue\u001b[0m\u001b[0;34m,\u001b[0m\u001b[0;34m\u001b[0m\u001b[0;34m\u001b[0m\u001b[0m\n\u001b[0;32m--> 643\u001b[0;31m             \u001b[0;34m**\u001b[0m\u001b[0mattrs\u001b[0m\u001b[0;34m\u001b[0m\u001b[0;34m\u001b[0m\u001b[0m\n\u001b[0m\u001b[1;32m    644\u001b[0m         )\n\u001b[1;32m    645\u001b[0m         \u001b[0;32mif\u001b[0m \u001b[0mdf\u001b[0m \u001b[0;32mis\u001b[0m \u001b[0;32mNone\u001b[0m\u001b[0;34m:\u001b[0m\u001b[0;34m\u001b[0m\u001b[0;34m\u001b[0m\u001b[0m\n",
      "\u001b[0;32m~/opt/anaconda3/lib/python3.7/site-packages/lltk/corpus/corpus.py\u001b[0m in \u001b[0;36mpreprocess_mfw\u001b[0;34m(self, texts, words, yearbin, yearbin_posthoc, year_min, year_max, by_ntext, by_fpm, num_proc, col_group, estimate, force, verbose, try_create_freqs, progress, pos, **attrs)\u001b[0m\n\u001b[1;32m    778\u001b[0m         \u001b[0;32mif\u001b[0m \u001b[0;34m(\u001b[0m\u001b[0myear_min\u001b[0m \u001b[0;32mor\u001b[0m \u001b[0myear_max\u001b[0m\u001b[0;34m)\u001b[0m \u001b[0;32mand\u001b[0m \u001b[0;34m'year'\u001b[0m \u001b[0;32min\u001b[0m \u001b[0mset\u001b[0m\u001b[0;34m(\u001b[0m\u001b[0mtextdf\u001b[0m\u001b[0;34m.\u001b[0m\u001b[0mcolumns\u001b[0m\u001b[0;34m)\u001b[0m\u001b[0;34m:\u001b[0m\u001b[0;34m\u001b[0m\u001b[0;34m\u001b[0m\u001b[0m\n\u001b[1;32m    779\u001b[0m             \u001b[0mtextdf\u001b[0m\u001b[0;34m=\u001b[0m\u001b[0mtextdf\u001b[0m\u001b[0;34m.\u001b[0m\u001b[0mquery\u001b[0m\u001b[0;34m(\u001b[0m\u001b[0;34mf'{year_min if year_min is not None else -1000000} <= year < {year_max if year_max is not None else -1000000}'\u001b[0m\u001b[0;34m)\u001b[0m\u001b[0;34m\u001b[0m\u001b[0;34m\u001b[0m\u001b[0m\n\u001b[0;32m--> 780\u001b[0;31m         \u001b[0mkey\u001b[0m\u001b[0;34m=\u001b[0m\u001b[0mself\u001b[0m\u001b[0;34m.\u001b[0m\u001b[0mmfwkey\u001b[0m\u001b[0;34m(\u001b[0m\u001b[0myearbin\u001b[0m\u001b[0;34m,\u001b[0m\u001b[0mby_ntext\u001b[0m\u001b[0;34m,\u001b[0m\u001b[0mby_fpm\u001b[0m\u001b[0;34m,\u001b[0m\u001b[0mtextdf\u001b[0m\u001b[0;34m.\u001b[0m\u001b[0mid\u001b[0m\u001b[0;34m)\u001b[0m\u001b[0;34m\u001b[0m\u001b[0;34m\u001b[0m\u001b[0m\n\u001b[0m\u001b[1;32m    781\u001b[0m         \u001b[0;31m# keyfn=os.path.join(self.path_mfw,key+'.ft')\u001b[0m\u001b[0;34m\u001b[0m\u001b[0;34m\u001b[0m\u001b[0;34m\u001b[0m\u001b[0m\n\u001b[1;32m    782\u001b[0m         \u001b[0mkeyfn\u001b[0m\u001b[0;34m=\u001b[0m\u001b[0mos\u001b[0m\u001b[0;34m.\u001b[0m\u001b[0mpath\u001b[0m\u001b[0;34m.\u001b[0m\u001b[0mjoin\u001b[0m\u001b[0;34m(\u001b[0m\u001b[0mself\u001b[0m\u001b[0;34m.\u001b[0m\u001b[0mpath_mfw\u001b[0m\u001b[0;34m,\u001b[0m\u001b[0mkey\u001b[0m\u001b[0;34m+\u001b[0m\u001b[0;34m'.pkl'\u001b[0m\u001b[0;34m)\u001b[0m\u001b[0;34m\u001b[0m\u001b[0;34m\u001b[0m\u001b[0m\n",
      "\u001b[0;32m~/opt/anaconda3/lib/python3.7/site-packages/pandas/core/generic.py\u001b[0m in \u001b[0;36m__getattr__\u001b[0;34m(self, name)\u001b[0m\n\u001b[1;32m   5463\u001b[0m             \u001b[0;32mif\u001b[0m \u001b[0mself\u001b[0m\u001b[0;34m.\u001b[0m\u001b[0m_info_axis\u001b[0m\u001b[0;34m.\u001b[0m\u001b[0m_can_hold_identifiers_and_holds_name\u001b[0m\u001b[0;34m(\u001b[0m\u001b[0mname\u001b[0m\u001b[0;34m)\u001b[0m\u001b[0;34m:\u001b[0m\u001b[0;34m\u001b[0m\u001b[0;34m\u001b[0m\u001b[0m\n\u001b[1;32m   5464\u001b[0m                 \u001b[0;32mreturn\u001b[0m \u001b[0mself\u001b[0m\u001b[0;34m[\u001b[0m\u001b[0mname\u001b[0m\u001b[0;34m]\u001b[0m\u001b[0;34m\u001b[0m\u001b[0;34m\u001b[0m\u001b[0m\n\u001b[0;32m-> 5465\u001b[0;31m             \u001b[0;32mreturn\u001b[0m \u001b[0mobject\u001b[0m\u001b[0;34m.\u001b[0m\u001b[0m__getattribute__\u001b[0m\u001b[0;34m(\u001b[0m\u001b[0mself\u001b[0m\u001b[0;34m,\u001b[0m \u001b[0mname\u001b[0m\u001b[0;34m)\u001b[0m\u001b[0;34m\u001b[0m\u001b[0;34m\u001b[0m\u001b[0m\n\u001b[0m\u001b[1;32m   5466\u001b[0m \u001b[0;34m\u001b[0m\u001b[0m\n\u001b[1;32m   5467\u001b[0m     \u001b[0;32mdef\u001b[0m \u001b[0m__setattr__\u001b[0m\u001b[0;34m(\u001b[0m\u001b[0mself\u001b[0m\u001b[0;34m,\u001b[0m \u001b[0mname\u001b[0m\u001b[0;34m:\u001b[0m \u001b[0mstr\u001b[0m\u001b[0;34m,\u001b[0m \u001b[0mvalue\u001b[0m\u001b[0;34m)\u001b[0m \u001b[0;34m->\u001b[0m \u001b[0;32mNone\u001b[0m\u001b[0;34m:\u001b[0m\u001b[0;34m\u001b[0m\u001b[0;34m\u001b[0m\u001b[0m\n",
      "\u001b[0;31mAttributeError\u001b[0m: 'DataFrame' object has no attribute 'id'"
     ]
    }
   ],
   "source": [
    "corpus.mfw_df()"
   ]
  },
  {
   "cell_type": "code",
   "execution_count": null,
   "metadata": {},
   "outputs": [],
   "source": []
  }
 ],
 "metadata": {
  "kernelspec": {
   "display_name": "Python 3",
   "language": "python",
   "name": "python3"
  },
  "language_info": {
   "codemirror_mode": {
    "name": "ipython",
    "version": 3
   },
   "file_extension": ".py",
   "mimetype": "text/x-python",
   "name": "python",
   "nbconvert_exporter": "python",
   "pygments_lexer": "ipython3",
   "version": "3.7.4"
  }
 },
 "nbformat": 4,
 "nbformat_minor": 4
}