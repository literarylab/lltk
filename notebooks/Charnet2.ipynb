{
 "cells": [
  {
   "cell_type": "markdown",
   "metadata": {},
   "source": [
    "# Animating character networks/maps"
   ]
  },
  {
   "cell_type": "code",
   "execution_count": 1,
   "metadata": {},
   "outputs": [],
   "source": [
    "from lltk.model.charnet import *\n",
    "# !pip install kora -q"
   ]
  },
  {
   "cell_type": "code",
   "execution_count": 2,
   "metadata": {},
   "outputs": [],
   "source": [
    "URL_ODYSSEY_DYN='https://docs.google.com/spreadsheets/d/e/2PACX-1vS19Gbv7qN-OTpb7yyNTrxLEIoBOVfDnXemxweLwYeU4FLo1zH3efysgQrNH70mkM90_Rv3AJjHD-EC/pub?gid=2343770&single=true&output=csv'\n",
    "URL_AETHIOPICA_DYN='https://docs.google.com/spreadsheets/d/e/2PACX-1vSITB0rsQH9TKUwfBjGdCBlkk7PyDHlyNQtnnqoWwIWyvWfAai2qUbbdnJPwMr66SHo5NC86b8-_X-c/pub?gid=695648537&single=true&output=csv'"
   ]
  },
  {
   "cell_type": "code",
   "execution_count": 3,
   "metadata": {},
   "outputs": [],
   "source": [
    "URL = URL_AETHIOPICA_DYN        # URL to csv (e.g. Google docs)\n",
    "NAME = 'Aethiopica'             # name of text\n",
    "VNUM = 'v4'                  # version number (not important)\n",
    "SAVE_GEO = True              # save geographic network\n",
    "SAVE_FORCE = True            # save force layout network\n",
    "I_MAX = None                 # limit to n interactions (None for all)"
   ]
  },
  {
   "cell_type": "code",
   "execution_count": 4,
   "metadata": {},
   "outputs": [],
   "source": [
    "plot_opts = dict(\n",
    "    min_size=5,              # min size of node\n",
    "    max_size=30,             # max size of node\n",
    "    min_weight=1,            # min width of edge\n",
    "    max_weight=5,            # max width of edge\n",
    "    min_degree=0,            # min degree of nodes\n",
    "    line_alpha=0.5,          # opacity of edge lines (0 to 1)\n",
    "#     webdriver=wd             # leave this in there\n",
    "    fps=3\n",
    ")"
   ]
  },
  {
   "cell_type": "code",
   "execution_count": 5,
   "metadata": {},
   "outputs": [
    {
     "name": "stderr",
     "output_type": "stream",
     "text": [
      "Generating graphs over time: 100%|██████████| 264/264 [00:02<00:00, 104.69it/s]\n"
     ]
    },
    {
     "ename": "TypeError",
     "evalue": "bad operand type for unary -: 'NoneType'",
     "output_type": "error",
     "traceback": [
      "\u001b[0;31m---------------------------------------------------------------------------\u001b[0m",
      "\u001b[0;31mTypeError\u001b[0m                                 Traceback (most recent call last)",
      "\u001b[0;32m<ipython-input-5-0e377808afa4>\u001b[0m in \u001b[0;36m<module>\u001b[0;34m\u001b[0m\n\u001b[1;32m     12\u001b[0m         \u001b[0mrepos\u001b[0m\u001b[0;34m=\u001b[0m\u001b[0;32mFalse\u001b[0m\u001b[0;34m,\u001b[0m       \u001b[0;31m# reposition each step\u001b[0m\u001b[0;34m\u001b[0m\u001b[0;34m\u001b[0m\u001b[0m\n\u001b[1;32m     13\u001b[0m         \u001b[0mrange_fac\u001b[0m\u001b[0;34m=\u001b[0m\u001b[0;36m0.1\u001b[0m\u001b[0;34m,\u001b[0m     \u001b[0;31m# bigger for more zoom-out\u001b[0m\u001b[0;34m\u001b[0m\u001b[0;34m\u001b[0m\u001b[0m\n\u001b[0;32m---> 14\u001b[0;31m         \u001b[0;34m**\u001b[0m\u001b[0mplot_opts\u001b[0m\u001b[0;34m\u001b[0m\u001b[0;34m\u001b[0m\u001b[0m\n\u001b[0m\u001b[1;32m     15\u001b[0m     )\n\u001b[1;32m     16\u001b[0m     \u001b[0mdisplay\u001b[0m\u001b[0;34m(\u001b[0m\u001b[0mvid_force\u001b[0m\u001b[0;34m)\u001b[0m\u001b[0;34m\u001b[0m\u001b[0;34m\u001b[0m\u001b[0m\n",
      "\u001b[0;32m~/github/lltk/lltk/model/charnet.py\u001b[0m in \u001b[0;36msave_nets\u001b[0;34m(url, bad_nodes, odir, size_by, fps, num_proc, pos_by, repos, i_max, fudge_fac, rescale, rescale_memory, range_fac, save_gif, name, **y)\u001b[0m\n\u001b[1;32m   1124\u001b[0m         \u001b[0mdo_save_nets\u001b[0m\u001b[0;34m,\u001b[0m\u001b[0;34m\u001b[0m\u001b[0;34m\u001b[0m\u001b[0m\n\u001b[1;32m   1125\u001b[0m         \u001b[0;31m#random.sample(objs,i_max) if i_max else objs,\u001b[0m\u001b[0;34m\u001b[0m\u001b[0;34m\u001b[0m\u001b[0;34m\u001b[0m\u001b[0m\n\u001b[0;32m-> 1126\u001b[0;31m         \u001b[0mobjs\u001b[0m\u001b[0;34m[\u001b[0m\u001b[0;34m-\u001b[0m\u001b[0mi_max\u001b[0m\u001b[0;34m:\u001b[0m\u001b[0;34m]\u001b[0m\u001b[0;34m,\u001b[0m\u001b[0;34m\u001b[0m\u001b[0;34m\u001b[0m\u001b[0m\n\u001b[0m\u001b[1;32m   1127\u001b[0m         kwargs=dict(\n\u001b[1;32m   1128\u001b[0m             \u001b[0mshow_plot\u001b[0m\u001b[0;34m=\u001b[0m\u001b[0;32mFalse\u001b[0m\u001b[0;34m,\u001b[0m\u001b[0;34m\u001b[0m\u001b[0;34m\u001b[0m\u001b[0m\n",
      "\u001b[0;31mTypeError\u001b[0m: bad operand type for unary -: 'NoneType'"
     ]
    }
   ],
   "source": [
    "# Save force network\n",
    "if SAVE_FORCE: \n",
    "    vid_fn_force,vid_force=save_nets(\n",
    "        URL,\n",
    "        name=NAME,\n",
    "        pos_by='force',\n",
    "        odir=f'figures/charnet.{NAME}.force.{VNUM}',\n",
    "        \n",
    "        ## Config opts\n",
    "        i_max=I_MAX,       # limit to n interactions\n",
    "        iterations=10000,  # num iterations of force layout\n",
    "        repos=False,       # reposition each step\n",
    "        range_fac=0.1,     # bigger for more zoom-out      \n",
    "        **plot_opts\n",
    "    )\n",
    "    display(vid_force)"
   ]
  },
  {
   "cell_type": "code",
   "execution_count": null,
   "metadata": {},
   "outputs": [],
   "source": [
    "# Save geographical\n",
    "if SAVE_GEO:\n",
    "    vid_fn_geo,vid_geo = save_nets(\n",
    "        URL,\n",
    "        name=NAME,\n",
    "        pos_by='geo',\n",
    "        odir=f'figures/charnet.{NAME}.geo.{VNUM}',\n",
    "        \n",
    "        ## Config opts\n",
    "        i_max=I_MAX,       # limit to n interactions\n",
    "        iterations=0,      # num iterations of force layout: not recommended\n",
    "        repos=True,        # reposition each step\n",
    "        fudge_fac=0.1,     # fudge factor: random distance between chars on map\n",
    "        rescale=False,     # rescale map every `rescale_memory` steps\n",
    "        rescale_memory=45, # number of steps until rescale\n",
    "        range_fac=0.1,     # bigger for more zoom-out\n",
    "        **plot_opts\n",
    "    )\n",
    "    display(vid_geo)"
   ]
  },
  {
   "cell_type": "code",
   "execution_count": null,
   "metadata": {},
   "outputs": [],
   "source": [
    "# Make combo image\n",
    "if SAVE_GEO and SAVE_FORCE:\n",
    "    vid_fn_combo, vid_combo = save_combo(\n",
    "        idir_left=f'figures/charnet.{NAME}.geo.{VNUM}',\n",
    "        idir_right=f'figures/charnet.{NAME}.force.{VNUM}',\n",
    "        odir=f'figures/charnet.{NAME}.combo.{VNUM}',\n",
    "    )\n",
    "    display(vid_combo)"
   ]
  },
  {
   "cell_type": "code",
   "execution_count": null,
   "metadata": {},
   "outputs": [],
   "source": []
  }
 ],
 "metadata": {
  "kernelspec": {
   "display_name": "Python 3",
   "language": "python",
   "name": "python3"
  },
  "language_info": {
   "codemirror_mode": {
    "name": "ipython",
    "version": 3
   },
   "file_extension": ".py",
   "mimetype": "text/x-python",
   "name": "python",
   "nbconvert_exporter": "python",
   "pygments_lexer": "ipython3",
   "version": "3.7.7"
  },
  "widgets": {
   "application/vnd.jupyter.widget-state+json": {
    "state": {},
    "version_major": 2,
    "version_minor": 0
   }
  }
 },
 "nbformat": 4,
 "nbformat_minor": 4
}
