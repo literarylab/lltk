{
 "cells": [
  {
   "cell_type": "markdown",
   "metadata": {},
   "source": [
    "# (3C) Files and strings\n",
    "\n",
    "In this notebook we'll focus on 'strings' and how to do things with them, like find and count instances of a word. At the very end, we'll learn how to open a text file and read it to a string. Text files are just big strings, so text mining always begins with string processing.\n",
    "\n",
    "*This notebook began as an adaption of this [strings tutorial by Jerry Pusinen](https://jerry-git.github.io/learn-python3/notebooks/beginner/html/strings.html).*"
   ]
  },
  {
   "cell_type": "markdown",
   "metadata": {},
   "source": [
    "## String slicing\n",
    "\n",
    "We just looked at some of the methods strings have. There's one more major functionality of strings: slicing.\n",
    "\n",
    "'Slicing' refers to slicing off a specific piece of the string.\n",
    "\n",
    "This is all coordinated through two brackets at the end of a string:\n",
    "\n",
    "    my_string[a:b]\n",
    "    \n",
    "    a = number of characters/letters into my_string to start at\n",
    "    b = number of characters/letters into my_string to end at\n",
    "    \n",
    "For instance...\n",
    "\n",
    "### Slice off the beginning of strings\n",
    "\n",
    "To get the first N characters:\n",
    "\n",
    "    my_string[:N]"
   ]
  },
  {
   "cell_type": "code",
   "execution_count": 3,
   "metadata": {},
   "outputs": [],
   "source": [
    "alphabet = 'abcdefghijklmnopqrstuvwxyz'"
   ]
  },
  {
   "cell_type": "markdown",
   "metadata": {},
   "source": [
    "Each letter of the alphabet string has an index:\n",
    "\n",
    "    a   b   c   d   e   f   g   h   i   j   k   l   m   n   o   p   q   r   s   t   u   v   w   x   y   z\n",
    "    |   |   |   |   |   |   |   |   |   |   |   |   |   |   |   |   |   |   |   |   |   |   |   |   |   |\n",
    "    0   1   2   3   4   5   6   7   8   9  10  11  12  13  14  15  16  17  18  19  20  21  22  23  24  25"
   ]
  },
  {
   "cell_type": "code",
   "execution_count": 4,
   "metadata": {},
   "outputs": [
    {
     "data": {
      "text/plain": [
       "'abc'"
      ]
     },
     "execution_count": 4,
     "metadata": {},
     "output_type": "execute_result"
    }
   ],
   "source": [
    "# first three letters\n",
    "\n",
    "alphabet[0:3]     # means: starting at 0, and including everything until 3, which is not included\n",
    "                  # or:    the first 3 letters"
   ]
  },
  {
   "cell_type": "code",
   "execution_count": 5,
   "metadata": {},
   "outputs": [
    {
     "data": {
      "text/plain": [
       "'abcdefghij'"
      ]
     },
     "execution_count": 5,
     "metadata": {},
     "output_type": "execute_result"
    }
   ],
   "source": [
    "# first 10 letters\n",
    "alphabet[0:10]"
   ]
  },
  {
   "cell_type": "code",
   "execution_count": 6,
   "metadata": {},
   "outputs": [
    {
     "data": {
      "text/plain": [
       "'abcdefghij'"
      ]
     },
     "execution_count": 6,
     "metadata": {},
     "output_type": "execute_result"
    }
   ],
   "source": [
    "alphabet[:10]          # also works"
   ]
  },
  {
   "cell_type": "code",
   "execution_count": 7,
   "metadata": {},
   "outputs": [
    {
     "data": {
      "text/plain": [
       "'William'"
      ]
     },
     "execution_count": 7,
     "metadata": {},
     "output_type": "execute_result"
    }
   ],
   "source": [
    "# @TODO: slice 'William' away from 'William Shakespeare'\n",
    "\n",
    "bardname='William Shakespeare'\n",
    "\n",
    "bardname[:7]"
   ]
  },
  {
   "cell_type": "code",
   "execution_count": 8,
   "metadata": {},
   "outputs": [
    {
     "data": {
      "text/plain": [
       "'Ryan'"
      ]
     },
     "execution_count": 8,
     "metadata": {},
     "output_type": "execute_result"
    }
   ],
   "source": [
    "# @TODO: slice off your own first name\n",
    "\n",
    "fullname='Ryan Heuser'\n",
    "\n",
    "fullname[0:4]"
   ]
  },
  {
   "cell_type": "markdown",
   "metadata": {},
   "source": [
    "### Slice off the ends of strings"
   ]
  },
  {
   "cell_type": "markdown",
   "metadata": {},
   "source": [
    "The alphabet indices in reverse\n",
    "\n",
    "    a   b   c   d   e   f   g   h   i   j   k   l   m   n   o   p   q   r   s   t   u   v   w   x   y   z\n",
    "    |   |   |   |   |   |   |   |   |   |   |   |   |   |   |   |   |   |   |   |   |   |   |   |   |   |\n",
    "    -26 -25 -24 -23 -22 -21 -20 -19 -18 -17 -16 -15 -14 -13 -12 -11 -10 -9  -8  -7  -6  -5  -4  -3  -2  -1"
   ]
  },
  {
   "cell_type": "code",
   "execution_count": 13,
   "metadata": {},
   "outputs": [
    {
     "data": {
      "text/plain": [
       "'xyz'"
      ]
     },
     "execution_count": 13,
     "metadata": {},
     "output_type": "execute_result"
    }
   ],
   "source": [
    "# last 3 letters\n",
    "alphabet[-3:]  "
   ]
  },
  {
   "cell_type": "code",
   "execution_count": 14,
   "metadata": {},
   "outputs": [
    {
     "data": {
      "text/plain": [
       "'qrstuvwxyz'"
      ]
     },
     "execution_count": 14,
     "metadata": {},
     "output_type": "execute_result"
    }
   ],
   "source": [
    "# last 10 letters\n",
    "alphabet[-10:]"
   ]
  },
  {
   "cell_type": "code",
   "execution_count": 15,
   "metadata": {},
   "outputs": [
    {
     "data": {
      "text/plain": [
       "'Shakespeare'"
      ]
     },
     "execution_count": 15,
     "metadata": {},
     "output_type": "execute_result"
    }
   ],
   "source": [
    "# @TODO slice 'Shakespeare' from 'William Shakespeare'\n",
    "\n",
    "bardname[-11:]"
   ]
  },
  {
   "cell_type": "code",
   "execution_count": 16,
   "metadata": {},
   "outputs": [
    {
     "data": {
      "text/plain": [
       "'Heuser'"
      ]
     },
     "execution_count": 16,
     "metadata": {},
     "output_type": "execute_result"
    }
   ],
   "source": [
    "# @TODO slice off your last name\n",
    "\n",
    "fullname[-6:]"
   ]
  },
  {
   "cell_type": "markdown",
   "metadata": {},
   "source": [
    "### Slice the middles of strings"
   ]
  },
  {
   "cell_type": "markdown",
   "metadata": {},
   "source": [
    "    a   b   c   d   e   f   g   h   i   j   k   l   m   n   o   p   q   r   s   t   u   v   w   x   y   z\n",
    "    |   |   |   |   |   |   |   |   |   |   |   |   |   |   |   |   |   |   |   |   |   |   |   |   |   |\n",
    "    0   1   2   3   4   5   6   7   8   9  10  11  12  13  14  15  16  17  18  19  20  21  22  23  24  25"
   ]
  },
  {
   "cell_type": "code",
   "execution_count": 17,
   "metadata": {},
   "outputs": [
    {
     "data": {
      "text/plain": [
       "'abc'"
      ]
     },
     "execution_count": 17,
     "metadata": {},
     "output_type": "execute_result"
    }
   ],
   "source": [
    "# the first three\n",
    "alphabet[0:3]"
   ]
  },
  {
   "cell_type": "code",
   "execution_count": 18,
   "metadata": {},
   "outputs": [
    {
     "data": {
      "text/plain": [
       "'defg'"
      ]
     },
     "execution_count": 18,
     "metadata": {},
     "output_type": "execute_result"
    }
   ],
   "source": [
    "# the next four letters \n",
    "alphabet[3:7]"
   ]
  },
  {
   "cell_type": "code",
   "execution_count": 19,
   "metadata": {},
   "outputs": [
    {
     "data": {
      "text/plain": [
       "'hijk'"
      ]
     },
     "execution_count": 19,
     "metadata": {},
     "output_type": "execute_result"
    }
   ],
   "source": [
    "# the next four\n",
    "alphabet[7:11]"
   ]
  },
  {
   "cell_type": "code",
   "execution_count": 20,
   "metadata": {},
   "outputs": [
    {
     "data": {
      "text/plain": [
       "'lmnop'"
      ]
     },
     "execution_count": 20,
     "metadata": {},
     "output_type": "execute_result"
    }
   ],
   "source": [
    "# the next five\n",
    "alphabet[11:16]"
   ]
  },
  {
   "cell_type": "code",
   "execution_count": 22,
   "metadata": {},
   "outputs": [
    {
     "data": {
      "text/plain": [
       "'defghijklmnopqrstuvw'"
      ]
     },
     "execution_count": 22,
     "metadata": {},
     "output_type": "execute_result"
    }
   ],
   "source": [
    "# everything but the first three and the last three\n",
    "alphabet[3:-3]"
   ]
  },
  {
   "cell_type": "code",
   "execution_count": 24,
   "metadata": {},
   "outputs": [
    {
     "name": "stdout",
     "output_type": "stream",
     "text": [
      "Hello,\n"
     ]
    }
   ],
   "source": [
    "word='Hello,'\n",
    "\n",
    "print(word)"
   ]
  },
  {
   "cell_type": "code",
   "execution_count": 25,
   "metadata": {},
   "outputs": [
    {
     "data": {
      "text/plain": [
       "'Hello'"
      ]
     },
     "execution_count": 25,
     "metadata": {},
     "output_type": "execute_result"
    }
   ],
   "source": [
    "word[:-1]"
   ]
  },
  {
   "cell_type": "code",
   "execution_count": null,
   "metadata": {},
   "outputs": [],
   "source": [
    "# @TODO: Slice Shakespeare's name so that you see only\n",
    "# the last two letters of his first name ('am') and the first two letters of his last name ('Sh')\n",
    "\n"
   ]
  },
  {
   "cell_type": "code",
   "execution_count": null,
   "metadata": {},
   "outputs": [],
   "source": [
    "# @TODO: Slice the middle of your own name in the same away as just above:\n",
    "\n"
   ]
  },
  {
   "cell_type": "code",
   "execution_count": null,
   "metadata": {},
   "outputs": [],
   "source": [
    "# @TODO: Slice away everything but the first and last letters of your name\n",
    "\n"
   ]
  },
  {
   "cell_type": "markdown",
   "metadata": {},
   "source": [
    "### Get the length of strings\n",
    "\n",
    "Use the built-in function `len` to get the length (character count) of a string."
   ]
  },
  {
   "cell_type": "code",
   "execution_count": 27,
   "metadata": {},
   "outputs": [
    {
     "data": {
      "text/plain": [
       "23"
      ]
     },
     "execution_count": 27,
     "metadata": {},
     "output_type": "execute_result"
    }
   ],
   "source": [
    "len('Is this tweet too long?')"
   ]
  },
  {
   "cell_type": "code",
   "execution_count": 28,
   "metadata": {},
   "outputs": [
    {
     "data": {
      "text/plain": [
       "26"
      ]
     },
     "execution_count": 28,
     "metadata": {},
     "output_type": "execute_result"
    }
   ],
   "source": [
    "len(alphabet)"
   ]
  },
  {
   "cell_type": "code",
   "execution_count": 33,
   "metadata": {},
   "outputs": [
    {
     "data": {
      "text/plain": [
       "271"
      ]
     },
     "execution_count": 33,
     "metadata": {},
     "output_type": "execute_result"
    }
   ],
   "source": [
    "##\n",
    "# @TODO: Pare this string down to fit into a tweet (280 chars) \n",
    "#\n",
    "lorem = \"\"\"Lorem ipsum dolor sit amet, consectetur adipiscing elit, sed do eiusmod\n",
    "tempor incididunt ut labore et dolore magna aliqua. Ut enim ad minim\n",
    "veniam, quis nostrud exercitation ullamco laboris nisi ut aliquip ex ea\n",
    "commodo consequat. Duis aute irure dolor in reprehenderit \"\"\"\n",
    "\n",
    "len(lorem)"
   ]
  },
  {
   "cell_type": "markdown",
   "metadata": {},
   "source": []
  },
  {
   "cell_type": "markdown",
   "metadata": {},
   "source": [
    "## String methods\n",
    "\n",
    "So far we've seen a few things strings can do. They can be 'added' to each other. They can be sliced."
   ]
  },
  {
   "cell_type": "markdown",
   "metadata": {},
   "source": [
    "But strings can do many more things using its **methods**.\n",
    "\n",
    "A method is something an object can do. If my dog is a Python object, things he might be able to do are 'sit', 'stay', 'walk'. Here's some pseudo-code:\n",
    "\n",
    "    my_dog.sit()\n",
    "    my_dog.stay()\n",
    "    my_dog.walk()\n",
    "\n",
    "In other words, a method is activated by this general formula:\n",
    "\n",
    "    object.method()\n",
    "\n",
    "For strings specifically, certain methods do very useful things."
   ]
  },
  {
   "cell_type": "markdown",
   "metadata": {},
   "source": [
    "### `str.upper(), str.lower(), str.title()`\n",
    "\n",
    "These three methods let you change the capitalization of the string you have."
   ]
  },
  {
   "cell_type": "code",
   "execution_count": 34,
   "metadata": {},
   "outputs": [],
   "source": [
    "mixed_case = 'PyTHoN hackER'"
   ]
  },
  {
   "cell_type": "code",
   "execution_count": 35,
   "metadata": {},
   "outputs": [
    {
     "data": {
      "text/plain": [
       "'PYTHON HACKER'"
      ]
     },
     "execution_count": 35,
     "metadata": {},
     "output_type": "execute_result"
    }
   ],
   "source": [
    "mixed_case.upper()"
   ]
  },
  {
   "cell_type": "code",
   "execution_count": 36,
   "metadata": {},
   "outputs": [
    {
     "data": {
      "text/plain": [
       "'python hacker'"
      ]
     },
     "execution_count": 36,
     "metadata": {},
     "output_type": "execute_result"
    }
   ],
   "source": [
    "mixed_case.lower()"
   ]
  },
  {
   "cell_type": "code",
   "execution_count": 37,
   "metadata": {},
   "outputs": [
    {
     "data": {
      "text/plain": [
       "'Python Hacker'"
      ]
     },
     "execution_count": 37,
     "metadata": {},
     "output_type": "execute_result"
    }
   ],
   "source": [
    "mixed_case.title()"
   ]
  },
  {
   "cell_type": "code",
   "execution_count": 39,
   "metadata": {},
   "outputs": [
    {
     "name": "stdout",
     "output_type": "stream",
     "text": [
      "The\n",
      "LIFE\n",
      "and\n",
      "Strange Surprising\n",
      "ADVENTURES\n",
      "of\n",
      "ROBINSON CRUSOE\n",
      "Of York, Mariner\n"
     ]
    }
   ],
   "source": [
    "# @TODO: Recreate the following title page with its correct captialization using the variable names.\n",
    "\"\"\"\n",
    "The\n",
    "LIFE\n",
    "and\n",
    "Strange Surprising\n",
    "ADVENTURES\n",
    "of\n",
    "ROBINSON CRUSOE\n",
    "Of York, Mariner\n",
    "\"\"\"\n",
    "\n",
    "line1='the'\n",
    "line2='life'\n",
    "line3='AND'\n",
    "line4='strange surprising'\n",
    "line5='adventures'\n",
    "line6='OF'\n",
    "line7='robinson crusoe'\n",
    "line8='of york, mariner'\n",
    "\n",
    "print(line1.title())\n",
    "print(line2.upper())\n",
    "print(line3.lower())\n",
    "print(line4.title())\n",
    "print(line5.upper())\n",
    "print(line6.lower())\n",
    "print(line7.upper())\n",
    "print(line8.title())\n",
    "# .... Print the other lines using the appropriate string method"
   ]
  },
  {
   "cell_type": "code",
   "execution_count": 44,
   "metadata": {},
   "outputs": [
    {
     "name": "stdout",
     "output_type": "stream",
     "text": [
      "Help on method_descriptor:\n",
      "\n",
      "title(...)\n",
      "    S.title() -> str\n",
      "    \n",
      "    Return a titlecased version of S, i.e. words start with title case\n",
      "    characters, all remaining cased characters have lower case.\n",
      "\n"
     ]
    }
   ],
   "source": [
    "# Remember you can always check the help for a string method like this:\n",
    "help(str.title)"
   ]
  },
  {
   "cell_type": "markdown",
   "metadata": {},
   "source": [
    "### `str.replace()`\n",
    "\n",
    "A lot of the time we need to replace something inside a string with something else.\n",
    "\n",
    "#### Fixed That For You #1"
   ]
  },
  {
   "cell_type": "code",
   "execution_count": 52,
   "metadata": {},
   "outputs": [],
   "source": [
    "corporation = 'Dunkin Donuts'"
   ]
  },
  {
   "cell_type": "code",
   "execution_count": 53,
   "metadata": {},
   "outputs": [],
   "source": [
    "x='Dunkin'\n",
    "y='Capitalist'"
   ]
  },
  {
   "cell_type": "code",
   "execution_count": 54,
   "metadata": {},
   "outputs": [
    {
     "data": {
      "text/plain": [
       "'Capitalist Donuts'"
      ]
     },
     "execution_count": 54,
     "metadata": {},
     "output_type": "execute_result"
    }
   ],
   "source": [
    "corporation.replace(x,y)"
   ]
  },
  {
   "cell_type": "code",
   "execution_count": 48,
   "metadata": {},
   "outputs": [
    {
     "data": {
      "text/plain": [
       "'Dunkin Donuts'"
      ]
     },
     "execution_count": 48,
     "metadata": {},
     "output_type": "execute_result"
    }
   ],
   "source": [
    "# This did not overwrite 'corporation'!\n",
    "\n",
    "corporation"
   ]
  },
  {
   "cell_type": "code",
   "execution_count": 57,
   "metadata": {},
   "outputs": [],
   "source": [
    "# To do that, we need to re-assign corporation\n",
    "\n",
    "corporation = corporation.replace(x,y)"
   ]
  },
  {
   "cell_type": "code",
   "execution_count": 58,
   "metadata": {},
   "outputs": [
    {
     "data": {
      "text/plain": [
       "'Capitalist Donuts'"
      ]
     },
     "execution_count": 58,
     "metadata": {},
     "output_type": "execute_result"
    }
   ],
   "source": [
    "corporation"
   ]
  },
  {
   "cell_type": "markdown",
   "metadata": {},
   "source": [
    "#### Fixed That For You #2"
   ]
  },
  {
   "cell_type": "code",
   "execution_count": 59,
   "metadata": {},
   "outputs": [],
   "source": [
    "heteronormative = 'men like women, women like men'"
   ]
  },
  {
   "cell_type": "code",
   "execution_count": 61,
   "metadata": {},
   "outputs": [
    {
     "data": {
      "text/plain": [
       "'men like people, people like men'"
      ]
     },
     "execution_count": 61,
     "metadata": {},
     "output_type": "execute_result"
    }
   ],
   "source": [
    "heteronormative.replace('women','people')"
   ]
  },
  {
   "cell_type": "code",
   "execution_count": 62,
   "metadata": {},
   "outputs": [
    {
     "data": {
      "text/plain": [
       "'people like wopeople, wopeople like people'"
      ]
     },
     "execution_count": 62,
     "metadata": {},
     "output_type": "execute_result"
    }
   ],
   "source": [
    "heteronormative.replace('men','people')"
   ]
  },
  {
   "cell_type": "code",
   "execution_count": 63,
   "metadata": {},
   "outputs": [
    {
     "data": {
      "text/plain": [
       "'people like people, people like people'"
      ]
     },
     "execution_count": 63,
     "metadata": {},
     "output_type": "execute_result"
    }
   ],
   "source": [
    "heteronormative.replace('women','people').replace('men','people')"
   ]
  },
  {
   "cell_type": "code",
   "execution_count": 64,
   "metadata": {},
   "outputs": [
    {
     "data": {
      "text/plain": [
       "'men like women, women like men'"
      ]
     },
     "execution_count": 64,
     "metadata": {},
     "output_type": "execute_result"
    }
   ],
   "source": [
    "# This did not overwrite heteronormative!\n",
    "\n",
    "heteronormative"
   ]
  },
  {
   "cell_type": "code",
   "execution_count": 65,
   "metadata": {},
   "outputs": [],
   "source": [
    "# We can overwrite one at a time\n",
    "\n",
    "heteronormative = heteronormative.replace('women','people')"
   ]
  },
  {
   "cell_type": "code",
   "execution_count": 66,
   "metadata": {},
   "outputs": [
    {
     "data": {
      "text/plain": [
       "'men like people, people like men'"
      ]
     },
     "execution_count": 66,
     "metadata": {},
     "output_type": "execute_result"
    }
   ],
   "source": [
    "heteronormative"
   ]
  },
  {
   "cell_type": "code",
   "execution_count": 67,
   "metadata": {},
   "outputs": [],
   "source": [
    "heteronormative = heteronormative.replace('men','people')"
   ]
  },
  {
   "cell_type": "code",
   "execution_count": 68,
   "metadata": {},
   "outputs": [
    {
     "data": {
      "text/plain": [
       "'people like people, people like people'"
      ]
     },
     "execution_count": 68,
     "metadata": {},
     "output_type": "execute_result"
    }
   ],
   "source": [
    "heteronormative"
   ]
  },
  {
   "cell_type": "markdown",
   "metadata": {},
   "source": [
    "#### Fixed That For You #3"
   ]
  },
  {
   "cell_type": "code",
   "execution_count": 73,
   "metadata": {},
   "outputs": [
    {
     "data": {
      "text/plain": [
       "'You saw your doctor? What did they say? And the nurse? What did they say?'"
      ]
     },
     "execution_count": 73,
     "metadata": {},
     "output_type": "execute_result"
    }
   ],
   "source": [
    "#@TODO: Rid this string of its gendered assumptions (use 'they', 'them', and 'person' as neutral pro/nouns).\n",
    "\n",
    "gendered = 'You saw your doctor? What did he say? And the nurse? What did she say?'\n",
    "\n",
    "gendered.replace('she','they').replace(' he',' they')"
   ]
  },
  {
   "cell_type": "markdown",
   "metadata": {},
   "source": [
    "### `str.strip()`\n",
    "\n",
    "Sometimes we need to clean strings up and remove the whitespace they have surrounding them."
   ]
  },
  {
   "cell_type": "code",
   "execution_count": 78,
   "metadata": {},
   "outputs": [],
   "source": [
    "overpadded = \"\"\"\n",
    "\n",
    "\n",
    "                                  Chapeter 1\n",
    "                                  \n",
    "                                  \n",
    "                                  The night was young\n",
    "                                  \n",
    "                                  \n",
    "                                  \n",
    "                                  \n",
    "                                  \n",
    "                                  \n",
    "                                  \n",
    "\n",
    "\"\"\""
   ]
  },
  {
   "cell_type": "code",
   "execution_count": 79,
   "metadata": {},
   "outputs": [
    {
     "name": "stdout",
     "output_type": "stream",
     "text": [
      "\n",
      "\n",
      "\n",
      "                                  Chapeter 1\n",
      "                                  \n",
      "                                  \n",
      "                                  The night was young\n",
      "                                  \n",
      "                                  \n",
      "                                  \n",
      "                                  \n",
      "                                  \n",
      "                                  \n",
      "                                  \n",
      "\n",
      "\n"
     ]
    }
   ],
   "source": [
    "print(overpadded)"
   ]
  },
  {
   "cell_type": "code",
   "execution_count": 80,
   "metadata": {},
   "outputs": [
    {
     "data": {
      "text/plain": [
       "'\\n\\n\\n                                  Chapeter 1\\n                                  \\n                                  \\n                                  The night was young\\n                                  \\n                                  \\n                                  \\n                                  \\n                                  \\n                                  \\n                                  \\n\\n'"
      ]
     },
     "execution_count": 80,
     "metadata": {},
     "output_type": "execute_result"
    }
   ],
   "source": [
    "overpadded"
   ]
  },
  {
   "cell_type": "code",
   "execution_count": 81,
   "metadata": {},
   "outputs": [
    {
     "data": {
      "text/plain": [
       "'Chapeter 1\\n                                  \\n                                  \\n                                  The night was young'"
      ]
     },
     "execution_count": 81,
     "metadata": {},
     "output_type": "execute_result"
    }
   ],
   "source": [
    "overpadded.strip()"
   ]
  },
  {
   "cell_type": "markdown",
   "metadata": {},
   "source": [
    "### `str.count()`\n",
    "\n",
    "How many strings are inside another string?"
   ]
  },
  {
   "cell_type": "code",
   "execution_count": 96,
   "metadata": {},
   "outputs": [],
   "source": [
    "rafaela = \"\"\"I wish either my father or my mother, or indeed both of them, as they\n",
    "were in duty both equally bound to it, had minded what they were about\n",
    "when they begot me; had they duly consider'd how much depended upon what\n",
    "they were then doing;--that not only the production of a rational\n",
    "Being was concerned in it, but that possibly the happy formation and\n",
    "temperature of his body, perhaps his genius and the very cast of his\n",
    "mind;--and, for aught they knew to the contrary, even the fortunes of\n",
    "his whole house might take their turn from the humours and dispositions\n",
    "which were then uppermost;--Had they duly weighed and considered all\n",
    "this, and proceeded accordingly,--I am verily persuaded I should have\n",
    "made a quite different figure in the world, from that in which the\n",
    "reader is likely to see me.--Believe me, good folks, this is not so\n",
    "inconsiderable a thing as many of you may think it;--you have all, I\n",
    "dare say, heard of the animal spirits, as how they are transfused from\n",
    "father to son, &c. &c.--and a great deal to that purpose:--Well, you may\n",
    "take my word, that nine parts in ten of a man's sense or his nonsense,\n",
    "his successes and miscarriages in this world depend upon their motions\n",
    "and activity, and the different tracks and trains you put them into, so\n",
    "that when they are once set a-going, whether right or wrong, 'tis not\n",
    "a half-penny matter,--away they go cluttering like hey-go mad; and by\n",
    "treading the same steps over and over again, they presently make a road\n",
    "of it, as plain and as smooth as a garden-walk, which, when they are\n",
    "once used to, the Devil himself sometimes shall not be able to drive\n",
    "them off it.\"\"\""
   ]
  },
  {
   "cell_type": "code",
   "execution_count": 97,
   "metadata": {},
   "outputs": [],
   "source": [
    "rafaela=rafaela.replace('  ',' ')"
   ]
  },
  {
   "cell_type": "code",
   "execution_count": 98,
   "metadata": {},
   "outputs": [
    {
     "data": {
      "text/plain": [
       "0"
      ]
     },
     "execution_count": 98,
     "metadata": {},
     "output_type": "execute_result"
    }
   ],
   "source": [
    "# How many crabs?\n",
    "rafaela.count('crab')"
   ]
  },
  {
   "cell_type": "code",
   "execution_count": 99,
   "metadata": {},
   "outputs": [
    {
     "name": "stdout",
     "output_type": "stream",
     "text": [
      "0 0 0 0\n"
     ]
    }
   ],
   "source": [
    "# How many of these animals respectively?\n",
    "print(rafaela.count('iguana'),rafaela.count('scorpion'),rafaela.count('snake'),rafaela.count('parakeet'))"
   ]
  },
  {
   "cell_type": "code",
   "execution_count": 100,
   "metadata": {},
   "outputs": [
    {
     "data": {
      "text/plain": [
       "0"
      ]
     },
     "execution_count": 100,
     "metadata": {},
     "output_type": "execute_result"
    }
   ],
   "source": [
    "# How many hummingbirds?\n",
    "rafaela.count('hummingbird')"
   ]
  },
  {
   "cell_type": "code",
   "execution_count": 101,
   "metadata": {},
   "outputs": [
    {
     "data": {
      "text/plain": [
       "0"
      ]
     },
     "execution_count": 101,
     "metadata": {},
     "output_type": "execute_result"
    }
   ],
   "source": [
    "# How come!?\n",
    "# Look: it's capitalized in text. \"Hummingbirds\"!\n",
    "# So...\n",
    "\n",
    "# @TODO how do we fix this?\n",
    "\n",
    "rafaela_l = rafaela.lower()\n",
    "\n",
    "rafaela_l.count('hummingbird')"
   ]
  },
  {
   "cell_type": "code",
   "execution_count": 112,
   "metadata": {},
   "outputs": [
    {
     "data": {
      "text/plain": [
       "29"
      ]
     },
     "execution_count": 112,
     "metadata": {},
     "output_type": "execute_result"
    }
   ],
   "source": [
    "##\n",
    "# Getting some stats\n",
    "##\n",
    "\n",
    "num_commas = rafaela.count(',')\n",
    "num_commas"
   ]
  },
  {
   "cell_type": "code",
   "execution_count": 113,
   "metadata": {},
   "outputs": [
    {
     "data": {
      "text/plain": [
       "4"
      ]
     },
     "execution_count": 113,
     "metadata": {},
     "output_type": "execute_result"
    }
   ],
   "source": [
    "num_sents = rafaela.count('.') + rafaela.count('?') + rafaela.count('!')\n",
    "num_sents"
   ]
  },
  {
   "cell_type": "code",
   "execution_count": 114,
   "metadata": {},
   "outputs": [
    {
     "data": {
      "text/plain": [
       "269"
      ]
     },
     "execution_count": 114,
     "metadata": {},
     "output_type": "execute_result"
    }
   ],
   "source": [
    "num_words = rafaela.strip().count(' ')\n",
    "num_words"
   ]
  },
  {
   "cell_type": "code",
   "execution_count": 115,
   "metadata": {},
   "outputs": [
    {
     "data": {
      "text/plain": [
       "0"
      ]
     },
     "execution_count": 115,
     "metadata": {},
     "output_type": "execute_result"
    }
   ],
   "source": [
    "num_quots = rafaela.count('\"')\n",
    "num_quots"
   ]
  },
  {
   "cell_type": "code",
   "execution_count": 116,
   "metadata": {},
   "outputs": [
    {
     "data": {
      "text/plain": [
       "67.25"
      ]
     },
     "execution_count": 116,
     "metadata": {},
     "output_type": "execute_result"
    }
   ],
   "source": [
    "# Words per sentence\n",
    "wps = num_words/num_sents\n",
    "wps"
   ]
  },
  {
   "cell_type": "code",
   "execution_count": 125,
   "metadata": {},
   "outputs": [
    {
     "data": {
      "text/plain": [
       "7.25"
      ]
     },
     "execution_count": 125,
     "metadata": {},
     "output_type": "execute_result"
    }
   ],
   "source": [
    "# Commas per sentence\n",
    "cps = num_commas/num_sents\n",
    "cps"
   ]
  },
  {
   "cell_type": "code",
   "execution_count": 126,
   "metadata": {},
   "outputs": [],
   "source": [
    "bobby = \"\"\"\n",
    "THEY order, said I, this matter better in France.—You have been in\n",
    "France? said my gentleman, turning quick upon me, with the most civil\n",
    "triumph in the world.—Strange! quoth I, debating the matter with myself,\n",
    "That one and twenty miles sailing, for ’tis absolutely no further from\n",
    "Dover to Calais, should give a man these rights:—I’ll look into them: so,\n",
    "giving up the argument,—I went straight to my lodgings, put up half a\n",
    "dozen shirts and a black pair of silk breeches,—“the coat I have on,”\n",
    "said I, looking at the sleeve, “will do;”—took a place in the Dover\n",
    "stage; and the packet sailing at nine the next morning,—by three I had\n",
    "got sat down to my dinner upon a fricaseed chicken, so incontestably in\n",
    "France, that had I died that night of an indigestion, the whole world\n",
    "could not have suspended the effects of the _droits d’aubaine_; {557}—my\n",
    "shirts, and black pair of silk breeches,—portmanteau and all, must have\n",
    "gone to the King of France;—even the little picture which I have so long\n",
    "worn, and so often have told thee, Eliza, I would carry with me into my\n",
    "grave, would have been torn from my neck!—Ungenerous! to seize upon the\n",
    "wreck of an unwary passenger, whom your subjects had beckoned to their\n",
    "coast!—By heaven! Sire, it is not well done; and much does it grieve me,\n",
    "’tis the monarch of a people so civilized and courteous, and so renowned\n",
    "for sentiment and fine feelings, that I have to reason with!—\n",
    "\"\"\""
   ]
  },
  {
   "cell_type": "code",
   "execution_count": 127,
   "metadata": {},
   "outputs": [
    {
     "data": {
      "text/plain": [
       "9"
      ]
     },
     "execution_count": 127,
     "metadata": {},
     "output_type": "execute_result"
    }
   ],
   "source": [
    "num_sents_bobby = bobby.count('.') + bobby.count('!') + bobby.count('?')\n",
    "num_sents_bobby"
   ]
  },
  {
   "cell_type": "code",
   "execution_count": 128,
   "metadata": {},
   "outputs": [
    {
     "data": {
      "text/plain": [
       "31"
      ]
     },
     "execution_count": 128,
     "metadata": {},
     "output_type": "execute_result"
    }
   ],
   "source": [
    "num_commas_bobby = bobby.count(',')\n",
    "num_commas_bobby"
   ]
  },
  {
   "cell_type": "code",
   "execution_count": 129,
   "metadata": {},
   "outputs": [
    {
     "data": {
      "text/plain": [
       "231"
      ]
     },
     "execution_count": 129,
     "metadata": {},
     "output_type": "execute_result"
    }
   ],
   "source": [
    "num_words_bobby = bobby.strip().count(' ')\n",
    "num_words_bobby"
   ]
  },
  {
   "cell_type": "code",
   "execution_count": 130,
   "metadata": {},
   "outputs": [
    {
     "data": {
      "text/plain": [
       "25.666666666666668"
      ]
     },
     "execution_count": 130,
     "metadata": {},
     "output_type": "execute_result"
    }
   ],
   "source": [
    "# Words per sent\n",
    "wps_bobby = num_words_bobby / num_sents_bobby\n",
    "wps_bobby"
   ]
  },
  {
   "cell_type": "code",
   "execution_count": 131,
   "metadata": {},
   "outputs": [
    {
     "data": {
      "text/plain": [
       "3.4444444444444446"
      ]
     },
     "execution_count": 131,
     "metadata": {},
     "output_type": "execute_result"
    }
   ],
   "source": [
    "# Commas per word\n",
    "cps_bobby = num_commas_bobby / num_sents_bobby\n",
    "cps_bobby"
   ]
  },
  {
   "cell_type": "code",
   "execution_count": 132,
   "metadata": {},
   "outputs": [],
   "source": [
    "##\n",
    "# Compare Rafaela and Bobby:\n",
    "##"
   ]
  },
  {
   "cell_type": "code",
   "execution_count": 133,
   "metadata": {},
   "outputs": [
    {
     "name": "stdout",
     "output_type": "stream",
     "text": [
      "\t Rafaela (ch1 pr1) \t Bobby (ch2 pr1)\n",
      "WPS \t 67.25 \t 25.666666666666668\n",
      "CPS \t 7.25 \t 3.4444444444444446\n"
     ]
    }
   ],
   "source": [
    "print ('\\t','Rafaela (ch1 pr1)','\\t','Bobby (ch2 pr1)')\n",
    "print('WPS','\\t',wps,'\\t',wps_bobby)\n",
    "print('CPS','\\t',cps,'\\t',cps_bobby)"
   ]
  },
  {
   "cell_type": "code",
   "execution_count": null,
   "metadata": {},
   "outputs": [],
   "source": [
    "##\n",
    "# @TODO: Run the above statistics on the first paragraph of chapter 3 (Emi)\n",
    "# * find the text file in the jupyter file browser\n",
    "# * click the home button, then corpora > tropic_of_orange > ch3.txt\n",
    "# * copy the first paragraph and create a string for it\n",
    "# * then rerun the procedures above\n",
    "# * and save variables: wps_emi and cps_emi\n",
    "\n"
   ]
  },
  {
   "cell_type": "code",
   "execution_count": null,
   "metadata": {},
   "outputs": [],
   "source": [
    "print ('\\t','Rafaela (ch1 pr1)','\\t','Bobby (ch2 pr1)','\\t','Emi (ch3)')\n",
    "print('WPS','\\t',wps,'\\t',wps_bobby,'\\t',wps_emi)\n",
    "print('CPS','\\t',cps,'\\t',cps_bobby,'\\t',cps_emi)"
   ]
  },
  {
   "cell_type": "markdown",
   "metadata": {},
   "source": [
    "### `str.index(substr)`\n",
    "\n",
    "Find the index of a substring in a string. Useful for Keywords in Context (KWIC).\n",
    "\n",
    "First let's start small."
   ]
  },
  {
   "cell_type": "code",
   "execution_count": null,
   "metadata": {},
   "outputs": [],
   "source": [
    "alphabet.index('j')"
   ]
  },
  {
   "cell_type": "code",
   "execution_count": null,
   "metadata": {},
   "outputs": [],
   "source": [
    "alphabet[9]"
   ]
  },
  {
   "cell_type": "code",
   "execution_count": null,
   "metadata": {},
   "outputs": [],
   "source": [
    "alphabet[9-2:9+3]"
   ]
  },
  {
   "cell_type": "code",
   "execution_count": null,
   "metadata": {},
   "outputs": [],
   "source": [
    "# let's abstract from this\n",
    "\n",
    "index = alphabet.index('j')\n",
    "alphabet[index-2:index+3]"
   ]
  },
  {
   "cell_type": "code",
   "execution_count": null,
   "metadata": {},
   "outputs": [],
   "source": [
    "# let's abstract one more time\n",
    "\n",
    "index = alphabet.index('j')\n",
    "radius = 2\n",
    "alphabet[index-radius:index+radius+1]"
   ]
  },
  {
   "cell_type": "markdown",
   "metadata": {},
   "source": [
    "#### Key Words In Context (KWIC)"
   ]
  },
  {
   "cell_type": "code",
   "execution_count": null,
   "metadata": {},
   "outputs": [],
   "source": [
    "index_crab = rafaela.index('crab')\n",
    "index_crab"
   ]
  },
  {
   "cell_type": "code",
   "execution_count": null,
   "metadata": {},
   "outputs": [],
   "source": [
    "radius_r = 200\n",
    "\n",
    "print(rafaela[index_crab-radius_r:index_crab+radius_r+1])"
   ]
  },
  {
   "cell_type": "code",
   "execution_count": null,
   "metadata": {},
   "outputs": [],
   "source": [
    "help(rafaela.index)"
   ]
  },
  {
   "cell_type": "code",
   "execution_count": null,
   "metadata": {},
   "outputs": [],
   "source": [
    "index_crab2=rafaela.index('crab',index_crab+1)\n",
    "index_crab2"
   ]
  },
  {
   "cell_type": "code",
   "execution_count": null,
   "metadata": {},
   "outputs": [],
   "source": [
    "print(rafaela[index_crab2-radius_r:index_crab2+radius_r+1])"
   ]
  },
  {
   "cell_type": "code",
   "execution_count": null,
   "metadata": {},
   "outputs": [],
   "source": [
    "##\n",
    "# @TODO: Find the first and second instances of 'Windex' in bobby's paragraph\n",
    "#\n",
    "\n"
   ]
  },
  {
   "cell_type": "markdown",
   "metadata": {},
   "source": [
    "## Functions\n",
    "\n",
    "We've been repeating ourselves a lot. Let's write what we've written over as a 'function', a little algorithm or recipe which requires certain input and will deliver certain output.\n",
    "\n",
    "The basic format is:\n",
    "\n",
    "```python\n",
    "def function_name(input):\n",
    "    # do things...\n",
    "    return output\n",
    "```\n",
    "\n",
    "Note the **indentation**: throughout Python, indentaiton means \"inside of\" or \"in this context.\""
   ]
  },
  {
   "cell_type": "markdown",
   "metadata": {},
   "source": [
    "### Demo functions"
   ]
  },
  {
   "cell_type": "code",
   "execution_count": 134,
   "metadata": {},
   "outputs": [
    {
     "name": "stdout",
     "output_type": "stream",
     "text": [
      "hello?\n"
     ]
    }
   ],
   "source": [
    "def shout(string):\n",
    "    loud_string = string.upper() + '!!!'\n",
    "    print(loud_string)    # this will not print now, because it is 'inside' the function\n",
    "    \n",
    "print('hello?')           # this will print now, because it is 'outside' the function"
   ]
  },
  {
   "cell_type": "code",
   "execution_count": 145,
   "metadata": {},
   "outputs": [
    {
     "name": "stdout",
     "output_type": "stream",
     "text": [
      "WTF!!!\n"
     ]
    }
   ],
   "source": [
    "shout(\"wtf\")"
   ]
  },
  {
   "cell_type": "code",
   "execution_count": 136,
   "metadata": {},
   "outputs": [],
   "source": [
    "def hours2weeks(num_hours):\n",
    "    num_days=num_hours / 24\n",
    "    num_weeks = num_days / 7\n",
    "    return num_weeks"
   ]
  },
  {
   "cell_type": "code",
   "execution_count": 138,
   "metadata": {},
   "outputs": [
    {
     "data": {
      "text/plain": [
       "0.5952380952380952"
      ]
     },
     "execution_count": 138,
     "metadata": {},
     "output_type": "execute_result"
    }
   ],
   "source": [
    "hours2weeks(100)"
   ]
  },
  {
   "cell_type": "code",
   "execution_count": 139,
   "metadata": {},
   "outputs": [],
   "source": [
    "def hours2workweeks(num_hours,num_working_hours=8,num_working_days=5):\n",
    "    num_workdays = num_hours / num_working_hours\n",
    "    num_workweeks = num_workdays / num_working_days\n",
    "    return num_workweeks"
   ]
  },
  {
   "cell_type": "code",
   "execution_count": 144,
   "metadata": {},
   "outputs": [
    {
     "data": {
      "text/plain": [
       "416.6666666666667"
      ]
     },
     "execution_count": 144,
     "metadata": {},
     "output_type": "execute_result"
    }
   ],
   "source": [
    "hours2workweeks(num_working_days=3, num_hours=10000)"
   ]
  },
  {
   "cell_type": "markdown",
   "metadata": {},
   "source": [
    "### Functions using string slicing"
   ]
  },
  {
   "cell_type": "code",
   "execution_count": null,
   "metadata": {},
   "outputs": [],
   "source": [
    "def first_n_letters(string,n):\n",
    "    letters = string[:n]\n",
    "    return letters"
   ]
  },
  {
   "cell_type": "code",
   "execution_count": null,
   "metadata": {},
   "outputs": [],
   "source": [
    "first_n_letters(bardname,10)"
   ]
  },
  {
   "cell_type": "code",
   "execution_count": 155,
   "metadata": {},
   "outputs": [],
   "source": [
    "##\n",
    "# @TODO: Write a function that returns your Star Wars name!\n",
    "#\n",
    "# First name: \n",
    "# First 3 letters of your last name\n",
    "# + First 2 letters of your first name\n",
    "#\n",
    "# Last name:\n",
    "# First 2 letters of your mother's maiden name\n",
    "# + First 3 letters of the town you were born in\n",
    "\n",
    "def star_wars_name_gen(first_name, last_name, maiden_name, town_name):\n",
    "    \n",
    "    star_wars_first_name = last_name[:3] + first_name[:2].lower()\n",
    "    \n",
    "    star_wars_last_name = maiden_name[:2] + town_name[:3].lower()\n",
    "    \n",
    "    return star_wars_first_name + ' ' + star_wars_last_name"
   ]
  },
  {
   "cell_type": "code",
   "execution_count": 156,
   "metadata": {},
   "outputs": [
    {
     "data": {
      "text/plain": [
       "'Heury Wamar'"
      ]
     },
     "execution_count": 156,
     "metadata": {},
     "output_type": "execute_result"
    }
   ],
   "source": [
    "star_wars_name_gen('Ryan', 'Heuser', 'Waitt', 'Margate')"
   ]
  },
  {
   "cell_type": "code",
   "execution_count": null,
   "metadata": {},
   "outputs": [],
   "source": [
    "##\n",
    "# @TODO: Execute the function\n",
    "#\n",
    "# star_wars_name_gen(...)\n",
    "\n"
   ]
  },
  {
   "cell_type": "markdown",
   "metadata": {},
   "source": [
    "### Functions using `str.count()`"
   ]
  },
  {
   "cell_type": "code",
   "execution_count": 158,
   "metadata": {},
   "outputs": [],
   "source": [
    "def get_num_sents(string):\n",
    "    num_sents = string.count('.') + string.count('?') + string.count('!')\n",
    "    return num_sents"
   ]
  },
  {
   "cell_type": "code",
   "execution_count": 160,
   "metadata": {},
   "outputs": [
    {
     "data": {
      "text/plain": [
       "3"
      ]
     },
     "execution_count": 160,
     "metadata": {},
     "output_type": "execute_result"
    }
   ],
   "source": [
    "get_num_sents(\"Hello. This is a sentnece? ok?\")"
   ]
  },
  {
   "cell_type": "code",
   "execution_count": 163,
   "metadata": {},
   "outputs": [
    {
     "data": {
      "text/plain": [
       "4"
      ]
     },
     "execution_count": 163,
     "metadata": {},
     "output_type": "execute_result"
    }
   ],
   "source": [
    "get_num_sents(rafaela)"
   ]
  },
  {
   "cell_type": "code",
   "execution_count": 161,
   "metadata": {},
   "outputs": [
    {
     "data": {
      "text/plain": [
       "9"
      ]
     },
     "execution_count": 161,
     "metadata": {},
     "output_type": "execute_result"
    }
   ],
   "source": [
    "get_num_sents(bobby)"
   ]
  },
  {
   "cell_type": "code",
   "execution_count": 164,
   "metadata": {},
   "outputs": [],
   "source": [
    "def get_num_words(string):\n",
    "    # @TODO: Is this right?\n",
    "    return string.strip().count(' ')"
   ]
  },
  {
   "cell_type": "code",
   "execution_count": 165,
   "metadata": {},
   "outputs": [
    {
     "data": {
      "text/plain": [
       "269"
      ]
     },
     "execution_count": 165,
     "metadata": {},
     "output_type": "execute_result"
    }
   ],
   "source": [
    "get_num_words(rafaela)"
   ]
  },
  {
   "cell_type": "code",
   "execution_count": 166,
   "metadata": {},
   "outputs": [
    {
     "data": {
      "text/plain": [
       "231"
      ]
     },
     "execution_count": 166,
     "metadata": {},
     "output_type": "execute_result"
    }
   ],
   "source": [
    "get_num_words(bobby)"
   ]
  },
  {
   "cell_type": "code",
   "execution_count": 185,
   "metadata": {},
   "outputs": [],
   "source": [
    "def get_words_per_sent(string):\n",
    "    \n",
    "    # First, get the number of sentences\n",
    "    num_sents = get_num_sents(string)\n",
    "    \n",
    "    # then, get the number of words\n",
    "    num_words = get_num_words(string)\n",
    "    \n",
    "    # The words per sentence is Nw / Ns\n",
    "    wps = num_words / num_sents\n",
    "    \n",
    "    # return wps\n",
    "    return wps"
   ]
  },
  {
   "cell_type": "code",
   "execution_count": 175,
   "metadata": {},
   "outputs": [
    {
     "data": {
      "text/plain": [
       "0.01486988847583643"
      ]
     },
     "execution_count": 175,
     "metadata": {},
     "output_type": "execute_result"
    }
   ],
   "source": [
    "get_words_per_sent(rafaela)"
   ]
  },
  {
   "cell_type": "code",
   "execution_count": 170,
   "metadata": {},
   "outputs": [
    {
     "data": {
      "text/plain": [
       "25.666666666666668"
      ]
     },
     "execution_count": 170,
     "metadata": {},
     "output_type": "execute_result"
    }
   ],
   "source": [
    "get_words_per_sent(bobby)"
   ]
  },
  {
   "cell_type": "code",
   "execution_count": 172,
   "metadata": {},
   "outputs": [
    {
     "data": {
      "text/plain": [
       "2.3333333333333335"
      ]
     },
     "execution_count": 172,
     "metadata": {},
     "output_type": "execute_result"
    }
   ],
   "source": [
    "get_words_per_sent('Hello. These are very short sentences. You know?')"
   ]
  },
  {
   "cell_type": "code",
   "execution_count": null,
   "metadata": {},
   "outputs": [],
   "source": [
    "##\n",
    "# @TODO: Write your own function counting something interesting about a text\n",
    "#\n",
    "# e.g. count the animals in a text? count the exclamation marks?\n",
    "# return as raw count or as a ratio of num words (or some other stat)\n",
    "#\n",
    "def my_interesting_calculation(string):\n",
    "    return output"
   ]
  },
  {
   "cell_type": "markdown",
   "metadata": {},
   "source": [
    "### Functions using `str.index()`"
   ]
  },
  {
   "cell_type": "code",
   "execution_count": null,
   "metadata": {},
   "outputs": [],
   "source": [
    "# let's abstract one last time!\n",
    "def kwic(string,substring,offset=0,radius=100):\n",
    "    index = string.index(substring,offset+1)\n",
    "    print(string[index-radius:index+radius+1])\n",
    "    return index"
   ]
  },
  {
   "cell_type": "code",
   "execution_count": null,
   "metadata": {},
   "outputs": [],
   "source": [
    "kwic(bobby,'Windex')"
   ]
  },
  {
   "cell_type": "code",
   "execution_count": null,
   "metadata": {},
   "outputs": [],
   "source": [
    "kwic(bobby,'Windex',217)"
   ]
  },
  {
   "cell_type": "code",
   "execution_count": null,
   "metadata": {},
   "outputs": [],
   "source": [
    "index_first_match_r = kwic(rafaela,'scorpion',radius=50)"
   ]
  },
  {
   "cell_type": "code",
   "execution_count": null,
   "metadata": {},
   "outputs": [],
   "source": [
    "index_second_match_r = kwic(rafaela,'scorpion',index_first_match_r,radius=50)"
   ]
  },
  {
   "cell_type": "code",
   "execution_count": null,
   "metadata": {},
   "outputs": [],
   "source": [
    "## \n",
    "# @TODO: Find the third instance of 'dead' in Rafaela's first paragraph\n",
    "#\n",
    "#"
   ]
  },
  {
   "cell_type": "markdown",
   "metadata": {},
   "source": [
    "## Files\n",
    "\n",
    "We've been working a lot with strings. But where have these strings come from? So far they've just been manually entered, whether by me, you, or from a copy/paste of a text.\n",
    "\n",
    "Instead of manual entry, we can automatically fill a string with the contents of a text file."
   ]
  },
  {
   "cell_type": "markdown",
   "metadata": {},
   "source": [
    "### Files are just big strings"
   ]
  },
  {
   "cell_type": "markdown",
   "metadata": {},
   "source": [
    "To open a file, we use a specific syntax:\n",
    "\n",
    "```python\n",
    "with open('filename.txt') as file:\n",
    "    string = file.read()\n",
    "```\n",
    "\n",
    "This means: open filename.txt, and while it's open, read out its contents to a variable called `string` (then you can close the file, with the contents still saved in `string`). \n",
    "\n",
    "As an analogy, imagine this process:\n",
    "\n",
    "```python\n",
    "with open(the_refrigerator) as open_fridge:\n",
    "    filled_glass = open_fridge.pour_oj()\n",
    "```\n",
    "Unindented now, the fridge door is closed. But we still have our `filled_glass` of OJ..."
   ]
  },
  {
   "cell_type": "code",
   "execution_count": 178,
   "metadata": {},
   "outputs": [
    {
     "data": {
      "text/plain": [
       "'/Users/ryan/Dropbox/PHD/Teaching/Literary Text Mining/literarytextmining/03_python'"
      ]
     },
     "execution_count": 178,
     "metadata": {},
     "output_type": "execute_result"
    }
   ],
   "source": [
    "pwd"
   ]
  },
  {
   "cell_type": "code",
   "execution_count": 190,
   "metadata": {},
   "outputs": [],
   "source": [
    "# Let's open Rafaela's chapter (ch 1)\n",
    "with open('../corpora/testing/tristram.txt') as file_r:\n",
    "    rafaela_chap1 = file_r.read()"
   ]
  },
  {
   "cell_type": "code",
   "execution_count": 191,
   "metadata": {},
   "outputs": [
    {
     "name": "stdout",
     "output_type": "stream",
     "text": [
      "﻿To the Right Honourable Mr. Pitt.\n",
      "\n",
      "Sir,\n",
      "\n",
      "Never poor Wight of a Dedicator had less hopes from his Dedication,\n",
      "than I have from this of mine; for it is written in a bye corner of the\n",
      "kingdom, and in a retir'd thatch'd house, where I live in a constant\n",
      "endeavour to fence against the infirmities of ill health, and other\n",
      "evils of life, by mirth; being firmly persuaded that every time a man\n",
      "smiles,--but much more so, when he laughs, it adds something to this\n",
      "Fragment of Life.\n",
      "\n",
      "I humbly beg, Sir, that you will honour this book, by taking it--(not\n",
      "under your Protection,--it must protect itself, but)--into the country\n",
      "with you; where, if I am ever told, it has made you smile; or can\n",
      "conceive it has beguiled you of one moment's pain--I shall think myself\n",
      "as happy as a minister of state;--perhaps much happier than any one (one\n",
      "only excepted) that I have read or heard of.\n",
      "\n",
      "I am, Great Sir, (and, what is more to your Honour) I am, Good Sir, Your\n",
      "Well-wisher, and most humble Fellow-subject,\n",
      "\n",
      "The Author.\n",
      "\n",
      "\n",
      "\n",
      "\n",
      "THE LIFE AND OPINIONS OF TRISTRAM SHANDY, GENT.--VOLUME THE FIRST\n",
      "\n",
      "\n",
      "\n",
      "Chapter 1.I.\n",
      "\n",
      "I wish either my father or my mother, or indeed both of them, as they\n",
      "were in duty both equally bound to it, had minded what they were about\n",
      "when they begot me; had they duly consider'd how much depended upon what\n",
      "they were then doing;--that not only the production of a rational\n",
      "Being was concerned in it, but that possibly the happy formation and\n",
      "temperature of his body, perhaps his genius and the very cast of his\n",
      "mind;--and, for aught they knew to the contrary, even the fortunes of\n",
      "his whole house might take their turn from the humours and dispositions\n",
      "which were then uppermost;--Had they duly weighed and considered all\n",
      "this, and proceeded accordingly,--I am verily persuaded I should have\n",
      "made a quite different figure in the world, from that in which the\n",
      "reader is likely to see me.--Believe me, good folks, this is not so\n",
      "inconsiderable a thing as many of you may think it;--you have all, I\n",
      "dare\n"
     ]
    }
   ],
   "source": [
    "# Print the first 2000 characters\n",
    "print(rafaela_chap1[:2000])"
   ]
  },
  {
   "cell_type": "code",
   "execution_count": 186,
   "metadata": {},
   "outputs": [
    {
     "data": {
      "text/plain": [
       "67.25"
      ]
     },
     "execution_count": 186,
     "metadata": {},
     "output_type": "execute_result"
    }
   ],
   "source": [
    "get_words_per_sent(rafaela)"
   ]
  },
  {
   "cell_type": "code",
   "execution_count": 187,
   "metadata": {},
   "outputs": [
    {
     "data": {
      "text/plain": [
       "24.273429377691965"
      ]
     },
     "execution_count": 187,
     "metadata": {},
     "output_type": "execute_result"
    }
   ],
   "source": [
    "get_words_per_sent(rafaela_chap1)"
   ]
  },
  {
   "cell_type": "code",
   "execution_count": 192,
   "metadata": {},
   "outputs": [],
   "source": [
    "# Load Bobby's chapter\n",
    "with open('../corpora/testing/sentimental.txt') as file:\n",
    "    bobby_chap2 = file.read()"
   ]
  },
  {
   "cell_type": "code",
   "execution_count": 193,
   "metadata": {},
   "outputs": [
    {
     "data": {
      "text/plain": [
       "25.666666666666668"
      ]
     },
     "execution_count": 193,
     "metadata": {},
     "output_type": "execute_result"
    }
   ],
   "source": [
    "get_words_per_sent(bobby)"
   ]
  },
  {
   "cell_type": "code",
   "execution_count": 194,
   "metadata": {},
   "outputs": [
    {
     "data": {
      "text/plain": [
       "24.125412541254125"
      ]
     },
     "execution_count": 194,
     "metadata": {},
     "output_type": "execute_result"
    }
   ],
   "source": [
    "get_words_per_sent(bobby_chap2)"
   ]
  },
  {
   "cell_type": "code",
   "execution_count": null,
   "metadata": {},
   "outputs": [],
   "source": [
    "##\n",
    "# @TODO: Load Emi's chapter and print the words per sentence\n",
    "#\n"
   ]
  },
  {
   "cell_type": "code",
   "execution_count": null,
   "metadata": {},
   "outputs": [],
   "source": [
    "##\n",
    "# @TODO: Find the second instance of 'funghi' in Emi\n",
    "#\n"
   ]
  },
  {
   "cell_type": "markdown",
   "metadata": {},
   "source": [
    "### Reading your own files"
   ]
  },
  {
   "cell_type": "code",
   "execution_count": 195,
   "metadata": {},
   "outputs": [],
   "source": [
    "##\n",
    "# @TODO: Load one of your texts into a string\n",
    "#\n"
   ]
  },
  {
   "cell_type": "code",
   "execution_count": 203,
   "metadata": {},
   "outputs": [
    {
     "data": {
      "text/plain": [
       "WordList(['A', 'rose', 'is', 'a', 'rose', 'is', 'a', 'rose', 'This', 'is', 'another', 'sentence'])"
      ]
     },
     "execution_count": 203,
     "metadata": {},
     "output_type": "execute_result"
    }
   ],
   "source": [
    "from textblob import TextBlob\n",
    "\n",
    "# create a 'blob'\n",
    "blob = TextBlob(\"A rose is a rose is a rose. This is another sentence.\")\n",
    "\n",
    "# print the count for a word\n",
    "blob.words"
   ]
  },
  {
   "cell_type": "code",
   "execution_count": 200,
   "metadata": {},
   "outputs": [],
   "source": [
    "##\n",
    "# @TODO: Print its number of words per sentence\n",
    "#\n"
   ]
  },
  {
   "cell_type": "code",
   "execution_count": null,
   "metadata": {},
   "outputs": [],
   "source": [
    "##\n",
    "# @TODO: Print its number of commas per sentence\n",
    "#\n"
   ]
  },
  {
   "cell_type": "code",
   "execution_count": null,
   "metadata": {},
   "outputs": [],
   "source": [
    "##\n",
    "# @TODO: Perform your interesting_calculation (written above) on your text\n",
    "#\n"
   ]
  },
  {
   "cell_type": "code",
   "execution_count": null,
   "metadata": {},
   "outputs": [],
   "source": [
    "##\n",
    "# @TODO: Find a few instances of an interesting word to you in your text\n",
    "#\n"
   ]
  }
 ],
 "metadata": {
  "kernelspec": {
   "display_name": "Python 3",
   "language": "python",
   "name": "python3"
  },
  "language_info": {
   "codemirror_mode": {
    "name": "ipython",
    "version": 3
   },
   "file_extension": ".py",
   "mimetype": "text/x-python",
   "name": "python",
   "nbconvert_exporter": "python",
   "pygments_lexer": "ipython3",
   "version": "3.6.8"
  }
 },
 "nbformat": 4,
 "nbformat_minor": 2
}
