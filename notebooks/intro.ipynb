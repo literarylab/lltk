{
 "cells": [
  {
   "cell_type": "markdown",
   "metadata": {},
   "source": [
    "# Introduction to LLP (Literary Language Processing)"
   ]
  },
  {
   "cell_type": "code",
   "execution_count": 1,
   "metadata": {},
   "outputs": [],
   "source": [
    "import pandas as pd\n",
    "pd.set_option('display.max_rows',10)"
   ]
  },
  {
   "cell_type": "markdown",
   "metadata": {},
   "source": [
    "## Example corpus"
   ]
  },
  {
   "cell_type": "code",
   "execution_count": 2,
   "metadata": {},
   "outputs": [],
   "source": [
    "# Import LLP as a Python module\n",
    "import llp"
   ]
  },
  {
   "cell_type": "code",
   "execution_count": 3,
   "metadata": {},
   "outputs": [],
   "source": [
    "# Load corpus to a variable\n",
    "corpus = llp.load('MarkMark')"
   ]
  },
  {
   "cell_type": "code",
   "execution_count": 4,
   "metadata": {},
   "outputs": [
    {
     "data": {
      "text/html": [
       "<div>\n",
       "<style scoped>\n",
       "    .dataframe tbody tr th:only-of-type {\n",
       "        vertical-align: middle;\n",
       "    }\n",
       "\n",
       "    .dataframe tbody tr th {\n",
       "        vertical-align: top;\n",
       "    }\n",
       "\n",
       "    .dataframe thead th {\n",
       "        text-align: right;\n",
       "    }\n",
       "</style>\n",
       "<table border=\"1\" class=\"dataframe\">\n",
       "  <thead>\n",
       "    <tr style=\"text-align: right;\">\n",
       "      <th></th>\n",
       "      <th>_llp_</th>\n",
       "      <th>author</th>\n",
       "      <th>author_id</th>\n",
       "      <th>corpus</th>\n",
       "      <th>dob</th>\n",
       "      <th>dod</th>\n",
       "      <th>gender</th>\n",
       "      <th>genre</th>\n",
       "      <th>genre_confirmed</th>\n",
       "      <th>id</th>\n",
       "      <th>...</th>\n",
       "      <th>name_last</th>\n",
       "      <th>name_middle</th>\n",
       "      <th>name_title</th>\n",
       "      <th>nation</th>\n",
       "      <th>notes</th>\n",
       "      <th>num_words</th>\n",
       "      <th>ocr_accuracy</th>\n",
       "      <th>source</th>\n",
       "      <th>title</th>\n",
       "      <th>year</th>\n",
       "    </tr>\n",
       "  </thead>\n",
       "  <tbody>\n",
       "    <tr>\n",
       "      <th>0</th>\n",
       "      <td>markmark|Caldwell,_Erskine.Tobacco_Road</td>\n",
       "      <td>Caldwell, Erskine</td>\n",
       "      <td></td>\n",
       "      <td>MarkMark</td>\n",
       "      <td>1903</td>\n",
       "      <td>1987</td>\n",
       "      <td>M</td>\n",
       "      <td></td>\n",
       "      <td></td>\n",
       "      <td>Caldwell,_Erskine.Tobacco_Road</td>\n",
       "      <td>...</td>\n",
       "      <td>Caldwell</td>\n",
       "      <td></td>\n",
       "      <td></td>\n",
       "      <td>American</td>\n",
       "      <td></td>\n",
       "      <td>69662</td>\n",
       "      <td>0.818840</td>\n",
       "      <td></td>\n",
       "      <td>Tobacco Road</td>\n",
       "      <td>1932</td>\n",
       "    </tr>\n",
       "    <tr>\n",
       "      <th>1</th>\n",
       "      <td>markmark|Sinclair,_Upton.The_Jungle</td>\n",
       "      <td>Sinclair, Upton</td>\n",
       "      <td></td>\n",
       "      <td>MarkMark</td>\n",
       "      <td>1878</td>\n",
       "      <td>1968</td>\n",
       "      <td>M</td>\n",
       "      <td></td>\n",
       "      <td></td>\n",
       "      <td>Sinclair,_Upton.The_Jungle</td>\n",
       "      <td>...</td>\n",
       "      <td>Sinclair</td>\n",
       "      <td>Beall</td>\n",
       "      <td></td>\n",
       "      <td>American</td>\n",
       "      <td></td>\n",
       "      <td>156031</td>\n",
       "      <td>0.822785</td>\n",
       "      <td></td>\n",
       "      <td>The Jungle</td>\n",
       "      <td>1906</td>\n",
       "    </tr>\n",
       "    <tr>\n",
       "      <th>2</th>\n",
       "      <td>markmark|Hemingway,_Ernest.In_Our_Time</td>\n",
       "      <td>Hemingway, Ernest Miller</td>\n",
       "      <td></td>\n",
       "      <td>MarkMark</td>\n",
       "      <td>1899</td>\n",
       "      <td>1961</td>\n",
       "      <td>M</td>\n",
       "      <td></td>\n",
       "      <td></td>\n",
       "      <td>Hemingway,_Ernest.In_Our_Time</td>\n",
       "      <td>...</td>\n",
       "      <td>Hemingway</td>\n",
       "      <td>Miller</td>\n",
       "      <td></td>\n",
       "      <td>American</td>\n",
       "      <td></td>\n",
       "      <td>43243</td>\n",
       "      <td>0.812039</td>\n",
       "      <td></td>\n",
       "      <td>In Our Time</td>\n",
       "      <td>1925</td>\n",
       "    </tr>\n",
       "    <tr>\n",
       "      <th>3</th>\n",
       "      <td>markmark|Hemingway,_Ernest.A_Farewell_to_Arms</td>\n",
       "      <td>Hemingway, Ernest Miller</td>\n",
       "      <td></td>\n",
       "      <td>MarkMark</td>\n",
       "      <td>1899</td>\n",
       "      <td>1961</td>\n",
       "      <td>M</td>\n",
       "      <td></td>\n",
       "      <td></td>\n",
       "      <td>Hemingway,_Ernest.A_Farewell_to_Arms</td>\n",
       "      <td>...</td>\n",
       "      <td>Hemingway</td>\n",
       "      <td>Miller</td>\n",
       "      <td></td>\n",
       "      <td>American</td>\n",
       "      <td></td>\n",
       "      <td>103460</td>\n",
       "      <td>0.746056</td>\n",
       "      <td></td>\n",
       "      <td>A Farewell to Arms</td>\n",
       "      <td>1929</td>\n",
       "    </tr>\n",
       "    <tr>\n",
       "      <th>4</th>\n",
       "      <td>markmark|Hemingway,_Ernest.For_Whom_the_Bell_T...</td>\n",
       "      <td>Hemingway, Ernest Miller</td>\n",
       "      <td></td>\n",
       "      <td>MarkMark</td>\n",
       "      <td>1899</td>\n",
       "      <td>1961</td>\n",
       "      <td>M</td>\n",
       "      <td></td>\n",
       "      <td></td>\n",
       "      <td>Hemingway,_Ernest.For_Whom_the_Bell_Tolls</td>\n",
       "      <td>...</td>\n",
       "      <td>Hemingway</td>\n",
       "      <td>Miller</td>\n",
       "      <td></td>\n",
       "      <td>American</td>\n",
       "      <td></td>\n",
       "      <td>191216</td>\n",
       "      <td>0.769099</td>\n",
       "      <td></td>\n",
       "      <td>For Whom the Bell Tolls</td>\n",
       "      <td>1940</td>\n",
       "    </tr>\n",
       "    <tr>\n",
       "      <th>...</th>\n",
       "      <td>...</td>\n",
       "      <td>...</td>\n",
       "      <td>...</td>\n",
       "      <td>...</td>\n",
       "      <td>...</td>\n",
       "      <td>...</td>\n",
       "      <td>...</td>\n",
       "      <td>...</td>\n",
       "      <td>...</td>\n",
       "      <td>...</td>\n",
       "      <td>...</td>\n",
       "      <td>...</td>\n",
       "      <td>...</td>\n",
       "      <td>...</td>\n",
       "      <td>...</td>\n",
       "      <td>...</td>\n",
       "      <td>...</td>\n",
       "      <td>...</td>\n",
       "      <td>...</td>\n",
       "      <td>...</td>\n",
       "      <td>...</td>\n",
       "    </tr>\n",
       "    <tr>\n",
       "      <th>350</th>\n",
       "      <td>markmark|Sukenick,_Ronald.Up</td>\n",
       "      <td>Sukenick, Ronald</td>\n",
       "      <td></td>\n",
       "      <td>MarkMark</td>\n",
       "      <td>1932</td>\n",
       "      <td>2004</td>\n",
       "      <td>M</td>\n",
       "      <td></td>\n",
       "      <td></td>\n",
       "      <td>Sukenick,_Ronald.Up</td>\n",
       "      <td>...</td>\n",
       "      <td>Sukenick</td>\n",
       "      <td></td>\n",
       "      <td></td>\n",
       "      <td>American</td>\n",
       "      <td></td>\n",
       "      <td>114213</td>\n",
       "      <td>0.777302</td>\n",
       "      <td></td>\n",
       "      <td>Up</td>\n",
       "      <td>1968</td>\n",
       "    </tr>\n",
       "    <tr>\n",
       "      <th>351</th>\n",
       "      <td>markmark|Bennett,_Arnold.The_Old_Wives'_Tale</td>\n",
       "      <td>Bennett, Enoch Arnold</td>\n",
       "      <td></td>\n",
       "      <td>MarkMark</td>\n",
       "      <td>1867</td>\n",
       "      <td>1931</td>\n",
       "      <td>M</td>\n",
       "      <td></td>\n",
       "      <td></td>\n",
       "      <td>Bennett,_Arnold.The_Old_Wives'_Tale</td>\n",
       "      <td>...</td>\n",
       "      <td>Bennett</td>\n",
       "      <td>Arnold</td>\n",
       "      <td></td>\n",
       "      <td>English</td>\n",
       "      <td></td>\n",
       "      <td>222095</td>\n",
       "      <td>0.782219</td>\n",
       "      <td></td>\n",
       "      <td>The Old Wives' Tale</td>\n",
       "      <td>1908</td>\n",
       "    </tr>\n",
       "    <tr>\n",
       "      <th>352</th>\n",
       "      <td>markmark|Robbins,_Tom.Skinny_Legs_and_All</td>\n",
       "      <td>Robbins, Tom</td>\n",
       "      <td></td>\n",
       "      <td>MarkMark</td>\n",
       "      <td>1936</td>\n",
       "      <td></td>\n",
       "      <td>M</td>\n",
       "      <td></td>\n",
       "      <td></td>\n",
       "      <td>Robbins,_Tom.Skinny_Legs_and_All</td>\n",
       "      <td>...</td>\n",
       "      <td>Robbins</td>\n",
       "      <td></td>\n",
       "      <td></td>\n",
       "      <td>American</td>\n",
       "      <td></td>\n",
       "      <td>179211</td>\n",
       "      <td>0.795755</td>\n",
       "      <td></td>\n",
       "      <td>Skinny Legs and All</td>\n",
       "      <td>1990</td>\n",
       "    </tr>\n",
       "    <tr>\n",
       "      <th>353</th>\n",
       "      <td>markmark|Donleavy,_J.P..The_Ginger_Man</td>\n",
       "      <td>Donleavy, James Patrick</td>\n",
       "      <td></td>\n",
       "      <td>MarkMark</td>\n",
       "      <td>1926</td>\n",
       "      <td></td>\n",
       "      <td>M</td>\n",
       "      <td></td>\n",
       "      <td></td>\n",
       "      <td>Donleavy,_J.P..The_Ginger_Man</td>\n",
       "      <td>...</td>\n",
       "      <td>Donleavy</td>\n",
       "      <td>Patrick</td>\n",
       "      <td></td>\n",
       "      <td>Irish American</td>\n",
       "      <td></td>\n",
       "      <td>116047</td>\n",
       "      <td>0.780417</td>\n",
       "      <td></td>\n",
       "      <td>The Ginger Man</td>\n",
       "      <td>1955</td>\n",
       "    </tr>\n",
       "    <tr>\n",
       "      <th>354</th>\n",
       "      <td>markmark|Kennedy,_William.Ironweed</td>\n",
       "      <td>Kennedy, William</td>\n",
       "      <td></td>\n",
       "      <td>MarkMark</td>\n",
       "      <td>1928</td>\n",
       "      <td></td>\n",
       "      <td>M</td>\n",
       "      <td></td>\n",
       "      <td></td>\n",
       "      <td>Kennedy,_William.Ironweed</td>\n",
       "      <td>...</td>\n",
       "      <td>Kennedy</td>\n",
       "      <td>Joseph</td>\n",
       "      <td></td>\n",
       "      <td>American</td>\n",
       "      <td></td>\n",
       "      <td>82240</td>\n",
       "      <td>0.757879</td>\n",
       "      <td></td>\n",
       "      <td>Ironweed</td>\n",
       "      <td>1983</td>\n",
       "    </tr>\n",
       "  </tbody>\n",
       "</table>\n",
       "<p>355 rows × 21 columns</p>\n",
       "</div>"
      ],
      "text/plain": [
       "                                                 _llp_  \\\n",
       "0              markmark|Caldwell,_Erskine.Tobacco_Road   \n",
       "1                  markmark|Sinclair,_Upton.The_Jungle   \n",
       "2               markmark|Hemingway,_Ernest.In_Our_Time   \n",
       "3        markmark|Hemingway,_Ernest.A_Farewell_to_Arms   \n",
       "4    markmark|Hemingway,_Ernest.For_Whom_the_Bell_T...   \n",
       "..                                                 ...   \n",
       "350                       markmark|Sukenick,_Ronald.Up   \n",
       "351       markmark|Bennett,_Arnold.The_Old_Wives'_Tale   \n",
       "352          markmark|Robbins,_Tom.Skinny_Legs_and_All   \n",
       "353             markmark|Donleavy,_J.P..The_Ginger_Man   \n",
       "354                 markmark|Kennedy,_William.Ironweed   \n",
       "\n",
       "                       author author_id    corpus   dob   dod gender genre  \\\n",
       "0           Caldwell, Erskine            MarkMark  1903  1987      M         \n",
       "1             Sinclair, Upton            MarkMark  1878  1968      M         \n",
       "2    Hemingway, Ernest Miller            MarkMark  1899  1961      M         \n",
       "3    Hemingway, Ernest Miller            MarkMark  1899  1961      M         \n",
       "4    Hemingway, Ernest Miller            MarkMark  1899  1961      M         \n",
       "..                        ...       ...       ...   ...   ...    ...   ...   \n",
       "350          Sukenick, Ronald            MarkMark  1932  2004      M         \n",
       "351     Bennett, Enoch Arnold            MarkMark  1867  1931      M         \n",
       "352              Robbins, Tom            MarkMark  1936            M         \n",
       "353   Donleavy, James Patrick            MarkMark  1926            M         \n",
       "354          Kennedy, William            MarkMark  1928            M         \n",
       "\n",
       "    genre_confirmed                                         id  ...  \\\n",
       "0                               Caldwell,_Erskine.Tobacco_Road  ...   \n",
       "1                                   Sinclair,_Upton.The_Jungle  ...   \n",
       "2                                Hemingway,_Ernest.In_Our_Time  ...   \n",
       "3                         Hemingway,_Ernest.A_Farewell_to_Arms  ...   \n",
       "4                    Hemingway,_Ernest.For_Whom_the_Bell_Tolls  ...   \n",
       "..              ...                                        ...  ...   \n",
       "350                                        Sukenick,_Ronald.Up  ...   \n",
       "351                        Bennett,_Arnold.The_Old_Wives'_Tale  ...   \n",
       "352                           Robbins,_Tom.Skinny_Legs_and_All  ...   \n",
       "353                              Donleavy,_J.P..The_Ginger_Man  ...   \n",
       "354                                  Kennedy,_William.Ironweed  ...   \n",
       "\n",
       "     name_last name_middle name_title          nation notes num_words  \\\n",
       "0     Caldwell                               American           69662   \n",
       "1     Sinclair       Beall                   American          156031   \n",
       "2    Hemingway      Miller                   American           43243   \n",
       "3    Hemingway      Miller                   American          103460   \n",
       "4    Hemingway      Miller                   American          191216   \n",
       "..         ...         ...        ...             ...   ...       ...   \n",
       "350   Sukenick                               American          114213   \n",
       "351    Bennett      Arnold                    English          222095   \n",
       "352    Robbins                               American          179211   \n",
       "353   Donleavy     Patrick             Irish American          116047   \n",
       "354    Kennedy      Joseph                   American           82240   \n",
       "\n",
       "     ocr_accuracy  source                    title  year  \n",
       "0        0.818840                     Tobacco Road  1932  \n",
       "1        0.822785                       The Jungle  1906  \n",
       "2        0.812039                      In Our Time  1925  \n",
       "3        0.746056               A Farewell to Arms  1929  \n",
       "4        0.769099          For Whom the Bell Tolls  1940  \n",
       "..            ...     ...                      ...   ...  \n",
       "350      0.777302                               Up  1968  \n",
       "351      0.782219              The Old Wives' Tale  1908  \n",
       "352      0.795755              Skinny Legs and All  1990  \n",
       "353      0.780417                   The Ginger Man  1955  \n",
       "354      0.757879                         Ironweed  1983  \n",
       "\n",
       "[355 rows x 21 columns]"
      ]
     },
     "execution_count": 4,
     "metadata": {},
     "output_type": "execute_result"
    }
   ],
   "source": [
    "# Get the corpus's metadata as a dataframe\n",
    "corpus.metadata"
   ]
  },
  {
   "cell_type": "code",
   "execution_count": 5,
   "metadata": {},
   "outputs": [
    {
     "data": {
      "text/plain": [
       "_llp_            object\n",
       "author           object\n",
       "author_id        object\n",
       "corpus           object\n",
       "dob              object\n",
       "                 ...   \n",
       "num_words         int64\n",
       "ocr_accuracy    float64\n",
       "source           object\n",
       "title            object\n",
       "year              int64\n",
       "Length: 21, dtype: object"
      ]
     },
     "execution_count": 5,
     "metadata": {},
     "output_type": "execute_result"
    }
   ],
   "source": [
    "corpus.metadata.dtypes"
   ]
  },
  {
   "cell_type": "code",
   "execution_count": 6,
   "metadata": {},
   "outputs": [
    {
     "data": {
      "text/plain": [
       "Index(['_llp_', 'author', 'author_id', 'corpus', 'dob', 'dod', 'gender',\n",
       "       'genre', 'genre_confirmed', 'id', 'name_first', 'name_last',\n",
       "       'name_middle', 'name_title', 'nation', 'notes', 'num_words',\n",
       "       'ocr_accuracy', 'source', 'title', 'year'],\n",
       "      dtype='object')"
      ]
     },
     "execution_count": 6,
     "metadata": {},
     "output_type": "execute_result"
    }
   ],
   "source": [
    "# Which columns are in the metadata?\n",
    "corpus.metadata.columns"
   ]
  },
  {
   "cell_type": "code",
   "execution_count": 10,
   "metadata": {},
   "outputs": [
    {
     "data": {
      "text/plain": [
       "<matplotlib.axes._subplots.AxesSubplot at 0x11457a908>"
      ]
     },
     "execution_count": 10,
     "metadata": {},
     "output_type": "execute_result"
    },
    {
     "data": {
      "image/png": "[encoded data removed]",
      "text/plain": [
       "<Figure size 432x288 with 1 Axes>"
      ]
     },
     "metadata": {
      "needs_background": "light"
     },
     "output_type": "display_data"
    }
   ],
   "source": [
    "# What is the corpus distribution like?\n",
    "corpus.metadata.year.hist(bins=25)"
   ]
  },
  {
   "cell_type": "code",
   "execution_count": 8,
   "metadata": {},
   "outputs": [
    {
     "data": {
      "text/plain": [
       "<matplotlib.axes._subplots.AxesSubplot at 0x1144f5f60>"
      ]
     },
     "execution_count": 8,
     "metadata": {},
     "output_type": "execute_result"
    },
    {
     "data": {
      "image/png": "[encoded data removed]",
      "text/plain": [
       "<Figure size 432x288 with 1 Axes>"
      ]
     },
     "metadata": {
      "needs_background": "light"
     },
     "output_type": "display_data"
    }
   ],
   "source": [
    "corpus.metadata.gender.value_counts().plot.bar()"
   ]
  },
  {
   "cell_type": "code",
   "execution_count": 9,
   "metadata": {},
   "outputs": [
    {
     "data": {
      "text/plain": [
       "American             235\n",
       "English               51\n",
       "Canadian              12\n",
       "Irish                 10\n",
       "American|Russian       4\n",
       "                    ... \n",
       "Swedish                1\n",
       "Russian                1\n",
       "Nigerian               1\n",
       "Austrian-Bohemian      1\n",
       "Irish American         1\n",
       "Name: nation, Length: 31, dtype: int64"
      ]
     },
     "execution_count": 9,
     "metadata": {},
     "output_type": "execute_result"
    }
   ],
   "source": [
    "corpus.metadata.nation.value_counts()"
   ]
  },
  {
   "cell_type": "code",
   "execution_count": null,
   "metadata": {},
   "outputs": [],
   "source": []
  }
 ],
 "metadata": {
  "kernelspec": {
   "display_name": "Python 3",
   "language": "python",
   "name": "python3"
  },
  "language_info": {
   "codemirror_mode": {
    "name": "ipython",
    "version": 3
   },
   "file_extension": ".py",
   "mimetype": "text/x-python",
   "name": "python",
   "nbconvert_exporter": "python",
   "pygments_lexer": "ipython3",
   "version": "3.6.8"
  }
 },
 "nbformat": 4,
 "nbformat_minor": 2
}
