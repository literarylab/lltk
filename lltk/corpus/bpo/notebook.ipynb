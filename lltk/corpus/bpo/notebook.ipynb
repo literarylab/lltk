{
 "cells": [
  {
   "cell_type": "markdown",
   "metadata": {},
   "source": [
    "# BPO"
   ]
  },
  {
   "cell_type": "code",
   "execution_count": 8,
   "metadata": {},
   "outputs": [],
   "source": [
    "PATH_RAW_SKIPGRAMS='/home/ryan/DH/data/skipgrams/bpo/clean'"
   ]
  },
  {
   "cell_type": "code",
   "execution_count": 9,
   "metadata": {},
   "outputs": [],
   "source": [
    "from lltk.imports import *"
   ]
  },
  {
   "cell_type": "code",
   "execution_count": 10,
   "metadata": {},
   "outputs": [],
   "source": [
    "def iter_chunks(iterable, n):\n",
    "    from itertools import chain, islice\n",
    "    iterable = iter(iterable)\n",
    "    while True:\n",
    "        try:\n",
    "            yield chain([next(iterable)], islice(iterable, n-1))\n",
    "        except StopIteration:\n",
    "            break\n",
    "            \n",
    "def do_compile_from_skipgrams(obj,zf=3):\n",
    "    ipath,opath,num_lines = obj\n",
    "    txt_i_now=None\n",
    "    with open(ipath,'rb') as f:\n",
    "        iterr=tqdm(iter_chunks(f, num_lines))\n",
    "        for i, lines in enumerate(iterr):\n",
    "            ofn = os.path.join(opath,str(i+1).zfill(zf)) + '.txt'\n",
    "            ensure_dir_exists(os.path.dirname(ofn))\n",
    "            with open(ofn,'wb') as of: of.writelines(lines)\n",
    "            iterr.set_description(ofn)"
   ]
  },
  {
   "cell_type": "code",
   "execution_count": 13,
   "metadata": {},
   "outputs": [],
   "source": [
    "def compile(self, path_skipgrams=PATH_RAW_SKIPGRAMS,num_proc=1,num_lines=100000):\n",
    "    objs = [\n",
    "        (\n",
    "            os.path.join(path_skipgrams,fn),\n",
    "            os.path.join(self.path_txt, [x for x in fn.split('.') if x.isdigit()][0]),\n",
    "            num_lines\n",
    "        ) for fn in os.listdir(path_skipgrams)\n",
    "        if fn.startswith('skipgrams')\n",
    "        and fn.endswith('.txt')\n",
    "    ]\n",
    "    objs.sort(reverse=True)\n",
    "    return pmap(do_compile_from_skipgrams, objs, num_proc=num_proc, progress=True)"
   ]
  },
  {
   "cell_type": "code",
   "execution_count": 14,
   "metadata": {},
   "outputs": [],
   "source": [
    "C=load_corpus('BPO')\n"
   ]
  },
  {
   "cell_type": "code",
   "execution_count": 15,
   "metadata": {},
   "outputs": [
    {
     "name": "stderr",
     "output_type": "stream",
     "text": [
      "/home/ryan/lltk_data/corpora/bpo/txt/1870/536.txt: : 536it [00:49, 10.88it/s]/s]\n",
      "/home/ryan/lltk_data/corpora/bpo/txt/1880/543.txt: : 543it [00:50, 10.75it/s]\n",
      "/home/ryan/lltk_data/corpora/bpo/txt/1890/594.txt: : 594it [00:56, 10.46it/s]\n",
      "/home/ryan/lltk_data/corpora/bpo/txt/1860/550.txt: : 550it [03:40,  2.50it/s] 56.81s/it]\n",
      "/home/ryan/lltk_data/corpora/bpo/txt/1830/282.txt: : 282it [02:49,  1.67it/s] 56.09s/it]\n",
      "/home/ryan/lltk_data/corpora/bpo/txt/1840/338.txt: : 338it [03:43,  1.51it/s]\n",
      "/home/ryan/lltk_data/corpora/bpo/txt/1850/427.txt: : 427it [04:51,  1.47it/s]\n",
      "/home/ryan/lltk_data/corpora/bpo/txt/1810/190.txt: : 190it [02:13,  1.42it/s] 75.42s/it]\n",
      "/home/ryan/lltk_data/corpora/bpo/txt/1800/155.txt: : 155it [01:28,  1.76it/s]\n",
      "/home/ryan/lltk_data/corpora/bpo/txt/1820/258.txt: : 258it [02:31,  1.70it/s]\n",
      "/home/ryan/lltk_data/corpora/bpo/txt/1790/113.txt: : 113it [00:47,  2.40it/s] 55.94s/it]\n",
      "/home/ryan/lltk_data/corpora/bpo/txt/1770/077.txt: : 77it [00:28,  2.67it/s]7, 40.72s/it]\n",
      "/home/ryan/lltk_data/corpora/bpo/txt/1760/051.txt: : 51it [00:20,  2.47it/s]\n",
      "/home/ryan/lltk_data/corpora/bpo/txt/1780/106.txt: : 106it [00:41,  2.58it/s]\n",
      "/home/ryan/lltk_data/corpora/bpo/txt/1750/042.txt: : 42it [00:19,  2.21it/s]5, 32.57s/it]\n",
      "/home/ryan/lltk_data/corpora/bpo/txt/1720/010.txt: : 10it [00:08,  1.12it/s]3, 23.35s/it]\n",
      "/home/ryan/lltk_data/corpora/bpo/txt/1710/011.txt: : 11it [00:09,  1.11it/s]\n",
      "/home/ryan/lltk_data/corpora/bpo/txt/1740/036.txt: : 36it [00:26,  1.38it/s]\n",
      "/home/ryan/lltk_data/corpora/bpo/txt/1680/003.txt: : 3it [00:02,  1.32it/s]]6, 19.41s/it]\n",
      "/home/ryan/lltk_data/corpora/bpo/txt/1690/004.txt: : 4it [00:03,  1.19it/s]]\n",
      "/home/ryan/lltk_data/corpora/bpo/txt/1700/011.txt: : 11it [00:10,  1.09it/s]\n",
      "/home/ryan/lltk_data/corpora/bpo/txt/1730/037.txt: : 37it [00:29,  1.27it/s]\n",
      "Mapping do_compile_from_skipgrams() [x4]: 100%|██████████| 22/22 [07:01<00:00, 19.18s/it]\n"
     ]
    },
    {
     "data": {
      "text/plain": [
       "[None,\n",
       " None,\n",
       " None,\n",
       " None,\n",
       " None,\n",
       " None,\n",
       " None,\n",
       " None,\n",
       " None,\n",
       " None,\n",
       " None,\n",
       " None,\n",
       " None,\n",
       " None,\n",
       " None,\n",
       " None,\n",
       " None,\n",
       " None,\n",
       " None,\n",
       " None,\n",
       " None,\n",
       " None]"
      ]
     },
     "execution_count": 15,
     "metadata": {},
     "output_type": "execute_result"
    }
   ],
   "source": [
    "compile(C, num_proc=4)"
   ]
  },
  {
   "cell_type": "code",
   "execution_count": 17,
   "metadata": {},
   "outputs": [
    {
     "name": "stdout",
     "output_type": "stream",
     "text": [
      "257M\t/home/ryan/lltk_data/corpora/bpo/txt/1760\n",
      "49M\t/home/ryan/lltk_data/corpora/bpo/txt/1720\n",
      "793M\t/home/ryan/lltk_data/corpora/bpo/txt/1800\n",
      "2.9G\t/home/ryan/lltk_data/corpora/bpo/txt/1880\n",
      "185M\t/home/ryan/lltk_data/corpora/bpo/txt/1730\n",
      "18M\t/home/ryan/lltk_data/corpora/bpo/txt/1690\n",
      "13M\t/home/ryan/lltk_data/corpora/bpo/txt/1680\n",
      "1.8G\t/home/ryan/lltk_data/corpora/bpo/txt/1840\n",
      "2.9G\t/home/ryan/lltk_data/corpora/bpo/txt/1860\n",
      "2.9G\t/home/ryan/lltk_data/corpora/bpo/txt/1870\n",
      "55M\t/home/ryan/lltk_data/corpora/bpo/txt/1700\n",
      "574M\t/home/ryan/lltk_data/corpora/bpo/txt/1790\n",
      "176M\t/home/ryan/lltk_data/corpora/bpo/txt/1740\n",
      "538M\t/home/ryan/lltk_data/corpora/bpo/txt/1780\n",
      "1.5G\t/home/ryan/lltk_data/corpora/bpo/txt/1830\n",
      "389M\t/home/ryan/lltk_data/corpora/bpo/txt/1770\n",
      "53M\t/home/ryan/lltk_data/corpora/bpo/txt/1710\n",
      "210M\t/home/ryan/lltk_data/corpora/bpo/txt/1750\n",
      "1.4G\t/home/ryan/lltk_data/corpora/bpo/txt/1820\n",
      "2.3G\t/home/ryan/lltk_data/corpora/bpo/txt/1850\n",
      "3.1G\t/home/ryan/lltk_data/corpora/bpo/txt/1890\n",
      "1001M\t/home/ryan/lltk_data/corpora/bpo/txt/1810\n",
      "23G\t/home/ryan/lltk_data/corpora/bpo/txt\n"
     ]
    }
   ],
   "source": [
    "!du -h {C.path_txt}"
   ]
  },
  {
   "cell_type": "code",
   "execution_count": null,
   "metadata": {},
   "outputs": [],
   "source": []
  }
 ],
 "metadata": {
  "kernelspec": {
   "display_name": "Python 3",
   "language": "python",
   "name": "python3"
  },
  "language_info": {
   "codemirror_mode": {
    "name": "ipython",
    "version": 3
   },
   "file_extension": ".py",
   "mimetype": "text/x-python",
   "name": "python",
   "nbconvert_exporter": "python",
   "pygments_lexer": "ipython3",
   "version": "3.7.7"
  },
  "widgets": {
   "application/vnd.jupyter.widget-state+json": {
    "state": {},
    "version_major": 2,
    "version_minor": 0
   }
  }
 },
 "nbformat": 4,
 "nbformat_minor": 4
}
