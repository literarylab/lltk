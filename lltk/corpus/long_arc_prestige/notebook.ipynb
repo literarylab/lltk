{
 "cells": [
  {
   "cell_type": "markdown",
   "metadata": {},
   "source": [
    "# LongArcPrestige"
   ]
  },
  {
   "cell_type": "code",
   "execution_count": 22,
   "metadata": {},
   "outputs": [],
   "source": [
    "import lltk\n",
    "C=lltk.load('LongArcPrestige')\n"
   ]
  },
  {
   "cell_type": "code",
   "execution_count": 24,
   "metadata": {},
   "outputs": [],
   "source": [
    "# !pip install git+https://github.com/quadrismegistus/yapmap -U"
   ]
  },
  {
   "cell_type": "markdown",
   "metadata": {},
   "source": [
    "## Installation"
   ]
  },
  {
   "cell_type": "code",
   "execution_count": 25,
   "metadata": {},
   "outputs": [],
   "source": [
    "# This is your custom installation function\n",
    "# C.compile()"
   ]
  },
  {
   "cell_type": "markdown",
   "metadata": {},
   "source": [
    "## Examine metadata"
   ]
  },
  {
   "cell_type": "code",
   "execution_count": 26,
   "metadata": {},
   "outputs": [
    {
     "output_type": "execute_result",
     "data": {
      "text/plain": [
       "                                         author  \\\n",
       "id                                                \n",
       "uc2.ark+=13960=t55d8p14j        Stephens, Ann S   \n",
       "nyp.33433075741789        Reynolds, George W. M   \n",
       "uc1.b249620                   Peppergrass, Paul   \n",
       "njp.32101073308494                Manning, Anne   \n",
       "uc2.ark+=13960=t4wh2fh9b         Leighton, John   \n",
       "...                                         ...   \n",
       "uc1.$b182827                Cotterell, Geoffrey   \n",
       "uc1.$b56415                         Corey, Paul   \n",
       "mdp.39015000543002                 Paul, Elliot   \n",
       "uc1.$b106144                    Weidman, Jerome   \n",
       "uc1.$b323515                     Butler, Gerald   \n",
       "\n",
       "                                                                      title  \\\n",
       "id                                                                            \n",
       "uc2.ark+=13960=t55d8p14j                              High life in New York   \n",
       "nyp.33433075741789                     The mysteries of the court of London   \n",
       "uc1.b249620               Shandy M'Guire, or, Tricks upon travellers : b...   \n",
       "njp.32101073308494        The maiden & married life of Mary Powell, afte...   \n",
       "uc2.ark+=13960=t4wh2fh9b                    Christmas comes but once a year   \n",
       "...                                                                     ...   \n",
       "uc1.$b182827                                                 Then a soldier   \n",
       "uc1.$b56415                          The road returns, | $c: by Paul Corey.   \n",
       "mdp.39015000543002        Hugger-mugger in the Louvre; | a Homer Evans m...   \n",
       "uc1.$b106144                                   The lights around the shore.   \n",
       "uc1.$b323515                  Mad with much heart | $c: [by] Gerald Butler.   \n",
       "\n",
       "                          year                     docid actualdate  \\\n",
       "id                                                                    \n",
       "uc2.ark+=13960=t55d8p14j  1843  uc2.ark+=13960=t55d8p14j       1854   \n",
       "nyp.33433075741789        1845        nyp.33433075741789       1852   \n",
       "uc1.b249620               1848               uc1.b249620       1853   \n",
       "njp.32101073308494        1849        njp.32101073308494       1852   \n",
       "uc2.ark+=13960=t4wh2fh9b  1850  uc2.ark+=13960=t4wh2fh9b       1850   \n",
       "...                        ...                       ...        ...   \n",
       "uc1.$b182827              1945              uc1.$b182827       1945   \n",
       "uc1.$b56415               1940               uc1.$b56415       1940   \n",
       "mdp.39015000543002        1940        mdp.39015000543002       1940   \n",
       "uc1.$b106144              1943              uc1.$b106144       1943   \n",
       "uc1.$b323515              1945              uc1.$b323515       1946   \n",
       "\n",
       "                          earliestdate firstpub    tags recordid OCLC  ...  \\\n",
       "id                                                                     ...   \n",
       "uc2.ark+=13960=t55d8p14j        1843.0     1843  vulgar                ...   \n",
       "nyp.33433075741789              1845.0     1845  vulgar                ...   \n",
       "uc1.b249620                     1848.0     1848  vulgar                ...   \n",
       "njp.32101073308494              1849.0     1849  vulgar                ...   \n",
       "uc2.ark+=13960=t4wh2fh9b        1850.0     1850  vulgar                ...   \n",
       "...                                ...      ...     ...      ...  ...  ...   \n",
       "uc1.$b182827                    1945.0     1945  vulgar                ...   \n",
       "uc1.$b56415                     1940.0     1940  vulgar                ...   \n",
       "mdp.39015000543002              1940.0     1940  vulgar                ...   \n",
       "uc1.$b106144                    1943.0     1943  vulgar                ...   \n",
       "uc1.$b323515                    1945.0     1945  vulgar                ...   \n",
       "\n",
       "                         othername notes canon  \\\n",
       "id                                               \n",
       "uc2.ark+=13960=t55d8p14j                         \n",
       "nyp.33433075741789                               \n",
       "uc1.b249620                                      \n",
       "njp.32101073308494                               \n",
       "uc2.ark+=13960=t4wh2fh9b                         \n",
       "...                            ...   ...   ...   \n",
       "uc1.$b182827                                     \n",
       "uc1.$b56415                                      \n",
       "mdp.39015000543002                               \n",
       "uc1.$b106144                                     \n",
       "uc1.$b323515                                     \n",
       "\n",
       "                                                                       path  \\\n",
       "id                                                                            \n",
       "uc2.ark+=13960=t55d8p14j  uc2/pairtree_root/ar/k+/=1/39/60/=t/55/d8/p1/4...   \n",
       "nyp.33433075741789        nyp/pairtree_root/33/43/30/75/74/17/89/3343307...   \n",
       "uc1.b249620               uc1/pairtree_root/$b/24/96/20/$b249620/uc1.$b2...   \n",
       "njp.32101073308494        njp/pairtree_root/32/10/10/73/30/84/94/3210107...   \n",
       "uc2.ark+=13960=t4wh2fh9b  uc2/pairtree_root/ar/k+/=1/39/60/=t/4w/h2/fh/9...   \n",
       "...                                                                     ...   \n",
       "uc1.$b182827              uc1/pairtree_root/$b/18/28/27/$b182827/uc1.$b1...   \n",
       "uc1.$b56415               uc1/pairtree_root/$b/56/41/5/$b56415/uc1.$b564...   \n",
       "mdp.39015000543002        mdp/pairtree_root/39/01/50/00/54/30/02/3901500...   \n",
       "uc1.$b106144              uc1/pairtree_root/$b/10/61/44/$b106144/uc1.$b1...   \n",
       "uc1.$b323515              uc1/pairtree_root/$b/32/35/15/$b323515/uc1.$b3...   \n",
       "\n",
       "                         authsvols                   publisher  \\\n",
       "id                                                               \n",
       "uc2.ark+=13960=t55d8p14j        47                    Peterson   \n",
       "nyp.33433075741789              61                       Dicks   \n",
       "uc1.b249620                      4                     Donahoe   \n",
       "njp.32101073308494              66                    Appleton   \n",
       "uc2.ark+=13960=t4wh2fh9b         2                William Tegg   \n",
       "...                            ...                         ...   \n",
       "uc1.$b182827                     1           Eyre Spottiswoode   \n",
       "uc1.$b56415                      3  Indianapolis Bobbs Merrill   \n",
       "mdp.39015000543002               9                Random House   \n",
       "uc1.$b106144                     8              Simon Schuster   \n",
       "uc1.$b323515                     3                    Rinehart   \n",
       "\n",
       "                                      subcorpus decade    reviewed    genre  \n",
       "id                                                                           \n",
       "uc2.ark+=13960=t55d8p14j        prestigeficmeta         Unreviewed  Fiction  \n",
       "nyp.33433075741789              prestigeficmeta         Unreviewed  Fiction  \n",
       "uc1.b249620                     prestigeficmeta         Unreviewed  Fiction  \n",
       "njp.32101073308494              prestigeficmeta         Unreviewed  Fiction  \n",
       "uc2.ark+=13960=t4wh2fh9b        prestigeficmeta         Unreviewed  Fiction  \n",
       "...                                         ...    ...         ...      ...  \n",
       "uc1.$b182827              genderbalancedfiction   1940  Unreviewed  Fiction  \n",
       "uc1.$b56415               genderbalancedfiction   1940  Unreviewed  Fiction  \n",
       "mdp.39015000543002        genderbalancedfiction   1940  Unreviewed  Fiction  \n",
       "uc1.$b106144              genderbalancedfiction   1940  Unreviewed  Fiction  \n",
       "uc1.$b323515              genderbalancedfiction   1940  Unreviewed  Fiction  \n",
       "\n",
       "[3673 rows x 30 columns]"
      ],
      "text/html": "<div>\n<style scoped>\n    .dataframe tbody tr th:only-of-type {\n        vertical-align: middle;\n    }\n\n    .dataframe tbody tr th {\n        vertical-align: top;\n    }\n\n    .dataframe thead th {\n        text-align: right;\n    }\n</style>\n<table border=\"1\" class=\"dataframe\">\n  <thead>\n    <tr style=\"text-align: right;\">\n      <th></th>\n      <th>author</th>\n      <th>title</th>\n      <th>year</th>\n      <th>docid</th>\n      <th>actualdate</th>\n      <th>earliestdate</th>\n      <th>firstpub</th>\n      <th>tags</th>\n      <th>recordid</th>\n      <th>OCLC</th>\n      <th>...</th>\n      <th>othername</th>\n      <th>notes</th>\n      <th>canon</th>\n      <th>path</th>\n      <th>authsvols</th>\n      <th>publisher</th>\n      <th>subcorpus</th>\n      <th>decade</th>\n      <th>reviewed</th>\n      <th>genre</th>\n    </tr>\n    <tr>\n      <th>id</th>\n      <th></th>\n      <th></th>\n      <th></th>\n      <th></th>\n      <th></th>\n      <th></th>\n      <th></th>\n      <th></th>\n      <th></th>\n      <th></th>\n      <th></th>\n      <th></th>\n      <th></th>\n      <th></th>\n      <th></th>\n      <th></th>\n      <th></th>\n      <th></th>\n      <th></th>\n      <th></th>\n      <th></th>\n    </tr>\n  </thead>\n  <tbody>\n    <tr>\n      <th>uc2.ark+=13960=t55d8p14j</th>\n      <td>Stephens, Ann S</td>\n      <td>High life in New York</td>\n      <td>1843</td>\n      <td>uc2.ark+=13960=t55d8p14j</td>\n      <td>1854</td>\n      <td>1843.0</td>\n      <td>1843</td>\n      <td>vulgar</td>\n      <td></td>\n      <td></td>\n      <td>...</td>\n      <td></td>\n      <td></td>\n      <td></td>\n      <td>uc2/pairtree_root/ar/k+/=1/39/60/=t/55/d8/p1/4...</td>\n      <td>47</td>\n      <td>Peterson</td>\n      <td>prestigeficmeta</td>\n      <td></td>\n      <td>Unreviewed</td>\n      <td>Fiction</td>\n    </tr>\n    <tr>\n      <th>nyp.33433075741789</th>\n      <td>Reynolds, George W. M</td>\n      <td>The mysteries of the court of London</td>\n      <td>1845</td>\n      <td>nyp.33433075741789</td>\n      <td>1852</td>\n      <td>1845.0</td>\n      <td>1845</td>\n      <td>vulgar</td>\n      <td></td>\n      <td></td>\n      <td>...</td>\n      <td></td>\n      <td></td>\n      <td></td>\n      <td>nyp/pairtree_root/33/43/30/75/74/17/89/3343307...</td>\n      <td>61</td>\n      <td>Dicks</td>\n      <td>prestigeficmeta</td>\n      <td></td>\n      <td>Unreviewed</td>\n      <td>Fiction</td>\n    </tr>\n    <tr>\n      <th>uc1.b249620</th>\n      <td>Peppergrass, Paul</td>\n      <td>Shandy M'Guire, or, Tricks upon travellers : b...</td>\n      <td>1848</td>\n      <td>uc1.b249620</td>\n      <td>1853</td>\n      <td>1848.0</td>\n      <td>1848</td>\n      <td>vulgar</td>\n      <td></td>\n      <td></td>\n      <td>...</td>\n      <td></td>\n      <td></td>\n      <td></td>\n      <td>uc1/pairtree_root/$b/24/96/20/$b249620/uc1.$b2...</td>\n      <td>4</td>\n      <td>Donahoe</td>\n      <td>prestigeficmeta</td>\n      <td></td>\n      <td>Unreviewed</td>\n      <td>Fiction</td>\n    </tr>\n    <tr>\n      <th>njp.32101073308494</th>\n      <td>Manning, Anne</td>\n      <td>The maiden &amp; married life of Mary Powell, afte...</td>\n      <td>1849</td>\n      <td>njp.32101073308494</td>\n      <td>1852</td>\n      <td>1849.0</td>\n      <td>1849</td>\n      <td>vulgar</td>\n      <td></td>\n      <td></td>\n      <td>...</td>\n      <td></td>\n      <td></td>\n      <td></td>\n      <td>njp/pairtree_root/32/10/10/73/30/84/94/3210107...</td>\n      <td>66</td>\n      <td>Appleton</td>\n      <td>prestigeficmeta</td>\n      <td></td>\n      <td>Unreviewed</td>\n      <td>Fiction</td>\n    </tr>\n    <tr>\n      <th>uc2.ark+=13960=t4wh2fh9b</th>\n      <td>Leighton, John</td>\n      <td>Christmas comes but once a year</td>\n      <td>1850</td>\n      <td>uc2.ark+=13960=t4wh2fh9b</td>\n      <td>1850</td>\n      <td>1850.0</td>\n      <td>1850</td>\n      <td>vulgar</td>\n      <td></td>\n      <td></td>\n      <td>...</td>\n      <td></td>\n      <td></td>\n      <td></td>\n      <td>uc2/pairtree_root/ar/k+/=1/39/60/=t/4w/h2/fh/9...</td>\n      <td>2</td>\n      <td>William Tegg</td>\n      <td>prestigeficmeta</td>\n      <td></td>\n      <td>Unreviewed</td>\n      <td>Fiction</td>\n    </tr>\n    <tr>\n      <th>...</th>\n      <td>...</td>\n      <td>...</td>\n      <td>...</td>\n      <td>...</td>\n      <td>...</td>\n      <td>...</td>\n      <td>...</td>\n      <td>...</td>\n      <td>...</td>\n      <td>...</td>\n      <td>...</td>\n      <td>...</td>\n      <td>...</td>\n      <td>...</td>\n      <td>...</td>\n      <td>...</td>\n      <td>...</td>\n      <td>...</td>\n      <td>...</td>\n      <td>...</td>\n      <td>...</td>\n    </tr>\n    <tr>\n      <th>uc1.$b182827</th>\n      <td>Cotterell, Geoffrey</td>\n      <td>Then a soldier</td>\n      <td>1945</td>\n      <td>uc1.$b182827</td>\n      <td>1945</td>\n      <td>1945.0</td>\n      <td>1945</td>\n      <td>vulgar</td>\n      <td></td>\n      <td></td>\n      <td>...</td>\n      <td></td>\n      <td></td>\n      <td></td>\n      <td>uc1/pairtree_root/$b/18/28/27/$b182827/uc1.$b1...</td>\n      <td>1</td>\n      <td>Eyre Spottiswoode</td>\n      <td>genderbalancedfiction</td>\n      <td>1940</td>\n      <td>Unreviewed</td>\n      <td>Fiction</td>\n    </tr>\n    <tr>\n      <th>uc1.$b56415</th>\n      <td>Corey, Paul</td>\n      <td>The road returns, | $c: by Paul Corey.</td>\n      <td>1940</td>\n      <td>uc1.$b56415</td>\n      <td>1940</td>\n      <td>1940.0</td>\n      <td>1940</td>\n      <td>vulgar</td>\n      <td></td>\n      <td></td>\n      <td>...</td>\n      <td></td>\n      <td></td>\n      <td></td>\n      <td>uc1/pairtree_root/$b/56/41/5/$b56415/uc1.$b564...</td>\n      <td>3</td>\n      <td>Indianapolis Bobbs Merrill</td>\n      <td>genderbalancedfiction</td>\n      <td>1940</td>\n      <td>Unreviewed</td>\n      <td>Fiction</td>\n    </tr>\n    <tr>\n      <th>mdp.39015000543002</th>\n      <td>Paul, Elliot</td>\n      <td>Hugger-mugger in the Louvre; | a Homer Evans m...</td>\n      <td>1940</td>\n      <td>mdp.39015000543002</td>\n      <td>1940</td>\n      <td>1940.0</td>\n      <td>1940</td>\n      <td>vulgar</td>\n      <td></td>\n      <td></td>\n      <td>...</td>\n      <td></td>\n      <td></td>\n      <td></td>\n      <td>mdp/pairtree_root/39/01/50/00/54/30/02/3901500...</td>\n      <td>9</td>\n      <td>Random House</td>\n      <td>genderbalancedfiction</td>\n      <td>1940</td>\n      <td>Unreviewed</td>\n      <td>Fiction</td>\n    </tr>\n    <tr>\n      <th>uc1.$b106144</th>\n      <td>Weidman, Jerome</td>\n      <td>The lights around the shore.</td>\n      <td>1943</td>\n      <td>uc1.$b106144</td>\n      <td>1943</td>\n      <td>1943.0</td>\n      <td>1943</td>\n      <td>vulgar</td>\n      <td></td>\n      <td></td>\n      <td>...</td>\n      <td></td>\n      <td></td>\n      <td></td>\n      <td>uc1/pairtree_root/$b/10/61/44/$b106144/uc1.$b1...</td>\n      <td>8</td>\n      <td>Simon Schuster</td>\n      <td>genderbalancedfiction</td>\n      <td>1940</td>\n      <td>Unreviewed</td>\n      <td>Fiction</td>\n    </tr>\n    <tr>\n      <th>uc1.$b323515</th>\n      <td>Butler, Gerald</td>\n      <td>Mad with much heart | $c: [by] Gerald Butler.</td>\n      <td>1945</td>\n      <td>uc1.$b323515</td>\n      <td>1946</td>\n      <td>1945.0</td>\n      <td>1945</td>\n      <td>vulgar</td>\n      <td></td>\n      <td></td>\n      <td>...</td>\n      <td></td>\n      <td></td>\n      <td></td>\n      <td>uc1/pairtree_root/$b/32/35/15/$b323515/uc1.$b3...</td>\n      <td>3</td>\n      <td>Rinehart</td>\n      <td>genderbalancedfiction</td>\n      <td>1940</td>\n      <td>Unreviewed</td>\n      <td>Fiction</td>\n    </tr>\n  </tbody>\n</table>\n<p>3673 rows × 30 columns</p>\n</div>"
     },
     "metadata": {},
     "execution_count": 26
    }
   ],
   "source": [
    "# Metadata\n",
    "C.meta"
   ]
  },
  {
   "cell_type": "code",
   "execution_count": 27,
   "metadata": {},
   "outputs": [
    {
     "output_type": "execute_result",
     "data": {
      "text/plain": [
       "count    3673.000000\n",
       "mean     1889.794446\n",
       "std        28.196217\n",
       "min      1816.000000\n",
       "25%      1870.000000\n",
       "50%      1886.000000\n",
       "75%      1913.000000\n",
       "max      1949.000000\n",
       "Name: year, dtype: float64"
      ]
     },
     "metadata": {},
     "execution_count": 27
    }
   ],
   "source": [
    "C.meta.year.describe()"
   ]
  },
  {
   "cell_type": "code",
   "execution_count": 28,
   "metadata": {
    "tags": []
   },
   "outputs": [],
   "source": [
    "# C.meta.year.plot.density()"
   ]
  },
  {
   "cell_type": "code",
   "execution_count": 29,
   "metadata": {},
   "outputs": [
    {
     "output_type": "execute_result",
     "data": {
      "text/plain": [
       "                                      author  \\\n",
       "id                                             \n",
       "uc2.ark+=13960=t8cf9nt5b  Montgomery, James,   \n",
       "uc2.ark+=13960=t00z73601             Hemans,   \n",
       "uc2.ark+=13960=t4pk0b904       Briggs, John,   \n",
       "uc2.ark+=13960=t39z93k29    Woodley, George,   \n",
       "nnc1.1002223996              Scott, Moses Y.   \n",
       "...                                      ...   \n",
       "wu.89087910576               Towers, Frances   \n",
       "mdp.39015031325833           Hutchinson, R.C   \n",
       "mdp.39015002141011           MacInnes, Helen   \n",
       "wu.89087910576               Towers, Frances   \n",
       "mdp.39015020733708            Orwell, George   \n",
       "\n",
       "                                                                      title  \\\n",
       "id                                                                            \n",
       "uc2.ark+=13960=t8cf9nt5b  Verses to the memory of the late Richard Reyno...   \n",
       "uc2.ark+=13960=t00z73601       The restoration of the works of art to Italy   \n",
       "uc2.ark+=13960=t4pk0b904                                                      \n",
       "uc2.ark+=13960=t39z93k29                                           Cornubia   \n",
       "nnc1.1002223996                                          The deaf and dumb;   \n",
       "...                                                                     ...   \n",
       "wu.89087910576                   Tea with Mr. Rochester, and other stories.   \n",
       "mdp.39015031325833                                      Elephant and Castle   \n",
       "mdp.39015002141011                                  Neither five nor three.   \n",
       "wu.89087910576                   Tea with Mr. Rochester, and other stories.   \n",
       "mdp.39015020733708                                     Nineteen Eighty-four   \n",
       "\n",
       "                          year                     docid actualdate  \\\n",
       "id                                                                    \n",
       "uc2.ark+=13960=t8cf9nt5b  1816  uc2.ark+=13960=t8cf9nt5b       1816   \n",
       "uc2.ark+=13960=t00z73601  1816  uc2.ark+=13960=t00z73601       1816   \n",
       "uc2.ark+=13960=t4pk0b904  1818  uc2.ark+=13960=t4pk0b904       1818   \n",
       "uc2.ark+=13960=t39z93k29  1819  uc2.ark+=13960=t39z93k29       1819   \n",
       "nnc1.1002223996           1819           nnc1.1002223996       1819   \n",
       "...                        ...                       ...        ...   \n",
       "wu.89087910576            1949            wu.89087910576       1949   \n",
       "mdp.39015031325833        1949        mdp.39015031325833       1949   \n",
       "mdp.39015002141011        1949        mdp.39015002141011       1951   \n",
       "wu.89087910576            1949            wu.89087910576       1949   \n",
       "mdp.39015020733708        1949        mdp.39015020733708       1949   \n",
       "\n",
       "                          earliestdate firstpub      tags     recordid  \\\n",
       "id                                                                       \n",
       "uc2.ark+=13960=t8cf9nt5b        1816.0     1816    random  7.69089e+06   \n",
       "uc2.ark+=13960=t00z73601        1816.0     1816  reviewed  6.64592e+06   \n",
       "uc2.ark+=13960=t4pk0b904        1818.0     1818    random                \n",
       "uc2.ark+=13960=t39z93k29        1819.0     1819    random  7.69393e+06   \n",
       "nnc1.1002223996                 1819.0     1819    random  8.40497e+06   \n",
       "...                                ...      ...       ...          ...   \n",
       "wu.89087910576                  1949.0     1949    vulgar                \n",
       "mdp.39015031325833              1949.0     1949     elite       480189   \n",
       "mdp.39015002141011              1949.0     1949    vulgar                \n",
       "wu.89087910576                  1949.0     1949    vulgar                \n",
       "mdp.39015020733708              1949.0     1949     elite       672920   \n",
       "\n",
       "                               OCLC  ... othername notes canon  \\\n",
       "id                                   ...                         \n",
       "uc2.ark+=13960=t8cf9nt5b             ...                         \n",
       "uc2.ark+=13960=t00z73601  8523986.0  ...                     y   \n",
       "uc2.ark+=13960=t4pk0b904             ...                         \n",
       "uc2.ark+=13960=t39z93k29             ...                         \n",
       "nnc1.1002223996                      ...                         \n",
       "...                             ...  ...       ...   ...   ...   \n",
       "wu.89087910576                       ...                         \n",
       "mdp.39015031325833                   ...                         \n",
       "mdp.39015002141011                   ...                         \n",
       "wu.89087910576                       ...                         \n",
       "mdp.39015020733708                   ...                         \n",
       "\n",
       "                                                                       path  \\\n",
       "id                                                                            \n",
       "uc2.ark+=13960=t8cf9nt5b                                                      \n",
       "uc2.ark+=13960=t00z73601                                                      \n",
       "uc2.ark+=13960=t4pk0b904                                                      \n",
       "uc2.ark+=13960=t39z93k29                                                      \n",
       "nnc1.1002223996                                                               \n",
       "...                                                                     ...   \n",
       "wu.89087910576            wu/pairtree_root/89/08/79/10/57/6/89087910576/...   \n",
       "mdp.39015031325833        mdp/pairtree_root/39/01/50/31/32/58/33/3901503...   \n",
       "mdp.39015002141011        mdp/pairtree_root/39/01/50/02/14/10/11/3901500...   \n",
       "wu.89087910576            wu/pairtree_root/89/08/79/10/57/6/89087910576/...   \n",
       "mdp.39015020733708        mdp/pairtree_root/39/01/50/20/73/37/08/3901502...   \n",
       "\n",
       "                         authsvols       publisher              subcorpus  \\\n",
       "id                                                                          \n",
       "uc2.ark+=13960=t8cf9nt5b                                  prestigepoemeta   \n",
       "uc2.ark+=13960=t00z73601                                  prestigepoemeta   \n",
       "uc2.ark+=13960=t4pk0b904                                  prestigepoemeta   \n",
       "uc2.ark+=13960=t39z93k29                                  prestigepoemeta   \n",
       "nnc1.1002223996                                           prestigepoemeta   \n",
       "...                            ...             ...                    ...   \n",
       "wu.89087910576                   1  Michael Joseph        prestigeficmeta   \n",
       "mdp.39015031325833               9        Rinehart  nationbalancedfiction   \n",
       "mdp.39015002141011               8             Nan  nationbalancedfiction   \n",
       "wu.89087910576                   1  Michael Joseph  genderbalancedfiction   \n",
       "mdp.39015020733708              16  Harcourt Brace        prestigeficmeta   \n",
       "\n",
       "                         decade    reviewed    genre  \n",
       "id                                                    \n",
       "uc2.ark+=13960=t8cf9nt5b         Unreviewed   Poetry  \n",
       "uc2.ark+=13960=t00z73601           Reviewed   Poetry  \n",
       "uc2.ark+=13960=t4pk0b904         Unreviewed   Poetry  \n",
       "uc2.ark+=13960=t39z93k29         Unreviewed   Poetry  \n",
       "nnc1.1002223996                  Unreviewed   Poetry  \n",
       "...                         ...         ...      ...  \n",
       "wu.89087910576                   Unreviewed  Fiction  \n",
       "mdp.39015031325833         1940    Reviewed  Fiction  \n",
       "mdp.39015002141011         1940  Unreviewed  Fiction  \n",
       "wu.89087910576             1940  Unreviewed  Fiction  \n",
       "mdp.39015020733708                 Reviewed  Fiction  \n",
       "\n",
       "[3673 rows x 30 columns]"
      ],
      "text/html": "<div>\n<style scoped>\n    .dataframe tbody tr th:only-of-type {\n        vertical-align: middle;\n    }\n\n    .dataframe tbody tr th {\n        vertical-align: top;\n    }\n\n    .dataframe thead th {\n        text-align: right;\n    }\n</style>\n<table border=\"1\" class=\"dataframe\">\n  <thead>\n    <tr style=\"text-align: right;\">\n      <th></th>\n      <th>author</th>\n      <th>title</th>\n      <th>year</th>\n      <th>docid</th>\n      <th>actualdate</th>\n      <th>earliestdate</th>\n      <th>firstpub</th>\n      <th>tags</th>\n      <th>recordid</th>\n      <th>OCLC</th>\n      <th>...</th>\n      <th>othername</th>\n      <th>notes</th>\n      <th>canon</th>\n      <th>path</th>\n      <th>authsvols</th>\n      <th>publisher</th>\n      <th>subcorpus</th>\n      <th>decade</th>\n      <th>reviewed</th>\n      <th>genre</th>\n    </tr>\n    <tr>\n      <th>id</th>\n      <th></th>\n      <th></th>\n      <th></th>\n      <th></th>\n      <th></th>\n      <th></th>\n      <th></th>\n      <th></th>\n      <th></th>\n      <th></th>\n      <th></th>\n      <th></th>\n      <th></th>\n      <th></th>\n      <th></th>\n      <th></th>\n      <th></th>\n      <th></th>\n      <th></th>\n      <th></th>\n      <th></th>\n    </tr>\n  </thead>\n  <tbody>\n    <tr>\n      <th>uc2.ark+=13960=t8cf9nt5b</th>\n      <td>Montgomery, James,</td>\n      <td>Verses to the memory of the late Richard Reyno...</td>\n      <td>1816</td>\n      <td>uc2.ark+=13960=t8cf9nt5b</td>\n      <td>1816</td>\n      <td>1816.0</td>\n      <td>1816</td>\n      <td>random</td>\n      <td>7.69089e+06</td>\n      <td></td>\n      <td>...</td>\n      <td></td>\n      <td></td>\n      <td></td>\n      <td></td>\n      <td></td>\n      <td></td>\n      <td>prestigepoemeta</td>\n      <td></td>\n      <td>Unreviewed</td>\n      <td>Poetry</td>\n    </tr>\n    <tr>\n      <th>uc2.ark+=13960=t00z73601</th>\n      <td>Hemans,</td>\n      <td>The restoration of the works of art to Italy</td>\n      <td>1816</td>\n      <td>uc2.ark+=13960=t00z73601</td>\n      <td>1816</td>\n      <td>1816.0</td>\n      <td>1816</td>\n      <td>reviewed</td>\n      <td>6.64592e+06</td>\n      <td>8523986.0</td>\n      <td>...</td>\n      <td></td>\n      <td></td>\n      <td>y</td>\n      <td></td>\n      <td></td>\n      <td></td>\n      <td>prestigepoemeta</td>\n      <td></td>\n      <td>Reviewed</td>\n      <td>Poetry</td>\n    </tr>\n    <tr>\n      <th>uc2.ark+=13960=t4pk0b904</th>\n      <td>Briggs, John,</td>\n      <td></td>\n      <td>1818</td>\n      <td>uc2.ark+=13960=t4pk0b904</td>\n      <td>1818</td>\n      <td>1818.0</td>\n      <td>1818</td>\n      <td>random</td>\n      <td></td>\n      <td></td>\n      <td>...</td>\n      <td></td>\n      <td></td>\n      <td></td>\n      <td></td>\n      <td></td>\n      <td></td>\n      <td>prestigepoemeta</td>\n      <td></td>\n      <td>Unreviewed</td>\n      <td>Poetry</td>\n    </tr>\n    <tr>\n      <th>uc2.ark+=13960=t39z93k29</th>\n      <td>Woodley, George,</td>\n      <td>Cornubia</td>\n      <td>1819</td>\n      <td>uc2.ark+=13960=t39z93k29</td>\n      <td>1819</td>\n      <td>1819.0</td>\n      <td>1819</td>\n      <td>random</td>\n      <td>7.69393e+06</td>\n      <td></td>\n      <td>...</td>\n      <td></td>\n      <td></td>\n      <td></td>\n      <td></td>\n      <td></td>\n      <td></td>\n      <td>prestigepoemeta</td>\n      <td></td>\n      <td>Unreviewed</td>\n      <td>Poetry</td>\n    </tr>\n    <tr>\n      <th>nnc1.1002223996</th>\n      <td>Scott, Moses Y.</td>\n      <td>The deaf and dumb;</td>\n      <td>1819</td>\n      <td>nnc1.1002223996</td>\n      <td>1819</td>\n      <td>1819.0</td>\n      <td>1819</td>\n      <td>random</td>\n      <td>8.40497e+06</td>\n      <td></td>\n      <td>...</td>\n      <td></td>\n      <td></td>\n      <td></td>\n      <td></td>\n      <td></td>\n      <td></td>\n      <td>prestigepoemeta</td>\n      <td></td>\n      <td>Unreviewed</td>\n      <td>Poetry</td>\n    </tr>\n    <tr>\n      <th>...</th>\n      <td>...</td>\n      <td>...</td>\n      <td>...</td>\n      <td>...</td>\n      <td>...</td>\n      <td>...</td>\n      <td>...</td>\n      <td>...</td>\n      <td>...</td>\n      <td>...</td>\n      <td>...</td>\n      <td>...</td>\n      <td>...</td>\n      <td>...</td>\n      <td>...</td>\n      <td>...</td>\n      <td>...</td>\n      <td>...</td>\n      <td>...</td>\n      <td>...</td>\n      <td>...</td>\n    </tr>\n    <tr>\n      <th>wu.89087910576</th>\n      <td>Towers, Frances</td>\n      <td>Tea with Mr. Rochester, and other stories.</td>\n      <td>1949</td>\n      <td>wu.89087910576</td>\n      <td>1949</td>\n      <td>1949.0</td>\n      <td>1949</td>\n      <td>vulgar</td>\n      <td></td>\n      <td></td>\n      <td>...</td>\n      <td></td>\n      <td></td>\n      <td></td>\n      <td>wu/pairtree_root/89/08/79/10/57/6/89087910576/...</td>\n      <td>1</td>\n      <td>Michael Joseph</td>\n      <td>prestigeficmeta</td>\n      <td></td>\n      <td>Unreviewed</td>\n      <td>Fiction</td>\n    </tr>\n    <tr>\n      <th>mdp.39015031325833</th>\n      <td>Hutchinson, R.C</td>\n      <td>Elephant and Castle</td>\n      <td>1949</td>\n      <td>mdp.39015031325833</td>\n      <td>1949</td>\n      <td>1949.0</td>\n      <td>1949</td>\n      <td>elite</td>\n      <td>480189</td>\n      <td></td>\n      <td>...</td>\n      <td></td>\n      <td></td>\n      <td></td>\n      <td>mdp/pairtree_root/39/01/50/31/32/58/33/3901503...</td>\n      <td>9</td>\n      <td>Rinehart</td>\n      <td>nationbalancedfiction</td>\n      <td>1940</td>\n      <td>Reviewed</td>\n      <td>Fiction</td>\n    </tr>\n    <tr>\n      <th>mdp.39015002141011</th>\n      <td>MacInnes, Helen</td>\n      <td>Neither five nor three.</td>\n      <td>1949</td>\n      <td>mdp.39015002141011</td>\n      <td>1951</td>\n      <td>1949.0</td>\n      <td>1949</td>\n      <td>vulgar</td>\n      <td></td>\n      <td></td>\n      <td>...</td>\n      <td></td>\n      <td></td>\n      <td></td>\n      <td>mdp/pairtree_root/39/01/50/02/14/10/11/3901500...</td>\n      <td>8</td>\n      <td>Nan</td>\n      <td>nationbalancedfiction</td>\n      <td>1940</td>\n      <td>Unreviewed</td>\n      <td>Fiction</td>\n    </tr>\n    <tr>\n      <th>wu.89087910576</th>\n      <td>Towers, Frances</td>\n      <td>Tea with Mr. Rochester, and other stories.</td>\n      <td>1949</td>\n      <td>wu.89087910576</td>\n      <td>1949</td>\n      <td>1949.0</td>\n      <td>1949</td>\n      <td>vulgar</td>\n      <td></td>\n      <td></td>\n      <td>...</td>\n      <td></td>\n      <td></td>\n      <td></td>\n      <td>wu/pairtree_root/89/08/79/10/57/6/89087910576/...</td>\n      <td>1</td>\n      <td>Michael Joseph</td>\n      <td>genderbalancedfiction</td>\n      <td>1940</td>\n      <td>Unreviewed</td>\n      <td>Fiction</td>\n    </tr>\n    <tr>\n      <th>mdp.39015020733708</th>\n      <td>Orwell, George</td>\n      <td>Nineteen Eighty-four</td>\n      <td>1949</td>\n      <td>mdp.39015020733708</td>\n      <td>1949</td>\n      <td>1949.0</td>\n      <td>1949</td>\n      <td>elite</td>\n      <td>672920</td>\n      <td></td>\n      <td>...</td>\n      <td></td>\n      <td></td>\n      <td></td>\n      <td>mdp/pairtree_root/39/01/50/20/73/37/08/3901502...</td>\n      <td>16</td>\n      <td>Harcourt Brace</td>\n      <td>prestigeficmeta</td>\n      <td></td>\n      <td>Reviewed</td>\n      <td>Fiction</td>\n    </tr>\n  </tbody>\n</table>\n<p>3673 rows × 30 columns</p>\n</div>"
     },
     "metadata": {},
     "execution_count": 29
    }
   ],
   "source": [
    "C.meta.sort_values('year')"
   ]
  },
  {
   "cell_type": "code",
   "execution_count": 30,
   "metadata": {},
   "outputs": [
    {
     "output_type": "execute_result",
     "data": {
      "text/plain": [
       "Unreviewed    1937\n",
       "Reviewed      1736\n",
       "Name: reviewed, dtype: int64"
      ]
     },
     "metadata": {},
     "execution_count": 30
    }
   ],
   "source": [
    "C.meta.reviewed.value_counts()"
   ]
  },
  {
   "cell_type": "code",
   "execution_count": 31,
   "metadata": {},
   "outputs": [
    {
     "output_type": "execute_result",
     "data": {
      "text/plain": [
       "Fiction    2661\n",
       "Poetry     1012\n",
       "Name: genre, dtype: int64"
      ]
     },
     "metadata": {},
     "execution_count": 31
    }
   ],
   "source": [
    "C.meta.genre.value_counts()"
   ]
  },
  {
   "cell_type": "code",
   "execution_count": 32,
   "metadata": {},
   "outputs": [
    {
     "output_type": "execute_result",
     "data": {
      "text/plain": [
       "genre    reviewed  \n",
       "Fiction  Reviewed      1265\n",
       "         Unreviewed    1396\n",
       "Poetry   Reviewed       471\n",
       "         Unreviewed     541\n",
       "dtype: int64"
      ]
     },
     "metadata": {},
     "execution_count": 32
    }
   ],
   "source": [
    "C.meta.groupby(['genre','reviewed']).size()"
   ]
  },
  {
   "cell_type": "code",
   "execution_count": null,
   "metadata": {},
   "outputs": [],
   "source": []
  },
  {
   "cell_type": "markdown",
   "metadata": {},
   "source": [
    "## Preprocess"
   ]
  },
  {
   "cell_type": "code",
   "execution_count": 33,
   "metadata": {},
   "outputs": [],
   "source": [
    "!rm -rf {C.path_data}"
   ]
  },
  {
   "cell_type": "code",
   "execution_count": 34,
   "metadata": {
    "tags": []
   },
   "outputs": [],
   "source": [
    "# C.preprocess_mfw()"
   ]
  },
  {
   "cell_type": "markdown",
   "metadata": {},
   "source": [
    "## Examine data"
   ]
  },
  {
   "cell_type": "code",
   "execution_count": 35,
   "metadata": {
    "tags": []
   },
   "outputs": [
    {
     "output_type": "stream",
     "name": "stderr",
     "text": [
      "Computing most frequent words across all texts [x7]: 100%|██████████| 10/10 [00:00<00:00, 62.59it/s]\n",
      "[LongArcPrestige] Saving MFW to ~/lltk_data/corpora/long_arc_prestige/data/mfw/8e7f5e9b073d.pkl\n"
     ]
    },
    {
     "output_type": "execute_result",
     "data": {
      "text/plain": [
       "              count           fpm   rank  ranks_avg  pos pos0\n",
       "word                                                         \n",
       "the           39777  47610.953979      1          1   at    a\n",
       "and           29353  35133.980243      2          2   cc    c\n",
       "of            22488  26916.940269      3          3   ii    i\n",
       "to            20733  24816.298586      4          4   to    t\n",
       "a             16760  20060.828838      5          5   at    a\n",
       "...             ...           ...    ...        ...  ...  ...\n",
       "dullness          1      1.196947  24991      26674  nn1    n\n",
       "tremendously      1      1.196947  24992      26781   rr    r\n",
       "dulled            1      1.196947  24993      26338  vvn    v\n",
       "tremors           1      1.196947  24994      26240  nn2    n\n",
       "libel             1      1.196947  25000      26256  nn1    n\n",
       "\n",
       "[17936 rows x 6 columns]"
      ],
      "text/html": "<div>\n<style scoped>\n    .dataframe tbody tr th:only-of-type {\n        vertical-align: middle;\n    }\n\n    .dataframe tbody tr th {\n        vertical-align: top;\n    }\n\n    .dataframe thead th {\n        text-align: right;\n    }\n</style>\n<table border=\"1\" class=\"dataframe\">\n  <thead>\n    <tr style=\"text-align: right;\">\n      <th></th>\n      <th>count</th>\n      <th>fpm</th>\n      <th>rank</th>\n      <th>ranks_avg</th>\n      <th>pos</th>\n      <th>pos0</th>\n    </tr>\n    <tr>\n      <th>word</th>\n      <th></th>\n      <th></th>\n      <th></th>\n      <th></th>\n      <th></th>\n      <th></th>\n    </tr>\n  </thead>\n  <tbody>\n    <tr>\n      <th>the</th>\n      <td>39777</td>\n      <td>47610.953979</td>\n      <td>1</td>\n      <td>1</td>\n      <td>at</td>\n      <td>a</td>\n    </tr>\n    <tr>\n      <th>and</th>\n      <td>29353</td>\n      <td>35133.980243</td>\n      <td>2</td>\n      <td>2</td>\n      <td>cc</td>\n      <td>c</td>\n    </tr>\n    <tr>\n      <th>of</th>\n      <td>22488</td>\n      <td>26916.940269</td>\n      <td>3</td>\n      <td>3</td>\n      <td>ii</td>\n      <td>i</td>\n    </tr>\n    <tr>\n      <th>to</th>\n      <td>20733</td>\n      <td>24816.298586</td>\n      <td>4</td>\n      <td>4</td>\n      <td>to</td>\n      <td>t</td>\n    </tr>\n    <tr>\n      <th>a</th>\n      <td>16760</td>\n      <td>20060.828838</td>\n      <td>5</td>\n      <td>5</td>\n      <td>at</td>\n      <td>a</td>\n    </tr>\n    <tr>\n      <th>...</th>\n      <td>...</td>\n      <td>...</td>\n      <td>...</td>\n      <td>...</td>\n      <td>...</td>\n      <td>...</td>\n    </tr>\n    <tr>\n      <th>dullness</th>\n      <td>1</td>\n      <td>1.196947</td>\n      <td>24991</td>\n      <td>26674</td>\n      <td>nn1</td>\n      <td>n</td>\n    </tr>\n    <tr>\n      <th>tremendously</th>\n      <td>1</td>\n      <td>1.196947</td>\n      <td>24992</td>\n      <td>26781</td>\n      <td>rr</td>\n      <td>r</td>\n    </tr>\n    <tr>\n      <th>dulled</th>\n      <td>1</td>\n      <td>1.196947</td>\n      <td>24993</td>\n      <td>26338</td>\n      <td>vvn</td>\n      <td>v</td>\n    </tr>\n    <tr>\n      <th>tremors</th>\n      <td>1</td>\n      <td>1.196947</td>\n      <td>24994</td>\n      <td>26240</td>\n      <td>nn2</td>\n      <td>n</td>\n    </tr>\n    <tr>\n      <th>libel</th>\n      <td>1</td>\n      <td>1.196947</td>\n      <td>25000</td>\n      <td>26256</td>\n      <td>nn1</td>\n      <td>n</td>\n    </tr>\n  </tbody>\n</table>\n<p>17936 rows × 6 columns</p>\n</div>"
     },
     "metadata": {},
     "execution_count": 35
    }
   ],
   "source": [
    "# Most frequent words\n",
    "mfw_df = C.mfw_df(texts=C.meta.sample(n=10))\n",
    "mfw_df"
   ]
  },
  {
   "cell_type": "code",
   "execution_count": 17,
   "metadata": {},
   "outputs": [
    {
     "output_type": "execute_result",
     "data": {
      "text/plain": [
       "1"
      ]
     },
     "metadata": {},
     "execution_count": 17
    }
   ],
   "source": []
  },
  {
   "cell_type": "code",
   "execution_count": 14,
   "metadata": {
    "tags": []
   },
   "outputs": [
    {
     "output_type": "stream",
     "name": "stderr",
     "text": [
      "[LongArcPrestige] Counting most frequent words across 10-year periods [x7]: 100%|██████████| 14/14 [00:11<00:00,  1.19it/s]\n",
      "[LongArcPrestige] Saving MFW to ~/lltk_data/corpora/long_arc_prestige/data/mfw/070d1b97890c.pkl\n"
     ]
    },
    {
     "output_type": "execute_result",
     "data": {
      "text/plain": [
       "           period       word    count           fpm  rank  pos pos0\n",
       "0       1810-1820        the    28323  50929.289151     1   at    a\n",
       "1       1820-1830        the   190236  56919.394411     1   at    a\n",
       "2       1830-1840        the   254374  60839.479291     1   at    a\n",
       "3       1840-1850        the   351101  59499.940941     1   at    a\n",
       "4       1850-1860        the  1211768  53466.789399     1   at    a\n",
       "...           ...        ...      ...           ...   ...  ...  ...\n",
       "283885  1900-1910  telephone      455     15.645779  4913  nn1    n\n",
       "283886  1910-1920  telephone      387     16.175555  4827  nn1    n\n",
       "283887  1920-1930  telephone     2096     74.462066  1197  nn1    n\n",
       "283888  1930-1940  telephone     2038    107.357842   837  nn1    n\n",
       "283889  1940-1950  telephone     1093     80.245968  1125  nn1    n\n",
       "\n",
       "[283890 rows x 7 columns]"
      ],
      "text/html": "<div>\n<style scoped>\n    .dataframe tbody tr th:only-of-type {\n        vertical-align: middle;\n    }\n\n    .dataframe tbody tr th {\n        vertical-align: top;\n    }\n\n    .dataframe thead th {\n        text-align: right;\n    }\n</style>\n<table border=\"1\" class=\"dataframe\">\n  <thead>\n    <tr style=\"text-align: right;\">\n      <th></th>\n      <th>period</th>\n      <th>word</th>\n      <th>count</th>\n      <th>fpm</th>\n      <th>rank</th>\n      <th>pos</th>\n      <th>pos0</th>\n    </tr>\n  </thead>\n  <tbody>\n    <tr>\n      <th>0</th>\n      <td>1810-1820</td>\n      <td>the</td>\n      <td>28323</td>\n      <td>50929.289151</td>\n      <td>1</td>\n      <td>at</td>\n      <td>a</td>\n    </tr>\n    <tr>\n      <th>1</th>\n      <td>1820-1830</td>\n      <td>the</td>\n      <td>190236</td>\n      <td>56919.394411</td>\n      <td>1</td>\n      <td>at</td>\n      <td>a</td>\n    </tr>\n    <tr>\n      <th>2</th>\n      <td>1830-1840</td>\n      <td>the</td>\n      <td>254374</td>\n      <td>60839.479291</td>\n      <td>1</td>\n      <td>at</td>\n      <td>a</td>\n    </tr>\n    <tr>\n      <th>3</th>\n      <td>1840-1850</td>\n      <td>the</td>\n      <td>351101</td>\n      <td>59499.940941</td>\n      <td>1</td>\n      <td>at</td>\n      <td>a</td>\n    </tr>\n    <tr>\n      <th>4</th>\n      <td>1850-1860</td>\n      <td>the</td>\n      <td>1211768</td>\n      <td>53466.789399</td>\n      <td>1</td>\n      <td>at</td>\n      <td>a</td>\n    </tr>\n    <tr>\n      <th>...</th>\n      <td>...</td>\n      <td>...</td>\n      <td>...</td>\n      <td>...</td>\n      <td>...</td>\n      <td>...</td>\n      <td>...</td>\n    </tr>\n    <tr>\n      <th>283885</th>\n      <td>1900-1910</td>\n      <td>telephone</td>\n      <td>455</td>\n      <td>15.645779</td>\n      <td>4913</td>\n      <td>nn1</td>\n      <td>n</td>\n    </tr>\n    <tr>\n      <th>283886</th>\n      <td>1910-1920</td>\n      <td>telephone</td>\n      <td>387</td>\n      <td>16.175555</td>\n      <td>4827</td>\n      <td>nn1</td>\n      <td>n</td>\n    </tr>\n    <tr>\n      <th>283887</th>\n      <td>1920-1930</td>\n      <td>telephone</td>\n      <td>2096</td>\n      <td>74.462066</td>\n      <td>1197</td>\n      <td>nn1</td>\n      <td>n</td>\n    </tr>\n    <tr>\n      <th>283888</th>\n      <td>1930-1940</td>\n      <td>telephone</td>\n      <td>2038</td>\n      <td>107.357842</td>\n      <td>837</td>\n      <td>nn1</td>\n      <td>n</td>\n    </tr>\n    <tr>\n      <th>283889</th>\n      <td>1940-1950</td>\n      <td>telephone</td>\n      <td>1093</td>\n      <td>80.245968</td>\n      <td>1125</td>\n      <td>nn1</td>\n      <td>n</td>\n    </tr>\n  </tbody>\n</table>\n<p>283890 rows × 7 columns</p>\n</div>"
     },
     "metadata": {},
     "execution_count": 14
    }
   ],
   "source": [
    "# Most frequent words by period\n",
    "mfw_df = C.mfw_df(yearbin=10)\n",
    "mfw_df"
   ]
  },
  {
   "cell_type": "code",
   "execution_count": 15,
   "metadata": {},
   "outputs": [
    {
     "output_type": "stream",
     "name": "stderr",
     "text": [
      "Computing most frequent words across all texts [x7]: 100%|██████████| 3673/3673 [00:44<00:00, 82.99it/s]\n",
      "[LongArcPrestige] Saving MFW to ~/lltk_data/corpora/long_arc_prestige/data/mfw/3f3e5f2f0fce.pkl\n",
      "[LongArcPrestige] Assembling document-term matrix (DTM) [x7]: 100%|██████████| 3665/3665 [00:23<00:00, 152.81it/s]\n",
      "[LongArcPrestige] Saving DTM to ~/lltk_data/corpora/long_arc_prestige/data/dtm/a8dee9032559.pkl\n"
     ]
    },
    {
     "output_type": "execute_result",
     "data": {
      "text/plain": [
       "                               was       had        is        be      have  \\\n",
       "id                                                                           \n",
       "uc2.ark+=13960=t55d8p14j  0.009262  0.003322  0.001857  0.003490  0.001438   \n",
       "nyp.33433075741789        0.011052  0.005361  0.004101  0.004105  0.003813   \n",
       "uc1.b249620               0.007814  0.003456  0.003830  0.005467  0.003509   \n",
       "njp.32101073308494        0.006302  0.005520  0.005628  0.004433  0.005628   \n",
       "uc2.ark+=13960=t4wh2fh9b  0.004278  0.003422  0.008520  0.004777  0.003458   \n",
       "...                            ...       ...       ...       ...       ...   \n",
       "uc1.$b182827              0.015041  0.007801  0.002585  0.004251  0.002803   \n",
       "uc1.$b56415               0.012622  0.007190  0.000843  0.003603  0.002399   \n",
       "mdp.39015000543002        0.012893  0.010646  0.002891  0.003760  0.003516   \n",
       "uc1.$b106144              0.011575  0.006688  0.002773  0.002393  0.002697   \n",
       "uc1.$b323515              0.017625  0.007266  0.004597  0.004476  0.003906   \n",
       "\n",
       "                              said      were     would        do       are  \\\n",
       "id                                                                           \n",
       "uc2.ark+=13960=t55d8p14j  0.000614  0.001152  0.001522  0.003280  0.000907   \n",
       "nyp.33433075741789        0.002721  0.003213  0.001833  0.001837  0.001683   \n",
       "uc1.b249620               0.002546  0.001827  0.001674  0.002355  0.001338   \n",
       "njp.32101073308494        0.003825  0.001956  0.001108  0.000522  0.002217   \n",
       "uc2.ark+=13960=t4wh2fh9b  0.001248  0.001533  0.001996  0.001497  0.003101   \n",
       "...                            ...       ...       ...       ...       ...   \n",
       "uc1.$b182827              0.009724  0.004282  0.002048  0.004212  0.001845   \n",
       "uc1.$b56415               0.005744  0.003034  0.002579  0.003045  0.000449   \n",
       "mdp.39015000543002        0.006290  0.003018  0.002354  0.001826  0.001172   \n",
       "uc1.$b106144              0.006941  0.003441  0.001801  0.004303  0.001048   \n",
       "uc1.$b323515              0.004015  0.003542  0.003348  0.005289  0.001989   \n",
       "\n",
       "                          ...  plaiting  contortion  embellishment  vomiting  \\\n",
       "id                        ...                                                  \n",
       "uc2.ark+=13960=t55d8p14j  ...       0.0         0.0       0.000000       0.0   \n",
       "nyp.33433075741789        ...       0.0         0.0       0.000004       0.0   \n",
       "uc1.b249620               ...       0.0         0.0       0.000000       0.0   \n",
       "njp.32101073308494        ...       0.0         0.0       0.000000       0.0   \n",
       "uc2.ark+=13960=t4wh2fh9b  ...       0.0         0.0       0.000000       0.0   \n",
       "...                       ...       ...         ...            ...       ...   \n",
       "uc1.$b182827              ...       0.0         0.0       0.000000       0.0   \n",
       "uc1.$b56415               ...       0.0         0.0       0.000000       0.0   \n",
       "mdp.39015000543002        ...       0.0         0.0       0.000000       0.0   \n",
       "uc1.$b106144              ...       0.0         0.0       0.000000       0.0   \n",
       "uc1.$b323515              ...       0.0         0.0       0.000000       0.0   \n",
       "\n",
       "                          perspicacity  rigmarole    itched  digesting  \\\n",
       "id                                                                       \n",
       "uc2.ark+=13960=t55d8p14j           0.0   0.000007  0.000000   0.000000   \n",
       "nyp.33433075741789                 0.0   0.000002  0.000000   0.000000   \n",
       "uc1.b249620                        0.0   0.000000  0.000000   0.000000   \n",
       "njp.32101073308494                 0.0   0.000000  0.000000   0.000000   \n",
       "uc2.ark+=13960=t4wh2fh9b           0.0   0.000000  0.000000   0.000036   \n",
       "...                                ...        ...       ...        ...   \n",
       "uc1.$b182827                       0.0   0.000000  0.000000   0.000000   \n",
       "uc1.$b56415                        0.0   0.000000  0.000000   0.000000   \n",
       "mdp.39015000543002                 0.0   0.000000  0.000000   0.000010   \n",
       "uc1.$b106144                       0.0   0.000000  0.000008   0.000000   \n",
       "uc1.$b323515                       0.0   0.000000  0.000000   0.000000   \n",
       "\n",
       "                           mollify  barefaced  \n",
       "id                                             \n",
       "uc2.ark+=13960=t55d8p14j  0.000035        0.0  \n",
       "nyp.33433075741789        0.000000        0.0  \n",
       "uc1.b249620               0.000000        0.0  \n",
       "njp.32101073308494        0.000000        0.0  \n",
       "uc2.ark+=13960=t4wh2fh9b  0.000000        0.0  \n",
       "...                            ...        ...  \n",
       "uc1.$b182827              0.000000        0.0  \n",
       "uc1.$b56415               0.000000        0.0  \n",
       "mdp.39015000543002        0.000000        0.0  \n",
       "uc1.$b106144              0.000000        0.0  \n",
       "uc1.$b323515              0.000000        0.0  \n",
       "\n",
       "[3665 rows x 25000 columns]"
      ],
      "text/html": "<div>\n<style scoped>\n    .dataframe tbody tr th:only-of-type {\n        vertical-align: middle;\n    }\n\n    .dataframe tbody tr th {\n        vertical-align: top;\n    }\n\n    .dataframe thead th {\n        text-align: right;\n    }\n</style>\n<table border=\"1\" class=\"dataframe\">\n  <thead>\n    <tr style=\"text-align: right;\">\n      <th></th>\n      <th>was</th>\n      <th>had</th>\n      <th>is</th>\n      <th>be</th>\n      <th>have</th>\n      <th>said</th>\n      <th>were</th>\n      <th>would</th>\n      <th>do</th>\n      <th>are</th>\n      <th>...</th>\n      <th>plaiting</th>\n      <th>contortion</th>\n      <th>embellishment</th>\n      <th>vomiting</th>\n      <th>perspicacity</th>\n      <th>rigmarole</th>\n      <th>itched</th>\n      <th>digesting</th>\n      <th>mollify</th>\n      <th>barefaced</th>\n    </tr>\n    <tr>\n      <th>id</th>\n      <th></th>\n      <th></th>\n      <th></th>\n      <th></th>\n      <th></th>\n      <th></th>\n      <th></th>\n      <th></th>\n      <th></th>\n      <th></th>\n      <th></th>\n      <th></th>\n      <th></th>\n      <th></th>\n      <th></th>\n      <th></th>\n      <th></th>\n      <th></th>\n      <th></th>\n      <th></th>\n      <th></th>\n    </tr>\n  </thead>\n  <tbody>\n    <tr>\n      <th>uc2.ark+=13960=t55d8p14j</th>\n      <td>0.009262</td>\n      <td>0.003322</td>\n      <td>0.001857</td>\n      <td>0.003490</td>\n      <td>0.001438</td>\n      <td>0.000614</td>\n      <td>0.001152</td>\n      <td>0.001522</td>\n      <td>0.003280</td>\n      <td>0.000907</td>\n      <td>...</td>\n      <td>0.0</td>\n      <td>0.0</td>\n      <td>0.000000</td>\n      <td>0.0</td>\n      <td>0.0</td>\n      <td>0.000007</td>\n      <td>0.000000</td>\n      <td>0.000000</td>\n      <td>0.000035</td>\n      <td>0.0</td>\n    </tr>\n    <tr>\n      <th>nyp.33433075741789</th>\n      <td>0.011052</td>\n      <td>0.005361</td>\n      <td>0.004101</td>\n      <td>0.004105</td>\n      <td>0.003813</td>\n      <td>0.002721</td>\n      <td>0.003213</td>\n      <td>0.001833</td>\n      <td>0.001837</td>\n      <td>0.001683</td>\n      <td>...</td>\n      <td>0.0</td>\n      <td>0.0</td>\n      <td>0.000004</td>\n      <td>0.0</td>\n      <td>0.0</td>\n      <td>0.000002</td>\n      <td>0.000000</td>\n      <td>0.000000</td>\n      <td>0.000000</td>\n      <td>0.0</td>\n    </tr>\n    <tr>\n      <th>uc1.b249620</th>\n      <td>0.007814</td>\n      <td>0.003456</td>\n      <td>0.003830</td>\n      <td>0.005467</td>\n      <td>0.003509</td>\n      <td>0.002546</td>\n      <td>0.001827</td>\n      <td>0.001674</td>\n      <td>0.002355</td>\n      <td>0.001338</td>\n      <td>...</td>\n      <td>0.0</td>\n      <td>0.0</td>\n      <td>0.000000</td>\n      <td>0.0</td>\n      <td>0.0</td>\n      <td>0.000000</td>\n      <td>0.000000</td>\n      <td>0.000000</td>\n      <td>0.000000</td>\n      <td>0.0</td>\n    </tr>\n    <tr>\n      <th>njp.32101073308494</th>\n      <td>0.006302</td>\n      <td>0.005520</td>\n      <td>0.005628</td>\n      <td>0.004433</td>\n      <td>0.005628</td>\n      <td>0.003825</td>\n      <td>0.001956</td>\n      <td>0.001108</td>\n      <td>0.000522</td>\n      <td>0.002217</td>\n      <td>...</td>\n      <td>0.0</td>\n      <td>0.0</td>\n      <td>0.000000</td>\n      <td>0.0</td>\n      <td>0.0</td>\n      <td>0.000000</td>\n      <td>0.000000</td>\n      <td>0.000000</td>\n      <td>0.000000</td>\n      <td>0.0</td>\n    </tr>\n    <tr>\n      <th>uc2.ark+=13960=t4wh2fh9b</th>\n      <td>0.004278</td>\n      <td>0.003422</td>\n      <td>0.008520</td>\n      <td>0.004777</td>\n      <td>0.003458</td>\n      <td>0.001248</td>\n      <td>0.001533</td>\n      <td>0.001996</td>\n      <td>0.001497</td>\n      <td>0.003101</td>\n      <td>...</td>\n      <td>0.0</td>\n      <td>0.0</td>\n      <td>0.000000</td>\n      <td>0.0</td>\n      <td>0.0</td>\n      <td>0.000000</td>\n      <td>0.000000</td>\n      <td>0.000036</td>\n      <td>0.000000</td>\n      <td>0.0</td>\n    </tr>\n    <tr>\n      <th>...</th>\n      <td>...</td>\n      <td>...</td>\n      <td>...</td>\n      <td>...</td>\n      <td>...</td>\n      <td>...</td>\n      <td>...</td>\n      <td>...</td>\n      <td>...</td>\n      <td>...</td>\n      <td>...</td>\n      <td>...</td>\n      <td>...</td>\n      <td>...</td>\n      <td>...</td>\n      <td>...</td>\n      <td>...</td>\n      <td>...</td>\n      <td>...</td>\n      <td>...</td>\n      <td>...</td>\n    </tr>\n    <tr>\n      <th>uc1.$b182827</th>\n      <td>0.015041</td>\n      <td>0.007801</td>\n      <td>0.002585</td>\n      <td>0.004251</td>\n      <td>0.002803</td>\n      <td>0.009724</td>\n      <td>0.004282</td>\n      <td>0.002048</td>\n      <td>0.004212</td>\n      <td>0.001845</td>\n      <td>...</td>\n      <td>0.0</td>\n      <td>0.0</td>\n      <td>0.000000</td>\n      <td>0.0</td>\n      <td>0.0</td>\n      <td>0.000000</td>\n      <td>0.000000</td>\n      <td>0.000000</td>\n      <td>0.000000</td>\n      <td>0.0</td>\n    </tr>\n    <tr>\n      <th>uc1.$b56415</th>\n      <td>0.012622</td>\n      <td>0.007190</td>\n      <td>0.000843</td>\n      <td>0.003603</td>\n      <td>0.002399</td>\n      <td>0.005744</td>\n      <td>0.003034</td>\n      <td>0.002579</td>\n      <td>0.003045</td>\n      <td>0.000449</td>\n      <td>...</td>\n      <td>0.0</td>\n      <td>0.0</td>\n      <td>0.000000</td>\n      <td>0.0</td>\n      <td>0.0</td>\n      <td>0.000000</td>\n      <td>0.000000</td>\n      <td>0.000000</td>\n      <td>0.000000</td>\n      <td>0.0</td>\n    </tr>\n    <tr>\n      <th>mdp.39015000543002</th>\n      <td>0.012893</td>\n      <td>0.010646</td>\n      <td>0.002891</td>\n      <td>0.003760</td>\n      <td>0.003516</td>\n      <td>0.006290</td>\n      <td>0.003018</td>\n      <td>0.002354</td>\n      <td>0.001826</td>\n      <td>0.001172</td>\n      <td>...</td>\n      <td>0.0</td>\n      <td>0.0</td>\n      <td>0.000000</td>\n      <td>0.0</td>\n      <td>0.0</td>\n      <td>0.000000</td>\n      <td>0.000000</td>\n      <td>0.000010</td>\n      <td>0.000000</td>\n      <td>0.0</td>\n    </tr>\n    <tr>\n      <th>uc1.$b106144</th>\n      <td>0.011575</td>\n      <td>0.006688</td>\n      <td>0.002773</td>\n      <td>0.002393</td>\n      <td>0.002697</td>\n      <td>0.006941</td>\n      <td>0.003441</td>\n      <td>0.001801</td>\n      <td>0.004303</td>\n      <td>0.001048</td>\n      <td>...</td>\n      <td>0.0</td>\n      <td>0.0</td>\n      <td>0.000000</td>\n      <td>0.0</td>\n      <td>0.0</td>\n      <td>0.000000</td>\n      <td>0.000008</td>\n      <td>0.000000</td>\n      <td>0.000000</td>\n      <td>0.0</td>\n    </tr>\n    <tr>\n      <th>uc1.$b323515</th>\n      <td>0.017625</td>\n      <td>0.007266</td>\n      <td>0.004597</td>\n      <td>0.004476</td>\n      <td>0.003906</td>\n      <td>0.004015</td>\n      <td>0.003542</td>\n      <td>0.003348</td>\n      <td>0.005289</td>\n      <td>0.001989</td>\n      <td>...</td>\n      <td>0.0</td>\n      <td>0.0</td>\n      <td>0.000000</td>\n      <td>0.0</td>\n      <td>0.0</td>\n      <td>0.000000</td>\n      <td>0.000000</td>\n      <td>0.000000</td>\n      <td>0.000000</td>\n      <td>0.0</td>\n    </tr>\n  </tbody>\n</table>\n<p>3665 rows × 25000 columns</p>\n</div>"
     },
     "metadata": {},
     "execution_count": 15
    }
   ],
   "source": [
    "# Document term matrix\n",
    "dtm = C.dtm(only_pos={'n*','v*','j*'})\n",
    "dtm"
   ]
  },
  {
   "cell_type": "code",
   "execution_count": 16,
   "metadata": {},
   "outputs": [
    {
     "output_type": "stream",
     "name": "stderr",
     "text": [
      "[LongArcPrestige] Assembling document-term matrix (DTM) [x7]: 100%|██████████| 3665/3665 [00:19<00:00, 186.81it/s]\n",
      "[LongArcPrestige] Saving DTM to ~/lltk_data/corpora/long_arc_prestige/data/dtm/d79e37fb2eaa.pkl\n"
     ]
    }
   ],
   "source": [
    "# tf-idf DTM\n",
    "dtm_tfidf = C.dtm(tfidf=True)"
   ]
  },
  {
   "cell_type": "code",
   "execution_count": null,
   "metadata": {},
   "outputs": [],
   "source": []
  },
  {
   "cell_type": "code",
   "execution_count": 17,
   "metadata": {},
   "outputs": [
    {
     "output_type": "stream",
     "name": "stderr",
     "text": [
      "Computing most frequent words across all texts [x7]: 100%|██████████| 632/632 [00:05<00:00, 106.48it/s]\n",
      "[LongArcPrestige] Saving MFW to ~/lltk_data/corpora/long_arc_prestige/data/mfw/4c4e3590c457.pkl\n",
      "[LongArcPrestige] Assembling document-term matrix (DTM) [x7]: 100%|██████████| 629/629 [00:02<00:00, 210.52it/s]\n",
      "[LongArcPrestige] Saving DTM to ~/lltk_data/corpora/long_arc_prestige/data/dtm/399b2c632d73.pkl\n"
     ]
    },
    {
     "output_type": "execute_result",
     "data": {
      "text/plain": [
       "           Reviewed  Unreviewed\n",
       "word                           \n",
       "brooding   0.000296    0.000000\n",
       "thin       0.000275    0.000000\n",
       "hum        0.000264    0.000000\n",
       "whereon    0.000263    0.000000\n",
       "ends       0.000252    0.000000\n",
       "...             ...         ...\n",
       "prey       0.000000    0.000137\n",
       "influence  0.000000    0.000147\n",
       "valleys    0.000000    0.000140\n",
       "gained     0.000000    0.000061\n",
       "throw      0.000000    0.000154\n",
       "\n",
       "[1839 rows x 2 columns]"
      ],
      "text/html": "<div>\n<style scoped>\n    .dataframe tbody tr th:only-of-type {\n        vertical-align: middle;\n    }\n\n    .dataframe tbody tr th {\n        vertical-align: top;\n    }\n\n    .dataframe thead th {\n        text-align: right;\n    }\n</style>\n<table border=\"1\" class=\"dataframe\">\n  <thead>\n    <tr style=\"text-align: right;\">\n      <th></th>\n      <th>Reviewed</th>\n      <th>Unreviewed</th>\n    </tr>\n    <tr>\n      <th>word</th>\n      <th></th>\n      <th></th>\n    </tr>\n  </thead>\n  <tbody>\n    <tr>\n      <th>brooding</th>\n      <td>0.000296</td>\n      <td>0.000000</td>\n    </tr>\n    <tr>\n      <th>thin</th>\n      <td>0.000275</td>\n      <td>0.000000</td>\n    </tr>\n    <tr>\n      <th>hum</th>\n      <td>0.000264</td>\n      <td>0.000000</td>\n    </tr>\n    <tr>\n      <th>whereon</th>\n      <td>0.000263</td>\n      <td>0.000000</td>\n    </tr>\n    <tr>\n      <th>ends</th>\n      <td>0.000252</td>\n      <td>0.000000</td>\n    </tr>\n    <tr>\n      <th>...</th>\n      <td>...</td>\n      <td>...</td>\n    </tr>\n    <tr>\n      <th>prey</th>\n      <td>0.000000</td>\n      <td>0.000137</td>\n    </tr>\n    <tr>\n      <th>influence</th>\n      <td>0.000000</td>\n      <td>0.000147</td>\n    </tr>\n    <tr>\n      <th>valleys</th>\n      <td>0.000000</td>\n      <td>0.000140</td>\n    </tr>\n    <tr>\n      <th>gained</th>\n      <td>0.000000</td>\n      <td>0.000061</td>\n    </tr>\n    <tr>\n      <th>throw</th>\n      <td>0.000000</td>\n      <td>0.000154</td>\n    </tr>\n  </tbody>\n</table>\n<p>1839 rows × 2 columns</p>\n</div>"
     },
     "metadata": {},
     "execution_count": 17
    }
   ],
   "source": [
    "C.mdw(\n",
    "    'reviewed',\n",
    "    texts=C.meta.query('genre==\"Poetry\" & 1850<year<1900')\n",
    ")"
   ]
  },
  {
   "cell_type": "code",
   "execution_count": 21,
   "metadata": {},
   "outputs": [
    {
     "output_type": "stream",
     "name": "stderr",
     "text": [
      "Computing most frequent words across all texts [x7]: 100%|██████████| 118/118 [00:01<00:00, 111.71it/s]\n",
      "[LongArcPrestige] Saving MFW to ~/lltk_data/corpora/long_arc_prestige/data/mfw/2dec745df787.pkl\n",
      "[LongArcPrestige] Assembling document-term matrix (DTM) [x7]: 100%|██████████| 118/118 [00:00<00:00, 329.72it/s]\n",
      "[LongArcPrestige] Saving DTM to ~/lltk_data/corpora/long_arc_prestige/data/dtm/2ce9a0077492.pkl\n"
     ]
    },
    {
     "output_type": "execute_result",
     "data": {
      "text/plain": [
       "Index([' ', 'neg', 'pos'], dtype='object')"
      ]
     },
     "metadata": {},
     "execution_count": 21
    }
   ],
   "source": [
    "C.mdw(\n",
    "    'judge',\n",
    "    texts=C.meta[~C.meta.judge.isnull()].query('genre==\"Poetry\" & 1850<year<1900')\n",
    ").columns"
   ]
  },
  {
   "cell_type": "markdown",
   "metadata": {},
   "source": [
    "## Share?"
   ]
  },
  {
   "cell_type": "code",
   "execution_count": 23,
   "metadata": {},
   "outputs": [
    {
     "output_type": "error",
     "ename": "NameError",
     "evalue": "name 'stop' is not defined",
     "traceback": [
      "\u001b[0;31m---------------------------------------------------------------------------\u001b[0m",
      "\u001b[0;31mNameError\u001b[0m                                 Traceback (most recent call last)",
      "\u001b[0;32m<ipython-input-23-4f76a9dad686>\u001b[0m in \u001b[0;36m<module>\u001b[0;34m\u001b[0m\n\u001b[0;32m----> 1\u001b[0;31m \u001b[0mstop\u001b[0m\u001b[0;34m\u001b[0m\u001b[0;34m\u001b[0m\u001b[0m\n\u001b[0m",
      "\u001b[0;31mNameError\u001b[0m: name 'stop' is not defined"
     ]
    }
   ],
   "source": [
    "stop"
   ]
  },
  {
   "cell_type": "code",
   "execution_count": null,
   "metadata": {},
   "outputs": [],
   "source": [
    "# Zip up corpus\n",
    "C.zip()"
   ]
  },
  {
   "cell_type": "code",
   "execution_count": null,
   "metadata": {},
   "outputs": [],
   "source": [
    "# Upload?\n",
    "C.upload()"
   ]
  },
  {
   "cell_type": "code",
   "execution_count": null,
   "metadata": {},
   "outputs": [],
   "source": [
    "# Share?\n",
    "C.share()"
   ]
  },
  {
   "cell_type": "code",
   "execution_count": null,
   "metadata": {},
   "outputs": [],
   "source": []
  },
  {
   "cell_type": "code",
   "execution_count": null,
   "metadata": {},
   "outputs": [],
   "source": []
  },
  {
   "cell_type": "code",
   "execution_count": null,
   "metadata": {},
   "outputs": [],
   "source": []
  }
 ],
 "metadata": {
  "kernelspec": {
   "display_name": "Python 3",
   "language": "python",
   "name": "python3"
  },
  "language_info": {
   "codemirror_mode": {
    "name": "ipython",
    "version": 3
   },
   "file_extension": ".py",
   "mimetype": "text/x-python",
   "name": "python",
   "nbconvert_exporter": "python",
   "pygments_lexer": "ipython3",
   "version": "3.7.7"
  },
  "widgets": {
   "application/vnd.jupyter.widget-state+json": {
    "state": {},
    "version_major": 2,
    "version_minor": 0
   }
  }
 },
 "nbformat": 4,
 "nbformat_minor": 4
}