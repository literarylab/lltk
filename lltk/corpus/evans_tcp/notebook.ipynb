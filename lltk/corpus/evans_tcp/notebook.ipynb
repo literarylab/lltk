{
 "cells": [
  {
   "cell_type": "markdown",
   "metadata": {},
   "source": [
    "# EvansTCP"
   ]
  },
  {
   "cell_type": "code",
   "execution_count": 1,
   "metadata": {},
   "outputs": [],
   "source": [
    "import lltk\n",
    "C=lltk.load('EvansTCP')"
   ]
  },
  {
   "cell_type": "markdown",
   "metadata": {},
   "source": [
    "## Installation"
   ]
  },
  {
   "cell_type": "code",
   "execution_count": 2,
   "metadata": {},
   "outputs": [],
   "source": [
    "# This is your custom installation function\n",
    "# C.compile()"
   ]
  },
  {
   "cell_type": "markdown",
   "metadata": {},
   "source": [
    "## Examine metadata"
   ]
  },
  {
   "cell_type": "code",
   "execution_count": 3,
   "metadata": {},
   "outputs": [],
   "source": [
    "# Metadata\n",
    "# C.meta"
   ]
  },
  {
   "cell_type": "markdown",
   "metadata": {},
   "source": [
    "## Preprocess"
   ]
  },
  {
   "cell_type": "code",
   "execution_count": 4,
   "metadata": {},
   "outputs": [],
   "source": [
    "# !rm -rf {C.path_txt}"
   ]
  },
  {
   "cell_type": "code",
   "execution_count": 5,
   "metadata": {},
   "outputs": [
    {
     "name": "stderr",
     "output_type": "stream",
     "text": [
      "[EvansTCP] Saving plain text versions of XML files [x4]: 100%|██████████| 3767/3767 [00:40<00:00, 93.03it/s] \n",
      "[EvansTCP] Saving word freqs as jsons [x4]: 100%|██████████| 5012/5012 [00:13<00:00, 373.33it/s]\n",
      "[EvansTCP] Counting overall most frequent words (MFW) [x4]: 100%|██████████| 5012/5012 [00:06<00:00, 787.76it/s]\n"
     ]
    },
    {
     "name": "stdout",
     "output_type": "stream",
     "text": [
      "[EvansTCP] DTM already saved for word key 05e98b86b9f2\n"
     ]
    },
    {
     "name": "stderr",
     "output_type": "stream",
     "text": [
      "[EvansTCP] Assembling document-term matrix (DTM) [x4]: 100%|██████████| 5012/5012 [00:18<00:00, 265.44it/s]\n"
     ]
    }
   ],
   "source": [
    "C.preprocess()"
   ]
  },
  {
   "cell_type": "markdown",
   "metadata": {},
   "source": [
    "## Examine data"
   ]
  },
  {
   "cell_type": "code",
   "execution_count": 6,
   "metadata": {},
   "outputs": [
    {
     "data": {
      "text/html": [
       "<div>\n",
       "<style scoped>\n",
       "    .dataframe tbody tr th:only-of-type {\n",
       "        vertical-align: middle;\n",
       "    }\n",
       "\n",
       "    .dataframe tbody tr th {\n",
       "        vertical-align: top;\n",
       "    }\n",
       "\n",
       "    .dataframe thead th {\n",
       "        text-align: right;\n",
       "    }\n",
       "</style>\n",
       "<table border=\"1\" class=\"dataframe\">\n",
       "  <thead>\n",
       "    <tr style=\"text-align: right;\">\n",
       "      <th></th>\n",
       "      <th>word</th>\n",
       "      <th>count</th>\n",
       "      <th>fpm</th>\n",
       "      <th>rank</th>\n",
       "      <th>ranks_avg</th>\n",
       "    </tr>\n",
       "  </thead>\n",
       "  <tbody>\n",
       "    <tr>\n",
       "      <th>0</th>\n",
       "      <td>the</td>\n",
       "      <td>6566828</td>\n",
       "      <td>63239.931149</td>\n",
       "      <td>1</td>\n",
       "      <td>1</td>\n",
       "    </tr>\n",
       "    <tr>\n",
       "      <th>1</th>\n",
       "      <td>of</td>\n",
       "      <td>4346209</td>\n",
       "      <td>41854.904364</td>\n",
       "      <td>2</td>\n",
       "      <td>2</td>\n",
       "    </tr>\n",
       "    <tr>\n",
       "      <th>2</th>\n",
       "      <td>and</td>\n",
       "      <td>3922506</td>\n",
       "      <td>37774.555595</td>\n",
       "      <td>3</td>\n",
       "      <td>3</td>\n",
       "    </tr>\n",
       "    <tr>\n",
       "      <th>3</th>\n",
       "      <td>to</td>\n",
       "      <td>3241677</td>\n",
       "      <td>31218.029509</td>\n",
       "      <td>4</td>\n",
       "      <td>4</td>\n",
       "    </tr>\n",
       "    <tr>\n",
       "      <th>4</th>\n",
       "      <td>in</td>\n",
       "      <td>2096915</td>\n",
       "      <td>20193.731315</td>\n",
       "      <td>5</td>\n",
       "      <td>5</td>\n",
       "    </tr>\n",
       "    <tr>\n",
       "      <th>...</th>\n",
       "      <td>...</td>\n",
       "      <td>...</td>\n",
       "      <td>...</td>\n",
       "      <td>...</td>\n",
       "      <td>...</td>\n",
       "    </tr>\n",
       "    <tr>\n",
       "      <th>431169</th>\n",
       "      <td>judgiments</td>\n",
       "      <td>1</td>\n",
       "      <td>0.009630</td>\n",
       "      <td>431170</td>\n",
       "      <td>353267</td>\n",
       "    </tr>\n",
       "    <tr>\n",
       "      <th>431170</th>\n",
       "      <td>askotax</td>\n",
       "      <td>1</td>\n",
       "      <td>0.009630</td>\n",
       "      <td>431171</td>\n",
       "      <td>426359</td>\n",
       "    </tr>\n",
       "    <tr>\n",
       "      <th>431171</th>\n",
       "      <td>judging-hand</td>\n",
       "      <td>1</td>\n",
       "      <td>0.009630</td>\n",
       "      <td>431172</td>\n",
       "      <td>254347</td>\n",
       "    </tr>\n",
       "    <tr>\n",
       "      <th>431172</th>\n",
       "      <td>judgmdnt</td>\n",
       "      <td>1</td>\n",
       "      <td>0.009630</td>\n",
       "      <td>431173</td>\n",
       "      <td>370359</td>\n",
       "    </tr>\n",
       "    <tr>\n",
       "      <th>431173</th>\n",
       "      <td>kpe</td>\n",
       "      <td>1</td>\n",
       "      <td>0.009630</td>\n",
       "      <td>431174</td>\n",
       "      <td>356462</td>\n",
       "    </tr>\n",
       "  </tbody>\n",
       "</table>\n",
       "<p>431174 rows × 5 columns</p>\n",
       "</div>"
      ],
      "text/plain": [
       "                word    count           fpm    rank  ranks_avg\n",
       "0                the  6566828  63239.931149       1          1\n",
       "1                 of  4346209  41854.904364       2          2\n",
       "2                and  3922506  37774.555595       3          3\n",
       "3                 to  3241677  31218.029509       4          4\n",
       "4                 in  2096915  20193.731315       5          5\n",
       "...              ...      ...           ...     ...        ...\n",
       "431169    judgiments        1      0.009630  431170     353267\n",
       "431170       askotax        1      0.009630  431171     426359\n",
       "431171  judging-hand        1      0.009630  431172     254347\n",
       "431172      judgmdnt        1      0.009630  431173     370359\n",
       "431173           kpe        1      0.009630  431174     356462\n",
       "\n",
       "[431174 rows x 5 columns]"
      ]
     },
     "execution_count": 6,
     "metadata": {},
     "output_type": "execute_result"
    }
   ],
   "source": [
    "# Most frequent words\n",
    "mfw_df = C.mfw_df()\n",
    "mfw_df"
   ]
  },
  {
   "cell_type": "code",
   "execution_count": 7,
   "metadata": {},
   "outputs": [
    {
     "name": "stderr",
     "output_type": "stream",
     "text": [
      "Preparing input: 100%|██████████| 47/47 [00:00<00:00, 3693.97it/s]\n",
      "[EvansTCP] Counting most frequent words across 10-year periods [x4]: 100%|██████████| 47/47 [00:06<00:00,  7.72it/s]\n"
     ]
    },
    {
     "data": {
      "text/html": [
       "<div>\n",
       "<style scoped>\n",
       "    .dataframe tbody tr th:only-of-type {\n",
       "        vertical-align: middle;\n",
       "    }\n",
       "\n",
       "    .dataframe tbody tr th {\n",
       "        vertical-align: top;\n",
       "    }\n",
       "\n",
       "    .dataframe thead th {\n",
       "        text-align: right;\n",
       "    }\n",
       "</style>\n",
       "<table border=\"1\" class=\"dataframe\">\n",
       "  <thead>\n",
       "    <tr style=\"text-align: right;\">\n",
       "      <th></th>\n",
       "      <th>word</th>\n",
       "      <th>count</th>\n",
       "      <th>fpm</th>\n",
       "      <th>rank</th>\n",
       "      <th>ranks_avg</th>\n",
       "    </tr>\n",
       "  </thead>\n",
       "  <tbody>\n",
       "    <tr>\n",
       "      <th>0</th>\n",
       "      <td>the</td>\n",
       "      <td>5970.0</td>\n",
       "      <td>62832.815119</td>\n",
       "      <td>1</td>\n",
       "      <td>1.0</td>\n",
       "    </tr>\n",
       "    <tr>\n",
       "      <th>1</th>\n",
       "      <td>of</td>\n",
       "      <td>3894.0</td>\n",
       "      <td>41610.441458</td>\n",
       "      <td>2</td>\n",
       "      <td>2.0</td>\n",
       "    </tr>\n",
       "    <tr>\n",
       "      <th>2</th>\n",
       "      <td>and</td>\n",
       "      <td>2503.0</td>\n",
       "      <td>36077.402427</td>\n",
       "      <td>3</td>\n",
       "      <td>3.0</td>\n",
       "    </tr>\n",
       "    <tr>\n",
       "      <th>3</th>\n",
       "      <td>to</td>\n",
       "      <td>2624.0</td>\n",
       "      <td>31527.317692</td>\n",
       "      <td>4</td>\n",
       "      <td>4.0</td>\n",
       "    </tr>\n",
       "    <tr>\n",
       "      <th>4</th>\n",
       "      <td>in</td>\n",
       "      <td>1638.0</td>\n",
       "      <td>19757.738896</td>\n",
       "      <td>5</td>\n",
       "      <td>5.0</td>\n",
       "    </tr>\n",
       "    <tr>\n",
       "      <th>...</th>\n",
       "      <td>...</td>\n",
       "      <td>...</td>\n",
       "      <td>...</td>\n",
       "      <td>...</td>\n",
       "      <td>...</td>\n",
       "    </tr>\n",
       "    <tr>\n",
       "      <th>431169</th>\n",
       "      <td>paraîtront</td>\n",
       "      <td>1.0</td>\n",
       "      <td>0.027267</td>\n",
       "      <td>431170</td>\n",
       "      <td>194172.0</td>\n",
       "    </tr>\n",
       "    <tr>\n",
       "      <th>431170</th>\n",
       "      <td>paraître</td>\n",
       "      <td>1.0</td>\n",
       "      <td>0.027267</td>\n",
       "      <td>431171</td>\n",
       "      <td>135729.0</td>\n",
       "    </tr>\n",
       "    <tr>\n",
       "      <th>431171</th>\n",
       "      <td>paraîtra</td>\n",
       "      <td>1.0</td>\n",
       "      <td>0.027267</td>\n",
       "      <td>431172</td>\n",
       "      <td>131484.0</td>\n",
       "    </tr>\n",
       "    <tr>\n",
       "      <th>431172</th>\n",
       "      <td>paratively</td>\n",
       "      <td>1.0</td>\n",
       "      <td>0.027267</td>\n",
       "      <td>431173</td>\n",
       "      <td>153148.0</td>\n",
       "    </tr>\n",
       "    <tr>\n",
       "      <th>431173</th>\n",
       "      <td>kpe</td>\n",
       "      <td>1.0</td>\n",
       "      <td>0.027267</td>\n",
       "      <td>431174</td>\n",
       "      <td>172320.0</td>\n",
       "    </tr>\n",
       "  </tbody>\n",
       "</table>\n",
       "<p>431174 rows × 5 columns</p>\n",
       "</div>"
      ],
      "text/plain": [
       "              word   count           fpm    rank  ranks_avg\n",
       "0              the  5970.0  62832.815119       1        1.0\n",
       "1               of  3894.0  41610.441458       2        2.0\n",
       "2              and  2503.0  36077.402427       3        3.0\n",
       "3               to  2624.0  31527.317692       4        4.0\n",
       "4               in  1638.0  19757.738896       5        5.0\n",
       "...            ...     ...           ...     ...        ...\n",
       "431169  paraîtront     1.0      0.027267  431170   194172.0\n",
       "431170    paraître     1.0      0.027267  431171   135729.0\n",
       "431171    paraîtra     1.0      0.027267  431172   131484.0\n",
       "431172  paratively     1.0      0.027267  431173   153148.0\n",
       "431173         kpe     1.0      0.027267  431174   172320.0\n",
       "\n",
       "[431174 rows x 5 columns]"
      ]
     },
     "execution_count": 7,
     "metadata": {},
     "output_type": "execute_result"
    }
   ],
   "source": [
    "# Most frequent words by period\n",
    "mfw_df = C.mfw_df(yearbin=10)\n",
    "mfw_df"
   ]
  },
  {
   "cell_type": "code",
   "execution_count": 8,
   "metadata": {},
   "outputs": [],
   "source": [
    "# Document term matrix\n",
    "dtm = C.dtm()"
   ]
  },
  {
   "cell_type": "code",
   "execution_count": 9,
   "metadata": {},
   "outputs": [],
   "source": [
    "# tf-idf DTM\n",
    "dtm_tfidf = C.dtm(tfidf=True)"
   ]
  },
  {
   "cell_type": "code",
   "execution_count": 16,
   "metadata": {},
   "outputs": [],
   "source": [
    "# C.meta[C.meta.title.str.lower().str.contains('romance')].sort_values('year')"
   ]
  },
  {
   "cell_type": "code",
   "execution_count": null,
   "metadata": {},
   "outputs": [],
   "source": []
  }
 ],
 "metadata": {
  "kernelspec": {
   "display_name": "Python 3",
   "language": "python",
   "name": "python3"
  },
  "language_info": {
   "codemirror_mode": {
    "name": "ipython",
    "version": 3
   },
   "file_extension": ".py",
   "mimetype": "text/x-python",
   "name": "python",
   "nbconvert_exporter": "python",
   "pygments_lexer": "ipython3",
   "version": "3.7.7"
  },
  "widgets": {
   "application/vnd.jupyter.widget-state+json": {
    "state": {},
    "version_major": 2,
    "version_minor": 0
   }
  }
 },
 "nbformat": 4,
 "nbformat_minor": 4
}
