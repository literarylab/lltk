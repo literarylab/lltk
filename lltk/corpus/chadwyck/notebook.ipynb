{
 "cells": [
  {
   "cell_type": "markdown",
   "metadata": {},
   "source": [
    "# Chadwyck"
   ]
  },
  {
   "cell_type": "code",
   "execution_count": 1,
   "metadata": {},
   "outputs": [],
   "source": [
    "import lltk\n",
    "C=lltk.load('Chadwyck')"
   ]
  },
  {
   "cell_type": "markdown",
   "metadata": {},
   "source": [
    "## Install"
   ]
  },
  {
   "cell_type": "code",
   "execution_count": 4,
   "metadata": {},
   "outputs": [
    {
     "name": "stdin",
     "output_type": "stream",
     "text": [
      "Enter a download link to the raw Chadwyck-Healey data: https://www.dropbox.com/s/j53p4rjojm4uaf6/chadwyck_xml.zip\n"
     ]
    }
   ],
   "source": [
    "# C.download(part='raw')\n",
    "C.url_raw = input('Enter a download link to the raw Chadwyck-Healey data:')"
   ]
  },
  {
   "cell_type": "code",
   "execution_count": 5,
   "metadata": {},
   "outputs": [
    {
     "name": "stderr",
     "output_type": "stream",
     "text": [
      "Unzipping raw zip: 100%|██████████| 1339/1339 [00:00<00:00, 151681.87it/s]"
     ]
    },
    {
     "name": "stdout",
     "output_type": "stream",
     "text": [
      "1338 ['/home/ryan/lltk_data/corpora/chadwyck/raw/xml/Eighteenth-Century_Fiction/fieldins.03.new', '/home/ryan/lltk_data/corpora/chadwyck/raw/xml/Eighteenth-Century_Fiction/richards.04.new', '/home/ryan/lltk_data/corpora/chadwyck/raw/xml/Eighteenth-Century_Fiction/sterne.02.new', '/home/ryan/lltk_data/corpora/chadwyck/raw/xml/Eighteenth-Century_Fiction/smollett.02.new', '/home/ryan/lltk_data/corpora/chadwyck/raw/xml/Eighteenth-Century_Fiction/defoe.03.new']\n"
     ]
    },
    {
     "name": "stderr",
     "output_type": "stream",
     "text": [
      "\n",
      "100%|██████████| 1338/1338 [03:54<00:00,  5.71it/s]\n"
     ]
    },
    {
     "data": {
      "application/vnd.jupyter.widget-view+json": {
       "model_id": "54978ede245f427e8d36a4ece00a9ff9",
       "version_major": 2,
       "version_minor": 0
      },
      "text/plain": [
       "HBox(children=(FloatProgress(value=0.0, max=63903.0), HTML(value='')))"
      ]
     },
     "metadata": {},
     "output_type": "display_data"
    },
    {
     "name": "stdout",
     "output_type": "stream",
     "text": [
      "\n",
      "63903\n"
     ]
    }
   ],
   "source": [
    "#C.compile_download()\n",
    "C.compile()"
   ]
  },
  {
   "cell_type": "code",
   "execution_count": null,
   "metadata": {},
   "outputs": [],
   "source": []
  }
 ],
 "metadata": {
  "kernelspec": {
   "display_name": "Python 3",
   "language": "python",
   "name": "python3"
  },
  "language_info": {
   "codemirror_mode": {
    "name": "ipython",
    "version": 3
   },
   "file_extension": ".py",
   "mimetype": "text/x-python",
   "name": "python",
   "nbconvert_exporter": "python",
   "pygments_lexer": "ipython3",
   "version": "3.7.7"
  },
  "widgets": {
   "application/vnd.jupyter.widget-state+json": {
    "state": {},
    "version_major": 2,
    "version_minor": 0
   }
  }
 },
 "nbformat": 4,
 "nbformat_minor": 4
}
