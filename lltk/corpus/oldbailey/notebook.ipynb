{
 "metadata": {
  "language_info": {
   "codemirror_mode": {
    "name": "ipython",
    "version": 3
   },
   "file_extension": ".py",
   "mimetype": "text/x-python",
   "name": "python",
   "nbconvert_exporter": "python",
   "pygments_lexer": "ipython3",
   "version": "3.7.7-final"
  },
  "orig_nbformat": 2,
  "kernelspec": {
   "name": "python3",
   "display_name": "Python 3",
   "language": "python"
  }
 },
 "nbformat": 4,
 "nbformat_minor": 2,
 "cells": [
  {
   "cell_type": "code",
   "execution_count": 1,
   "metadata": {},
   "outputs": [],
   "source": [
    "# Old Bailey"
   ]
  },
  {
   "cell_type": "code",
   "execution_count": 2,
   "metadata": {},
   "outputs": [
    {
     "output_type": "error",
     "ename": "SyntaxError",
     "evalue": "invalid syntax (corpus.py, line 482)",
     "traceback": [
      "Traceback \u001b[0;36m(most recent call last)\u001b[0m:\n",
      "  File \u001b[1;32m\"/home/ryan/github/lltk/venv/lib/python3.7/site-packages/IPython/core/interactiveshell.py\"\u001b[0m, line \u001b[1;32m3427\u001b[0m, in \u001b[1;35mrun_code\u001b[0m\n    exec(code_obj, self.user_global_ns, self.user_ns)\n",
      "  File \u001b[1;32m\"<ipython-input-2-974fcb58f32e>\"\u001b[0m, line \u001b[1;32m1\u001b[0m, in \u001b[1;35m<module>\u001b[0m\n    import lltk\n",
      "  File \u001b[1;32m\"/home/ryan/github/lltk/lltk/__init__.py\"\u001b[0m, line \u001b[1;32m2\u001b[0m, in \u001b[1;35m<module>\u001b[0m\n    from .lltk import *\n",
      "  File \u001b[1;32m\"/home/ryan/github/lltk/lltk/lltk.py\"\u001b[0m, line \u001b[1;32m4\u001b[0m, in \u001b[1;35m<module>\u001b[0m\n    from lltk.imports import *\n",
      "\u001b[0;36m  File \u001b[0;32m\"/home/ryan/github/lltk/lltk/imports.py\"\u001b[0;36m, line \u001b[0;32m155\u001b[0;36m, in \u001b[0;35m<module>\u001b[0;36m\u001b[0m\n\u001b[0;31m    from lltk.corpus.corpus import *\u001b[0m\n",
      "\u001b[0;36m  File \u001b[0;32m\"/home/ryan/github/lltk/lltk/corpus/corpus.py\"\u001b[0;36m, line \u001b[0;32m482\u001b[0m\n\u001b[0;31m    df=self.dtm(words=words,texts=texts,tfidf=tfidf, meta=[groupby]).groupby(groupby)\u001b[0m\n\u001b[0m     ^\u001b[0m\n\u001b[0;31mSyntaxError\u001b[0m\u001b[0;31m:\u001b[0m invalid syntax\n"
     ]
    }
   ],
   "source": [
    "import lltk\n",
    "C=lltk.load('OldBailey')"
   ]
  },
  {
   "cell_type": "code",
   "execution_count": 3,
   "metadata": {},
   "outputs": [
    {
     "output_type": "execute_result",
     "data": {
      "text/plain": [
       "                id  year age collection      date gender    given    medium  \\\n",
       "0    OBC2-18300218  1830         BAILEY  18300218                  Dialogue   \n",
       "1    OBC2-18020602  1802         BAILEY  18020602                  Dialogue   \n",
       "2    OBC2-18620303  1862                 18620303                  Dialogue   \n",
       "3    OBC2-17240708  1724         BAILEY  17240708                  Dialogue   \n",
       "4    OBC2-17420714  1742         BAILEY  17420714                  Dialogue   \n",
       "..             ...   ...  ..        ...       ...    ...      ...       ...   \n",
       "632  OBC2-18640411  1864                 18640411   male  WILLIAM  Dialogue   \n",
       "633  OBC2-17830430  1783         BAILEY  17830430                  Dialogue   \n",
       "634  OBC2-17460117  1746         BAILEY  17460117                  Dialogue   \n",
       "635  OBC2-18451215  1845                 18451215                  Dialogue   \n",
       "636  OBC2-17330221  1733         BAILEY  17330221                  Dialogue   \n",
       "\n",
       "     num_words occupation  ...  offenceCategory offenceSubcategory  \\\n",
       "0        74664             ...                                       \n",
       "1        22229             ...                                       \n",
       "2        71859             ...                                       \n",
       "3           32             ...                                       \n",
       "4        12723             ...                                       \n",
       "..         ...        ...  ...              ...                ...   \n",
       "632      74224             ...                                       \n",
       "633      75704             ...                                       \n",
       "634      22895             ...                                       \n",
       "635      81558             ...                                       \n",
       "636      20143             ...                                       \n",
       "\n",
       "    punishmentCategory punishmentSubcategory surname                      uri  \\\n",
       "0                                                     sessionsPapers/18300218   \n",
       "1                                                     sessionsPapers/18020602   \n",
       "2                                                     sessionsPapers/18620303   \n",
       "3                                                     sessionsPapers/17240708   \n",
       "4                                                     sessionsPapers/17420714   \n",
       "..                 ...                   ...     ...                      ...   \n",
       "632                                            GRANT  sessionsPapers/18640411   \n",
       "633                                                   sessionsPapers/17830430   \n",
       "634                                                   sessionsPapers/17460117   \n",
       "635                                                   sessionsPapers/18451215   \n",
       "636                                                   sessionsPapers/17330221   \n",
       "\n",
       "    verdictCategory verdictSubcategory  genre title  \n",
       "0                                       Trial        \n",
       "1                                       Trial        \n",
       "2                                       Trial        \n",
       "3                                       Trial        \n",
       "4                                       Trial        \n",
       "..              ...                ...    ...   ...  \n",
       "632                                     Trial        \n",
       "633                                     Trial        \n",
       "634                                     Trial        \n",
       "635                                     Trial        \n",
       "636                                     Trial        \n",
       "\n",
       "[637 rows x 21 columns]"
      ],
      "text/html": "<div>\n<style scoped>\n    .dataframe tbody tr th:only-of-type {\n        vertical-align: middle;\n    }\n\n    .dataframe tbody tr th {\n        vertical-align: top;\n    }\n\n    .dataframe thead th {\n        text-align: right;\n    }\n</style>\n<table border=\"1\" class=\"dataframe\">\n  <thead>\n    <tr style=\"text-align: right;\">\n      <th></th>\n      <th>id</th>\n      <th>year</th>\n      <th>age</th>\n      <th>collection</th>\n      <th>date</th>\n      <th>gender</th>\n      <th>given</th>\n      <th>medium</th>\n      <th>num_words</th>\n      <th>occupation</th>\n      <th>...</th>\n      <th>offenceCategory</th>\n      <th>offenceSubcategory</th>\n      <th>punishmentCategory</th>\n      <th>punishmentSubcategory</th>\n      <th>surname</th>\n      <th>uri</th>\n      <th>verdictCategory</th>\n      <th>verdictSubcategory</th>\n      <th>genre</th>\n      <th>title</th>\n    </tr>\n  </thead>\n  <tbody>\n    <tr>\n      <th>0</th>\n      <td>OBC2-18300218</td>\n      <td>1830</td>\n      <td></td>\n      <td>BAILEY</td>\n      <td>18300218</td>\n      <td></td>\n      <td></td>\n      <td>Dialogue</td>\n      <td>74664</td>\n      <td></td>\n      <td>...</td>\n      <td></td>\n      <td></td>\n      <td></td>\n      <td></td>\n      <td></td>\n      <td>sessionsPapers/18300218</td>\n      <td></td>\n      <td></td>\n      <td>Trial</td>\n      <td></td>\n    </tr>\n    <tr>\n      <th>1</th>\n      <td>OBC2-18020602</td>\n      <td>1802</td>\n      <td></td>\n      <td>BAILEY</td>\n      <td>18020602</td>\n      <td></td>\n      <td></td>\n      <td>Dialogue</td>\n      <td>22229</td>\n      <td></td>\n      <td>...</td>\n      <td></td>\n      <td></td>\n      <td></td>\n      <td></td>\n      <td></td>\n      <td>sessionsPapers/18020602</td>\n      <td></td>\n      <td></td>\n      <td>Trial</td>\n      <td></td>\n    </tr>\n    <tr>\n      <th>2</th>\n      <td>OBC2-18620303</td>\n      <td>1862</td>\n      <td></td>\n      <td></td>\n      <td>18620303</td>\n      <td></td>\n      <td></td>\n      <td>Dialogue</td>\n      <td>71859</td>\n      <td></td>\n      <td>...</td>\n      <td></td>\n      <td></td>\n      <td></td>\n      <td></td>\n      <td></td>\n      <td>sessionsPapers/18620303</td>\n      <td></td>\n      <td></td>\n      <td>Trial</td>\n      <td></td>\n    </tr>\n    <tr>\n      <th>3</th>\n      <td>OBC2-17240708</td>\n      <td>1724</td>\n      <td></td>\n      <td>BAILEY</td>\n      <td>17240708</td>\n      <td></td>\n      <td></td>\n      <td>Dialogue</td>\n      <td>32</td>\n      <td></td>\n      <td>...</td>\n      <td></td>\n      <td></td>\n      <td></td>\n      <td></td>\n      <td></td>\n      <td>sessionsPapers/17240708</td>\n      <td></td>\n      <td></td>\n      <td>Trial</td>\n      <td></td>\n    </tr>\n    <tr>\n      <th>4</th>\n      <td>OBC2-17420714</td>\n      <td>1742</td>\n      <td></td>\n      <td>BAILEY</td>\n      <td>17420714</td>\n      <td></td>\n      <td></td>\n      <td>Dialogue</td>\n      <td>12723</td>\n      <td></td>\n      <td>...</td>\n      <td></td>\n      <td></td>\n      <td></td>\n      <td></td>\n      <td></td>\n      <td>sessionsPapers/17420714</td>\n      <td></td>\n      <td></td>\n      <td>Trial</td>\n      <td></td>\n    </tr>\n    <tr>\n      <th>...</th>\n      <td>...</td>\n      <td>...</td>\n      <td>...</td>\n      <td>...</td>\n      <td>...</td>\n      <td>...</td>\n      <td>...</td>\n      <td>...</td>\n      <td>...</td>\n      <td>...</td>\n      <td>...</td>\n      <td>...</td>\n      <td>...</td>\n      <td>...</td>\n      <td>...</td>\n      <td>...</td>\n      <td>...</td>\n      <td>...</td>\n      <td>...</td>\n      <td>...</td>\n      <td>...</td>\n    </tr>\n    <tr>\n      <th>632</th>\n      <td>OBC2-18640411</td>\n      <td>1864</td>\n      <td></td>\n      <td></td>\n      <td>18640411</td>\n      <td>male</td>\n      <td>WILLIAM</td>\n      <td>Dialogue</td>\n      <td>74224</td>\n      <td></td>\n      <td>...</td>\n      <td></td>\n      <td></td>\n      <td></td>\n      <td></td>\n      <td>GRANT</td>\n      <td>sessionsPapers/18640411</td>\n      <td></td>\n      <td></td>\n      <td>Trial</td>\n      <td></td>\n    </tr>\n    <tr>\n      <th>633</th>\n      <td>OBC2-17830430</td>\n      <td>1783</td>\n      <td></td>\n      <td>BAILEY</td>\n      <td>17830430</td>\n      <td></td>\n      <td></td>\n      <td>Dialogue</td>\n      <td>75704</td>\n      <td></td>\n      <td>...</td>\n      <td></td>\n      <td></td>\n      <td></td>\n      <td></td>\n      <td></td>\n      <td>sessionsPapers/17830430</td>\n      <td></td>\n      <td></td>\n      <td>Trial</td>\n      <td></td>\n    </tr>\n    <tr>\n      <th>634</th>\n      <td>OBC2-17460117</td>\n      <td>1746</td>\n      <td></td>\n      <td>BAILEY</td>\n      <td>17460117</td>\n      <td></td>\n      <td></td>\n      <td>Dialogue</td>\n      <td>22895</td>\n      <td></td>\n      <td>...</td>\n      <td></td>\n      <td></td>\n      <td></td>\n      <td></td>\n      <td></td>\n      <td>sessionsPapers/17460117</td>\n      <td></td>\n      <td></td>\n      <td>Trial</td>\n      <td></td>\n    </tr>\n    <tr>\n      <th>635</th>\n      <td>OBC2-18451215</td>\n      <td>1845</td>\n      <td></td>\n      <td></td>\n      <td>18451215</td>\n      <td></td>\n      <td></td>\n      <td>Dialogue</td>\n      <td>81558</td>\n      <td></td>\n      <td>...</td>\n      <td></td>\n      <td></td>\n      <td></td>\n      <td></td>\n      <td></td>\n      <td>sessionsPapers/18451215</td>\n      <td></td>\n      <td></td>\n      <td>Trial</td>\n      <td></td>\n    </tr>\n    <tr>\n      <th>636</th>\n      <td>OBC2-17330221</td>\n      <td>1733</td>\n      <td></td>\n      <td>BAILEY</td>\n      <td>17330221</td>\n      <td></td>\n      <td></td>\n      <td>Dialogue</td>\n      <td>20143</td>\n      <td></td>\n      <td>...</td>\n      <td></td>\n      <td></td>\n      <td></td>\n      <td></td>\n      <td></td>\n      <td>sessionsPapers/17330221</td>\n      <td></td>\n      <td></td>\n      <td>Trial</td>\n      <td></td>\n    </tr>\n  </tbody>\n</table>\n<p>637 rows × 21 columns</p>\n</div>"
     },
     "metadata": {},
     "execution_count": 3
    }
   ],
   "source": [
    "C.meta"
   ]
  },
  {
   "cell_type": "code",
   "execution_count": 4,
   "metadata": {},
   "outputs": [
    {
     "output_type": "execute_result",
     "data": {
      "text/plain": [
       "{'id': 'OBC2-17870115',\n",
       " 'year': 1787,\n",
       " 'age': '',\n",
       " 'collection': 'BAILEY',\n",
       " 'date': 17870115,\n",
       " 'gender': '',\n",
       " 'given': '',\n",
       " 'medium': 'Dialogue',\n",
       " 'num_words': 10411,\n",
       " 'occupation': '',\n",
       " 'ocr_accuracy': 0.995101335126,\n",
       " 'offenceCategory': '',\n",
       " 'offenceSubcategory': '',\n",
       " 'punishmentCategory': '',\n",
       " 'punishmentSubcategory': '',\n",
       " 'surname': '',\n",
       " 'uri': 'sessionsPapers/17870115',\n",
       " 'verdictCategory': '',\n",
       " 'verdictSubcategory': ''}"
      ]
     },
     "metadata": {},
     "execution_count": 4
    }
   ],
   "source": [
    "C.t.meta"
   ]
  },
  {
   "cell_type": "code",
   "execution_count": 5,
   "metadata": {},
   "outputs": [
    {
     "output_type": "execute_result",
     "data": {
      "text/plain": [
       "<AxesSubplot:ylabel='Density'>"
      ]
     },
     "metadata": {},
     "execution_count": 5
    },
    {
     "output_type": "display_data",
     "data": {
      "text/plain": "<Figure size 432x288 with 1 Axes>",
      "image/svg+xml": "<?xml version=\"1.0\" encoding=\"utf-8\" standalone=\"no\"?>\n<!DOCTYPE svg PUBLIC \"-//W3C//DTD SVG 1.1//EN\"\n  \"http://www.w3.org/Graphics/SVG/1.1/DTD/svg11.dtd\">\n<!-- Created with matplotlib (https://matplotlib.org/) -->\n<svg height=\"248.518125pt\" version=\"1.1\" viewBox=\"0 0 398.50625 248.518125\" width=\"398.50625pt\" xmlns=\"http://www.w3.org/2000/svg\" xmlns:xlink=\"http://www.w3.org/1999/xlink\">\n <metadata>\n  <rdf:RDF xmlns:cc=\"http://creativecommons.org/ns#\" xmlns:dc=\"http://purl.org/dc/elements/1.1/\" xmlns:rdf=\"http://www.w3.org/1999/02/22-rdf-syntax-ns#\">\n   <cc:Work>\n    <dc:type rdf:resource=\"http://purl.org/dc/dcmitype/StillImage\"/>\n    <dc:date>2021-03-10T08:59:03.376804</dc:date>\n    <dc:format>image/svg+xml</dc:format>\n    <dc:creator>\n     <cc:Agent>\n      <dc:title>Matplotlib v3.3.4, https://matplotlib.org/</dc:title>\n     </cc:Agent>\n    </dc:creator>\n   </cc:Work>\n  </rdf:RDF>\n </metadata>\n <defs>\n  <style type=\"text/css\">*{stroke-linecap:butt;stroke-linejoin:round;}</style>\n </defs>\n <g id=\"figure_1\">\n  <g id=\"patch_1\">\n   <path d=\"M 0 248.518125 \nL 398.50625 248.518125 \nL 398.50625 0 \nL 0 0 \nz\n\" style=\"fill:none;\"/>\n  </g>\n  <g id=\"axes_1\">\n   <g id=\"patch_2\">\n    <path d=\"M 56.50625 224.64 \nL 391.30625 224.64 \nL 391.30625 7.2 \nL 56.50625 7.2 \nz\n\" style=\"fill:#ffffff;\"/>\n   </g>\n   <g id=\"matplotlib.axis_1\">\n    <g id=\"xtick_1\">\n     <g id=\"line2d_1\">\n      <defs>\n       <path d=\"M 0 0 \nL 0 3.5 \n\" id=\"me880f6a2df\" style=\"stroke:#000000;stroke-width:0.8;\"/>\n      </defs>\n      <g>\n       <use style=\"stroke:#000000;stroke-width:0.8;\" x=\"92.619863\" xlink:href=\"#me880f6a2df\" y=\"224.64\"/>\n      </g>\n     </g>\n     <g id=\"text_1\">\n      <!-- 1650 -->\n      <g transform=\"translate(79.894863 239.238437)scale(0.1 -0.1)\">\n       <defs>\n        <path d=\"M 12.40625 8.296875 \nL 28.515625 8.296875 \nL 28.515625 63.921875 \nL 10.984375 60.40625 \nL 10.984375 69.390625 \nL 28.421875 72.90625 \nL 38.28125 72.90625 \nL 38.28125 8.296875 \nL 54.390625 8.296875 \nL 54.390625 0 \nL 12.40625 0 \nz\n\" id=\"DejaVuSans-49\"/>\n        <path d=\"M 33.015625 40.375 \nQ 26.375 40.375 22.484375 35.828125 \nQ 18.609375 31.296875 18.609375 23.390625 \nQ 18.609375 15.53125 22.484375 10.953125 \nQ 26.375 6.390625 33.015625 6.390625 \nQ 39.65625 6.390625 43.53125 10.953125 \nQ 47.40625 15.53125 47.40625 23.390625 \nQ 47.40625 31.296875 43.53125 35.828125 \nQ 39.65625 40.375 33.015625 40.375 \nz\nM 52.59375 71.296875 \nL 52.59375 62.3125 \nQ 48.875 64.0625 45.09375 64.984375 \nQ 41.3125 65.921875 37.59375 65.921875 \nQ 27.828125 65.921875 22.671875 59.328125 \nQ 17.53125 52.734375 16.796875 39.40625 \nQ 19.671875 43.65625 24.015625 45.921875 \nQ 28.375 48.1875 33.59375 48.1875 \nQ 44.578125 48.1875 50.953125 41.515625 \nQ 57.328125 34.859375 57.328125 23.390625 \nQ 57.328125 12.15625 50.6875 5.359375 \nQ 44.046875 -1.421875 33.015625 -1.421875 \nQ 20.359375 -1.421875 13.671875 8.265625 \nQ 6.984375 17.96875 6.984375 36.375 \nQ 6.984375 53.65625 15.1875 63.9375 \nQ 23.390625 74.21875 37.203125 74.21875 \nQ 40.921875 74.21875 44.703125 73.484375 \nQ 48.484375 72.75 52.59375 71.296875 \nz\n\" id=\"DejaVuSans-54\"/>\n        <path d=\"M 10.796875 72.90625 \nL 49.515625 72.90625 \nL 49.515625 64.59375 \nL 19.828125 64.59375 \nL 19.828125 46.734375 \nQ 21.96875 47.46875 24.109375 47.828125 \nQ 26.265625 48.1875 28.421875 48.1875 \nQ 40.625 48.1875 47.75 41.5 \nQ 54.890625 34.8125 54.890625 23.390625 \nQ 54.890625 11.625 47.5625 5.09375 \nQ 40.234375 -1.421875 26.90625 -1.421875 \nQ 22.3125 -1.421875 17.546875 -0.640625 \nQ 12.796875 0.140625 7.71875 1.703125 \nL 7.71875 11.625 \nQ 12.109375 9.234375 16.796875 8.0625 \nQ 21.484375 6.890625 26.703125 6.890625 \nQ 35.15625 6.890625 40.078125 11.328125 \nQ 45.015625 15.765625 45.015625 23.390625 \nQ 45.015625 31 40.078125 35.4375 \nQ 35.15625 39.890625 26.703125 39.890625 \nQ 22.75 39.890625 18.8125 39.015625 \nQ 14.890625 38.140625 10.796875 36.28125 \nz\n\" id=\"DejaVuSans-53\"/>\n        <path d=\"M 31.78125 66.40625 \nQ 24.171875 66.40625 20.328125 58.90625 \nQ 16.5 51.421875 16.5 36.375 \nQ 16.5 21.390625 20.328125 13.890625 \nQ 24.171875 6.390625 31.78125 6.390625 \nQ 39.453125 6.390625 43.28125 13.890625 \nQ 47.125 21.390625 47.125 36.375 \nQ 47.125 51.421875 43.28125 58.90625 \nQ 39.453125 66.40625 31.78125 66.40625 \nz\nM 31.78125 74.21875 \nQ 44.046875 74.21875 50.515625 64.515625 \nQ 56.984375 54.828125 56.984375 36.375 \nQ 56.984375 17.96875 50.515625 8.265625 \nQ 44.046875 -1.421875 31.78125 -1.421875 \nQ 19.53125 -1.421875 13.0625 8.265625 \nQ 6.59375 17.96875 6.59375 36.375 \nQ 6.59375 54.828125 13.0625 64.515625 \nQ 19.53125 74.21875 31.78125 74.21875 \nz\n\" id=\"DejaVuSans-48\"/>\n       </defs>\n       <use xlink:href=\"#DejaVuSans-49\"/>\n       <use x=\"63.623047\" xlink:href=\"#DejaVuSans-54\"/>\n       <use x=\"127.246094\" xlink:href=\"#DejaVuSans-53\"/>\n       <use x=\"190.869141\" xlink:href=\"#DejaVuSans-48\"/>\n      </g>\n     </g>\n    </g>\n    <g id=\"xtick_2\">\n     <g id=\"line2d_2\">\n      <g>\n       <use style=\"stroke:#000000;stroke-width:0.8;\" x=\"132.045204\" xlink:href=\"#me880f6a2df\" y=\"224.64\"/>\n      </g>\n     </g>\n     <g id=\"text_2\">\n      <!-- 1700 -->\n      <g transform=\"translate(119.320204 239.238437)scale(0.1 -0.1)\">\n       <defs>\n        <path d=\"M 8.203125 72.90625 \nL 55.078125 72.90625 \nL 55.078125 68.703125 \nL 28.609375 0 \nL 18.3125 0 \nL 43.21875 64.59375 \nL 8.203125 64.59375 \nz\n\" id=\"DejaVuSans-55\"/>\n       </defs>\n       <use xlink:href=\"#DejaVuSans-49\"/>\n       <use x=\"63.623047\" xlink:href=\"#DejaVuSans-55\"/>\n       <use x=\"127.246094\" xlink:href=\"#DejaVuSans-48\"/>\n       <use x=\"190.869141\" xlink:href=\"#DejaVuSans-48\"/>\n      </g>\n     </g>\n    </g>\n    <g id=\"xtick_3\">\n     <g id=\"line2d_3\">\n      <g>\n       <use style=\"stroke:#000000;stroke-width:0.8;\" x=\"171.470546\" xlink:href=\"#me880f6a2df\" y=\"224.64\"/>\n      </g>\n     </g>\n     <g id=\"text_3\">\n      <!-- 1750 -->\n      <g transform=\"translate(158.745546 239.238437)scale(0.1 -0.1)\">\n       <use xlink:href=\"#DejaVuSans-49\"/>\n       <use x=\"63.623047\" xlink:href=\"#DejaVuSans-55\"/>\n       <use x=\"127.246094\" xlink:href=\"#DejaVuSans-53\"/>\n       <use x=\"190.869141\" xlink:href=\"#DejaVuSans-48\"/>\n      </g>\n     </g>\n    </g>\n    <g id=\"xtick_4\">\n     <g id=\"line2d_4\">\n      <g>\n       <use style=\"stroke:#000000;stroke-width:0.8;\" x=\"210.895887\" xlink:href=\"#me880f6a2df\" y=\"224.64\"/>\n      </g>\n     </g>\n     <g id=\"text_4\">\n      <!-- 1800 -->\n      <g transform=\"translate(198.170887 239.238437)scale(0.1 -0.1)\">\n       <defs>\n        <path d=\"M 31.78125 34.625 \nQ 24.75 34.625 20.71875 30.859375 \nQ 16.703125 27.09375 16.703125 20.515625 \nQ 16.703125 13.921875 20.71875 10.15625 \nQ 24.75 6.390625 31.78125 6.390625 \nQ 38.8125 6.390625 42.859375 10.171875 \nQ 46.921875 13.96875 46.921875 20.515625 \nQ 46.921875 27.09375 42.890625 30.859375 \nQ 38.875 34.625 31.78125 34.625 \nz\nM 21.921875 38.8125 \nQ 15.578125 40.375 12.03125 44.71875 \nQ 8.5 49.078125 8.5 55.328125 \nQ 8.5 64.0625 14.71875 69.140625 \nQ 20.953125 74.21875 31.78125 74.21875 \nQ 42.671875 74.21875 48.875 69.140625 \nQ 55.078125 64.0625 55.078125 55.328125 \nQ 55.078125 49.078125 51.53125 44.71875 \nQ 48 40.375 41.703125 38.8125 \nQ 48.828125 37.15625 52.796875 32.3125 \nQ 56.78125 27.484375 56.78125 20.515625 \nQ 56.78125 9.90625 50.3125 4.234375 \nQ 43.84375 -1.421875 31.78125 -1.421875 \nQ 19.734375 -1.421875 13.25 4.234375 \nQ 6.78125 9.90625 6.78125 20.515625 \nQ 6.78125 27.484375 10.78125 32.3125 \nQ 14.796875 37.15625 21.921875 38.8125 \nz\nM 18.3125 54.390625 \nQ 18.3125 48.734375 21.84375 45.5625 \nQ 25.390625 42.390625 31.78125 42.390625 \nQ 38.140625 42.390625 41.71875 45.5625 \nQ 45.3125 48.734375 45.3125 54.390625 \nQ 45.3125 60.0625 41.71875 63.234375 \nQ 38.140625 66.40625 31.78125 66.40625 \nQ 25.390625 66.40625 21.84375 63.234375 \nQ 18.3125 60.0625 18.3125 54.390625 \nz\n\" id=\"DejaVuSans-56\"/>\n       </defs>\n       <use xlink:href=\"#DejaVuSans-49\"/>\n       <use x=\"63.623047\" xlink:href=\"#DejaVuSans-56\"/>\n       <use x=\"127.246094\" xlink:href=\"#DejaVuSans-48\"/>\n       <use x=\"190.869141\" xlink:href=\"#DejaVuSans-48\"/>\n      </g>\n     </g>\n    </g>\n    <g id=\"xtick_5\">\n     <g id=\"line2d_5\">\n      <g>\n       <use style=\"stroke:#000000;stroke-width:0.8;\" x=\"250.321229\" xlink:href=\"#me880f6a2df\" y=\"224.64\"/>\n      </g>\n     </g>\n     <g id=\"text_5\">\n      <!-- 1850 -->\n      <g transform=\"translate(237.596229 239.238437)scale(0.1 -0.1)\">\n       <use xlink:href=\"#DejaVuSans-49\"/>\n       <use x=\"63.623047\" xlink:href=\"#DejaVuSans-56\"/>\n       <use x=\"127.246094\" xlink:href=\"#DejaVuSans-53\"/>\n       <use x=\"190.869141\" xlink:href=\"#DejaVuSans-48\"/>\n      </g>\n     </g>\n    </g>\n    <g id=\"xtick_6\">\n     <g id=\"line2d_6\">\n      <g>\n       <use style=\"stroke:#000000;stroke-width:0.8;\" x=\"289.74657\" xlink:href=\"#me880f6a2df\" y=\"224.64\"/>\n      </g>\n     </g>\n     <g id=\"text_6\">\n      <!-- 1900 -->\n      <g transform=\"translate(277.02157 239.238437)scale(0.1 -0.1)\">\n       <defs>\n        <path d=\"M 10.984375 1.515625 \nL 10.984375 10.5 \nQ 14.703125 8.734375 18.5 7.8125 \nQ 22.3125 6.890625 25.984375 6.890625 \nQ 35.75 6.890625 40.890625 13.453125 \nQ 46.046875 20.015625 46.78125 33.40625 \nQ 43.953125 29.203125 39.59375 26.953125 \nQ 35.25 24.703125 29.984375 24.703125 \nQ 19.046875 24.703125 12.671875 31.3125 \nQ 6.296875 37.9375 6.296875 49.421875 \nQ 6.296875 60.640625 12.9375 67.421875 \nQ 19.578125 74.21875 30.609375 74.21875 \nQ 43.265625 74.21875 49.921875 64.515625 \nQ 56.59375 54.828125 56.59375 36.375 \nQ 56.59375 19.140625 48.40625 8.859375 \nQ 40.234375 -1.421875 26.421875 -1.421875 \nQ 22.703125 -1.421875 18.890625 -0.6875 \nQ 15.09375 0.046875 10.984375 1.515625 \nz\nM 30.609375 32.421875 \nQ 37.25 32.421875 41.125 36.953125 \nQ 45.015625 41.5 45.015625 49.421875 \nQ 45.015625 57.28125 41.125 61.84375 \nQ 37.25 66.40625 30.609375 66.40625 \nQ 23.96875 66.40625 20.09375 61.84375 \nQ 16.21875 57.28125 16.21875 49.421875 \nQ 16.21875 41.5 20.09375 36.953125 \nQ 23.96875 32.421875 30.609375 32.421875 \nz\n\" id=\"DejaVuSans-57\"/>\n       </defs>\n       <use xlink:href=\"#DejaVuSans-49\"/>\n       <use x=\"63.623047\" xlink:href=\"#DejaVuSans-57\"/>\n       <use x=\"127.246094\" xlink:href=\"#DejaVuSans-48\"/>\n       <use x=\"190.869141\" xlink:href=\"#DejaVuSans-48\"/>\n      </g>\n     </g>\n    </g>\n    <g id=\"xtick_7\">\n     <g id=\"line2d_7\">\n      <g>\n       <use style=\"stroke:#000000;stroke-width:0.8;\" x=\"329.171912\" xlink:href=\"#me880f6a2df\" y=\"224.64\"/>\n      </g>\n     </g>\n     <g id=\"text_7\">\n      <!-- 1950 -->\n      <g transform=\"translate(316.446912 239.238437)scale(0.1 -0.1)\">\n       <use xlink:href=\"#DejaVuSans-49\"/>\n       <use x=\"63.623047\" xlink:href=\"#DejaVuSans-57\"/>\n       <use x=\"127.246094\" xlink:href=\"#DejaVuSans-53\"/>\n       <use x=\"190.869141\" xlink:href=\"#DejaVuSans-48\"/>\n      </g>\n     </g>\n    </g>\n    <g id=\"xtick_8\">\n     <g id=\"line2d_8\">\n      <g>\n       <use style=\"stroke:#000000;stroke-width:0.8;\" x=\"368.597253\" xlink:href=\"#me880f6a2df\" y=\"224.64\"/>\n      </g>\n     </g>\n     <g id=\"text_8\">\n      <!-- 2000 -->\n      <g transform=\"translate(355.872253 239.238437)scale(0.1 -0.1)\">\n       <defs>\n        <path d=\"M 19.1875 8.296875 \nL 53.609375 8.296875 \nL 53.609375 0 \nL 7.328125 0 \nL 7.328125 8.296875 \nQ 12.9375 14.109375 22.625 23.890625 \nQ 32.328125 33.6875 34.8125 36.53125 \nQ 39.546875 41.84375 41.421875 45.53125 \nQ 43.3125 49.21875 43.3125 52.78125 \nQ 43.3125 58.59375 39.234375 62.25 \nQ 35.15625 65.921875 28.609375 65.921875 \nQ 23.96875 65.921875 18.8125 64.3125 \nQ 13.671875 62.703125 7.8125 59.421875 \nL 7.8125 69.390625 \nQ 13.765625 71.78125 18.9375 73 \nQ 24.125 74.21875 28.421875 74.21875 \nQ 39.75 74.21875 46.484375 68.546875 \nQ 53.21875 62.890625 53.21875 53.421875 \nQ 53.21875 48.921875 51.53125 44.890625 \nQ 49.859375 40.875 45.40625 35.40625 \nQ 44.1875 33.984375 37.640625 27.21875 \nQ 31.109375 20.453125 19.1875 8.296875 \nz\n\" id=\"DejaVuSans-50\"/>\n       </defs>\n       <use xlink:href=\"#DejaVuSans-50\"/>\n       <use x=\"63.623047\" xlink:href=\"#DejaVuSans-48\"/>\n       <use x=\"127.246094\" xlink:href=\"#DejaVuSans-48\"/>\n       <use x=\"190.869141\" xlink:href=\"#DejaVuSans-48\"/>\n      </g>\n     </g>\n    </g>\n   </g>\n   <g id=\"matplotlib.axis_2\">\n    <g id=\"ytick_1\">\n     <g id=\"line2d_9\">\n      <defs>\n       <path d=\"M 0 0 \nL -3.5 0 \n\" id=\"mc2a453ba01\" style=\"stroke:#000000;stroke-width:0.8;\"/>\n      </defs>\n      <g>\n       <use style=\"stroke:#000000;stroke-width:0.8;\" x=\"56.50625\" xlink:href=\"#mc2a453ba01\" y=\"214.756364\"/>\n      </g>\n     </g>\n     <g id=\"text_9\">\n      <!-- 0.000 -->\n      <g transform=\"translate(20.878125 218.555583)scale(0.1 -0.1)\">\n       <defs>\n        <path d=\"M 10.6875 12.40625 \nL 21 12.40625 \nL 21 0 \nL 10.6875 0 \nz\n\" id=\"DejaVuSans-46\"/>\n       </defs>\n       <use xlink:href=\"#DejaVuSans-48\"/>\n       <use x=\"63.623047\" xlink:href=\"#DejaVuSans-46\"/>\n       <use x=\"95.410156\" xlink:href=\"#DejaVuSans-48\"/>\n       <use x=\"159.033203\" xlink:href=\"#DejaVuSans-48\"/>\n       <use x=\"222.65625\" xlink:href=\"#DejaVuSans-48\"/>\n      </g>\n     </g>\n    </g>\n    <g id=\"ytick_2\">\n     <g id=\"line2d_10\">\n      <g>\n       <use style=\"stroke:#000000;stroke-width:0.8;\" x=\"56.50625\" xlink:href=\"#mc2a453ba01\" y=\"168.252548\"/>\n      </g>\n     </g>\n     <g id=\"text_10\">\n      <!-- 0.002 -->\n      <g transform=\"translate(20.878125 172.051767)scale(0.1 -0.1)\">\n       <use xlink:href=\"#DejaVuSans-48\"/>\n       <use x=\"63.623047\" xlink:href=\"#DejaVuSans-46\"/>\n       <use x=\"95.410156\" xlink:href=\"#DejaVuSans-48\"/>\n       <use x=\"159.033203\" xlink:href=\"#DejaVuSans-48\"/>\n       <use x=\"222.65625\" xlink:href=\"#DejaVuSans-50\"/>\n      </g>\n     </g>\n    </g>\n    <g id=\"ytick_3\">\n     <g id=\"line2d_11\">\n      <g>\n       <use style=\"stroke:#000000;stroke-width:0.8;\" x=\"56.50625\" xlink:href=\"#mc2a453ba01\" y=\"121.748733\"/>\n      </g>\n     </g>\n     <g id=\"text_11\">\n      <!-- 0.004 -->\n      <g transform=\"translate(20.878125 125.547952)scale(0.1 -0.1)\">\n       <defs>\n        <path d=\"M 37.796875 64.3125 \nL 12.890625 25.390625 \nL 37.796875 25.390625 \nz\nM 35.203125 72.90625 \nL 47.609375 72.90625 \nL 47.609375 25.390625 \nL 58.015625 25.390625 \nL 58.015625 17.1875 \nL 47.609375 17.1875 \nL 47.609375 0 \nL 37.796875 0 \nL 37.796875 17.1875 \nL 4.890625 17.1875 \nL 4.890625 26.703125 \nz\n\" id=\"DejaVuSans-52\"/>\n       </defs>\n       <use xlink:href=\"#DejaVuSans-48\"/>\n       <use x=\"63.623047\" xlink:href=\"#DejaVuSans-46\"/>\n       <use x=\"95.410156\" xlink:href=\"#DejaVuSans-48\"/>\n       <use x=\"159.033203\" xlink:href=\"#DejaVuSans-48\"/>\n       <use x=\"222.65625\" xlink:href=\"#DejaVuSans-52\"/>\n      </g>\n     </g>\n    </g>\n    <g id=\"ytick_4\">\n     <g id=\"line2d_12\">\n      <g>\n       <use style=\"stroke:#000000;stroke-width:0.8;\" x=\"56.50625\" xlink:href=\"#mc2a453ba01\" y=\"75.244917\"/>\n      </g>\n     </g>\n     <g id=\"text_12\">\n      <!-- 0.006 -->\n      <g transform=\"translate(20.878125 79.044136)scale(0.1 -0.1)\">\n       <use xlink:href=\"#DejaVuSans-48\"/>\n       <use x=\"63.623047\" xlink:href=\"#DejaVuSans-46\"/>\n       <use x=\"95.410156\" xlink:href=\"#DejaVuSans-48\"/>\n       <use x=\"159.033203\" xlink:href=\"#DejaVuSans-48\"/>\n       <use x=\"222.65625\" xlink:href=\"#DejaVuSans-54\"/>\n      </g>\n     </g>\n    </g>\n    <g id=\"ytick_5\">\n     <g id=\"line2d_13\">\n      <g>\n       <use style=\"stroke:#000000;stroke-width:0.8;\" x=\"56.50625\" xlink:href=\"#mc2a453ba01\" y=\"28.741102\"/>\n      </g>\n     </g>\n     <g id=\"text_13\">\n      <!-- 0.008 -->\n      <g transform=\"translate(20.878125 32.540321)scale(0.1 -0.1)\">\n       <use xlink:href=\"#DejaVuSans-48\"/>\n       <use x=\"63.623047\" xlink:href=\"#DejaVuSans-46\"/>\n       <use x=\"95.410156\" xlink:href=\"#DejaVuSans-48\"/>\n       <use x=\"159.033203\" xlink:href=\"#DejaVuSans-48\"/>\n       <use x=\"222.65625\" xlink:href=\"#DejaVuSans-56\"/>\n      </g>\n     </g>\n    </g>\n    <g id=\"text_14\">\n     <!-- Density -->\n     <g transform=\"translate(14.798437 134.928594)rotate(-90)scale(0.1 -0.1)\">\n      <defs>\n       <path d=\"M 19.671875 64.796875 \nL 19.671875 8.109375 \nL 31.59375 8.109375 \nQ 46.6875 8.109375 53.6875 14.9375 \nQ 60.6875 21.78125 60.6875 36.53125 \nQ 60.6875 51.171875 53.6875 57.984375 \nQ 46.6875 64.796875 31.59375 64.796875 \nz\nM 9.8125 72.90625 \nL 30.078125 72.90625 \nQ 51.265625 72.90625 61.171875 64.09375 \nQ 71.09375 55.28125 71.09375 36.53125 \nQ 71.09375 17.671875 61.125 8.828125 \nQ 51.171875 0 30.078125 0 \nL 9.8125 0 \nz\n\" id=\"DejaVuSans-68\"/>\n       <path d=\"M 56.203125 29.59375 \nL 56.203125 25.203125 \nL 14.890625 25.203125 \nQ 15.484375 15.921875 20.484375 11.0625 \nQ 25.484375 6.203125 34.421875 6.203125 \nQ 39.59375 6.203125 44.453125 7.46875 \nQ 49.3125 8.734375 54.109375 11.28125 \nL 54.109375 2.78125 \nQ 49.265625 0.734375 44.1875 -0.34375 \nQ 39.109375 -1.421875 33.890625 -1.421875 \nQ 20.796875 -1.421875 13.15625 6.1875 \nQ 5.515625 13.8125 5.515625 26.8125 \nQ 5.515625 40.234375 12.765625 48.109375 \nQ 20.015625 56 32.328125 56 \nQ 43.359375 56 49.78125 48.890625 \nQ 56.203125 41.796875 56.203125 29.59375 \nz\nM 47.21875 32.234375 \nQ 47.125 39.59375 43.09375 43.984375 \nQ 39.0625 48.390625 32.421875 48.390625 \nQ 24.90625 48.390625 20.390625 44.140625 \nQ 15.875 39.890625 15.1875 32.171875 \nz\n\" id=\"DejaVuSans-101\"/>\n       <path d=\"M 54.890625 33.015625 \nL 54.890625 0 \nL 45.90625 0 \nL 45.90625 32.71875 \nQ 45.90625 40.484375 42.875 44.328125 \nQ 39.84375 48.1875 33.796875 48.1875 \nQ 26.515625 48.1875 22.3125 43.546875 \nQ 18.109375 38.921875 18.109375 30.90625 \nL 18.109375 0 \nL 9.078125 0 \nL 9.078125 54.6875 \nL 18.109375 54.6875 \nL 18.109375 46.1875 \nQ 21.34375 51.125 25.703125 53.5625 \nQ 30.078125 56 35.796875 56 \nQ 45.21875 56 50.046875 50.171875 \nQ 54.890625 44.34375 54.890625 33.015625 \nz\n\" id=\"DejaVuSans-110\"/>\n       <path d=\"M 44.28125 53.078125 \nL 44.28125 44.578125 \nQ 40.484375 46.53125 36.375 47.5 \nQ 32.28125 48.484375 27.875 48.484375 \nQ 21.1875 48.484375 17.84375 46.4375 \nQ 14.5 44.390625 14.5 40.28125 \nQ 14.5 37.15625 16.890625 35.375 \nQ 19.28125 33.59375 26.515625 31.984375 \nL 29.59375 31.296875 \nQ 39.15625 29.25 43.1875 25.515625 \nQ 47.21875 21.78125 47.21875 15.09375 \nQ 47.21875 7.46875 41.1875 3.015625 \nQ 35.15625 -1.421875 24.609375 -1.421875 \nQ 20.21875 -1.421875 15.453125 -0.5625 \nQ 10.6875 0.296875 5.421875 2 \nL 5.421875 11.28125 \nQ 10.40625 8.6875 15.234375 7.390625 \nQ 20.0625 6.109375 24.8125 6.109375 \nQ 31.15625 6.109375 34.5625 8.28125 \nQ 37.984375 10.453125 37.984375 14.40625 \nQ 37.984375 18.0625 35.515625 20.015625 \nQ 33.0625 21.96875 24.703125 23.78125 \nL 21.578125 24.515625 \nQ 13.234375 26.265625 9.515625 29.90625 \nQ 5.8125 33.546875 5.8125 39.890625 \nQ 5.8125 47.609375 11.28125 51.796875 \nQ 16.75 56 26.8125 56 \nQ 31.78125 56 36.171875 55.265625 \nQ 40.578125 54.546875 44.28125 53.078125 \nz\n\" id=\"DejaVuSans-115\"/>\n       <path d=\"M 9.421875 54.6875 \nL 18.40625 54.6875 \nL 18.40625 0 \nL 9.421875 0 \nz\nM 9.421875 75.984375 \nL 18.40625 75.984375 \nL 18.40625 64.59375 \nL 9.421875 64.59375 \nz\n\" id=\"DejaVuSans-105\"/>\n       <path d=\"M 18.3125 70.21875 \nL 18.3125 54.6875 \nL 36.8125 54.6875 \nL 36.8125 47.703125 \nL 18.3125 47.703125 \nL 18.3125 18.015625 \nQ 18.3125 11.328125 20.140625 9.421875 \nQ 21.96875 7.515625 27.59375 7.515625 \nL 36.8125 7.515625 \nL 36.8125 0 \nL 27.59375 0 \nQ 17.1875 0 13.234375 3.875 \nQ 9.28125 7.765625 9.28125 18.015625 \nL 9.28125 47.703125 \nL 2.6875 47.703125 \nL 2.6875 54.6875 \nL 9.28125 54.6875 \nL 9.28125 70.21875 \nz\n\" id=\"DejaVuSans-116\"/>\n       <path d=\"M 32.171875 -5.078125 \nQ 28.375 -14.84375 24.75 -17.8125 \nQ 21.140625 -20.796875 15.09375 -20.796875 \nL 7.90625 -20.796875 \nL 7.90625 -13.28125 \nL 13.1875 -13.28125 \nQ 16.890625 -13.28125 18.9375 -11.515625 \nQ 21 -9.765625 23.484375 -3.21875 \nL 25.09375 0.875 \nL 2.984375 54.6875 \nL 12.5 54.6875 \nL 29.59375 11.921875 \nL 46.6875 54.6875 \nL 56.203125 54.6875 \nz\n\" id=\"DejaVuSans-121\"/>\n      </defs>\n      <use xlink:href=\"#DejaVuSans-68\"/>\n      <use x=\"77.001953\" xlink:href=\"#DejaVuSans-101\"/>\n      <use x=\"138.525391\" xlink:href=\"#DejaVuSans-110\"/>\n      <use x=\"201.904297\" xlink:href=\"#DejaVuSans-115\"/>\n      <use x=\"254.003906\" xlink:href=\"#DejaVuSans-105\"/>\n      <use x=\"281.787109\" xlink:href=\"#DejaVuSans-116\"/>\n      <use x=\"320.996094\" xlink:href=\"#DejaVuSans-121\"/>\n     </g>\n    </g>\n   </g>\n   <g id=\"line2d_14\">\n    <path clip-path=\"url(#p066cfbcfc2)\" d=\"M 71.724432 214.756364 \nL 105.847282 214.653754 \nL 110.417307 214.409267 \nL 113.46399 214.023985 \nL 115.596668 213.558812 \nL 117.424678 212.967348 \nL 119.252687 212.132499 \nL 120.776029 211.196029 \nL 122.29937 209.985703 \nL 123.822712 208.443175 \nL 125.346053 206.504569 \nL 126.564727 204.622977 \nL 128.088068 201.799073 \nL 129.61141 198.386337 \nL 131.134751 194.319317 \nL 132.658093 189.540051 \nL 134.181434 184.002177 \nL 135.704776 177.675128 \nL 137.532786 169.027393 \nL 139.360795 159.255118 \nL 141.493474 146.543549 \nL 143.93082 130.574288 \nL 147.58684 104.840375 \nL 152.156864 72.815185 \nL 154.594211 57.35141 \nL 156.422221 47.032279 \nL 157.945562 39.457098 \nL 159.468904 32.921337 \nL 160.687577 28.488872 \nL 161.90625 24.78756 \nL 163.124923 21.82519 \nL 164.038928 20.085923 \nL 164.952933 18.753482 \nL 165.866938 17.818045 \nL 166.780943 17.266666 \nL 167.390279 17.104791 \nL 167.999616 17.101416 \nL 168.913621 17.381029 \nL 169.827626 17.983786 \nL 170.741631 18.887637 \nL 171.655636 20.069516 \nL 172.874309 22.036871 \nL 174.39765 25.045659 \nL 175.920992 28.563703 \nL 178.05367 34.149093 \nL 180.795685 42.094482 \nL 185.670378 57.132254 \nL 191.459076 74.78093 \nL 195.419764 86.117288 \nL 198.771115 95.068583 \nL 201.817798 102.624941 \nL 204.864481 109.580102 \nL 207.606496 115.299566 \nL 210.34851 120.494927 \nL 212.785857 124.670159 \nL 215.223203 128.428003 \nL 217.66055 131.765554 \nL 219.793228 134.334614 \nL 221.925906 136.565477 \nL 224.058584 138.444912 \nL 225.886594 139.765249 \nL 227.714604 140.808822 \nL 229.542614 141.570306 \nL 231.065955 141.98842 \nL 232.589297 142.211897 \nL 234.112638 142.245734 \nL 235.940648 142.04735 \nL 237.768658 141.606325 \nL 239.596668 140.946516 \nL 241.729346 139.937397 \nL 244.166692 138.528405 \nL 247.213375 136.49743 \nL 256.962761 129.77672 \nL 259.400107 128.474705 \nL 261.532786 127.578036 \nL 263.665464 126.941849 \nL 265.493474 126.617699 \nL 267.321483 126.500567 \nL 269.149493 126.585841 \nL 271.282171 126.928695 \nL 273.41485 127.518236 \nL 275.547528 128.344929 \nL 277.680206 129.414272 \nL 279.812884 130.752699 \nL 281.640894 132.150618 \nL 283.468904 133.823872 \nL 285.296913 135.820473 \nL 287.124923 138.188492 \nL 288.952933 140.969079 \nL 290.780943 144.189361 \nL 292.608953 147.856248 \nL 294.741631 152.673665 \nL 297.178977 158.796243 \nL 300.22566 167.097994 \nL 306.928363 185.560046 \nL 309.365709 191.540399 \nL 311.498388 196.204361 \nL 313.326397 199.722968 \nL 315.154407 202.779891 \nL 316.982417 205.378942 \nL 318.810427 207.541781 \nL 320.638437 209.303631 \nL 322.466447 210.7087 \nL 324.294456 211.805817 \nL 326.122466 212.644644 \nL 328.255144 213.359977 \nL 330.692491 213.912621 \nL 333.434506 214.296429 \nL 337.090525 214.564729 \nL 342.574555 214.711735 \nL 355.370623 214.755611 \nL 376.088068 214.756364 \nL 376.088068 214.756364 \n\" style=\"fill:none;stroke:#1f77b4;stroke-linecap:square;stroke-width:1.5;\"/>\n   </g>\n   <g id=\"patch_3\">\n    <path d=\"M 56.50625 224.64 \nL 56.50625 7.2 \n\" style=\"fill:none;stroke:#000000;stroke-linecap:square;stroke-linejoin:miter;stroke-width:0.8;\"/>\n   </g>\n   <g id=\"patch_4\">\n    <path d=\"M 391.30625 224.64 \nL 391.30625 7.2 \n\" style=\"fill:none;stroke:#000000;stroke-linecap:square;stroke-linejoin:miter;stroke-width:0.8;\"/>\n   </g>\n   <g id=\"patch_5\">\n    <path d=\"M 56.50625 224.64 \nL 391.30625 224.64 \n\" style=\"fill:none;stroke:#000000;stroke-linecap:square;stroke-linejoin:miter;stroke-width:0.8;\"/>\n   </g>\n   <g id=\"patch_6\">\n    <path d=\"M 56.50625 7.2 \nL 391.30625 7.2 \n\" style=\"fill:none;stroke:#000000;stroke-linecap:square;stroke-linejoin:miter;stroke-width:0.8;\"/>\n   </g>\n  </g>\n </g>\n <defs>\n  <clipPath id=\"p066cfbcfc2\">\n   <rect height=\"217.44\" width=\"334.8\" x=\"56.50625\" y=\"7.2\"/>\n  </clipPath>\n </defs>\n</svg>\n",
      "image/png": "[encoded data removed]"
     },
     "metadata": {
      "needs_background": "light"
     }
    }
   ],
   "source": [
    "C.meta.year.plot.density()"
   ]
  },
  {
   "cell_type": "code",
   "execution_count": 6,
   "metadata": {},
   "outputs": [
    {
     "output_type": "execute_result",
     "data": {
      "text/plain": [
       "<AxesSubplot:ylabel='gender'>"
      ]
     },
     "metadata": {},
     "execution_count": 6
    },
    {
     "output_type": "display_data",
     "data": {
      "text/plain": "<Figure size 432x288 with 1 Axes>",
      "image/svg+xml": "<?xml version=\"1.0\" encoding=\"utf-8\" standalone=\"no\"?>\n<!DOCTYPE svg PUBLIC \"-//W3C//DTD SVG 1.1//EN\"\n  \"http://www.w3.org/Graphics/SVG/1.1/DTD/svg11.dtd\">\n<!-- Created with matplotlib (https://matplotlib.org/) -->\n<svg height=\"231.84pt\" version=\"1.1\" viewBox=\"0 0 266.916075 231.84\" width=\"266.916075pt\" xmlns=\"http://www.w3.org/2000/svg\" xmlns:xlink=\"http://www.w3.org/1999/xlink\">\n <metadata>\n  <rdf:RDF xmlns:cc=\"http://creativecommons.org/ns#\" xmlns:dc=\"http://purl.org/dc/elements/1.1/\" xmlns:rdf=\"http://www.w3.org/1999/02/22-rdf-syntax-ns#\">\n   <cc:Work>\n    <dc:type rdf:resource=\"http://purl.org/dc/dcmitype/StillImage\"/>\n    <dc:date>2021-03-10T08:59:03.523419</dc:date>\n    <dc:format>image/svg+xml</dc:format>\n    <dc:creator>\n     <cc:Agent>\n      <dc:title>Matplotlib v3.3.4, https://matplotlib.org/</dc:title>\n     </cc:Agent>\n    </dc:creator>\n   </cc:Work>\n  </rdf:RDF>\n </metadata>\n <defs>\n  <style type=\"text/css\">*{stroke-linecap:butt;stroke-linejoin:round;}</style>\n </defs>\n <g id=\"figure_1\">\n  <g id=\"patch_1\">\n   <path d=\"M 0 231.84 \nL 266.916075 231.84 \nL 266.916075 0 \nL 0 0 \nz\n\" style=\"fill:none;\"/>\n  </g>\n  <g id=\"axes_1\">\n   <g id=\"patch_2\">\n    <path d=\"M 216.574125 115.92 \nC 216.574125 105.508084 214.704506 95.180267 211.054435 85.429115 \nC 207.404365 75.677962 202.032808 66.660998 195.19595 58.808268 \nC 188.359092 50.955538 180.167379 44.393899 171.011497 39.436295 \nC 161.855616 34.478691 151.883476 31.20521 141.570676 29.771973 \nC 131.257877 28.338736 120.771017 28.768897 110.610246 31.04194 \nC 100.449475 33.314983 90.778934 37.394189 82.059841 43.085007 \nC 73.340749 48.775826 65.713955 55.986325 59.543207 64.372614 \nC 53.372458 72.758904 48.757438 82.185508 45.918252 92.202844 \nC 43.079066 102.22018 42.061579 112.666423 42.914318 123.04336 \nC 43.767057 133.420298 46.476247 143.560296 50.912677 152.979748 \nC 55.349108 162.3992 61.441112 170.94594 68.898142 178.212348 \nC 76.355173 185.478757 85.056766 191.347448 94.587918 195.538528 \nC 104.119069 199.729607 114.325808 202.17537 124.721344 202.759171 \nC 135.11688 203.342971 145.53328 202.055378 155.473753 198.957801 \nC 165.414226 195.860224 174.718191 191.002703 182.941913 184.616906 \nC 191.165634 178.23111 198.176263 170.420197 203.639442 161.556695 \nL 129.598125 115.92 \nL 216.574125 115.92 \nz\n\" style=\"fill:#1f77b4;\"/>\n   </g>\n   <g id=\"patch_3\">\n    <path d=\"M 203.639442 161.556695 \nC 207.47073 155.340785 210.504057 148.667076 212.667768 141.693221 \nC 214.831479 134.719366 216.108401 127.500714 216.46837 120.207791 \nL 129.598125 115.92 \nL 203.639442 161.556695 \nz\n\" style=\"fill:#ff7f0e;\"/>\n   </g>\n   <g id=\"patch_4\">\n    <path d=\"M 216.46837 120.207791 \nC 216.503615 119.49373 216.530054 118.779261 216.547682 118.064547 \nC 216.56531 117.349833 216.574125 116.634929 216.574125 115.919998 \nL 129.598125 115.92 \nL 216.46837 120.207791 \nz\n\" style=\"fill:#2ca02c;\"/>\n   </g>\n   <g id=\"matplotlib.axis_1\"/>\n   <g id=\"matplotlib.axis_2\">\n    <g id=\"text_1\">\n     <!-- gender -->\n     <g transform=\"translate(14.798438 133.645781)rotate(-90)scale(0.1 -0.1)\">\n      <defs>\n       <path d=\"M 45.40625 27.984375 \nQ 45.40625 37.75 41.375 43.109375 \nQ 37.359375 48.484375 30.078125 48.484375 \nQ 22.859375 48.484375 18.828125 43.109375 \nQ 14.796875 37.75 14.796875 27.984375 \nQ 14.796875 18.265625 18.828125 12.890625 \nQ 22.859375 7.515625 30.078125 7.515625 \nQ 37.359375 7.515625 41.375 12.890625 \nQ 45.40625 18.265625 45.40625 27.984375 \nz\nM 54.390625 6.78125 \nQ 54.390625 -7.171875 48.1875 -13.984375 \nQ 42 -20.796875 29.203125 -20.796875 \nQ 24.46875 -20.796875 20.265625 -20.09375 \nQ 16.0625 -19.390625 12.109375 -17.921875 \nL 12.109375 -9.1875 \nQ 16.0625 -11.328125 19.921875 -12.34375 \nQ 23.78125 -13.375 27.78125 -13.375 \nQ 36.625 -13.375 41.015625 -8.765625 \nQ 45.40625 -4.15625 45.40625 5.171875 \nL 45.40625 9.625 \nQ 42.625 4.78125 38.28125 2.390625 \nQ 33.9375 0 27.875 0 \nQ 17.828125 0 11.671875 7.65625 \nQ 5.515625 15.328125 5.515625 27.984375 \nQ 5.515625 40.671875 11.671875 48.328125 \nQ 17.828125 56 27.875 56 \nQ 33.9375 56 38.28125 53.609375 \nQ 42.625 51.21875 45.40625 46.390625 \nL 45.40625 54.6875 \nL 54.390625 54.6875 \nz\n\" id=\"DejaVuSans-103\"/>\n       <path d=\"M 56.203125 29.59375 \nL 56.203125 25.203125 \nL 14.890625 25.203125 \nQ 15.484375 15.921875 20.484375 11.0625 \nQ 25.484375 6.203125 34.421875 6.203125 \nQ 39.59375 6.203125 44.453125 7.46875 \nQ 49.3125 8.734375 54.109375 11.28125 \nL 54.109375 2.78125 \nQ 49.265625 0.734375 44.1875 -0.34375 \nQ 39.109375 -1.421875 33.890625 -1.421875 \nQ 20.796875 -1.421875 13.15625 6.1875 \nQ 5.515625 13.8125 5.515625 26.8125 \nQ 5.515625 40.234375 12.765625 48.109375 \nQ 20.015625 56 32.328125 56 \nQ 43.359375 56 49.78125 48.890625 \nQ 56.203125 41.796875 56.203125 29.59375 \nz\nM 47.21875 32.234375 \nQ 47.125 39.59375 43.09375 43.984375 \nQ 39.0625 48.390625 32.421875 48.390625 \nQ 24.90625 48.390625 20.390625 44.140625 \nQ 15.875 39.890625 15.1875 32.171875 \nz\n\" id=\"DejaVuSans-101\"/>\n       <path d=\"M 54.890625 33.015625 \nL 54.890625 0 \nL 45.90625 0 \nL 45.90625 32.71875 \nQ 45.90625 40.484375 42.875 44.328125 \nQ 39.84375 48.1875 33.796875 48.1875 \nQ 26.515625 48.1875 22.3125 43.546875 \nQ 18.109375 38.921875 18.109375 30.90625 \nL 18.109375 0 \nL 9.078125 0 \nL 9.078125 54.6875 \nL 18.109375 54.6875 \nL 18.109375 46.1875 \nQ 21.34375 51.125 25.703125 53.5625 \nQ 30.078125 56 35.796875 56 \nQ 45.21875 56 50.046875 50.171875 \nQ 54.890625 44.34375 54.890625 33.015625 \nz\n\" id=\"DejaVuSans-110\"/>\n       <path d=\"M 45.40625 46.390625 \nL 45.40625 75.984375 \nL 54.390625 75.984375 \nL 54.390625 0 \nL 45.40625 0 \nL 45.40625 8.203125 \nQ 42.578125 3.328125 38.25 0.953125 \nQ 33.9375 -1.421875 27.875 -1.421875 \nQ 17.96875 -1.421875 11.734375 6.484375 \nQ 5.515625 14.40625 5.515625 27.296875 \nQ 5.515625 40.1875 11.734375 48.09375 \nQ 17.96875 56 27.875 56 \nQ 33.9375 56 38.25 53.625 \nQ 42.578125 51.265625 45.40625 46.390625 \nz\nM 14.796875 27.296875 \nQ 14.796875 17.390625 18.875 11.75 \nQ 22.953125 6.109375 30.078125 6.109375 \nQ 37.203125 6.109375 41.296875 11.75 \nQ 45.40625 17.390625 45.40625 27.296875 \nQ 45.40625 37.203125 41.296875 42.84375 \nQ 37.203125 48.484375 30.078125 48.484375 \nQ 22.953125 48.484375 18.875 42.84375 \nQ 14.796875 37.203125 14.796875 27.296875 \nz\n\" id=\"DejaVuSans-100\"/>\n       <path d=\"M 41.109375 46.296875 \nQ 39.59375 47.171875 37.8125 47.578125 \nQ 36.03125 48 33.890625 48 \nQ 26.265625 48 22.1875 43.046875 \nQ 18.109375 38.09375 18.109375 28.8125 \nL 18.109375 0 \nL 9.078125 0 \nL 9.078125 54.6875 \nL 18.109375 54.6875 \nL 18.109375 46.1875 \nQ 20.953125 51.171875 25.484375 53.578125 \nQ 30.03125 56 36.53125 56 \nQ 37.453125 56 38.578125 55.875 \nQ 39.703125 55.765625 41.0625 55.515625 \nz\n\" id=\"DejaVuSans-114\"/>\n      </defs>\n      <use xlink:href=\"#DejaVuSans-103\"/>\n      <use x=\"63.476562\" xlink:href=\"#DejaVuSans-101\"/>\n      <use x=\"125\" xlink:href=\"#DejaVuSans-110\"/>\n      <use x=\"188.378906\" xlink:href=\"#DejaVuSans-100\"/>\n      <use x=\"251.855469\" xlink:href=\"#DejaVuSans-101\"/>\n      <use x=\"313.378906\" xlink:href=\"#DejaVuSans-114\"/>\n     </g>\n    </g>\n   </g>\n   <g id=\"text_2\">\n    <!-- male -->\n    <g transform=\"translate(220.974733 147.029918)scale(0.1 -0.1)\">\n     <defs>\n      <path d=\"M 52 44.1875 \nQ 55.375 50.25 60.0625 53.125 \nQ 64.75 56 71.09375 56 \nQ 79.640625 56 84.28125 50.015625 \nQ 88.921875 44.046875 88.921875 33.015625 \nL 88.921875 0 \nL 79.890625 0 \nL 79.890625 32.71875 \nQ 79.890625 40.578125 77.09375 44.375 \nQ 74.3125 48.1875 68.609375 48.1875 \nQ 61.625 48.1875 57.5625 43.546875 \nQ 53.515625 38.921875 53.515625 30.90625 \nL 53.515625 0 \nL 44.484375 0 \nL 44.484375 32.71875 \nQ 44.484375 40.625 41.703125 44.40625 \nQ 38.921875 48.1875 33.109375 48.1875 \nQ 26.21875 48.1875 22.15625 43.53125 \nQ 18.109375 38.875 18.109375 30.90625 \nL 18.109375 0 \nL 9.078125 0 \nL 9.078125 54.6875 \nL 18.109375 54.6875 \nL 18.109375 46.1875 \nQ 21.1875 51.21875 25.484375 53.609375 \nQ 29.78125 56 35.6875 56 \nQ 41.65625 56 45.828125 52.96875 \nQ 50 49.953125 52 44.1875 \nz\n\" id=\"DejaVuSans-109\"/>\n      <path d=\"M 34.28125 27.484375 \nQ 23.390625 27.484375 19.1875 25 \nQ 14.984375 22.515625 14.984375 16.5 \nQ 14.984375 11.71875 18.140625 8.90625 \nQ 21.296875 6.109375 26.703125 6.109375 \nQ 34.1875 6.109375 38.703125 11.40625 \nQ 43.21875 16.703125 43.21875 25.484375 \nL 43.21875 27.484375 \nz\nM 52.203125 31.203125 \nL 52.203125 0 \nL 43.21875 0 \nL 43.21875 8.296875 \nQ 40.140625 3.328125 35.546875 0.953125 \nQ 30.953125 -1.421875 24.3125 -1.421875 \nQ 15.921875 -1.421875 10.953125 3.296875 \nQ 6 8.015625 6 15.921875 \nQ 6 25.140625 12.171875 29.828125 \nQ 18.359375 34.515625 30.609375 34.515625 \nL 43.21875 34.515625 \nL 43.21875 35.40625 \nQ 43.21875 41.609375 39.140625 45 \nQ 35.0625 48.390625 27.6875 48.390625 \nQ 23 48.390625 18.546875 47.265625 \nQ 14.109375 46.140625 10.015625 43.890625 \nL 10.015625 52.203125 \nQ 14.9375 54.109375 19.578125 55.046875 \nQ 24.21875 56 28.609375 56 \nQ 40.484375 56 46.34375 49.84375 \nQ 52.203125 43.703125 52.203125 31.203125 \nz\n\" id=\"DejaVuSans-97\"/>\n      <path d=\"M 9.421875 75.984375 \nL 18.40625 75.984375 \nL 18.40625 0 \nL 9.421875 0 \nz\n\" id=\"DejaVuSans-108\"/>\n     </defs>\n     <use xlink:href=\"#DejaVuSans-109\"/>\n     <use x=\"97.412109\" xlink:href=\"#DejaVuSans-97\"/>\n     <use x=\"158.691406\" xlink:href=\"#DejaVuSans-108\"/>\n     <use x=\"186.474609\" xlink:href=\"#DejaVuSans-101\"/>\n    </g>\n   </g>\n   <g id=\"text_3\">\n    <!-- female -->\n    <g transform=\"translate(225.242638 121.038377)scale(0.1 -0.1)\">\n     <defs>\n      <path d=\"M 37.109375 75.984375 \nL 37.109375 68.5 \nL 28.515625 68.5 \nQ 23.6875 68.5 21.796875 66.546875 \nQ 19.921875 64.59375 19.921875 59.515625 \nL 19.921875 54.6875 \nL 34.71875 54.6875 \nL 34.71875 47.703125 \nL 19.921875 47.703125 \nL 19.921875 0 \nL 10.890625 0 \nL 10.890625 47.703125 \nL 2.296875 47.703125 \nL 2.296875 54.6875 \nL 10.890625 54.6875 \nL 10.890625 58.5 \nQ 10.890625 67.625 15.140625 71.796875 \nQ 19.390625 75.984375 28.609375 75.984375 \nz\n\" id=\"DejaVuSans-102\"/>\n     </defs>\n     <use xlink:href=\"#DejaVuSans-102\"/>\n     <use x=\"35.205078\" xlink:href=\"#DejaVuSans-101\"/>\n     <use x=\"96.728516\" xlink:href=\"#DejaVuSans-109\"/>\n     <use x=\"194.140625\" xlink:href=\"#DejaVuSans-97\"/>\n     <use x=\"255.419922\" xlink:href=\"#DejaVuSans-108\"/>\n     <use x=\"283.203125\" xlink:href=\"#DejaVuSans-101\"/>\n    </g>\n   </g>\n  </g>\n </g>\n</svg>\n",
      "image/png": "[encoded data removed]"
     },
     "metadata": {}
    }
   ],
   "source": [
    "C.meta.gender.value_counts().plot(kind='pie')"
   ]
  },
  {
   "cell_type": "code",
   "execution_count": 7,
   "metadata": {},
   "outputs": [
    {
     "output_type": "execute_result",
     "data": {
      "text/plain": [
       "              gender           the             i       and        to  \\\n",
       "id                                                                     \n",
       "OBC2-18300218         4.187356e-05  1.846089e-05  0.000041  0.000036   \n",
       "OBC2-18020602         1.253672e-05  4.937705e-06  0.000013  0.000010   \n",
       "OBC2-18620303         4.145106e-05  1.729728e-05  0.000038  0.000034   \n",
       "OBC2-17240708         1.536363e-08  1.531071e-08  0.000000  0.000000   \n",
       "OBC2-17420714         4.985497e-06  2.197087e-06  0.000007  0.000005   \n",
       "...              ...           ...           ...       ...       ...   \n",
       "OBC2-18640411   male  3.795584e-05  1.659681e-05  0.000035  0.000034   \n",
       "OBC2-17830430         4.124365e-05  1.394040e-05  0.000042  0.000040   \n",
       "OBC2-17460117         1.113095e-05  3.406634e-06  0.000011  0.000010   \n",
       "OBC2-18451215         4.460061e-05  1.956709e-05  0.000038  0.000040   \n",
       "OBC2-17330221         8.787994e-06  3.222905e-06  0.000016  0.000010   \n",
       "\n",
       "                    was        of             a        he            in  ...  \\\n",
       "id                                                                       ...   \n",
       "OBC2-18300218  0.000072  0.000047  4.224097e-05  0.000078  5.726379e-05  ...   \n",
       "OBC2-18020602  0.000018  0.000017  1.367648e-05  0.000019  1.817330e-05  ...   \n",
       "OBC2-18620303  0.000075  0.000043  3.814036e-05  0.000061  6.211531e-05  ...   \n",
       "OBC2-17240708  0.000000  0.000000  2.329894e-08  0.000000  7.953305e-08  ...   \n",
       "OBC2-17420714  0.000012  0.000008  6.803289e-06  0.000012  8.947468e-06  ...   \n",
       "...                 ...       ...           ...       ...           ...  ...   \n",
       "OBC2-18640411  0.000073  0.000040  3.876943e-05  0.000070  5.591173e-05  ...   \n",
       "OBC2-17830430  0.000080  0.000055  3.695211e-05  0.000073  6.358667e-05  ...   \n",
       "OBC2-17460117  0.000017  0.000015  9.808852e-06  0.000019  1.475338e-05  ...   \n",
       "OBC2-18451215  0.000079  0.000053  4.033046e-05  0.000074  7.547686e-05  ...   \n",
       "OBC2-17330221  0.000018  0.000010  9.599162e-06  0.000013  1.666217e-05  ...   \n",
       "\n",
       "               soap-boiler  population  cogswell  stewpan  reproduced  \\\n",
       "id                                                                      \n",
       "OBC2-18300218          0.0         0.0       0.0      0.0         0.0   \n",
       "OBC2-18020602          0.0         0.0       0.0      0.0         0.0   \n",
       "OBC2-18620303          0.0         0.0       0.0      0.0         0.0   \n",
       "OBC2-17240708          0.0         0.0       0.0      0.0         0.0   \n",
       "OBC2-17420714          0.0         0.0       0.0      0.0         0.0   \n",
       "...                    ...         ...       ...      ...         ...   \n",
       "OBC2-18640411          0.0         0.0       0.0      0.0         0.0   \n",
       "OBC2-17830430          0.0         0.0       0.0      0.0         0.0   \n",
       "OBC2-17460117          0.0         0.0       0.0      0.0         0.0   \n",
       "OBC2-18451215          0.0         0.0       0.0      0.0         0.0   \n",
       "OBC2-17330221          0.0         0.0       0.0      0.0         0.0   \n",
       "\n",
       "               soldered  boulevard  north-row  comely  gardening  \n",
       "id                                                                \n",
       "OBC2-18300218       0.0        0.0        0.0     0.0        0.0  \n",
       "OBC2-18020602       0.0        0.0        0.0     0.0        0.0  \n",
       "OBC2-18620303       0.0        0.0        0.0     0.0        0.0  \n",
       "OBC2-17240708       0.0        0.0        0.0     0.0        0.0  \n",
       "OBC2-17420714       0.0        0.0        0.0     0.0        0.0  \n",
       "...                 ...        ...        ...     ...        ...  \n",
       "OBC2-18640411       0.0        0.0        0.0     0.0        0.0  \n",
       "OBC2-17830430       0.0        0.0        0.0     0.0        0.0  \n",
       "OBC2-17460117       0.0        0.0        0.0     0.0        0.0  \n",
       "OBC2-18451215       0.0        0.0        0.0     0.0        0.0  \n",
       "OBC2-17330221       0.0        0.0        0.0     0.0        0.0  \n",
       "\n",
       "[637 rows x 25000 columns]"
      ],
      "text/html": "<div>\n<style scoped>\n    .dataframe tbody tr th:only-of-type {\n        vertical-align: middle;\n    }\n\n    .dataframe tbody tr th {\n        vertical-align: top;\n    }\n\n    .dataframe thead th {\n        text-align: right;\n    }\n</style>\n<table border=\"1\" class=\"dataframe\">\n  <thead>\n    <tr style=\"text-align: right;\">\n      <th></th>\n      <th>gender</th>\n      <th>the</th>\n      <th>i</th>\n      <th>and</th>\n      <th>to</th>\n      <th>was</th>\n      <th>of</th>\n      <th>a</th>\n      <th>he</th>\n      <th>in</th>\n      <th>...</th>\n      <th>soap-boiler</th>\n      <th>population</th>\n      <th>cogswell</th>\n      <th>stewpan</th>\n      <th>reproduced</th>\n      <th>soldered</th>\n      <th>boulevard</th>\n      <th>north-row</th>\n      <th>comely</th>\n      <th>gardening</th>\n    </tr>\n    <tr>\n      <th>id</th>\n      <th></th>\n      <th></th>\n      <th></th>\n      <th></th>\n      <th></th>\n      <th></th>\n      <th></th>\n      <th></th>\n      <th></th>\n      <th></th>\n      <th></th>\n      <th></th>\n      <th></th>\n      <th></th>\n      <th></th>\n      <th></th>\n      <th></th>\n      <th></th>\n      <th></th>\n      <th></th>\n      <th></th>\n    </tr>\n  </thead>\n  <tbody>\n    <tr>\n      <th>OBC2-18300218</th>\n      <td></td>\n      <td>4.187356e-05</td>\n      <td>1.846089e-05</td>\n      <td>0.000041</td>\n      <td>0.000036</td>\n      <td>0.000072</td>\n      <td>0.000047</td>\n      <td>4.224097e-05</td>\n      <td>0.000078</td>\n      <td>5.726379e-05</td>\n      <td>...</td>\n      <td>0.0</td>\n      <td>0.0</td>\n      <td>0.0</td>\n      <td>0.0</td>\n      <td>0.0</td>\n      <td>0.0</td>\n      <td>0.0</td>\n      <td>0.0</td>\n      <td>0.0</td>\n      <td>0.0</td>\n    </tr>\n    <tr>\n      <th>OBC2-18020602</th>\n      <td></td>\n      <td>1.253672e-05</td>\n      <td>4.937705e-06</td>\n      <td>0.000013</td>\n      <td>0.000010</td>\n      <td>0.000018</td>\n      <td>0.000017</td>\n      <td>1.367648e-05</td>\n      <td>0.000019</td>\n      <td>1.817330e-05</td>\n      <td>...</td>\n      <td>0.0</td>\n      <td>0.0</td>\n      <td>0.0</td>\n      <td>0.0</td>\n      <td>0.0</td>\n      <td>0.0</td>\n      <td>0.0</td>\n      <td>0.0</td>\n      <td>0.0</td>\n      <td>0.0</td>\n    </tr>\n    <tr>\n      <th>OBC2-18620303</th>\n      <td></td>\n      <td>4.145106e-05</td>\n      <td>1.729728e-05</td>\n      <td>0.000038</td>\n      <td>0.000034</td>\n      <td>0.000075</td>\n      <td>0.000043</td>\n      <td>3.814036e-05</td>\n      <td>0.000061</td>\n      <td>6.211531e-05</td>\n      <td>...</td>\n      <td>0.0</td>\n      <td>0.0</td>\n      <td>0.0</td>\n      <td>0.0</td>\n      <td>0.0</td>\n      <td>0.0</td>\n      <td>0.0</td>\n      <td>0.0</td>\n      <td>0.0</td>\n      <td>0.0</td>\n    </tr>\n    <tr>\n      <th>OBC2-17240708</th>\n      <td></td>\n      <td>1.536363e-08</td>\n      <td>1.531071e-08</td>\n      <td>0.000000</td>\n      <td>0.000000</td>\n      <td>0.000000</td>\n      <td>0.000000</td>\n      <td>2.329894e-08</td>\n      <td>0.000000</td>\n      <td>7.953305e-08</td>\n      <td>...</td>\n      <td>0.0</td>\n      <td>0.0</td>\n      <td>0.0</td>\n      <td>0.0</td>\n      <td>0.0</td>\n      <td>0.0</td>\n      <td>0.0</td>\n      <td>0.0</td>\n      <td>0.0</td>\n      <td>0.0</td>\n    </tr>\n    <tr>\n      <th>OBC2-17420714</th>\n      <td></td>\n      <td>4.985497e-06</td>\n      <td>2.197087e-06</td>\n      <td>0.000007</td>\n      <td>0.000005</td>\n      <td>0.000012</td>\n      <td>0.000008</td>\n      <td>6.803289e-06</td>\n      <td>0.000012</td>\n      <td>8.947468e-06</td>\n      <td>...</td>\n      <td>0.0</td>\n      <td>0.0</td>\n      <td>0.0</td>\n      <td>0.0</td>\n      <td>0.0</td>\n      <td>0.0</td>\n      <td>0.0</td>\n      <td>0.0</td>\n      <td>0.0</td>\n      <td>0.0</td>\n    </tr>\n    <tr>\n      <th>...</th>\n      <td>...</td>\n      <td>...</td>\n      <td>...</td>\n      <td>...</td>\n      <td>...</td>\n      <td>...</td>\n      <td>...</td>\n      <td>...</td>\n      <td>...</td>\n      <td>...</td>\n      <td>...</td>\n      <td>...</td>\n      <td>...</td>\n      <td>...</td>\n      <td>...</td>\n      <td>...</td>\n      <td>...</td>\n      <td>...</td>\n      <td>...</td>\n      <td>...</td>\n      <td>...</td>\n    </tr>\n    <tr>\n      <th>OBC2-18640411</th>\n      <td>male</td>\n      <td>3.795584e-05</td>\n      <td>1.659681e-05</td>\n      <td>0.000035</td>\n      <td>0.000034</td>\n      <td>0.000073</td>\n      <td>0.000040</td>\n      <td>3.876943e-05</td>\n      <td>0.000070</td>\n      <td>5.591173e-05</td>\n      <td>...</td>\n      <td>0.0</td>\n      <td>0.0</td>\n      <td>0.0</td>\n      <td>0.0</td>\n      <td>0.0</td>\n      <td>0.0</td>\n      <td>0.0</td>\n      <td>0.0</td>\n      <td>0.0</td>\n      <td>0.0</td>\n    </tr>\n    <tr>\n      <th>OBC2-17830430</th>\n      <td></td>\n      <td>4.124365e-05</td>\n      <td>1.394040e-05</td>\n      <td>0.000042</td>\n      <td>0.000040</td>\n      <td>0.000080</td>\n      <td>0.000055</td>\n      <td>3.695211e-05</td>\n      <td>0.000073</td>\n      <td>6.358667e-05</td>\n      <td>...</td>\n      <td>0.0</td>\n      <td>0.0</td>\n      <td>0.0</td>\n      <td>0.0</td>\n      <td>0.0</td>\n      <td>0.0</td>\n      <td>0.0</td>\n      <td>0.0</td>\n      <td>0.0</td>\n      <td>0.0</td>\n    </tr>\n    <tr>\n      <th>OBC2-17460117</th>\n      <td></td>\n      <td>1.113095e-05</td>\n      <td>3.406634e-06</td>\n      <td>0.000011</td>\n      <td>0.000010</td>\n      <td>0.000017</td>\n      <td>0.000015</td>\n      <td>9.808852e-06</td>\n      <td>0.000019</td>\n      <td>1.475338e-05</td>\n      <td>...</td>\n      <td>0.0</td>\n      <td>0.0</td>\n      <td>0.0</td>\n      <td>0.0</td>\n      <td>0.0</td>\n      <td>0.0</td>\n      <td>0.0</td>\n      <td>0.0</td>\n      <td>0.0</td>\n      <td>0.0</td>\n    </tr>\n    <tr>\n      <th>OBC2-18451215</th>\n      <td></td>\n      <td>4.460061e-05</td>\n      <td>1.956709e-05</td>\n      <td>0.000038</td>\n      <td>0.000040</td>\n      <td>0.000079</td>\n      <td>0.000053</td>\n      <td>4.033046e-05</td>\n      <td>0.000074</td>\n      <td>7.547686e-05</td>\n      <td>...</td>\n      <td>0.0</td>\n      <td>0.0</td>\n      <td>0.0</td>\n      <td>0.0</td>\n      <td>0.0</td>\n      <td>0.0</td>\n      <td>0.0</td>\n      <td>0.0</td>\n      <td>0.0</td>\n      <td>0.0</td>\n    </tr>\n    <tr>\n      <th>OBC2-17330221</th>\n      <td></td>\n      <td>8.787994e-06</td>\n      <td>3.222905e-06</td>\n      <td>0.000016</td>\n      <td>0.000010</td>\n      <td>0.000018</td>\n      <td>0.000010</td>\n      <td>9.599162e-06</td>\n      <td>0.000013</td>\n      <td>1.666217e-05</td>\n      <td>...</td>\n      <td>0.0</td>\n      <td>0.0</td>\n      <td>0.0</td>\n      <td>0.0</td>\n      <td>0.0</td>\n      <td>0.0</td>\n      <td>0.0</td>\n      <td>0.0</td>\n      <td>0.0</td>\n      <td>0.0</td>\n    </tr>\n  </tbody>\n</table>\n<p>637 rows × 25000 columns</p>\n</div>"
     },
     "metadata": {},
     "execution_count": 7
    }
   ],
   "source": [
    "tfidf = C.dtm(tfidf=True,meta=['gender'])\n",
    "tfidf"
   ]
  },
  {
   "cell_type": "code",
   "execution_count": 20,
   "metadata": {},
   "outputs": [
    {
     "output_type": "execute_result",
     "data": {
      "text/plain": [
       "                female      male\n",
       "word                            \n",
       "butters       0.094955  0.000000\n",
       "telephoned    0.082453  0.000000\n",
       "handbag       0.078953  0.000000\n",
       "necklet       0.070510  0.000000\n",
       "bedclothes    0.066194  0.000000\n",
       "...                ...       ...\n",
       "earlier       0.000000  0.003303\n",
       "manufacture   0.000000  0.003353\n",
       "sufficiently  0.000000  0.002859\n",
       "loitering     0.000000  0.003049\n",
       "removing      0.000000  0.003685\n",
       "\n",
       "[3040 rows x 2 columns]"
      ],
      "text/html": "<div>\n<style scoped>\n    .dataframe tbody tr th:only-of-type {\n        vertical-align: middle;\n    }\n\n    .dataframe tbody tr th {\n        vertical-align: top;\n    }\n\n    .dataframe thead th {\n        text-align: right;\n    }\n</style>\n<table border=\"1\" class=\"dataframe\">\n  <thead>\n    <tr style=\"text-align: right;\">\n      <th></th>\n      <th>female</th>\n      <th>male</th>\n    </tr>\n    <tr>\n      <th>word</th>\n      <th></th>\n      <th></th>\n    </tr>\n  </thead>\n  <tbody>\n    <tr>\n      <th>butters</th>\n      <td>0.094955</td>\n      <td>0.000000</td>\n    </tr>\n    <tr>\n      <th>telephoned</th>\n      <td>0.082453</td>\n      <td>0.000000</td>\n    </tr>\n    <tr>\n      <th>handbag</th>\n      <td>0.078953</td>\n      <td>0.000000</td>\n    </tr>\n    <tr>\n      <th>necklet</th>\n      <td>0.070510</td>\n      <td>0.000000</td>\n    </tr>\n    <tr>\n      <th>bedclothes</th>\n      <td>0.066194</td>\n      <td>0.000000</td>\n    </tr>\n    <tr>\n      <th>...</th>\n      <td>...</td>\n      <td>...</td>\n    </tr>\n    <tr>\n      <th>earlier</th>\n      <td>0.000000</td>\n      <td>0.003303</td>\n    </tr>\n    <tr>\n      <th>manufacture</th>\n      <td>0.000000</td>\n      <td>0.003353</td>\n    </tr>\n    <tr>\n      <th>sufficiently</th>\n      <td>0.000000</td>\n      <td>0.002859</td>\n    </tr>\n    <tr>\n      <th>loitering</th>\n      <td>0.000000</td>\n      <td>0.003049</td>\n    </tr>\n    <tr>\n      <th>removing</th>\n      <td>0.000000</td>\n      <td>0.003685</td>\n    </tr>\n  </tbody>\n</table>\n<p>3040 rows × 2 columns</p>\n</div>"
     },
     "metadata": {},
     "execution_count": 20
    }
   ],
   "source": [
    "df=C.mdw('gender')\n",
    "df"
   ]
  },
  {
   "cell_type": "code",
   "execution_count": null,
   "metadata": {},
   "outputs": [],
   "source": [
    "stop"
   ]
  },
  {
   "cell_type": "code",
   "execution_count": 18,
   "metadata": {},
   "outputs": [
    {
     "output_type": "execute_result",
     "data": {
      "text/plain": [
       "                id  year age collection      date  gender  \\\n",
       "8    OBC2-18620707  1862                 18620707    male   \n",
       "35   OBC2-18350406  1835                 18350406    male   \n",
       "57   OBC2-18620512  1862                 18620512    male   \n",
       "65   OBC2-18830319  1883                 18830319    male   \n",
       "69   OBC2-18360713  1836                 18360713    male   \n",
       "70   OBC2-18601126  1860                 18601126    male   \n",
       "73   OBC2-19070108  1907  26             19070108    male   \n",
       "97   OBC2-18430227  1843                 18430227    male   \n",
       "104  OBC2-19050626  1905                 19050626    male   \n",
       "105  OBC2-19070910  1907  23             19070910  female   \n",
       "111  OBC2-19020909  1902                 19020909    male   \n",
       "123  OBC2-18730303  1873                 18730303    male   \n",
       "129  OBC2-18701121  1870                 18701121    male   \n",
       "140  OBC2-19130107  1913  70             19130107    male   \n",
       "142  OBC2-19110228  1911  40             19110228    male   \n",
       "144  OBC2-18370102  1837                 18370102    male   \n",
       "147  OBC2-18380226  1838                 18380226    male   \n",
       "158  OBC2-19130304  1913                 19130304    male   \n",
       "160  OBC2-18350615  1835                 18350615    male   \n",
       "166  OBC2-18350302  1835                 18350302    male   \n",
       "197  OBC2-18360404  1836                 18360404    male   \n",
       "202  OBC2-18350511  1835                 18350511    male   \n",
       "209  OBC2-19110717  1911  24             19110717    male   \n",
       "221  OBC2-18620407  1862                 18620407    male   \n",
       "227  OBC2-18610505  1861                 18610505  female   \n",
       "264  OBC2-19110328  1911  29             19110328  female   \n",
       "266  OBC2-18620616  1862                 18620616    male   \n",
       "279  OBC2-18880319  1888                 18880319    male   \n",
       "307  OBC2-18540403  1854                 18540403    male   \n",
       "327  OBC2-18500408  1850                 18500408    male   \n",
       "330  OBC2-19060430  1906  17             19060430    male   \n",
       "331  OBC2-18730407  1873                 18730407    male   \n",
       "340  OBC2-19120227  1912  23             19120227  female   \n",
       "349  OBC2-18510616  1851                 18510616    male   \n",
       "364  OBC2-18521025  1852                 18521025  female   \n",
       "371  OBC2-19090518  1909  19             19090518    male   \n",
       "374  OBC2-18380129  1838                 18380129    male   \n",
       "375  OBC2-18351214  1835  30             18351214    male   \n",
       "378  OBC2-19060402  1906  24             19060402    male   \n",
       "380  OBC2-19050502  1905                 19050502    male   \n",
       "403  OBC2-18710109  1871                 18710109    male   \n",
       "405  OBC2-18920404  1892                 18920404    male   \n",
       "410  OBC2-19111205  1911  26             19111205    male   \n",
       "428  OBC2-18900908  1890                 18900908    male   \n",
       "461  OBC2-18651218  1865                 18651218    male   \n",
       "485  OBC2-19101206  1910  73             19101206    male   \n",
       "494  OBC2-18960323  1896                 18960323    male   \n",
       "515  OBC2-19100426  1910  40             19100426    male   \n",
       "534  OBC2-18910406  1891                 18910406    male   \n",
       "557  OBC2-19120722  1912  21             19120722    male   \n",
       "580  OBC2-18741123  1874                 18741123    male   \n",
       "583  OBC2-18520202  1852                 18520202    male   \n",
       "590  OBC2-19120109  1912  21             19120109    male   \n",
       "611  OBC2-18430403  1843                 18430403    male   \n",
       "631  OBC2-18410705  1841                 18410705    male   \n",
       "632  OBC2-18640411  1864                 18640411    male   \n",
       "\n",
       "                     given    medium  num_words          occupation  ...  \\\n",
       "8           ROBERT MALCOLM  Dialogue      42465                      ...   \n",
       "35                   JAMES  Dialogue     112739                      ...   \n",
       "57          ROBERT MALCOLM  Dialogue      76279                      ...   \n",
       "65          ROBERT MALCOLM  Dialogue      42422                      ...   \n",
       "69                  JOSPEH  Dialogue      37001                      ...   \n",
       "70           HENRY CHARLES  Dialogue      46161                      ...   \n",
       "73                   HARRY  Dialogue      64394          bricklayer  ...   \n",
       "97                  EDWARD  Dialogue     141947                      ...   \n",
       "104                 GEORGE  Dialogue      77012                      ...   \n",
       "105           SOPHIA ANNIE  Dialogue      85348              porter  ...   \n",
       "111         FRANCIS JOSEPH  Dialogue      57570  prince of braganza  ...   \n",
       "123         ROBERT MALCOLM  Dialogue      25477                      ...   \n",
       "129         ROBERT MALCOLM  Dialogue      38692                      ...   \n",
       "140      ALEXANDER MACLEOD  Dialogue      62512               agent  ...   \n",
       "142                  JAMES  Dialogue      62726          scaffolder  ...   \n",
       "144                   JOHN  Dialogue      74266                      ...   \n",
       "147                 JOSEPH  Dialogue     111612                      ...   \n",
       "158                  JAMES  Dialogue      40574                      ...   \n",
       "160                   JOHN  Dialogue      30148                      ...   \n",
       "166                   JOHN  Dialogue      96450                      ...   \n",
       "197                 THOMAS  Dialogue     135717                      ...   \n",
       "202                PATRICK  Dialogue      98709                      ...   \n",
       "209          PEREZ JOAQUIN  Dialogue      37562             student  ...   \n",
       "221          ROBERT WALTER  Dialogue      78032                      ...   \n",
       "227         HANNAH ELEANOR  Dialogue      40973                      ...   \n",
       "264                  EMILY  Dialogue      40490          dressmaker  ...   \n",
       "266                MALCOLM  Dialogue      68552                      ...   \n",
       "279                 SAMUEL  Dialogue      54410                      ...   \n",
       "307                 ALFRED  Dialogue      80443                      ...   \n",
       "327                  JAMES  Dialogue      80591                      ...   \n",
       "330                   JOHN  Dialogue      46649            labourer  ...   \n",
       "331         ROBERT MALCOLM  Dialogue      39261                      ...   \n",
       "340              ADA LOUIS  Dialogue      83570           charwoman  ...   \n",
       "349                RUSSELL  Dialogue      66901                      ...   \n",
       "364                   MARY  Dialogue      50674                      ...   \n",
       "371            GEORGE JOHN  Dialogue      36029      ship's steward  ...   \n",
       "374           LIPMAN ISAAC  Dialogue      97193                      ...   \n",
       "375                   JOHN  Dialogue      73416         silk-mercer  ...   \n",
       "378              ALEXANDER  Dialogue      40687            labourer  ...   \n",
       "380   LIONEL GEORGE PEYTON  Dialogue      59574                      ...   \n",
       "403         ROBERT MALCOLM  Dialogue      46847                      ...   \n",
       "405                 JULIUS  Dialogue      55457                      ...   \n",
       "410           EDWARD JAMES  Dialogue      79413            publican  ...   \n",
       "428              FREDERICK  Dialogue      68452                      ...   \n",
       "461         ROBERT MALCOLM  Dialogue      59664                      ...   \n",
       "485  AUGUSTUS JULIUS HENRY  Dialogue      22594       no occupation  ...   \n",
       "494                 THOMAS  Dialogue      21130                      ...   \n",
       "515                  JACOB  Dialogue      57035   boot manufacturer  ...   \n",
       "534                  JAMES  Dialogue      54495                      ...   \n",
       "557           THOMAS HENRY  Dialogue      16323            labourer  ...   \n",
       "580         ROBERT MALCOLM  Dialogue      59587                      ...   \n",
       "583                WILLIAM  Dialogue      49631                      ...   \n",
       "590                  FRANK  Dialogue      64657             printer  ...   \n",
       "611                 THOMAS  Dialogue     108555                      ...   \n",
       "631                CHARLES  Dialogue      46332                      ...   \n",
       "632                WILLIAM  Dialogue      74224                      ...   \n",
       "\n",
       "     offenceCategory offenceSubcategory punishmentCategory  \\\n",
       "8                                                            \n",
       "35                                                           \n",
       "57                                                           \n",
       "65                                                           \n",
       "69                                                           \n",
       "70                                                           \n",
       "73                                                           \n",
       "97                                                           \n",
       "104                                                          \n",
       "105                                                          \n",
       "111                                                          \n",
       "123                                                          \n",
       "129                                                          \n",
       "140                                                          \n",
       "142                                                          \n",
       "144                                                          \n",
       "147                                                          \n",
       "158                                                          \n",
       "160                                                          \n",
       "166                                                          \n",
       "197                                                          \n",
       "202                                                          \n",
       "209                                                          \n",
       "221                                                          \n",
       "227                                                          \n",
       "264                                                          \n",
       "266                                                          \n",
       "279                                                          \n",
       "307                                                          \n",
       "327                                                          \n",
       "330                                             miscPunish   \n",
       "331                                                          \n",
       "340                                                          \n",
       "349                                                          \n",
       "364                                                          \n",
       "371                                                          \n",
       "374                                                          \n",
       "375            theft     theftFromPlace                      \n",
       "378                                                          \n",
       "380                                                          \n",
       "403                                                          \n",
       "405                                                          \n",
       "410                                                          \n",
       "428                                                          \n",
       "461                                                          \n",
       "485                                                          \n",
       "494                                                          \n",
       "515                                                          \n",
       "534                                                          \n",
       "557                                                          \n",
       "580                                                          \n",
       "583                                                          \n",
       "590                                                          \n",
       "611                                                          \n",
       "631                                                          \n",
       "632                                                          \n",
       "\n",
       "    punishmentSubcategory      surname                      uri  \\\n",
       "8                                KERR,  sessionsPapers/18620707   \n",
       "35                              PARKER  sessionsPapers/18350406   \n",
       "57                                KERR  sessionsPapers/18620512   \n",
       "65                                KERR  sessionsPapers/18830319   \n",
       "69                            SWINFORD  sessionsPapers/18360713   \n",
       "70                               COLEY  sessionsPapers/18601126   \n",
       "73                                LOWE  sessionsPapers/19070108   \n",
       "97                             BULLOCK  sessionsPapers/18430227   \n",
       "104                            BONNING  sessionsPapers/19050626   \n",
       "105                             WATSON  sessionsPapers/19070910   \n",
       "111                                     sessionsPapers/19020909   \n",
       "123                               KERR  sessionsPapers/18730303   \n",
       "129                               KERR  sessionsPapers/18701121   \n",
       "140                            BURGHES  sessionsPapers/19130107   \n",
       "142                          GRANVILLE  sessionsPapers/19110228   \n",
       "144                             GROVES  sessionsPapers/18370102   \n",
       "147                            BAGSHAW  sessionsPapers/18380226   \n",
       "158                              PAYNE  sessionsPapers/19130304   \n",
       "160                            CUSSELL  sessionsPapers/18350615   \n",
       "166                           STRANGER  sessionsPapers/18350302   \n",
       "197                            BELCHER  sessionsPapers/18360404   \n",
       "202                            CARROLL  sessionsPapers/18350511   \n",
       "209                            RODRIGO  sessionsPapers/19110717   \n",
       "221                             CARDEN  sessionsPapers/18620407   \n",
       "227                            TRENHAM  sessionsPapers/18610505   \n",
       "264                             RATLEY  sessionsPapers/19110328   \n",
       "266                               KERR  sessionsPapers/18620616   \n",
       "279                             HUNTER  sessionsPapers/18880319   \n",
       "307                        SCARBOROUGH  sessionsPapers/18540403   \n",
       "327                             DELLAR  sessionsPapers/18500408   \n",
       "330              sureties      WALLACE  sessionsPapers/19060430   \n",
       "331                               KERR  sessionsPapers/18730407   \n",
       "340                             WATSON  sessionsPapers/19120227   \n",
       "349                             GURNEY  sessionsPapers/18510616   \n",
       "364                              DENNY  sessionsPapers/18521025   \n",
       "371                          AYNSCOMBE  sessionsPapers/19090518   \n",
       "374                          MALHOUSEN  sessionsPapers/18380129   \n",
       "375                             DAVIES  sessionsPapers/18351214   \n",
       "378                              COHEN  sessionsPapers/19060402   \n",
       "380                             HOLMES  sessionsPapers/19050502   \n",
       "403                               KERR  sessionsPapers/18710109   \n",
       "405                            ROHMANN  sessionsPapers/18920404   \n",
       "410                             WALKER  sessionsPapers/19111205   \n",
       "428                             TWYMAN  sessionsPapers/18900908   \n",
       "461                               KERR  sessionsPapers/18651218   \n",
       "485                          GROBECKER  sessionsPapers/19101206   \n",
       "494                           THORNBER  sessionsPapers/18960323   \n",
       "515                            RICHMAN  sessionsPapers/19100426   \n",
       "534                           LAWRENCE  sessionsPapers/18910406   \n",
       "557                              ALLEN  sessionsPapers/19120722   \n",
       "580                               KERR  sessionsPapers/18741123   \n",
       "583                             MAGNAY  sessionsPapers/18520202   \n",
       "590                           MCDONALD  sessionsPapers/19120109   \n",
       "611                             JARVIS  sessionsPapers/18430403   \n",
       "631                             HERMAN  sessionsPapers/18410705   \n",
       "632                              GRANT  sessionsPapers/18640411   \n",
       "\n",
       "    verdictCategory verdictSubcategory  genre title  \n",
       "8                                       Trial        \n",
       "35                                      Trial        \n",
       "57                                      Trial        \n",
       "65                                      Trial        \n",
       "69                                      Trial        \n",
       "70                                      Trial        \n",
       "73                                      Trial        \n",
       "97                                      Trial        \n",
       "104                                     Trial        \n",
       "105                                     Trial        \n",
       "111                                     Trial        \n",
       "123                                     Trial        \n",
       "129                                     Trial        \n",
       "140                                     Trial        \n",
       "142                                     Trial        \n",
       "144                                     Trial        \n",
       "147                                     Trial        \n",
       "158                                     Trial        \n",
       "160                                     Trial        \n",
       "166                                     Trial        \n",
       "197                                     Trial        \n",
       "202                                     Trial        \n",
       "209                                     Trial        \n",
       "221                                     Trial        \n",
       "227                                     Trial        \n",
       "264                                     Trial        \n",
       "266                                     Trial        \n",
       "279                                     Trial        \n",
       "307                                     Trial        \n",
       "327                                     Trial        \n",
       "330                                     Trial        \n",
       "331                                     Trial        \n",
       "340                                     Trial        \n",
       "349                                     Trial        \n",
       "364                                     Trial        \n",
       "371                                     Trial        \n",
       "374                                     Trial        \n",
       "375                                     Trial        \n",
       "378                                     Trial        \n",
       "380                                     Trial        \n",
       "403                                     Trial        \n",
       "405                                     Trial        \n",
       "410                                     Trial        \n",
       "428                                     Trial        \n",
       "461                                     Trial        \n",
       "485                                     Trial        \n",
       "494                                     Trial        \n",
       "515                                     Trial        \n",
       "534                                     Trial        \n",
       "557                                     Trial        \n",
       "580                                     Trial        \n",
       "583                                     Trial        \n",
       "590                                     Trial        \n",
       "611                                     Trial        \n",
       "631                                     Trial        \n",
       "632                                     Trial        \n",
       "\n",
       "[56 rows x 21 columns]"
      ],
      "text/html": "<div>\n<style scoped>\n    .dataframe tbody tr th:only-of-type {\n        vertical-align: middle;\n    }\n\n    .dataframe tbody tr th {\n        vertical-align: top;\n    }\n\n    .dataframe thead th {\n        text-align: right;\n    }\n</style>\n<table border=\"1\" class=\"dataframe\">\n  <thead>\n    <tr style=\"text-align: right;\">\n      <th></th>\n      <th>id</th>\n      <th>year</th>\n      <th>age</th>\n      <th>collection</th>\n      <th>date</th>\n      <th>gender</th>\n      <th>given</th>\n      <th>medium</th>\n      <th>num_words</th>\n      <th>occupation</th>\n      <th>...</th>\n      <th>offenceCategory</th>\n      <th>offenceSubcategory</th>\n      <th>punishmentCategory</th>\n      <th>punishmentSubcategory</th>\n      <th>surname</th>\n      <th>uri</th>\n      <th>verdictCategory</th>\n      <th>verdictSubcategory</th>\n      <th>genre</th>\n      <th>title</th>\n    </tr>\n  </thead>\n  <tbody>\n    <tr>\n      <th>8</th>\n      <td>OBC2-18620707</td>\n      <td>1862</td>\n      <td></td>\n      <td></td>\n      <td>18620707</td>\n      <td>male</td>\n      <td>ROBERT MALCOLM</td>\n      <td>Dialogue</td>\n      <td>42465</td>\n      <td></td>\n      <td>...</td>\n      <td></td>\n      <td></td>\n      <td></td>\n      <td></td>\n      <td>KERR,</td>\n      <td>sessionsPapers/18620707</td>\n      <td></td>\n      <td></td>\n      <td>Trial</td>\n      <td></td>\n    </tr>\n    <tr>\n      <th>35</th>\n      <td>OBC2-18350406</td>\n      <td>1835</td>\n      <td></td>\n      <td></td>\n      <td>18350406</td>\n      <td>male</td>\n      <td>JAMES</td>\n      <td>Dialogue</td>\n      <td>112739</td>\n      <td></td>\n      <td>...</td>\n      <td></td>\n      <td></td>\n      <td></td>\n      <td></td>\n      <td>PARKER</td>\n      <td>sessionsPapers/18350406</td>\n      <td></td>\n      <td></td>\n      <td>Trial</td>\n      <td></td>\n    </tr>\n    <tr>\n      <th>57</th>\n      <td>OBC2-18620512</td>\n      <td>1862</td>\n      <td></td>\n      <td></td>\n      <td>18620512</td>\n      <td>male</td>\n      <td>ROBERT MALCOLM</td>\n      <td>Dialogue</td>\n      <td>76279</td>\n      <td></td>\n      <td>...</td>\n      <td></td>\n      <td></td>\n      <td></td>\n      <td></td>\n      <td>KERR</td>\n      <td>sessionsPapers/18620512</td>\n      <td></td>\n      <td></td>\n      <td>Trial</td>\n      <td></td>\n    </tr>\n    <tr>\n      <th>65</th>\n      <td>OBC2-18830319</td>\n      <td>1883</td>\n      <td></td>\n      <td></td>\n      <td>18830319</td>\n      <td>male</td>\n      <td>ROBERT MALCOLM</td>\n      <td>Dialogue</td>\n      <td>42422</td>\n      <td></td>\n      <td>...</td>\n      <td></td>\n      <td></td>\n      <td></td>\n      <td></td>\n      <td>KERR</td>\n      <td>sessionsPapers/18830319</td>\n      <td></td>\n      <td></td>\n      <td>Trial</td>\n      <td></td>\n    </tr>\n    <tr>\n      <th>69</th>\n      <td>OBC2-18360713</td>\n      <td>1836</td>\n      <td></td>\n      <td></td>\n      <td>18360713</td>\n      <td>male</td>\n      <td>JOSPEH</td>\n      <td>Dialogue</td>\n      <td>37001</td>\n      <td></td>\n      <td>...</td>\n      <td></td>\n      <td></td>\n      <td></td>\n      <td></td>\n      <td>SWINFORD</td>\n      <td>sessionsPapers/18360713</td>\n      <td></td>\n      <td></td>\n      <td>Trial</td>\n      <td></td>\n    </tr>\n    <tr>\n      <th>70</th>\n      <td>OBC2-18601126</td>\n      <td>1860</td>\n      <td></td>\n      <td></td>\n      <td>18601126</td>\n      <td>male</td>\n      <td>HENRY CHARLES</td>\n      <td>Dialogue</td>\n      <td>46161</td>\n      <td></td>\n      <td>...</td>\n      <td></td>\n      <td></td>\n      <td></td>\n      <td></td>\n      <td>COLEY</td>\n      <td>sessionsPapers/18601126</td>\n      <td></td>\n      <td></td>\n      <td>Trial</td>\n      <td></td>\n    </tr>\n    <tr>\n      <th>73</th>\n      <td>OBC2-19070108</td>\n      <td>1907</td>\n      <td>26</td>\n      <td></td>\n      <td>19070108</td>\n      <td>male</td>\n      <td>HARRY</td>\n      <td>Dialogue</td>\n      <td>64394</td>\n      <td>bricklayer</td>\n      <td>...</td>\n      <td></td>\n      <td></td>\n      <td></td>\n      <td></td>\n      <td>LOWE</td>\n      <td>sessionsPapers/19070108</td>\n      <td></td>\n      <td></td>\n      <td>Trial</td>\n      <td></td>\n    </tr>\n    <tr>\n      <th>97</th>\n      <td>OBC2-18430227</td>\n      <td>1843</td>\n      <td></td>\n      <td></td>\n      <td>18430227</td>\n      <td>male</td>\n      <td>EDWARD</td>\n      <td>Dialogue</td>\n      <td>141947</td>\n      <td></td>\n      <td>...</td>\n      <td></td>\n      <td></td>\n      <td></td>\n      <td></td>\n      <td>BULLOCK</td>\n      <td>sessionsPapers/18430227</td>\n      <td></td>\n      <td></td>\n      <td>Trial</td>\n      <td></td>\n    </tr>\n    <tr>\n      <th>104</th>\n      <td>OBC2-19050626</td>\n      <td>1905</td>\n      <td></td>\n      <td></td>\n      <td>19050626</td>\n      <td>male</td>\n      <td>GEORGE</td>\n      <td>Dialogue</td>\n      <td>77012</td>\n      <td></td>\n      <td>...</td>\n      <td></td>\n      <td></td>\n      <td></td>\n      <td></td>\n      <td>BONNING</td>\n      <td>sessionsPapers/19050626</td>\n      <td></td>\n      <td></td>\n      <td>Trial</td>\n      <td></td>\n    </tr>\n    <tr>\n      <th>105</th>\n      <td>OBC2-19070910</td>\n      <td>1907</td>\n      <td>23</td>\n      <td></td>\n      <td>19070910</td>\n      <td>female</td>\n      <td>SOPHIA ANNIE</td>\n      <td>Dialogue</td>\n      <td>85348</td>\n      <td>porter</td>\n      <td>...</td>\n      <td></td>\n      <td></td>\n      <td></td>\n      <td></td>\n      <td>WATSON</td>\n      <td>sessionsPapers/19070910</td>\n      <td></td>\n      <td></td>\n      <td>Trial</td>\n      <td></td>\n    </tr>\n    <tr>\n      <th>111</th>\n      <td>OBC2-19020909</td>\n      <td>1902</td>\n      <td></td>\n      <td></td>\n      <td>19020909</td>\n      <td>male</td>\n      <td>FRANCIS JOSEPH</td>\n      <td>Dialogue</td>\n      <td>57570</td>\n      <td>prince of braganza</td>\n      <td>...</td>\n      <td></td>\n      <td></td>\n      <td></td>\n      <td></td>\n      <td></td>\n      <td>sessionsPapers/19020909</td>\n      <td></td>\n      <td></td>\n      <td>Trial</td>\n      <td></td>\n    </tr>\n    <tr>\n      <th>123</th>\n      <td>OBC2-18730303</td>\n      <td>1873</td>\n      <td></td>\n      <td></td>\n      <td>18730303</td>\n      <td>male</td>\n      <td>ROBERT MALCOLM</td>\n      <td>Dialogue</td>\n      <td>25477</td>\n      <td></td>\n      <td>...</td>\n      <td></td>\n      <td></td>\n      <td></td>\n      <td></td>\n      <td>KERR</td>\n      <td>sessionsPapers/18730303</td>\n      <td></td>\n      <td></td>\n      <td>Trial</td>\n      <td></td>\n    </tr>\n    <tr>\n      <th>129</th>\n      <td>OBC2-18701121</td>\n      <td>1870</td>\n      <td></td>\n      <td></td>\n      <td>18701121</td>\n      <td>male</td>\n      <td>ROBERT MALCOLM</td>\n      <td>Dialogue</td>\n      <td>38692</td>\n      <td></td>\n      <td>...</td>\n      <td></td>\n      <td></td>\n      <td></td>\n      <td></td>\n      <td>KERR</td>\n      <td>sessionsPapers/18701121</td>\n      <td></td>\n      <td></td>\n      <td>Trial</td>\n      <td></td>\n    </tr>\n    <tr>\n      <th>140</th>\n      <td>OBC2-19130107</td>\n      <td>1913</td>\n      <td>70</td>\n      <td></td>\n      <td>19130107</td>\n      <td>male</td>\n      <td>ALEXANDER MACLEOD</td>\n      <td>Dialogue</td>\n      <td>62512</td>\n      <td>agent</td>\n      <td>...</td>\n      <td></td>\n      <td></td>\n      <td></td>\n      <td></td>\n      <td>BURGHES</td>\n      <td>sessionsPapers/19130107</td>\n      <td></td>\n      <td></td>\n      <td>Trial</td>\n      <td></td>\n    </tr>\n    <tr>\n      <th>142</th>\n      <td>OBC2-19110228</td>\n      <td>1911</td>\n      <td>40</td>\n      <td></td>\n      <td>19110228</td>\n      <td>male</td>\n      <td>JAMES</td>\n      <td>Dialogue</td>\n      <td>62726</td>\n      <td>scaffolder</td>\n      <td>...</td>\n      <td></td>\n      <td></td>\n      <td></td>\n      <td></td>\n      <td>GRANVILLE</td>\n      <td>sessionsPapers/19110228</td>\n      <td></td>\n      <td></td>\n      <td>Trial</td>\n      <td></td>\n    </tr>\n    <tr>\n      <th>144</th>\n      <td>OBC2-18370102</td>\n      <td>1837</td>\n      <td></td>\n      <td></td>\n      <td>18370102</td>\n      <td>male</td>\n      <td>JOHN</td>\n      <td>Dialogue</td>\n      <td>74266</td>\n      <td></td>\n      <td>...</td>\n      <td></td>\n      <td></td>\n      <td></td>\n      <td></td>\n      <td>GROVES</td>\n      <td>sessionsPapers/18370102</td>\n      <td></td>\n      <td></td>\n      <td>Trial</td>\n      <td></td>\n    </tr>\n    <tr>\n      <th>147</th>\n      <td>OBC2-18380226</td>\n      <td>1838</td>\n      <td></td>\n      <td></td>\n      <td>18380226</td>\n      <td>male</td>\n      <td>JOSEPH</td>\n      <td>Dialogue</td>\n      <td>111612</td>\n      <td></td>\n      <td>...</td>\n      <td></td>\n      <td></td>\n      <td></td>\n      <td></td>\n      <td>BAGSHAW</td>\n      <td>sessionsPapers/18380226</td>\n      <td></td>\n      <td></td>\n      <td>Trial</td>\n      <td></td>\n    </tr>\n    <tr>\n      <th>158</th>\n      <td>OBC2-19130304</td>\n      <td>1913</td>\n      <td></td>\n      <td></td>\n      <td>19130304</td>\n      <td>male</td>\n      <td>JAMES</td>\n      <td>Dialogue</td>\n      <td>40574</td>\n      <td></td>\n      <td>...</td>\n      <td></td>\n      <td></td>\n      <td></td>\n      <td></td>\n      <td>PAYNE</td>\n      <td>sessionsPapers/19130304</td>\n      <td></td>\n      <td></td>\n      <td>Trial</td>\n      <td></td>\n    </tr>\n    <tr>\n      <th>160</th>\n      <td>OBC2-18350615</td>\n      <td>1835</td>\n      <td></td>\n      <td></td>\n      <td>18350615</td>\n      <td>male</td>\n      <td>JOHN</td>\n      <td>Dialogue</td>\n      <td>30148</td>\n      <td></td>\n      <td>...</td>\n      <td></td>\n      <td></td>\n      <td></td>\n      <td></td>\n      <td>CUSSELL</td>\n      <td>sessionsPapers/18350615</td>\n      <td></td>\n      <td></td>\n      <td>Trial</td>\n      <td></td>\n    </tr>\n    <tr>\n      <th>166</th>\n      <td>OBC2-18350302</td>\n      <td>1835</td>\n      <td></td>\n      <td></td>\n      <td>18350302</td>\n      <td>male</td>\n      <td>JOHN</td>\n      <td>Dialogue</td>\n      <td>96450</td>\n      <td></td>\n      <td>...</td>\n      <td></td>\n      <td></td>\n      <td></td>\n      <td></td>\n      <td>STRANGER</td>\n      <td>sessionsPapers/18350302</td>\n      <td></td>\n      <td></td>\n      <td>Trial</td>\n      <td></td>\n    </tr>\n    <tr>\n      <th>197</th>\n      <td>OBC2-18360404</td>\n      <td>1836</td>\n      <td></td>\n      <td></td>\n      <td>18360404</td>\n      <td>male</td>\n      <td>THOMAS</td>\n      <td>Dialogue</td>\n      <td>135717</td>\n      <td></td>\n      <td>...</td>\n      <td></td>\n      <td></td>\n      <td></td>\n      <td></td>\n      <td>BELCHER</td>\n      <td>sessionsPapers/18360404</td>\n      <td></td>\n      <td></td>\n      <td>Trial</td>\n      <td></td>\n    </tr>\n    <tr>\n      <th>202</th>\n      <td>OBC2-18350511</td>\n      <td>1835</td>\n      <td></td>\n      <td></td>\n      <td>18350511</td>\n      <td>male</td>\n      <td>PATRICK</td>\n      <td>Dialogue</td>\n      <td>98709</td>\n      <td></td>\n      <td>...</td>\n      <td></td>\n      <td></td>\n      <td></td>\n      <td></td>\n      <td>CARROLL</td>\n      <td>sessionsPapers/18350511</td>\n      <td></td>\n      <td></td>\n      <td>Trial</td>\n      <td></td>\n    </tr>\n    <tr>\n      <th>209</th>\n      <td>OBC2-19110717</td>\n      <td>1911</td>\n      <td>24</td>\n      <td></td>\n      <td>19110717</td>\n      <td>male</td>\n      <td>PEREZ JOAQUIN</td>\n      <td>Dialogue</td>\n      <td>37562</td>\n      <td>student</td>\n      <td>...</td>\n      <td></td>\n      <td></td>\n      <td></td>\n      <td></td>\n      <td>RODRIGO</td>\n      <td>sessionsPapers/19110717</td>\n      <td></td>\n      <td></td>\n      <td>Trial</td>\n      <td></td>\n    </tr>\n    <tr>\n      <th>221</th>\n      <td>OBC2-18620407</td>\n      <td>1862</td>\n      <td></td>\n      <td></td>\n      <td>18620407</td>\n      <td>male</td>\n      <td>ROBERT WALTER</td>\n      <td>Dialogue</td>\n      <td>78032</td>\n      <td></td>\n      <td>...</td>\n      <td></td>\n      <td></td>\n      <td></td>\n      <td></td>\n      <td>CARDEN</td>\n      <td>sessionsPapers/18620407</td>\n      <td></td>\n      <td></td>\n      <td>Trial</td>\n      <td></td>\n    </tr>\n    <tr>\n      <th>227</th>\n      <td>OBC2-18610505</td>\n      <td>1861</td>\n      <td></td>\n      <td></td>\n      <td>18610505</td>\n      <td>female</td>\n      <td>HANNAH ELEANOR</td>\n      <td>Dialogue</td>\n      <td>40973</td>\n      <td></td>\n      <td>...</td>\n      <td></td>\n      <td></td>\n      <td></td>\n      <td></td>\n      <td>TRENHAM</td>\n      <td>sessionsPapers/18610505</td>\n      <td></td>\n      <td></td>\n      <td>Trial</td>\n      <td></td>\n    </tr>\n    <tr>\n      <th>264</th>\n      <td>OBC2-19110328</td>\n      <td>1911</td>\n      <td>29</td>\n      <td></td>\n      <td>19110328</td>\n      <td>female</td>\n      <td>EMILY</td>\n      <td>Dialogue</td>\n      <td>40490</td>\n      <td>dressmaker</td>\n      <td>...</td>\n      <td></td>\n      <td></td>\n      <td></td>\n      <td></td>\n      <td>RATLEY</td>\n      <td>sessionsPapers/19110328</td>\n      <td></td>\n      <td></td>\n      <td>Trial</td>\n      <td></td>\n    </tr>\n    <tr>\n      <th>266</th>\n      <td>OBC2-18620616</td>\n      <td>1862</td>\n      <td></td>\n      <td></td>\n      <td>18620616</td>\n      <td>male</td>\n      <td>MALCOLM</td>\n      <td>Dialogue</td>\n      <td>68552</td>\n      <td></td>\n      <td>...</td>\n      <td></td>\n      <td></td>\n      <td></td>\n      <td></td>\n      <td>KERR</td>\n      <td>sessionsPapers/18620616</td>\n      <td></td>\n      <td></td>\n      <td>Trial</td>\n      <td></td>\n    </tr>\n    <tr>\n      <th>279</th>\n      <td>OBC2-18880319</td>\n      <td>1888</td>\n      <td></td>\n      <td></td>\n      <td>18880319</td>\n      <td>male</td>\n      <td>SAMUEL</td>\n      <td>Dialogue</td>\n      <td>54410</td>\n      <td></td>\n      <td>...</td>\n      <td></td>\n      <td></td>\n      <td></td>\n      <td></td>\n      <td>HUNTER</td>\n      <td>sessionsPapers/18880319</td>\n      <td></td>\n      <td></td>\n      <td>Trial</td>\n      <td></td>\n    </tr>\n    <tr>\n      <th>307</th>\n      <td>OBC2-18540403</td>\n      <td>1854</td>\n      <td></td>\n      <td></td>\n      <td>18540403</td>\n      <td>male</td>\n      <td>ALFRED</td>\n      <td>Dialogue</td>\n      <td>80443</td>\n      <td></td>\n      <td>...</td>\n      <td></td>\n      <td></td>\n      <td></td>\n      <td></td>\n      <td>SCARBOROUGH</td>\n      <td>sessionsPapers/18540403</td>\n      <td></td>\n      <td></td>\n      <td>Trial</td>\n      <td></td>\n    </tr>\n    <tr>\n      <th>327</th>\n      <td>OBC2-18500408</td>\n      <td>1850</td>\n      <td></td>\n      <td></td>\n      <td>18500408</td>\n      <td>male</td>\n      <td>JAMES</td>\n      <td>Dialogue</td>\n      <td>80591</td>\n      <td></td>\n      <td>...</td>\n      <td></td>\n      <td></td>\n      <td></td>\n      <td></td>\n      <td>DELLAR</td>\n      <td>sessionsPapers/18500408</td>\n      <td></td>\n      <td></td>\n      <td>Trial</td>\n      <td></td>\n    </tr>\n    <tr>\n      <th>330</th>\n      <td>OBC2-19060430</td>\n      <td>1906</td>\n      <td>17</td>\n      <td></td>\n      <td>19060430</td>\n      <td>male</td>\n      <td>JOHN</td>\n      <td>Dialogue</td>\n      <td>46649</td>\n      <td>labourer</td>\n      <td>...</td>\n      <td></td>\n      <td></td>\n      <td>miscPunish</td>\n      <td>sureties</td>\n      <td>WALLACE</td>\n      <td>sessionsPapers/19060430</td>\n      <td></td>\n      <td></td>\n      <td>Trial</td>\n      <td></td>\n    </tr>\n    <tr>\n      <th>331</th>\n      <td>OBC2-18730407</td>\n      <td>1873</td>\n      <td></td>\n      <td></td>\n      <td>18730407</td>\n      <td>male</td>\n      <td>ROBERT MALCOLM</td>\n      <td>Dialogue</td>\n      <td>39261</td>\n      <td></td>\n      <td>...</td>\n      <td></td>\n      <td></td>\n      <td></td>\n      <td></td>\n      <td>KERR</td>\n      <td>sessionsPapers/18730407</td>\n      <td></td>\n      <td></td>\n      <td>Trial</td>\n      <td></td>\n    </tr>\n    <tr>\n      <th>340</th>\n      <td>OBC2-19120227</td>\n      <td>1912</td>\n      <td>23</td>\n      <td></td>\n      <td>19120227</td>\n      <td>female</td>\n      <td>ADA LOUIS</td>\n      <td>Dialogue</td>\n      <td>83570</td>\n      <td>charwoman</td>\n      <td>...</td>\n      <td></td>\n      <td></td>\n      <td></td>\n      <td></td>\n      <td>WATSON</td>\n      <td>sessionsPapers/19120227</td>\n      <td></td>\n      <td></td>\n      <td>Trial</td>\n      <td></td>\n    </tr>\n    <tr>\n      <th>349</th>\n      <td>OBC2-18510616</td>\n      <td>1851</td>\n      <td></td>\n      <td></td>\n      <td>18510616</td>\n      <td>male</td>\n      <td>RUSSELL</td>\n      <td>Dialogue</td>\n      <td>66901</td>\n      <td></td>\n      <td>...</td>\n      <td></td>\n      <td></td>\n      <td></td>\n      <td></td>\n      <td>GURNEY</td>\n      <td>sessionsPapers/18510616</td>\n      <td></td>\n      <td></td>\n      <td>Trial</td>\n      <td></td>\n    </tr>\n    <tr>\n      <th>364</th>\n      <td>OBC2-18521025</td>\n      <td>1852</td>\n      <td></td>\n      <td></td>\n      <td>18521025</td>\n      <td>female</td>\n      <td>MARY</td>\n      <td>Dialogue</td>\n      <td>50674</td>\n      <td></td>\n      <td>...</td>\n      <td></td>\n      <td></td>\n      <td></td>\n      <td></td>\n      <td>DENNY</td>\n      <td>sessionsPapers/18521025</td>\n      <td></td>\n      <td></td>\n      <td>Trial</td>\n      <td></td>\n    </tr>\n    <tr>\n      <th>371</th>\n      <td>OBC2-19090518</td>\n      <td>1909</td>\n      <td>19</td>\n      <td></td>\n      <td>19090518</td>\n      <td>male</td>\n      <td>GEORGE JOHN</td>\n      <td>Dialogue</td>\n      <td>36029</td>\n      <td>ship's steward</td>\n      <td>...</td>\n      <td></td>\n      <td></td>\n      <td></td>\n      <td></td>\n      <td>AYNSCOMBE</td>\n      <td>sessionsPapers/19090518</td>\n      <td></td>\n      <td></td>\n      <td>Trial</td>\n      <td></td>\n    </tr>\n    <tr>\n      <th>374</th>\n      <td>OBC2-18380129</td>\n      <td>1838</td>\n      <td></td>\n      <td></td>\n      <td>18380129</td>\n      <td>male</td>\n      <td>LIPMAN ISAAC</td>\n      <td>Dialogue</td>\n      <td>97193</td>\n      <td></td>\n      <td>...</td>\n      <td></td>\n      <td></td>\n      <td></td>\n      <td></td>\n      <td>MALHOUSEN</td>\n      <td>sessionsPapers/18380129</td>\n      <td></td>\n      <td></td>\n      <td>Trial</td>\n      <td></td>\n    </tr>\n    <tr>\n      <th>375</th>\n      <td>OBC2-18351214</td>\n      <td>1835</td>\n      <td>30</td>\n      <td></td>\n      <td>18351214</td>\n      <td>male</td>\n      <td>JOHN</td>\n      <td>Dialogue</td>\n      <td>73416</td>\n      <td>silk-mercer</td>\n      <td>...</td>\n      <td>theft</td>\n      <td>theftFromPlace</td>\n      <td></td>\n      <td></td>\n      <td>DAVIES</td>\n      <td>sessionsPapers/18351214</td>\n      <td></td>\n      <td></td>\n      <td>Trial</td>\n      <td></td>\n    </tr>\n    <tr>\n      <th>378</th>\n      <td>OBC2-19060402</td>\n      <td>1906</td>\n      <td>24</td>\n      <td></td>\n      <td>19060402</td>\n      <td>male</td>\n      <td>ALEXANDER</td>\n      <td>Dialogue</td>\n      <td>40687</td>\n      <td>labourer</td>\n      <td>...</td>\n      <td></td>\n      <td></td>\n      <td></td>\n      <td></td>\n      <td>COHEN</td>\n      <td>sessionsPapers/19060402</td>\n      <td></td>\n      <td></td>\n      <td>Trial</td>\n      <td></td>\n    </tr>\n    <tr>\n      <th>380</th>\n      <td>OBC2-19050502</td>\n      <td>1905</td>\n      <td></td>\n      <td></td>\n      <td>19050502</td>\n      <td>male</td>\n      <td>LIONEL GEORGE PEYTON</td>\n      <td>Dialogue</td>\n      <td>59574</td>\n      <td></td>\n      <td>...</td>\n      <td></td>\n      <td></td>\n      <td></td>\n      <td></td>\n      <td>HOLMES</td>\n      <td>sessionsPapers/19050502</td>\n      <td></td>\n      <td></td>\n      <td>Trial</td>\n      <td></td>\n    </tr>\n    <tr>\n      <th>403</th>\n      <td>OBC2-18710109</td>\n      <td>1871</td>\n      <td></td>\n      <td></td>\n      <td>18710109</td>\n      <td>male</td>\n      <td>ROBERT MALCOLM</td>\n      <td>Dialogue</td>\n      <td>46847</td>\n      <td></td>\n      <td>...</td>\n      <td></td>\n      <td></td>\n      <td></td>\n      <td></td>\n      <td>KERR</td>\n      <td>sessionsPapers/18710109</td>\n      <td></td>\n      <td></td>\n      <td>Trial</td>\n      <td></td>\n    </tr>\n    <tr>\n      <th>405</th>\n      <td>OBC2-18920404</td>\n      <td>1892</td>\n      <td></td>\n      <td></td>\n      <td>18920404</td>\n      <td>male</td>\n      <td>JULIUS</td>\n      <td>Dialogue</td>\n      <td>55457</td>\n      <td></td>\n      <td>...</td>\n      <td></td>\n      <td></td>\n      <td></td>\n      <td></td>\n      <td>ROHMANN</td>\n      <td>sessionsPapers/18920404</td>\n      <td></td>\n      <td></td>\n      <td>Trial</td>\n      <td></td>\n    </tr>\n    <tr>\n      <th>410</th>\n      <td>OBC2-19111205</td>\n      <td>1911</td>\n      <td>26</td>\n      <td></td>\n      <td>19111205</td>\n      <td>male</td>\n      <td>EDWARD JAMES</td>\n      <td>Dialogue</td>\n      <td>79413</td>\n      <td>publican</td>\n      <td>...</td>\n      <td></td>\n      <td></td>\n      <td></td>\n      <td></td>\n      <td>WALKER</td>\n      <td>sessionsPapers/19111205</td>\n      <td></td>\n      <td></td>\n      <td>Trial</td>\n      <td></td>\n    </tr>\n    <tr>\n      <th>428</th>\n      <td>OBC2-18900908</td>\n      <td>1890</td>\n      <td></td>\n      <td></td>\n      <td>18900908</td>\n      <td>male</td>\n      <td>FREDERICK</td>\n      <td>Dialogue</td>\n      <td>68452</td>\n      <td></td>\n      <td>...</td>\n      <td></td>\n      <td></td>\n      <td></td>\n      <td></td>\n      <td>TWYMAN</td>\n      <td>sessionsPapers/18900908</td>\n      <td></td>\n      <td></td>\n      <td>Trial</td>\n      <td></td>\n    </tr>\n    <tr>\n      <th>461</th>\n      <td>OBC2-18651218</td>\n      <td>1865</td>\n      <td></td>\n      <td></td>\n      <td>18651218</td>\n      <td>male</td>\n      <td>ROBERT MALCOLM</td>\n      <td>Dialogue</td>\n      <td>59664</td>\n      <td></td>\n      <td>...</td>\n      <td></td>\n      <td></td>\n      <td></td>\n      <td></td>\n      <td>KERR</td>\n      <td>sessionsPapers/18651218</td>\n      <td></td>\n      <td></td>\n      <td>Trial</td>\n      <td></td>\n    </tr>\n    <tr>\n      <th>485</th>\n      <td>OBC2-19101206</td>\n      <td>1910</td>\n      <td>73</td>\n      <td></td>\n      <td>19101206</td>\n      <td>male</td>\n      <td>AUGUSTUS JULIUS HENRY</td>\n      <td>Dialogue</td>\n      <td>22594</td>\n      <td>no occupation</td>\n      <td>...</td>\n      <td></td>\n      <td></td>\n      <td></td>\n      <td></td>\n      <td>GROBECKER</td>\n      <td>sessionsPapers/19101206</td>\n      <td></td>\n      <td></td>\n      <td>Trial</td>\n      <td></td>\n    </tr>\n    <tr>\n      <th>494</th>\n      <td>OBC2-18960323</td>\n      <td>1896</td>\n      <td></td>\n      <td></td>\n      <td>18960323</td>\n      <td>male</td>\n      <td>THOMAS</td>\n      <td>Dialogue</td>\n      <td>21130</td>\n      <td></td>\n      <td>...</td>\n      <td></td>\n      <td></td>\n      <td></td>\n      <td></td>\n      <td>THORNBER</td>\n      <td>sessionsPapers/18960323</td>\n      <td></td>\n      <td></td>\n      <td>Trial</td>\n      <td></td>\n    </tr>\n    <tr>\n      <th>515</th>\n      <td>OBC2-19100426</td>\n      <td>1910</td>\n      <td>40</td>\n      <td></td>\n      <td>19100426</td>\n      <td>male</td>\n      <td>JACOB</td>\n      <td>Dialogue</td>\n      <td>57035</td>\n      <td>boot manufacturer</td>\n      <td>...</td>\n      <td></td>\n      <td></td>\n      <td></td>\n      <td></td>\n      <td>RICHMAN</td>\n      <td>sessionsPapers/19100426</td>\n      <td></td>\n      <td></td>\n      <td>Trial</td>\n      <td></td>\n    </tr>\n    <tr>\n      <th>534</th>\n      <td>OBC2-18910406</td>\n      <td>1891</td>\n      <td></td>\n      <td></td>\n      <td>18910406</td>\n      <td>male</td>\n      <td>JAMES</td>\n      <td>Dialogue</td>\n      <td>54495</td>\n      <td></td>\n      <td>...</td>\n      <td></td>\n      <td></td>\n      <td></td>\n      <td></td>\n      <td>LAWRENCE</td>\n      <td>sessionsPapers/18910406</td>\n      <td></td>\n      <td></td>\n      <td>Trial</td>\n      <td></td>\n    </tr>\n    <tr>\n      <th>557</th>\n      <td>OBC2-19120722</td>\n      <td>1912</td>\n      <td>21</td>\n      <td></td>\n      <td>19120722</td>\n      <td>male</td>\n      <td>THOMAS HENRY</td>\n      <td>Dialogue</td>\n      <td>16323</td>\n      <td>labourer</td>\n      <td>...</td>\n      <td></td>\n      <td></td>\n      <td></td>\n      <td></td>\n      <td>ALLEN</td>\n      <td>sessionsPapers/19120722</td>\n      <td></td>\n      <td></td>\n      <td>Trial</td>\n      <td></td>\n    </tr>\n    <tr>\n      <th>580</th>\n      <td>OBC2-18741123</td>\n      <td>1874</td>\n      <td></td>\n      <td></td>\n      <td>18741123</td>\n      <td>male</td>\n      <td>ROBERT MALCOLM</td>\n      <td>Dialogue</td>\n      <td>59587</td>\n      <td></td>\n      <td>...</td>\n      <td></td>\n      <td></td>\n      <td></td>\n      <td></td>\n      <td>KERR</td>\n      <td>sessionsPapers/18741123</td>\n      <td></td>\n      <td></td>\n      <td>Trial</td>\n      <td></td>\n    </tr>\n    <tr>\n      <th>583</th>\n      <td>OBC2-18520202</td>\n      <td>1852</td>\n      <td></td>\n      <td></td>\n      <td>18520202</td>\n      <td>male</td>\n      <td>WILLIAM</td>\n      <td>Dialogue</td>\n      <td>49631</td>\n      <td></td>\n      <td>...</td>\n      <td></td>\n      <td></td>\n      <td></td>\n      <td></td>\n      <td>MAGNAY</td>\n      <td>sessionsPapers/18520202</td>\n      <td></td>\n      <td></td>\n      <td>Trial</td>\n      <td></td>\n    </tr>\n    <tr>\n      <th>590</th>\n      <td>OBC2-19120109</td>\n      <td>1912</td>\n      <td>21</td>\n      <td></td>\n      <td>19120109</td>\n      <td>male</td>\n      <td>FRANK</td>\n      <td>Dialogue</td>\n      <td>64657</td>\n      <td>printer</td>\n      <td>...</td>\n      <td></td>\n      <td></td>\n      <td></td>\n      <td></td>\n      <td>MCDONALD</td>\n      <td>sessionsPapers/19120109</td>\n      <td></td>\n      <td></td>\n      <td>Trial</td>\n      <td></td>\n    </tr>\n    <tr>\n      <th>611</th>\n      <td>OBC2-18430403</td>\n      <td>1843</td>\n      <td></td>\n      <td></td>\n      <td>18430403</td>\n      <td>male</td>\n      <td>THOMAS</td>\n      <td>Dialogue</td>\n      <td>108555</td>\n      <td></td>\n      <td>...</td>\n      <td></td>\n      <td></td>\n      <td></td>\n      <td></td>\n      <td>JARVIS</td>\n      <td>sessionsPapers/18430403</td>\n      <td></td>\n      <td></td>\n      <td>Trial</td>\n      <td></td>\n    </tr>\n    <tr>\n      <th>631</th>\n      <td>OBC2-18410705</td>\n      <td>1841</td>\n      <td></td>\n      <td></td>\n      <td>18410705</td>\n      <td>male</td>\n      <td>CHARLES</td>\n      <td>Dialogue</td>\n      <td>46332</td>\n      <td></td>\n      <td>...</td>\n      <td></td>\n      <td></td>\n      <td></td>\n      <td></td>\n      <td>HERMAN</td>\n      <td>sessionsPapers/18410705</td>\n      <td></td>\n      <td></td>\n      <td>Trial</td>\n      <td></td>\n    </tr>\n    <tr>\n      <th>632</th>\n      <td>OBC2-18640411</td>\n      <td>1864</td>\n      <td></td>\n      <td></td>\n      <td>18640411</td>\n      <td>male</td>\n      <td>WILLIAM</td>\n      <td>Dialogue</td>\n      <td>74224</td>\n      <td></td>\n      <td>...</td>\n      <td></td>\n      <td></td>\n      <td></td>\n      <td></td>\n      <td>GRANT</td>\n      <td>sessionsPapers/18640411</td>\n      <td></td>\n      <td></td>\n      <td>Trial</td>\n      <td></td>\n    </tr>\n  </tbody>\n</table>\n<p>56 rows × 21 columns</p>\n</div>"
     },
     "metadata": {},
     "execution_count": 18
    }
   ],
   "source": [
    "C.meta.loc[[bool(x) for x in C.meta.gender]"
   ]
  },
  {
   "cell_type": "code",
   "execution_count": 10,
   "metadata": {},
   "outputs": [
    {
     "output_type": "execute_result",
     "data": {
      "text/plain": [
       "                       female      male\n",
       "word                                   \n",
       "the        0.000012  0.000027  0.000030\n",
       "i          0.000005  0.000011  0.000013\n",
       "and        0.000014  0.000026  0.000029\n",
       "to         0.000012  0.000024  0.000031\n",
       "was        0.000023  0.000053  0.000055\n",
       "...             ...       ...       ...\n",
       "soldered   0.000000  0.000000  0.000000\n",
       "boulevard  0.000000  0.000000  0.000000\n",
       "north-row  0.000000  0.000000  0.000000\n",
       "comely     0.000000  0.000000  0.000000\n",
       "gardening  0.000000  0.000000  0.000000\n",
       "\n",
       "[24999 rows x 3 columns]"
      ],
      "text/html": "<div>\n<style scoped>\n    .dataframe tbody tr th:only-of-type {\n        vertical-align: middle;\n    }\n\n    .dataframe tbody tr th {\n        vertical-align: top;\n    }\n\n    .dataframe thead th {\n        text-align: right;\n    }\n</style>\n<table border=\"1\" class=\"dataframe\">\n  <thead>\n    <tr style=\"text-align: right;\">\n      <th></th>\n      <th></th>\n      <th>female</th>\n      <th>male</th>\n    </tr>\n    <tr>\n      <th>word</th>\n      <th></th>\n      <th></th>\n      <th></th>\n    </tr>\n  </thead>\n  <tbody>\n    <tr>\n      <th>the</th>\n      <td>0.000012</td>\n      <td>0.000027</td>\n      <td>0.000030</td>\n    </tr>\n    <tr>\n      <th>i</th>\n      <td>0.000005</td>\n      <td>0.000011</td>\n      <td>0.000013</td>\n    </tr>\n    <tr>\n      <th>and</th>\n      <td>0.000014</td>\n      <td>0.000026</td>\n      <td>0.000029</td>\n    </tr>\n    <tr>\n      <th>to</th>\n      <td>0.000012</td>\n      <td>0.000024</td>\n      <td>0.000031</td>\n    </tr>\n    <tr>\n      <th>was</th>\n      <td>0.000023</td>\n      <td>0.000053</td>\n      <td>0.000055</td>\n    </tr>\n    <tr>\n      <th>...</th>\n      <td>...</td>\n      <td>...</td>\n      <td>...</td>\n    </tr>\n    <tr>\n      <th>soldered</th>\n      <td>0.000000</td>\n      <td>0.000000</td>\n      <td>0.000000</td>\n    </tr>\n    <tr>\n      <th>boulevard</th>\n      <td>0.000000</td>\n      <td>0.000000</td>\n      <td>0.000000</td>\n    </tr>\n    <tr>\n      <th>north-row</th>\n      <td>0.000000</td>\n      <td>0.000000</td>\n      <td>0.000000</td>\n    </tr>\n    <tr>\n      <th>comely</th>\n      <td>0.000000</td>\n      <td>0.000000</td>\n      <td>0.000000</td>\n    </tr>\n    <tr>\n      <th>gardening</th>\n      <td>0.000000</td>\n      <td>0.000000</td>\n      <td>0.000000</td>\n    </tr>\n  </tbody>\n</table>\n<p>24999 rows × 3 columns</p>\n</div>"
     },
     "metadata": {},
     "execution_count": 10
    }
   ],
   "source": [
    "# C.meta[C.meta.gender!=\"\"]\n",
    "lltk.to_mdw(C.dtm(tfidf=True,meta=['gender']).groupby('gender'))"
   ]
  },
  {
   "cell_type": "code",
   "execution_count": 11,
   "metadata": {},
   "outputs": [
    {
     "output_type": "execute_result",
     "data": {
      "text/plain": [
       "gender                female      male\n",
       "the       0.000012  0.000027  0.000030\n",
       "i         0.000005  0.000011  0.000013\n",
       "and       0.000014  0.000026  0.000029\n",
       "to        0.000012  0.000024  0.000031\n",
       "was       0.000023  0.000053  0.000055\n",
       "...            ...       ...       ...\n",
       "spoon     0.000000  0.000000  0.000000\n",
       "fourteen  0.000209  0.000105  0.000314\n",
       "fight     0.000153  0.000458  0.000611\n",
       "jury      0.000108  0.000542  0.000217\n",
       "lad       0.000094  0.000094  0.000283\n",
       "\n",
       "[1000 rows x 3 columns]"
      ],
      "text/html": "<div>\n<style scoped>\n    .dataframe tbody tr th:only-of-type {\n        vertical-align: middle;\n    }\n\n    .dataframe tbody tr th {\n        vertical-align: top;\n    }\n\n    .dataframe thead th {\n        text-align: right;\n    }\n</style>\n<table border=\"1\" class=\"dataframe\">\n  <thead>\n    <tr style=\"text-align: right;\">\n      <th>gender</th>\n      <th></th>\n      <th>female</th>\n      <th>male</th>\n    </tr>\n  </thead>\n  <tbody>\n    <tr>\n      <th>the</th>\n      <td>0.000012</td>\n      <td>0.000027</td>\n      <td>0.000030</td>\n    </tr>\n    <tr>\n      <th>i</th>\n      <td>0.000005</td>\n      <td>0.000011</td>\n      <td>0.000013</td>\n    </tr>\n    <tr>\n      <th>and</th>\n      <td>0.000014</td>\n      <td>0.000026</td>\n      <td>0.000029</td>\n    </tr>\n    <tr>\n      <th>to</th>\n      <td>0.000012</td>\n      <td>0.000024</td>\n      <td>0.000031</td>\n    </tr>\n    <tr>\n      <th>was</th>\n      <td>0.000023</td>\n      <td>0.000053</td>\n      <td>0.000055</td>\n    </tr>\n    <tr>\n      <th>...</th>\n      <td>...</td>\n      <td>...</td>\n      <td>...</td>\n    </tr>\n    <tr>\n      <th>spoon</th>\n      <td>0.000000</td>\n      <td>0.000000</td>\n      <td>0.000000</td>\n    </tr>\n    <tr>\n      <th>fourteen</th>\n      <td>0.000209</td>\n      <td>0.000105</td>\n      <td>0.000314</td>\n    </tr>\n    <tr>\n      <th>fight</th>\n      <td>0.000153</td>\n      <td>0.000458</td>\n      <td>0.000611</td>\n    </tr>\n    <tr>\n      <th>jury</th>\n      <td>0.000108</td>\n      <td>0.000542</td>\n      <td>0.000217</td>\n    </tr>\n    <tr>\n      <th>lad</th>\n      <td>0.000094</td>\n      <td>0.000094</td>\n      <td>0.000283</td>\n    </tr>\n  </tbody>\n</table>\n<p>1000 rows × 3 columns</p>\n</div>"
     },
     "metadata": {},
     "execution_count": 11
    }
   ],
   "source": [
    "df=C.dtm(\n",
    "    # texts=C.meta[C.meta.gender!=\"\"].id,\n",
    "    n=1000,\n",
    "    tfidf=True,\n",
    "    meta=['gender']\n",
    ")\n",
    "df=df.groupby('gender').median().T#.dropna()\n",
    "# df=lltk.reset_index(df).rename({0:'word'},axis=1)#.set_index('word')\n",
    "df"
   ]
  },
  {
   "cell_type": "code",
   "execution_count": 12,
   "metadata": {},
   "outputs": [],
   "source": [
    "df=C.mdw('gender')"
   ]
  },
  {
   "cell_type": "code",
   "execution_count": 13,
   "metadata": {},
   "outputs": [],
   "source": [
    "# df.sample(n=100).plot.scatter(x='male',y='female',text='word',figsize=(10,10))"
   ]
  },
  {
   "cell_type": "code",
   "execution_count": 14,
   "metadata": {},
   "outputs": [
    {
     "output_type": "error",
     "ename": "PlotnineError",
     "evalue": "\"Could not evaluate the 'label' mapping: 'word' (original error: name 'word' is not defined)\"",
     "traceback": [
      "\u001b[0;31m---------------------------------------------------------------------------\u001b[0m",
      "\u001b[0;31mNameError\u001b[0m                                 Traceback (most recent call last)",
      "\u001b[0;32m~/github/lltk/venv/lib/python3.7/site-packages/plotnine/layer.py\u001b[0m in \u001b[0;36mcompute_aesthetics\u001b[0;34m(self, plot)\u001b[0m\n\u001b[1;32m    320\u001b[0m                     \u001b[0;32mtry\u001b[0m\u001b[0;34m:\u001b[0m\u001b[0;34m\u001b[0m\u001b[0;34m\u001b[0m\u001b[0m\n\u001b[0;32m--> 321\u001b[0;31m                         \u001b[0mnew_val\u001b[0m \u001b[0;34m=\u001b[0m \u001b[0menv\u001b[0m\u001b[0;34m.\u001b[0m\u001b[0meval\u001b[0m\u001b[0;34m(\u001b[0m\u001b[0mcol\u001b[0m\u001b[0;34m,\u001b[0m \u001b[0minner_namespace\u001b[0m\u001b[0;34m=\u001b[0m\u001b[0mdata\u001b[0m\u001b[0;34m)\u001b[0m\u001b[0;34m\u001b[0m\u001b[0;34m\u001b[0m\u001b[0m\n\u001b[0m\u001b[1;32m    322\u001b[0m                     \u001b[0;32mexcept\u001b[0m \u001b[0mException\u001b[0m \u001b[0;32mas\u001b[0m \u001b[0me\u001b[0m\u001b[0;34m:\u001b[0m\u001b[0;34m\u001b[0m\u001b[0;34m\u001b[0m\u001b[0m\n",
      "\u001b[0;32m~/github/lltk/venv/lib/python3.7/site-packages/patsy/eval.py\u001b[0m in \u001b[0;36meval\u001b[0;34m(self, expr, source_name, inner_namespace)\u001b[0m\n\u001b[1;32m    165\u001b[0m         return eval(code, {}, VarLookupDict([inner_namespace]\n\u001b[0;32m--> 166\u001b[0;31m                                             + self._namespaces))\n\u001b[0m\u001b[1;32m    167\u001b[0m \u001b[0;34m\u001b[0m\u001b[0m\n",
      "\u001b[0;32m<string>\u001b[0m in \u001b[0;36m<module>\u001b[0;34m\u001b[0m\n",
      "\u001b[0;31mNameError\u001b[0m: name 'word' is not defined",
      "\nDuring handling of the above exception, another exception occurred:\n",
      "\u001b[0;31mPlotnineError\u001b[0m                             Traceback (most recent call last)",
      "\u001b[0;32m~/github/lltk/venv/lib/python3.7/site-packages/IPython/core/formatters.py\u001b[0m in \u001b[0;36m__call__\u001b[0;34m(self, obj)\u001b[0m\n\u001b[1;32m    700\u001b[0m                 \u001b[0mtype_pprinters\u001b[0m\u001b[0;34m=\u001b[0m\u001b[0mself\u001b[0m\u001b[0;34m.\u001b[0m\u001b[0mtype_printers\u001b[0m\u001b[0;34m,\u001b[0m\u001b[0;34m\u001b[0m\u001b[0;34m\u001b[0m\u001b[0m\n\u001b[1;32m    701\u001b[0m                 deferred_pprinters=self.deferred_printers)\n\u001b[0;32m--> 702\u001b[0;31m             \u001b[0mprinter\u001b[0m\u001b[0;34m.\u001b[0m\u001b[0mpretty\u001b[0m\u001b[0;34m(\u001b[0m\u001b[0mobj\u001b[0m\u001b[0;34m)\u001b[0m\u001b[0;34m\u001b[0m\u001b[0;34m\u001b[0m\u001b[0m\n\u001b[0m\u001b[1;32m    703\u001b[0m             \u001b[0mprinter\u001b[0m\u001b[0;34m.\u001b[0m\u001b[0mflush\u001b[0m\u001b[0;34m(\u001b[0m\u001b[0;34m)\u001b[0m\u001b[0;34m\u001b[0m\u001b[0;34m\u001b[0m\u001b[0m\n\u001b[1;32m    704\u001b[0m             \u001b[0;32mreturn\u001b[0m \u001b[0mstream\u001b[0m\u001b[0;34m.\u001b[0m\u001b[0mgetvalue\u001b[0m\u001b[0;34m(\u001b[0m\u001b[0;34m)\u001b[0m\u001b[0;34m\u001b[0m\u001b[0;34m\u001b[0m\u001b[0m\n",
      "\u001b[0;32m~/github/lltk/venv/lib/python3.7/site-packages/IPython/lib/pretty.py\u001b[0m in \u001b[0;36mpretty\u001b[0;34m(self, obj)\u001b[0m\n\u001b[1;32m    392\u001b[0m                         \u001b[0;32mif\u001b[0m \u001b[0mcls\u001b[0m \u001b[0;32mis\u001b[0m \u001b[0;32mnot\u001b[0m \u001b[0mobject\u001b[0m\u001b[0;31m \u001b[0m\u001b[0;31m\\\u001b[0m\u001b[0;34m\u001b[0m\u001b[0;34m\u001b[0m\u001b[0m\n\u001b[1;32m    393\u001b[0m                                 \u001b[0;32mand\u001b[0m \u001b[0mcallable\u001b[0m\u001b[0;34m(\u001b[0m\u001b[0mcls\u001b[0m\u001b[0;34m.\u001b[0m\u001b[0m__dict__\u001b[0m\u001b[0;34m.\u001b[0m\u001b[0mget\u001b[0m\u001b[0;34m(\u001b[0m\u001b[0;34m'__repr__'\u001b[0m\u001b[0;34m)\u001b[0m\u001b[0;34m)\u001b[0m\u001b[0;34m:\u001b[0m\u001b[0;34m\u001b[0m\u001b[0;34m\u001b[0m\u001b[0m\n\u001b[0;32m--> 394\u001b[0;31m                             \u001b[0;32mreturn\u001b[0m \u001b[0m_repr_pprint\u001b[0m\u001b[0;34m(\u001b[0m\u001b[0mobj\u001b[0m\u001b[0;34m,\u001b[0m \u001b[0mself\u001b[0m\u001b[0;34m,\u001b[0m \u001b[0mcycle\u001b[0m\u001b[0;34m)\u001b[0m\u001b[0;34m\u001b[0m\u001b[0;34m\u001b[0m\u001b[0m\n\u001b[0m\u001b[1;32m    395\u001b[0m \u001b[0;34m\u001b[0m\u001b[0m\n\u001b[1;32m    396\u001b[0m             \u001b[0;32mreturn\u001b[0m \u001b[0m_default_pprint\u001b[0m\u001b[0;34m(\u001b[0m\u001b[0mobj\u001b[0m\u001b[0;34m,\u001b[0m \u001b[0mself\u001b[0m\u001b[0;34m,\u001b[0m \u001b[0mcycle\u001b[0m\u001b[0;34m)\u001b[0m\u001b[0;34m\u001b[0m\u001b[0;34m\u001b[0m\u001b[0m\n",
      "\u001b[0;32m~/github/lltk/venv/lib/python3.7/site-packages/IPython/lib/pretty.py\u001b[0m in \u001b[0;36m_repr_pprint\u001b[0;34m(obj, p, cycle)\u001b[0m\n\u001b[1;32m    698\u001b[0m     \u001b[0;34m\"\"\"A pprint that just redirects to the normal repr function.\"\"\"\u001b[0m\u001b[0;34m\u001b[0m\u001b[0;34m\u001b[0m\u001b[0m\n\u001b[1;32m    699\u001b[0m     \u001b[0;31m# Find newlines and replace them with p.break_()\u001b[0m\u001b[0;34m\u001b[0m\u001b[0;34m\u001b[0m\u001b[0;34m\u001b[0m\u001b[0m\n\u001b[0;32m--> 700\u001b[0;31m     \u001b[0moutput\u001b[0m \u001b[0;34m=\u001b[0m \u001b[0mrepr\u001b[0m\u001b[0;34m(\u001b[0m\u001b[0mobj\u001b[0m\u001b[0;34m)\u001b[0m\u001b[0;34m\u001b[0m\u001b[0;34m\u001b[0m\u001b[0m\n\u001b[0m\u001b[1;32m    701\u001b[0m     \u001b[0mlines\u001b[0m \u001b[0;34m=\u001b[0m \u001b[0moutput\u001b[0m\u001b[0;34m.\u001b[0m\u001b[0msplitlines\u001b[0m\u001b[0;34m(\u001b[0m\u001b[0;34m)\u001b[0m\u001b[0;34m\u001b[0m\u001b[0;34m\u001b[0m\u001b[0m\n\u001b[1;32m    702\u001b[0m     \u001b[0;32mwith\u001b[0m \u001b[0mp\u001b[0m\u001b[0;34m.\u001b[0m\u001b[0mgroup\u001b[0m\u001b[0;34m(\u001b[0m\u001b[0;34m)\u001b[0m\u001b[0;34m:\u001b[0m\u001b[0;34m\u001b[0m\u001b[0;34m\u001b[0m\u001b[0m\n",
      "\u001b[0;32m~/github/lltk/venv/lib/python3.7/site-packages/plotnine/ggplot.py\u001b[0m in \u001b[0;36m__repr__\u001b[0;34m(self)\u001b[0m\n\u001b[1;32m     86\u001b[0m         \u001b[0;31m# in the jupyter notebook.\u001b[0m\u001b[0;34m\u001b[0m\u001b[0;34m\u001b[0m\u001b[0;34m\u001b[0m\u001b[0m\n\u001b[1;32m     87\u001b[0m         \u001b[0;32mif\u001b[0m \u001b[0;32mnot\u001b[0m \u001b[0mself\u001b[0m\u001b[0;34m.\u001b[0m\u001b[0mfigure\u001b[0m\u001b[0;34m:\u001b[0m\u001b[0;34m\u001b[0m\u001b[0;34m\u001b[0m\u001b[0m\n\u001b[0;32m---> 88\u001b[0;31m             \u001b[0mself\u001b[0m\u001b[0;34m.\u001b[0m\u001b[0mdraw\u001b[0m\u001b[0;34m(\u001b[0m\u001b[0;34m)\u001b[0m\u001b[0;34m\u001b[0m\u001b[0;34m\u001b[0m\u001b[0m\n\u001b[0m\u001b[1;32m     89\u001b[0m         \u001b[0mplt\u001b[0m\u001b[0;34m.\u001b[0m\u001b[0mshow\u001b[0m\u001b[0;34m(\u001b[0m\u001b[0;34m)\u001b[0m\u001b[0;34m\u001b[0m\u001b[0;34m\u001b[0m\u001b[0m\n\u001b[1;32m     90\u001b[0m         \u001b[0;32mreturn\u001b[0m \u001b[0;34m'<ggplot: (%d)>'\u001b[0m \u001b[0;34m%\u001b[0m \u001b[0mself\u001b[0m\u001b[0;34m.\u001b[0m\u001b[0m__hash__\u001b[0m\u001b[0;34m(\u001b[0m\u001b[0;34m)\u001b[0m\u001b[0;34m\u001b[0m\u001b[0;34m\u001b[0m\u001b[0m\n",
      "\u001b[0;32m~/github/lltk/venv/lib/python3.7/site-packages/plotnine/ggplot.py\u001b[0m in \u001b[0;36mdraw\u001b[0;34m(self, return_ggplot)\u001b[0m\n\u001b[1;32m    179\u001b[0m         \u001b[0;31m# new frames knowing that they are separate from the original.\u001b[0m\u001b[0;34m\u001b[0m\u001b[0;34m\u001b[0m\u001b[0;34m\u001b[0m\u001b[0m\n\u001b[1;32m    180\u001b[0m         \u001b[0;32mwith\u001b[0m \u001b[0mpd\u001b[0m\u001b[0;34m.\u001b[0m\u001b[0moption_context\u001b[0m\u001b[0;34m(\u001b[0m\u001b[0;34m'mode.chained_assignment'\u001b[0m\u001b[0;34m,\u001b[0m \u001b[0;32mNone\u001b[0m\u001b[0;34m)\u001b[0m\u001b[0;34m:\u001b[0m\u001b[0;34m\u001b[0m\u001b[0;34m\u001b[0m\u001b[0m\n\u001b[0;32m--> 181\u001b[0;31m             \u001b[0;32mreturn\u001b[0m \u001b[0mself\u001b[0m\u001b[0;34m.\u001b[0m\u001b[0m_draw\u001b[0m\u001b[0;34m(\u001b[0m\u001b[0mreturn_ggplot\u001b[0m\u001b[0;34m)\u001b[0m\u001b[0;34m\u001b[0m\u001b[0;34m\u001b[0m\u001b[0m\n\u001b[0m\u001b[1;32m    182\u001b[0m \u001b[0;34m\u001b[0m\u001b[0m\n\u001b[1;32m    183\u001b[0m     \u001b[0;32mdef\u001b[0m \u001b[0m_draw\u001b[0m\u001b[0;34m(\u001b[0m\u001b[0mself\u001b[0m\u001b[0;34m,\u001b[0m \u001b[0mreturn_ggplot\u001b[0m\u001b[0;34m=\u001b[0m\u001b[0;32mFalse\u001b[0m\u001b[0;34m)\u001b[0m\u001b[0;34m:\u001b[0m\u001b[0;34m\u001b[0m\u001b[0;34m\u001b[0m\u001b[0m\n",
      "\u001b[0;32m~/github/lltk/venv/lib/python3.7/site-packages/plotnine/ggplot.py\u001b[0m in \u001b[0;36m_draw\u001b[0;34m(self, return_ggplot)\u001b[0m\n\u001b[1;32m    186\u001b[0m         \u001b[0;31m# assign a default theme\u001b[0m\u001b[0;34m\u001b[0m\u001b[0;34m\u001b[0m\u001b[0;34m\u001b[0m\u001b[0m\n\u001b[1;32m    187\u001b[0m         \u001b[0mself\u001b[0m \u001b[0;34m=\u001b[0m \u001b[0mdeepcopy\u001b[0m\u001b[0;34m(\u001b[0m\u001b[0mself\u001b[0m\u001b[0;34m)\u001b[0m\u001b[0;34m\u001b[0m\u001b[0;34m\u001b[0m\u001b[0m\n\u001b[0;32m--> 188\u001b[0;31m         \u001b[0mself\u001b[0m\u001b[0;34m.\u001b[0m\u001b[0m_build\u001b[0m\u001b[0;34m(\u001b[0m\u001b[0;34m)\u001b[0m\u001b[0;34m\u001b[0m\u001b[0;34m\u001b[0m\u001b[0m\n\u001b[0m\u001b[1;32m    189\u001b[0m \u001b[0;34m\u001b[0m\u001b[0m\n\u001b[1;32m    190\u001b[0m         \u001b[0;31m# If no theme we use the default\u001b[0m\u001b[0;34m\u001b[0m\u001b[0;34m\u001b[0m\u001b[0;34m\u001b[0m\u001b[0m\n",
      "\u001b[0;32m~/github/lltk/venv/lib/python3.7/site-packages/plotnine/ggplot.py\u001b[0m in \u001b[0;36m_build\u001b[0;34m(self)\u001b[0m\n\u001b[1;32m    286\u001b[0m         \u001b[0;31m# Compute aesthetics to produce data with generalised\u001b[0m\u001b[0;34m\u001b[0m\u001b[0;34m\u001b[0m\u001b[0;34m\u001b[0m\u001b[0m\n\u001b[1;32m    287\u001b[0m         \u001b[0;31m# variable names\u001b[0m\u001b[0;34m\u001b[0m\u001b[0;34m\u001b[0m\u001b[0;34m\u001b[0m\u001b[0m\n\u001b[0;32m--> 288\u001b[0;31m         \u001b[0mlayers\u001b[0m\u001b[0;34m.\u001b[0m\u001b[0mcompute_aesthetics\u001b[0m\u001b[0;34m(\u001b[0m\u001b[0mself\u001b[0m\u001b[0;34m)\u001b[0m\u001b[0;34m\u001b[0m\u001b[0;34m\u001b[0m\u001b[0m\n\u001b[0m\u001b[1;32m    289\u001b[0m \u001b[0;34m\u001b[0m\u001b[0m\n\u001b[1;32m    290\u001b[0m         \u001b[0;31m# Transform data using all scales\u001b[0m\u001b[0;34m\u001b[0m\u001b[0;34m\u001b[0m\u001b[0;34m\u001b[0m\u001b[0m\n",
      "\u001b[0;32m~/github/lltk/venv/lib/python3.7/site-packages/plotnine/layer.py\u001b[0m in \u001b[0;36mcompute_aesthetics\u001b[0;34m(self, plot)\u001b[0m\n\u001b[1;32m     79\u001b[0m     \u001b[0;32mdef\u001b[0m \u001b[0mcompute_aesthetics\u001b[0m\u001b[0;34m(\u001b[0m\u001b[0mself\u001b[0m\u001b[0;34m,\u001b[0m \u001b[0mplot\u001b[0m\u001b[0;34m)\u001b[0m\u001b[0;34m:\u001b[0m\u001b[0;34m\u001b[0m\u001b[0;34m\u001b[0m\u001b[0m\n\u001b[1;32m     80\u001b[0m         \u001b[0;32mfor\u001b[0m \u001b[0ml\u001b[0m \u001b[0;32min\u001b[0m \u001b[0mself\u001b[0m\u001b[0;34m:\u001b[0m\u001b[0;34m\u001b[0m\u001b[0;34m\u001b[0m\u001b[0m\n\u001b[0;32m---> 81\u001b[0;31m             \u001b[0ml\u001b[0m\u001b[0;34m.\u001b[0m\u001b[0mcompute_aesthetics\u001b[0m\u001b[0;34m(\u001b[0m\u001b[0mplot\u001b[0m\u001b[0;34m)\u001b[0m\u001b[0;34m\u001b[0m\u001b[0;34m\u001b[0m\u001b[0m\n\u001b[0m\u001b[1;32m     82\u001b[0m \u001b[0;34m\u001b[0m\u001b[0m\n\u001b[1;32m     83\u001b[0m     \u001b[0;32mdef\u001b[0m \u001b[0mcompute_statistic\u001b[0m\u001b[0;34m(\u001b[0m\u001b[0mself\u001b[0m\u001b[0;34m,\u001b[0m \u001b[0mlayout\u001b[0m\u001b[0;34m)\u001b[0m\u001b[0;34m:\u001b[0m\u001b[0;34m\u001b[0m\u001b[0;34m\u001b[0m\u001b[0m\n",
      "\u001b[0;32m~/github/lltk/venv/lib/python3.7/site-packages/plotnine/layer.py\u001b[0m in \u001b[0;36mcompute_aesthetics\u001b[0;34m(self, plot)\u001b[0m\n\u001b[1;32m    322\u001b[0m                     \u001b[0;32mexcept\u001b[0m \u001b[0mException\u001b[0m \u001b[0;32mas\u001b[0m \u001b[0me\u001b[0m\u001b[0;34m:\u001b[0m\u001b[0;34m\u001b[0m\u001b[0;34m\u001b[0m\u001b[0m\n\u001b[1;32m    323\u001b[0m                         raise PlotnineError(\n\u001b[0;32m--> 324\u001b[0;31m                             _TPL_EVAL_FAIL.format(ae, col, str(e)))\n\u001b[0m\u001b[1;32m    325\u001b[0m \u001b[0;34m\u001b[0m\u001b[0m\n\u001b[1;32m    326\u001b[0m                     \u001b[0;32mtry\u001b[0m\u001b[0;34m:\u001b[0m\u001b[0;34m\u001b[0m\u001b[0;34m\u001b[0m\u001b[0m\n",
      "\u001b[0;31mPlotnineError\u001b[0m: \"Could not evaluate the 'label' mapping: 'word' (original error: name 'word' is not defined)\""
     ]
    }
   ],
   "source": [
    "import plotnine as p9\n",
    "p9.options.figure_size=(10,10)\n",
    "p9.options.dpi=300\n",
    "p9.ggplot(\n",
    "    p9.aes(x='male',y='female',label='word'),\n",
    "    data=df.sample(n=1000)\n",
    ") + p9.geom_text(size=6) + p9.scale_y_log10()  + p9.scale_x_log10() + p9.geom_smooth(method='lm',se=False)\n"
   ]
  },
  {
   "cell_type": "code",
   "execution_count": 14,
   "metadata": {},
   "outputs": [
    {
     "output_type": "error",
     "ename": "NameError",
     "evalue": "name 'tfidf_gender' is not defined",
     "traceback": [
      "\u001b[0;31m---------------------------------------------------------------------------\u001b[0m",
      "\u001b[0;31mNameError\u001b[0m                                 Traceback (most recent call last)",
      "\u001b[0;32m<ipython-input-14-281c62dbb898>\u001b[0m in \u001b[0;36m<module>\u001b[0;34m\u001b[0m\n\u001b[1;32m      1\u001b[0m \u001b[0;32mimport\u001b[0m \u001b[0mplotnine\u001b[0m \u001b[0;32mas\u001b[0m \u001b[0mp9\u001b[0m\u001b[0;34m\u001b[0m\u001b[0;34m\u001b[0m\u001b[0m\n\u001b[0;32m----> 2\u001b[0;31m \u001b[0mfig\u001b[0m\u001b[0;34m=\u001b[0m\u001b[0mp9\u001b[0m\u001b[0;34m.\u001b[0m\u001b[0mggplot\u001b[0m\u001b[0;34m(\u001b[0m\u001b[0mtfidf_gender\u001b[0m\u001b[0;34m[\u001b[0m\u001b[0;34m[\u001b[0m\u001b[0;34m'male'\u001b[0m\u001b[0;34m,\u001b[0m\u001b[0;34m'female'\u001b[0m\u001b[0;34m]\u001b[0m\u001b[0;34m]\u001b[0m\u001b[0;34m,\u001b[0m \u001b[0mp9\u001b[0m\u001b[0;34m.\u001b[0m\u001b[0maes\u001b[0m\u001b[0;34m(\u001b[0m\u001b[0mx\u001b[0m\u001b[0;34m=\u001b[0m\u001b[0;34m'female'\u001b[0m\u001b[0;34m,\u001b[0m\u001b[0my\u001b[0m\u001b[0;34m=\u001b[0m\u001b[0;34m'male'\u001b[0m\u001b[0;34m)\u001b[0m\u001b[0;34m)\u001b[0m\u001b[0;34m\u001b[0m\u001b[0;34m\u001b[0m\u001b[0m\n\u001b[0m\u001b[1;32m      3\u001b[0m \u001b[0mfig\u001b[0m\u001b[0;34m+=\u001b[0m\u001b[0mp9\u001b[0m\u001b[0;34m.\u001b[0m\u001b[0mgeom_point\u001b[0m\u001b[0;34m(\u001b[0m\u001b[0;34m)\u001b[0m\u001b[0;34m\u001b[0m\u001b[0;34m\u001b[0m\u001b[0m\n\u001b[1;32m      4\u001b[0m \u001b[0mfig\u001b[0m\u001b[0;34m\u001b[0m\u001b[0;34m\u001b[0m\u001b[0m\n",
      "\u001b[0;31mNameError\u001b[0m: name 'tfidf_gender' is not defined"
     ]
    }
   ],
   "source": [
    "import plotnine as p9\n",
    "fig=p9.ggplot(tfidf_gender[['male','female']], p9.aes(x='female',y='male'))\n",
    "fig+=p9.geom_point()\n",
    "fig"
   ]
  },
  {
   "cell_type": "code",
   "execution_count": null,
   "metadata": {},
   "outputs": [],
   "source": []
  }
 ]
}