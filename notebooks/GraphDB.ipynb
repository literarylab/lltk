{
 "cells": [
  {
   "cell_type": "markdown",
   "metadata": {},
   "source": [
    "# Graph DB experiments"
   ]
  },
  {
   "cell_type": "code",
   "execution_count": 8,
   "metadata": {},
   "outputs": [],
   "source": [
    "#!pip install git+https://github.com/cjdrake/ipython-magic"
   ]
  },
  {
   "cell_type": "code",
   "execution_count": 9,
   "metadata": {},
   "outputs": [],
   "source": [
    "import grapheekdb\n",
    "# grapheekdb.__version__"
   ]
  },
  {
   "cell_type": "code",
   "execution_count": 10,
   "metadata": {},
   "outputs": [],
   "source": [
    "from grapheekdb.backends.data.sqlite import SqliteGraph"
   ]
  },
  {
   "cell_type": "code",
   "execution_count": 11,
   "metadata": {},
   "outputs": [],
   "source": [
    "g=SqliteGraph('test.db')"
   ]
  },
  {
   "cell_type": "code",
   "execution_count": 15,
   "metadata": {},
   "outputs": [],
   "source": [
    "book1 = g.add_node(kind='book', name='python tutorial', author='tim aaaa', thema='programming')\n",
    "book2 = g.add_node(kind='book', name='cooking for dummies', author='tom bbbb', thema='cooking')\n",
    "book3 = g.add_node(kind='book', name='grapheekdb', author='raf cccc', thema='programming')\n",
    "book4 = g.add_node(kind='book', name='python secrets', author='tim aaaa', thema='programming')\n",
    "book5 = g.add_node(kind='book', name='cooking a python', author='tom bbbb', thema='cooking')\n",
    "book6 = g.add_node(kind='book', name='rst the hard way', author='raf cccc', thema='documentation')"
   ]
  },
  {
   "cell_type": "code",
   "execution_count": 19,
   "metadata": {},
   "outputs": [],
   "source": [
    "person1 = g.add_node(kind='person', name='sam xxxx')\n",
    "person2 = g.add_node(kind='person', name='sam xxxx')\n",
    "person3 = g.add_node(kind='person', name='sam xxxx')\n",
    "person4 = g.add_node(kind='person', name='sam xxxx')"
   ]
  },
  {
   "cell_type": "code",
   "execution_count": 20,
   "metadata": {},
   "outputs": [
    {
     "name": "stdout",
     "output_type": "stream",
     "text": [
      "book python tutorial\n",
      "book cooking for dummies\n",
      "book grapheekdb\n",
      "book python secrets\n",
      "book cooking a python\n",
      "book rst the hard way\n",
      "book python tutorial\n",
      "book cooking for dummies\n",
      "book grapheekdb\n",
      "book python secrets\n",
      "book cooking a python\n",
      "book rst the hard way\n",
      "book python tutorial\n",
      "book cooking for dummies\n",
      "book grapheekdb\n",
      "book python secrets\n",
      "book cooking a python\n",
      "book rst the hard way\n",
      "book python tutorial\n",
      "book cooking for dummies\n",
      "book grapheekdb\n",
      "book python secrets\n",
      "book cooking a python\n",
      "book rst the hard way\n",
      "person sam xxxx\n",
      "person sam xxxx\n",
      "person sam xxxx\n",
      "person sam xxxx\n"
     ]
    }
   ],
   "source": [
    "for node in g.V():\n",
    "    print(node.kind, node.name)"
   ]
  },
  {
   "cell_type": "code",
   "execution_count": 21,
   "metadata": {},
   "outputs": [
    {
     "data": {
      "text/plain": [
       "<edge id:8 data:{'action': 'bought'}>"
      ]
     },
     "execution_count": 21,
     "metadata": {},
     "output_type": "execute_result"
    }
   ],
   "source": [
    "g.add_edge(person1, book1, action='bought')\n",
    "g.add_edge(person1, book3, action='bought')\n",
    "g.add_edge(person1, book4, action='bought')\n",
    "g.add_edge(person2, book2, action='bought')\n",
    "g.add_edge(person2, book5, action='bought')\n",
    "g.add_edge(person3, book1, action='bought')\n",
    "g.add_edge(person3, book3, action='bought')\n",
    "g.add_edge(person3, book5, action='bought')\n",
    "g.add_edge(person3, book6, action='bought')"
   ]
  },
  {
   "cell_type": "code",
   "execution_count": 22,
   "metadata": {},
   "outputs": [
    {
     "data": {
      "image/svg+xml": [
       "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\n"
      ]
     },
     "metadata": {},
     "output_type": "display_data"
    }
   ],
   "source": [
    "%dotobj g.V().dot('name', 'action')\n"
   ]
  },
  {
   "cell_type": "code",
   "execution_count": 23,
   "metadata": {},
   "outputs": [
    {
     "data": {
      "text/plain": [
       "[{'kind': 'book',\n",
       "  'name': 'python tutorial',\n",
       "  'author': 'tim aaaa',\n",
       "  'thema': 'programming'},\n",
       " {'kind': 'book',\n",
       "  'name': 'cooking for dummies',\n",
       "  'author': 'tom bbbb',\n",
       "  'thema': 'cooking'},\n",
       " {'kind': 'book',\n",
       "  'name': 'grapheekdb',\n",
       "  'author': 'raf cccc',\n",
       "  'thema': 'programming'},\n",
       " {'kind': 'book',\n",
       "  'name': 'python secrets',\n",
       "  'author': 'tim aaaa',\n",
       "  'thema': 'programming'},\n",
       " {'kind': 'book',\n",
       "  'name': 'cooking a python',\n",
       "  'author': 'tom bbbb',\n",
       "  'thema': 'cooking'},\n",
       " {'kind': 'book',\n",
       "  'name': 'rst the hard way',\n",
       "  'author': 'raf cccc',\n",
       "  'thema': 'documentation'},\n",
       " {'kind': 'book',\n",
       "  'name': 'python tutorial',\n",
       "  'author': 'tim aaaa',\n",
       "  'thema': 'programming'},\n",
       " {'kind': 'book',\n",
       "  'name': 'cooking for dummies',\n",
       "  'author': 'tom bbbb',\n",
       "  'thema': 'cooking'},\n",
       " {'kind': 'book',\n",
       "  'name': 'grapheekdb',\n",
       "  'author': 'raf cccc',\n",
       "  'thema': 'programming'},\n",
       " {'kind': 'book',\n",
       "  'name': 'python secrets',\n",
       "  'author': 'tim aaaa',\n",
       "  'thema': 'programming'},\n",
       " {'kind': 'book',\n",
       "  'name': 'cooking a python',\n",
       "  'author': 'tom bbbb',\n",
       "  'thema': 'cooking'},\n",
       " {'kind': 'book',\n",
       "  'name': 'rst the hard way',\n",
       "  'author': 'raf cccc',\n",
       "  'thema': 'documentation'},\n",
       " {'kind': 'book',\n",
       "  'name': 'python tutorial',\n",
       "  'author': 'tim aaaa',\n",
       "  'thema': 'programming'},\n",
       " {'kind': 'book',\n",
       "  'name': 'cooking for dummies',\n",
       "  'author': 'tom bbbb',\n",
       "  'thema': 'cooking'},\n",
       " {'kind': 'book',\n",
       "  'name': 'grapheekdb',\n",
       "  'author': 'raf cccc',\n",
       "  'thema': 'programming'},\n",
       " {'kind': 'book',\n",
       "  'name': 'python secrets',\n",
       "  'author': 'tim aaaa',\n",
       "  'thema': 'programming'},\n",
       " {'kind': 'book',\n",
       "  'name': 'cooking a python',\n",
       "  'author': 'tom bbbb',\n",
       "  'thema': 'cooking'},\n",
       " {'kind': 'book',\n",
       "  'name': 'rst the hard way',\n",
       "  'author': 'raf cccc',\n",
       "  'thema': 'documentation'},\n",
       " {'kind': 'book',\n",
       "  'name': 'python tutorial',\n",
       "  'author': 'tim aaaa',\n",
       "  'thema': 'programming'},\n",
       " {'kind': 'book',\n",
       "  'name': 'cooking for dummies',\n",
       "  'author': 'tom bbbb',\n",
       "  'thema': 'cooking'},\n",
       " {'kind': 'book',\n",
       "  'name': 'grapheekdb',\n",
       "  'author': 'raf cccc',\n",
       "  'thema': 'programming'},\n",
       " {'kind': 'book',\n",
       "  'name': 'python secrets',\n",
       "  'author': 'tim aaaa',\n",
       "  'thema': 'programming'},\n",
       " {'kind': 'book',\n",
       "  'name': 'cooking a python',\n",
       "  'author': 'tom bbbb',\n",
       "  'thema': 'cooking'},\n",
       " {'kind': 'book',\n",
       "  'name': 'rst the hard way',\n",
       "  'author': 'raf cccc',\n",
       "  'thema': 'documentation'},\n",
       " {'kind': 'person', 'name': 'sam xxxx'},\n",
       " {'kind': 'person', 'name': 'sam xxxx'},\n",
       " {'kind': 'person', 'name': 'sam xxxx'},\n",
       " {'kind': 'person', 'name': 'sam xxxx'}]"
      ]
     },
     "execution_count": 23,
     "metadata": {},
     "output_type": "execute_result"
    }
   ],
   "source": [
    "g.V().data()"
   ]
  },
  {
   "cell_type": "code",
   "execution_count": 25,
   "metadata": {},
   "outputs": [
    {
     "data": {
      "text/plain": [
       "[{'kind': 'person', 'name': 'sam xxxx'},\n",
       " {'kind': 'person', 'name': 'sam xxxx'},\n",
       " {'kind': 'person', 'name': 'sam xxxx'},\n",
       " {'kind': 'person', 'name': 'sam xxxx'}]"
      ]
     },
     "execution_count": 25,
     "metadata": {},
     "output_type": "execute_result"
    }
   ],
   "source": [
    "g.V(kind='person').data()"
   ]
  },
  {
   "cell_type": "code",
   "execution_count": null,
   "metadata": {},
   "outputs": [],
   "source": []
  }
 ],
 "metadata": {
  "kernelspec": {
   "display_name": "Python 3",
   "language": "python",
   "name": "python3"
  },
  "language_info": {
   "codemirror_mode": {
    "name": "ipython",
    "version": 3
   },
   "file_extension": ".py",
   "mimetype": "text/x-python",
   "name": "python",
   "nbconvert_exporter": "python",
   "pygments_lexer": "ipython3",
   "version": "3.7.7"
  }
 },
 "nbformat": 4,
 "nbformat_minor": 4
}
